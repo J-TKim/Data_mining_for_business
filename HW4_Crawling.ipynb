{
 "cells": [
  {
   "cell_type": "markdown",
   "metadata": {},
   "source": [
    "# 과제4\n",
    "- 강의에서 예로 보여준 다음 영화 페이지의 '어벤져스: 엔드게임' 리뷰 수집 코드는 사이트 구조 변경으로 작동하지 않습니다.\n",
    "- Selenium을 사용해서 위 페이지의 리뷰를 모두 수집하는 코드를 작성해 보세요. (Jupyter Notebook 파일 제출) "
   ]
  },
  {
   "cell_type": "code",
   "execution_count": 1,
   "metadata": {},
   "outputs": [],
   "source": [
    "import csv\n",
    "import time\n",
    "import re\n",
    "from bs4 import BeautifulSoup\n",
    "from selenium import webdriver"
   ]
  },
  {
   "cell_type": "code",
   "execution_count": 2,
   "metadata": {},
   "outputs": [],
   "source": [
    "filename = \"Avg.csv\"\n",
    "csv_file = open(filename, \"w+\", encoding=\"utf-8-sig\")\n",
    "writer = csv.writer(csv_file)"
   ]
  },
  {
   "cell_type": "code",
   "execution_count": 3,
   "metadata": {},
   "outputs": [],
   "source": [
    "url = 'https://movie.daum.net/moviedb/grade?movieId=93252'\n",
    "\n",
    "res = webdriver.Chrome('D:\\/chromedriver.exe')\n",
    "res.get(url)\n",
    "\n",
    "time.sleep(3)\n",
    "\n",
    "script = res.find_element_by_xpath('//*[@id=\"mArticle\"]/div[2]/div[2]/div[1]/h4/span').text\n",
    "\n",
    "click_num = (int(script.split(\"(\")[1].split(\"명)\")[0]) - 5) // 5\n",
    "\n",
    "for i in range(click_num):\n",
    "    res.find_element_by_xpath('//*[@id=\"alex-area\"]/div/div/div/div[3]/div[1]').click()\n",
    "    time.sleep(0.5)"
   ]
  },
  {
   "cell_type": "code",
   "execution_count": 4,
   "metadata": {
    "scrolled": true
   },
   "outputs": [
    {
     "name": "stdout",
     "output_type": "stream",
     "text": [
      "8\n",
      "2020.10.24.02:04\n",
      "10년간의 여정의 끝은, 그저 장엄하고 위대했다. 긴 러닝타임동안 단한번도 지루하지 않은 수작이었자. 몇가지 설정오류도 있었지만 이는 전부 시리즈의 끝. 그것만으로도 충분했다.\n",
      "10\n",
      "2020.10.09.04:57\n",
      "마무리까지 완벽했다 그 전 인피니티워의 감동과 대적할만한 내 인생 히어로물 희대의 명작 중 하나!!\n",
      "10\n",
      "2020.10.08.06:49\n",
      "엔드게임리얼후기https://miteri.tistory.com/m/77\n",
      "\n",
      "토니스타크의 인생명작 \n",
      "10\n",
      "2020.10.01.10:59\n",
      "마블 영화의 마지막 종지부를 찍는 영화다. 가슴 웅장해지는거 ㄹㅇ 실화냐... 마블은 ㄹㅇ 전설이다... 그 찐따 같던 마블영웅들 맞냐.. 강해진 모습보니 내가 다 감격스럽고 너무 좋았다...\n",
      "10\n",
      "2020.09.27.19:34\n",
      "걍 진짜 마블은 마블이다\n",
      "10\n",
      "2020.09.20.08:56\n",
      "재미있다, 잘 만들었다.\n",
      "더 이상 어쩌라구!\n",
      "10\n",
      "2020.09.14.00:59\n",
      "댓글봐라 그냥 10점주면 될것을 니들이 영화를 평가할 수준이 되냐 역겨운것들아!!!\n",
      "10\n",
      "2020.11.16.11:44\n",
      "진짜 인생 영화 중에 거의 탑급\n",
      "8\n",
      "2020.11.03.22:25\n",
      "펑펑울었습니다. 5도 가자구요. 날 울리다니.. 오열하게 만들어서 2점 뺀드아.. 안보신분들 후회하실겁니다.\n",
      "10\n",
      "2020.10.21.22:38\n",
      "No_comment\n",
      "7\n",
      "2020.10.04.00:02\n",
      "No_comment\n",
      "10\n",
      "2020.09.21.06:48\n",
      "집에서 너무 재밌고 잘 봤어요!!\n",
      "진짜 꿀잼\n",
      "10\n",
      "2020.09.19.23:30\n",
      "완벽함\n",
      "10\n",
      "2020.09.11.13:28\n",
      "와칸다 포에버\n",
      "10\n",
      "2020.09.07.14:39\n",
      "마지막에 아이언맨이 죽어서 슬픔ㅠㅠ\n",
      "10\n",
      "2020.09.07.11:04\n",
      "고인의 명복을 빕니다\n",
      "9\n",
      "2020.09.06.07:03\n",
      "볼거리천국\n",
      "0\n",
      "2020.08.30.20:28\n",
      "No_comment\n",
      "8\n",
      "2020.08.30.17:04\n",
      "잘가요 블랙팬서\n",
      "10\n",
      "2020.08.29.20:48\n",
      "No_comment\n"
     ]
    }
   ],
   "source": [
    "html = res.page_source\n",
    "soup = BeautifulSoup(html, 'html.parser')\n",
    "\n",
    "regex = re.compile(\"comment\\d+\")\n",
    "mc = regex.findall(str(soup))\n",
    "\n",
    "items = soup.find_all('li', {\"id\":mc})\n",
    "\n",
    "for item in items:\n",
    "\n",
    "    rating_reg = re.compile(\"ratings rating_\\d+\")\n",
    "    rating_mc = rating_reg.findall(str(item))\n",
    "    rating = item.find('div', {'class':rating_mc}).text\n",
    "    print(rating)\n",
    "    \n",
    "    date = item.find('span', {'class':'txt_date'}).text\n",
    "    print(date)\n",
    "    \n",
    "    if item.find('p', {'class':'desc_txt font_size_'}) is not None:\n",
    "        review = item.find('p', {'class':'desc_txt font_size_'}).text\n",
    "    else:\n",
    "        review = 'No_comment'\n",
    "    print(review)\n",
    "    \n",
    "    product = (rating, date, review)\n",
    "    writer.writerow(product)\n",
    "\n",
    "csv_file.close()"
   ]
  },
  {
   "cell_type": "code",
   "execution_count": 5,
   "metadata": {},
   "outputs": [],
   "source": [
    "import pandas as pd\n",
    "data = pd.read_csv('Avg.csv', names=[\"Rating\", \"Date\", \"Review\"])"
   ]
  },
  {
   "cell_type": "code",
   "execution_count": 6,
   "metadata": {},
   "outputs": [
    {
     "data": {
      "text/html": [
       "<div>\n",
       "<style scoped>\n",
       "    .dataframe tbody tr th:only-of-type {\n",
       "        vertical-align: middle;\n",
       "    }\n",
       "\n",
       "    .dataframe tbody tr th {\n",
       "        vertical-align: top;\n",
       "    }\n",
       "\n",
       "    .dataframe thead th {\n",
       "        text-align: right;\n",
       "    }\n",
       "</style>\n",
       "<table border=\"1\" class=\"dataframe\">\n",
       "  <thead>\n",
       "    <tr style=\"text-align: right;\">\n",
       "      <th></th>\n",
       "      <th>Rating</th>\n",
       "      <th>Date</th>\n",
       "      <th>Review</th>\n",
       "    </tr>\n",
       "  </thead>\n",
       "  <tbody>\n",
       "    <tr>\n",
       "      <th>0</th>\n",
       "      <td>8</td>\n",
       "      <td>2020.10.24.02:04</td>\n",
       "      <td>10년간의 여정의 끝은, 그저 장엄하고 위대했다. 긴 러닝타임동안 단한번도 지루하지...</td>\n",
       "    </tr>\n",
       "    <tr>\n",
       "      <th>1</th>\n",
       "      <td>10</td>\n",
       "      <td>2020.10.09.04:57</td>\n",
       "      <td>마무리까지 완벽했다 그 전 인피니티워의 감동과 대적할만한 내 인생 히어로물 희대의 ...</td>\n",
       "    </tr>\n",
       "    <tr>\n",
       "      <th>2</th>\n",
       "      <td>10</td>\n",
       "      <td>2020.10.08.06:49</td>\n",
       "      <td>엔드게임리얼후기https://miteri.tistory.com/m/77\\r\\n\\r\\...</td>\n",
       "    </tr>\n",
       "    <tr>\n",
       "      <th>3</th>\n",
       "      <td>10</td>\n",
       "      <td>2020.10.01.10:59</td>\n",
       "      <td>마블 영화의 마지막 종지부를 찍는 영화다. 가슴 웅장해지는거 ㄹㅇ 실화냐... 마블...</td>\n",
       "    </tr>\n",
       "    <tr>\n",
       "      <th>4</th>\n",
       "      <td>10</td>\n",
       "      <td>2020.09.27.19:34</td>\n",
       "      <td>걍 진짜 마블은 마블이다</td>\n",
       "    </tr>\n",
       "  </tbody>\n",
       "</table>\n",
       "</div>"
      ],
      "text/plain": [
       "   Rating              Date                                             Review\n",
       "0       8  2020.10.24.02:04  10년간의 여정의 끝은, 그저 장엄하고 위대했다. 긴 러닝타임동안 단한번도 지루하지...\n",
       "1      10  2020.10.09.04:57  마무리까지 완벽했다 그 전 인피니티워의 감동과 대적할만한 내 인생 히어로물 희대의 ...\n",
       "2      10  2020.10.08.06:49  엔드게임리얼후기https://miteri.tistory.com/m/77\\r\\n\\r\\...\n",
       "3      10  2020.10.01.10:59  마블 영화의 마지막 종지부를 찍는 영화다. 가슴 웅장해지는거 ㄹㅇ 실화냐... 마블...\n",
       "4      10  2020.09.27.19:34                                      걍 진짜 마블은 마블이다"
      ]
     },
     "execution_count": 6,
     "metadata": {},
     "output_type": "execute_result"
    }
   ],
   "source": [
    "data.head()"
   ]
  }
 ],
 "metadata": {
  "kernelspec": {
   "display_name": "Python 3",
   "language": "python",
   "name": "python3"
  },
  "language_info": {
   "codemirror_mode": {
    "name": "ipython",
    "version": 3
   },
   "file_extension": ".py",
   "mimetype": "text/x-python",
   "name": "python",
   "nbconvert_exporter": "python",
   "pygments_lexer": "ipython3",
   "version": "3.6.7"
  }
 },
 "nbformat": 4,
 "nbformat_minor": 4
}
