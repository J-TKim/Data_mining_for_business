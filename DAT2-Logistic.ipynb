{
 "cells": [
  {
   "cell_type": "markdown",
   "metadata": {},
   "source": [
    "## Logistic Regression 개념 "
   ]
  },
  {
   "cell_type": "code",
   "execution_count": 1,
   "metadata": {},
   "outputs": [],
   "source": [
    "import pandas as pd\n",
    "import numpy as np\n",
    "from sklearn.linear_model import LogisticRegression\n",
    "import matplotlib.pyplot as plt"
   ]
  },
  {
   "cell_type": "code",
   "execution_count": 2,
   "metadata": {},
   "outputs": [],
   "source": [
    "customer = pd.read_csv(\"data/customerChurn.csv\")"
   ]
  },
  {
   "cell_type": "code",
   "execution_count": 3,
   "metadata": {},
   "outputs": [
    {
     "data": {
      "text/html": [
       "<div>\n",
       "<style scoped>\n",
       "    .dataframe tbody tr th:only-of-type {\n",
       "        vertical-align: middle;\n",
       "    }\n",
       "\n",
       "    .dataframe tbody tr th {\n",
       "        vertical-align: top;\n",
       "    }\n",
       "\n",
       "    .dataframe thead th {\n",
       "        text-align: right;\n",
       "    }\n",
       "</style>\n",
       "<table border=\"1\" class=\"dataframe\">\n",
       "  <thead>\n",
       "    <tr style=\"text-align: right;\">\n",
       "      <th></th>\n",
       "      <th>sex</th>\n",
       "      <th>age</th>\n",
       "      <th>Recency</th>\n",
       "      <th>Frequency</th>\n",
       "      <th>Monetary</th>\n",
       "      <th>Churn</th>\n",
       "    </tr>\n",
       "  </thead>\n",
       "  <tbody>\n",
       "    <tr>\n",
       "      <th>0</th>\n",
       "      <td>M</td>\n",
       "      <td>11</td>\n",
       "      <td>4</td>\n",
       "      <td>41</td>\n",
       "      <td>1268981</td>\n",
       "      <td>No</td>\n",
       "    </tr>\n",
       "    <tr>\n",
       "      <th>1</th>\n",
       "      <td>M</td>\n",
       "      <td>10</td>\n",
       "      <td>18</td>\n",
       "      <td>15</td>\n",
       "      <td>843996</td>\n",
       "      <td>No</td>\n",
       "    </tr>\n",
       "    <tr>\n",
       "      <th>2</th>\n",
       "      <td>F</td>\n",
       "      <td>38</td>\n",
       "      <td>16</td>\n",
       "      <td>41</td>\n",
       "      <td>1755623</td>\n",
       "      <td>No</td>\n",
       "    </tr>\n",
       "    <tr>\n",
       "      <th>3</th>\n",
       "      <td>M</td>\n",
       "      <td>13</td>\n",
       "      <td>8</td>\n",
       "      <td>14</td>\n",
       "      <td>862172</td>\n",
       "      <td>No</td>\n",
       "    </tr>\n",
       "    <tr>\n",
       "      <th>4</th>\n",
       "      <td>F</td>\n",
       "      <td>20</td>\n",
       "      <td>22</td>\n",
       "      <td>42</td>\n",
       "      <td>748430</td>\n",
       "      <td>No</td>\n",
       "    </tr>\n",
       "  </tbody>\n",
       "</table>\n",
       "</div>"
      ],
      "text/plain": [
       "  sex  age  Recency  Frequency  Monetary Churn\n",
       "0   M   11        4         41   1268981    No\n",
       "1   M   10       18         15    843996    No\n",
       "2   F   38       16         41   1755623    No\n",
       "3   M   13        8         14    862172    No\n",
       "4   F   20       22         42    748430    No"
      ]
     },
     "execution_count": 3,
     "metadata": {},
     "output_type": "execute_result"
    }
   ],
   "source": [
    "customer.head()"
   ]
  },
  {
   "cell_type": "code",
   "execution_count": 4,
   "metadata": {},
   "outputs": [],
   "source": [
    "X = customer[['Frequency']]\n",
    "y = (customer[\"Churn\"] == 'Yes').astype(np.int) # Yes면 1 No 면 0"
   ]
  },
  {
   "cell_type": "code",
   "execution_count": 5,
   "metadata": {},
   "outputs": [
    {
     "data": {
      "text/plain": [
       "LogisticRegression(C=1.0, class_weight=None, dual=False, fit_intercept=True,\n",
       "                   intercept_scaling=1, l1_ratio=None, max_iter=100,\n",
       "                   multi_class='auto', n_jobs=None, penalty='l2',\n",
       "                   random_state=None, solver='lbfgs', tol=0.0001, verbose=0,\n",
       "                   warm_start=False)"
      ]
     },
     "execution_count": 5,
     "metadata": {},
     "output_type": "execute_result"
    }
   ],
   "source": [
    "log_reg = LogisticRegression()\n",
    "log_reg.fit(X,y)"
   ]
  },
  {
   "cell_type": "code",
   "execution_count": 6,
   "metadata": {},
   "outputs": [
    {
     "data": {
      "text/html": [
       "<div>\n",
       "<style scoped>\n",
       "    .dataframe tbody tr th:only-of-type {\n",
       "        vertical-align: middle;\n",
       "    }\n",
       "\n",
       "    .dataframe tbody tr th {\n",
       "        vertical-align: top;\n",
       "    }\n",
       "\n",
       "    .dataframe thead th {\n",
       "        text-align: right;\n",
       "    }\n",
       "</style>\n",
       "<table border=\"1\" class=\"dataframe\">\n",
       "  <thead>\n",
       "    <tr style=\"text-align: right;\">\n",
       "      <th></th>\n",
       "      <th>Frequency</th>\n",
       "    </tr>\n",
       "  </thead>\n",
       "  <tbody>\n",
       "    <tr>\n",
       "      <th>count</th>\n",
       "      <td>5000.000000</td>\n",
       "    </tr>\n",
       "    <tr>\n",
       "      <th>mean</th>\n",
       "      <td>19.375200</td>\n",
       "    </tr>\n",
       "    <tr>\n",
       "      <th>std</th>\n",
       "      <td>13.256922</td>\n",
       "    </tr>\n",
       "    <tr>\n",
       "      <th>min</th>\n",
       "      <td>2.000000</td>\n",
       "    </tr>\n",
       "    <tr>\n",
       "      <th>25%</th>\n",
       "      <td>9.000000</td>\n",
       "    </tr>\n",
       "    <tr>\n",
       "      <th>50%</th>\n",
       "      <td>16.000000</td>\n",
       "    </tr>\n",
       "    <tr>\n",
       "      <th>75%</th>\n",
       "      <td>28.000000</td>\n",
       "    </tr>\n",
       "    <tr>\n",
       "      <th>max</th>\n",
       "      <td>50.000000</td>\n",
       "    </tr>\n",
       "  </tbody>\n",
       "</table>\n",
       "</div>"
      ],
      "text/plain": [
       "         Frequency\n",
       "count  5000.000000\n",
       "mean     19.375200\n",
       "std      13.256922\n",
       "min       2.000000\n",
       "25%       9.000000\n",
       "50%      16.000000\n",
       "75%      28.000000\n",
       "max      50.000000"
      ]
     },
     "execution_count": 6,
     "metadata": {},
     "output_type": "execute_result"
    }
   ],
   "source": [
    "X.describe()"
   ]
  },
  {
   "cell_type": "code",
   "execution_count": 7,
   "metadata": {},
   "outputs": [
    {
     "data": {
      "text/plain": [
       "[<matplotlib.lines.Line2D at 0x7f7b820df320>]"
      ]
     },
     "execution_count": 7,
     "metadata": {},
     "output_type": "execute_result"
    },
    {
     "data": {
      "image/png": "[encoded data removed]",
      "text/plain": [
       "<Figure size 432x288 with 1 Axes>"
      ]
     },
     "metadata": {
      "needs_background": "light"
     },
     "output_type": "display_data"
    }
   ],
   "source": [
    "X_new = np.linspace(6,32,1000).reshape(-1,1)\n",
    "y_proba = log_reg.predict_proba(X_new)\n",
    "plt.plot(X_new, y_proba[:,1], \"g-\", label=\"Yes\")\n",
    "plt.plot(X_new, y_proba[:,0], \"b--\", label=\"No\")"
   ]
  },
  {
   "cell_type": "code",
   "execution_count": 8,
   "metadata": {},
   "outputs": [],
   "source": [
    "X = customer[['Frequency','Recency']]\n",
    "y = (customer[\"Churn\"] == 'Yes').astype(np.int) # Yes면 1 No 면 0"
   ]
  },
  {
   "cell_type": "code",
   "execution_count": 9,
   "metadata": {},
   "outputs": [
    {
     "data": {
      "text/plain": [
       "LogisticRegression(C=1.0, class_weight=None, dual=False, fit_intercept=True,\n",
       "                   intercept_scaling=1, l1_ratio=None, max_iter=100,\n",
       "                   multi_class='auto', n_jobs=None, penalty='l2',\n",
       "                   random_state=None, solver='lbfgs', tol=0.0001, verbose=0,\n",
       "                   warm_start=False)"
      ]
     },
     "execution_count": 9,
     "metadata": {},
     "output_type": "execute_result"
    }
   ],
   "source": [
    "log_reg = LogisticRegression()\n",
    "log_reg.fit(X,y)"
   ]
  },
  {
   "cell_type": "code",
   "execution_count": 10,
   "metadata": {},
   "outputs": [
    {
     "name": "stderr",
     "output_type": "stream",
     "text": [
      "/usr/local/lib/python3.6/dist-packages/ipykernel_launcher.py:2: SettingWithCopyWarning: \n",
      "A value is trying to be set on a copy of a slice from a DataFrame.\n",
      "Try using .loc[row_indexer,col_indexer] = value instead\n",
      "\n",
      "See the caveats in the documentation: https://pandas.pydata.org/pandas-docs/stable/user_guide/indexing.html#returning-a-view-versus-a-copy\n",
      "  \n"
     ]
    },
    {
     "data": {
      "text/plain": [
       "Text(0, 0.5, 'Purchase Recency')"
      ]
     },
     "execution_count": 10,
     "metadata": {},
     "output_type": "execute_result"
    },
    {
     "data": {
      "image/png": "[encoded data removed]",
      "text/plain": [
       "<Figure size 432x288 with 1 Axes>"
      ]
     },
     "metadata": {
      "needs_background": "light"
     },
     "output_type": "display_data"
    }
   ],
   "source": [
    "y_predict = log_reg.predict(X)\n",
    "X['predict'] = y_predict\n",
    "X_1 = X[X['predict']==1].copy()\n",
    "X_0 = X[X['predict']==0].copy()\n",
    "plt.plot(X_1['Frequency'], X_1['Recency'], 'bo')\n",
    "plt.plot(X_0['Frequency'], X_0['Recency'], 'ro')\n",
    "plt.xlabel('Purchase Frequency')\n",
    "plt.ylabel('Purchase Recency')"
   ]
  },
  {
   "cell_type": "markdown",
   "metadata": {},
   "source": [
    "## 계수값 확인 "
   ]
  },
  {
   "cell_type": "code",
   "execution_count": 11,
   "metadata": {},
   "outputs": [
    {
     "name": "stdout",
     "output_type": "stream",
     "text": [
      "Optimization terminated successfully.\n",
      "         Current function value: 0.146362\n",
      "         Iterations 9\n",
      "                         Results: Logit\n",
      "================================================================\n",
      "Model:              Logit            Pseudo R-squared: 0.789    \n",
      "Dependent Variable: Churn            AIC:              1469.6236\n",
      "Date:               2020-09-14 13:15 BIC:              1489.1752\n",
      "No. Observations:   5000             Log-Likelihood:   -731.81  \n",
      "Df Model:           2                LL-Null:          -3465.7  \n",
      "Df Residuals:       4997             LLR p-value:      0.0000   \n",
      "Converged:          1.0000           Scale:            1.0000   \n",
      "No. Iterations:     9.0000                                      \n",
      "-----------------------------------------------------------------\n",
      "             Coef.   Std.Err.     z      P>|z|    [0.025   0.975]\n",
      "-----------------------------------------------------------------\n",
      "Frequency   -0.1721    0.0086  -19.9131  0.0000  -0.1890  -0.1551\n",
      "Recency      0.3118    0.0112   27.9123  0.0000   0.2899   0.3337\n",
      "Monetary    -0.0000    0.0000  -19.5408  0.0000  -0.0000  -0.0000\n",
      "================================================================\n",
      "\n"
     ]
    }
   ],
   "source": [
    "import statsmodels.api as sm\n",
    "\n",
    "X = customer[['Frequency','Recency','Monetary']]\n",
    "y = (customer[\"Churn\"] == 'Yes').astype(np.int)\n",
    "\n",
    "logit_model=sm.Logit(y,X)\n",
    "result=logit_model.fit()\n",
    "print(result.summary2())"
   ]
  },
  {
   "cell_type": "markdown",
   "metadata": {},
   "source": [
    "## 로지스틱 회귀분석 성과 측정"
   ]
  },
  {
   "cell_type": "code",
   "execution_count": 12,
   "metadata": {},
   "outputs": [
    {
     "name": "stdout",
     "output_type": "stream",
     "text": [
      "학습 집합 정확도: 0.869\n",
      "테스트 집합 정확도: 0.875\n"
     ]
    }
   ],
   "source": [
    "from sklearn.model_selection import train_test_split\n",
    "\n",
    "X = customer[['Frequency','Recency']]\n",
    "y = (customer[\"Churn\"] == 'Yes').astype(np.int) \n",
    "\n",
    "X_train, X_test, y_train, y_test = train_test_split(X, y, test_size=0.3) \n",
    "\n",
    "log_reg = LogisticRegression().fit(X_train, y_train)\n",
    "\n",
    "print(\"학습 집합 정확도: {:.3f}\".format(log_reg.score(X_train, y_train)))\n",
    "print(\"테스트 집합 정확도: {:.3f}\".format(log_reg.score(X_test, y_test)))"
   ]
  },
  {
   "cell_type": "markdown",
   "metadata": {},
   "source": [
    "### 다항 로지스틱스 회귀 (소프트맥스 회귀)"
   ]
  },
  {
   "cell_type": "code",
   "execution_count": 13,
   "metadata": {},
   "outputs": [],
   "source": [
    "import pandas as pd\n",
    "import numpy as np\n",
    "import matplotlib.pyplot as plt\n",
    "from sklearn.linear_model import LogisticRegression\n",
    "from sklearn.model_selection import train_test_split\n",
    "\n",
    "telecom = pd.read_csv(\"data/telecom.csv\")"
   ]
  },
  {
   "cell_type": "code",
   "execution_count": 14,
   "metadata": {},
   "outputs": [
    {
     "data": {
      "text/html": [
       "<div>\n",
       "<style scoped>\n",
       "    .dataframe tbody tr th:only-of-type {\n",
       "        vertical-align: middle;\n",
       "    }\n",
       "\n",
       "    .dataframe tbody tr th {\n",
       "        vertical-align: top;\n",
       "    }\n",
       "\n",
       "    .dataframe thead th {\n",
       "        text-align: right;\n",
       "    }\n",
       "</style>\n",
       "<table border=\"1\" class=\"dataframe\">\n",
       "  <thead>\n",
       "    <tr style=\"text-align: right;\">\n",
       "      <th></th>\n",
       "      <th>ID</th>\n",
       "      <th>LONGDIST</th>\n",
       "      <th>International</th>\n",
       "      <th>LOCAL</th>\n",
       "      <th>DROPPED</th>\n",
       "      <th>PAY_MTHD</th>\n",
       "      <th>LocalBillType</th>\n",
       "      <th>LongDistanceBillType</th>\n",
       "      <th>AGE</th>\n",
       "      <th>SEX</th>\n",
       "      <th>STATUS</th>\n",
       "      <th>CHILDREN</th>\n",
       "      <th>Est_Income</th>\n",
       "      <th>Car_Owner</th>\n",
       "      <th>CHURNED</th>\n",
       "    </tr>\n",
       "  </thead>\n",
       "  <tbody>\n",
       "    <tr>\n",
       "      <th>0</th>\n",
       "      <td>0</td>\n",
       "      <td>5.24640</td>\n",
       "      <td>7.51510</td>\n",
       "      <td>86.32780</td>\n",
       "      <td>0</td>\n",
       "      <td>CH</td>\n",
       "      <td>FreeLocal</td>\n",
       "      <td>Standard</td>\n",
       "      <td>57</td>\n",
       "      <td>F</td>\n",
       "      <td>M</td>\n",
       "      <td>2</td>\n",
       "      <td>27535.3</td>\n",
       "      <td>Y</td>\n",
       "      <td>Vol</td>\n",
       "    </tr>\n",
       "    <tr>\n",
       "      <th>1</th>\n",
       "      <td>3</td>\n",
       "      <td>0.00000</td>\n",
       "      <td>0.00000</td>\n",
       "      <td>3.94229</td>\n",
       "      <td>0</td>\n",
       "      <td>CC</td>\n",
       "      <td>Budget</td>\n",
       "      <td>Intnl_discount</td>\n",
       "      <td>50</td>\n",
       "      <td>F</td>\n",
       "      <td>S</td>\n",
       "      <td>2</td>\n",
       "      <td>64632.3</td>\n",
       "      <td>N</td>\n",
       "      <td>InVol</td>\n",
       "    </tr>\n",
       "    <tr>\n",
       "      <th>2</th>\n",
       "      <td>4</td>\n",
       "      <td>5.55564</td>\n",
       "      <td>0.00000</td>\n",
       "      <td>9.36347</td>\n",
       "      <td>1</td>\n",
       "      <td>CC</td>\n",
       "      <td>Budget</td>\n",
       "      <td>Intnl_discount</td>\n",
       "      <td>68</td>\n",
       "      <td>F</td>\n",
       "      <td>M</td>\n",
       "      <td>2</td>\n",
       "      <td>81000.9</td>\n",
       "      <td>N</td>\n",
       "      <td>Vol</td>\n",
       "    </tr>\n",
       "    <tr>\n",
       "      <th>3</th>\n",
       "      <td>8</td>\n",
       "      <td>14.01930</td>\n",
       "      <td>5.68043</td>\n",
       "      <td>29.80650</td>\n",
       "      <td>0</td>\n",
       "      <td>CC</td>\n",
       "      <td>Budget</td>\n",
       "      <td>Standard</td>\n",
       "      <td>34</td>\n",
       "      <td>M</td>\n",
       "      <td>S</td>\n",
       "      <td>0</td>\n",
       "      <td>87467.1</td>\n",
       "      <td>Y</td>\n",
       "      <td>Current</td>\n",
       "    </tr>\n",
       "    <tr>\n",
       "      <th>4</th>\n",
       "      <td>10</td>\n",
       "      <td>13.66400</td>\n",
       "      <td>2.95642</td>\n",
       "      <td>32.63810</td>\n",
       "      <td>0</td>\n",
       "      <td>CC</td>\n",
       "      <td>FreeLocal</td>\n",
       "      <td>Intnl_discount</td>\n",
       "      <td>60</td>\n",
       "      <td>M</td>\n",
       "      <td>M</td>\n",
       "      <td>2</td>\n",
       "      <td>83220.6</td>\n",
       "      <td>N</td>\n",
       "      <td>Vol</td>\n",
       "    </tr>\n",
       "  </tbody>\n",
       "</table>\n",
       "</div>"
      ],
      "text/plain": [
       "   ID  LONGDIST  International     LOCAL  DROPPED PAY_MTHD LocalBillType  \\\n",
       "0   0   5.24640        7.51510  86.32780        0       CH     FreeLocal   \n",
       "1   3   0.00000        0.00000   3.94229        0       CC        Budget   \n",
       "2   4   5.55564        0.00000   9.36347        1       CC        Budget   \n",
       "3   8  14.01930        5.68043  29.80650        0       CC        Budget   \n",
       "4  10  13.66400        2.95642  32.63810        0       CC     FreeLocal   \n",
       "\n",
       "  LongDistanceBillType  AGE SEX STATUS  CHILDREN  Est_Income Car_Owner  \\\n",
       "0             Standard   57   F      M         2     27535.3         Y   \n",
       "1       Intnl_discount   50   F      S         2     64632.3         N   \n",
       "2       Intnl_discount   68   F      M         2     81000.9         N   \n",
       "3             Standard   34   M      S         0     87467.1         Y   \n",
       "4       Intnl_discount   60   M      M         2     83220.6         N   \n",
       "\n",
       "   CHURNED  \n",
       "0      Vol  \n",
       "1    InVol  \n",
       "2      Vol  \n",
       "3  Current  \n",
       "4      Vol  "
      ]
     },
     "execution_count": 14,
     "metadata": {},
     "output_type": "execute_result"
    }
   ],
   "source": [
    "telecom.head()"
   ]
  },
  {
   "cell_type": "code",
   "execution_count": 15,
   "metadata": {},
   "outputs": [],
   "source": [
    "X = telecom.iloc[:,np.r_[1,2,3,4,8,11,12]]\n",
    "y = telecom[\"CHURNED\"]"
   ]
  },
  {
   "cell_type": "code",
   "execution_count": 16,
   "metadata": {},
   "outputs": [],
   "source": [
    "X_train, X_test, y_train, y_test = train_test_split(X, y)"
   ]
  },
  {
   "cell_type": "code",
   "execution_count": 17,
   "metadata": {},
   "outputs": [
    {
     "data": {
      "text/plain": [
       "LogisticRegression(C=1.0, class_weight=None, dual=False, fit_intercept=True,\n",
       "                   intercept_scaling=1, l1_ratio=None, max_iter=1000,\n",
       "                   multi_class='multinomial', n_jobs=None, penalty='l2',\n",
       "                   random_state=None, solver='lbfgs', tol=0.0001, verbose=0,\n",
       "                   warm_start=False)"
      ]
     },
     "execution_count": 17,
     "metadata": {},
     "output_type": "execute_result"
    }
   ],
   "source": [
    "softmax_reg = LogisticRegression(multi_class=\"multinomial\", solver=\"lbfgs\", max_iter=1000)\n",
    "softmax_reg.fit(X_train,y_train)"
   ]
  },
  {
   "cell_type": "code",
   "execution_count": 18,
   "metadata": {},
   "outputs": [],
   "source": [
    "y_prob = softmax_reg.predict_proba(X_test)"
   ]
  },
  {
   "cell_type": "code",
   "execution_count": 19,
   "metadata": {},
   "outputs": [
    {
     "data": {
      "text/plain": [
       "array([[5.11576294e-01, 2.01325369e-20, 4.88423706e-01],\n",
       "       [5.38781333e-01, 3.40123919e-06, 4.61215266e-01],\n",
       "       [6.89689251e-01, 1.66081826e-09, 3.10310747e-01],\n",
       "       ...,\n",
       "       [6.76887229e-01, 3.81839118e-29, 3.23112771e-01],\n",
       "       [4.33011021e-01, 2.18897209e-01, 3.48091770e-01],\n",
       "       [5.44281242e-01, 3.04549135e-03, 4.52673267e-01]])"
      ]
     },
     "execution_count": 19,
     "metadata": {},
     "output_type": "execute_result"
    }
   ],
   "source": [
    "y_prob"
   ]
  },
  {
   "cell_type": "code",
   "execution_count": 20,
   "metadata": {},
   "outputs": [],
   "source": [
    "from sklearn import preprocessing\n",
    "lb = preprocessing.LabelBinarizer()\n",
    "y_p = lb.fit_transform(y_test)"
   ]
  },
  {
   "cell_type": "code",
   "execution_count": 21,
   "metadata": {},
   "outputs": [
    {
     "data": {
      "text/plain": [
       "array([[0, 0, 1],\n",
       "       [0, 0, 1],\n",
       "       [1, 0, 0],\n",
       "       ...,\n",
       "       [1, 0, 0],\n",
       "       [0, 1, 0],\n",
       "       [0, 0, 1]])"
      ]
     },
     "execution_count": 21,
     "metadata": {},
     "output_type": "execute_result"
    }
   ],
   "source": [
    "y_p"
   ]
  },
  {
   "cell_type": "code",
   "execution_count": 22,
   "metadata": {},
   "outputs": [
    {
     "data": {
      "text/plain": [
       "0.6299239415886067"
      ]
     },
     "execution_count": 22,
     "metadata": {},
     "output_type": "execute_result"
    }
   ],
   "source": [
    "from sklearn.metrics import log_loss\n",
    "log_loss(y_p, y_prob)"
   ]
  },
  {
   "cell_type": "code",
   "execution_count": 23,
   "metadata": {},
   "outputs": [
    {
     "data": {
      "text/plain": [
       "0.7162162162162162"
      ]
     },
     "execution_count": 23,
     "metadata": {},
     "output_type": "execute_result"
    }
   ],
   "source": [
    "softmax_reg.score(X_test,y_test)"
   ]
  },
  {
   "cell_type": "markdown",
   "metadata": {},
   "source": [
    "### 분류 성과 측정 "
   ]
  },
  {
   "cell_type": "code",
   "execution_count": 24,
   "metadata": {},
   "outputs": [
    {
     "data": {
      "text/plain": [
       "array([[746,   0],\n",
       "       [754,   0]])"
      ]
     },
     "execution_count": 24,
     "metadata": {},
     "output_type": "execute_result"
    }
   ],
   "source": [
    "import pandas as pd\n",
    "import numpy as np\n",
    "from sklearn.linear_model import LogisticRegression\n",
    "from sklearn.model_selection import train_test_split\n",
    "import matplotlib.pyplot as plt\n",
    "\n",
    "customer = pd.read_csv(\"data/customerChurn.csv\")\n",
    "\n",
    "X = customer[['Frequency','Recency','Monetary']]\n",
    "y = (customer[\"Churn\"] == 'Yes').astype(np.int) \n",
    "\n",
    "X_train, X_test, y_train, y_test = train_test_split(X, y, test_size=0.3) \n",
    "\n",
    "log_reg = LogisticRegression().fit(X_train, y_train)\n",
    "\n",
    "y_pred = log_reg.predict(X_test)\n",
    "\n",
    "from sklearn.metrics import confusion_matrix\n",
    "confusion_matrix(y_test, y_pred)"
   ]
  },
  {
   "cell_type": "code",
   "execution_count": 25,
   "metadata": {},
   "outputs": [
    {
     "name": "stdout",
     "output_type": "stream",
     "text": [
      "테스트 집합 정확도: 0.497\n",
      "테스트 집합 accuracy: 0.497\n"
     ]
    }
   ],
   "source": [
    "print(\"테스트 집합 정확도: {:.3f}\".format(log_reg.score(X_test, y_test)))\n",
    "\n",
    "from sklearn.metrics import accuracy_score\n",
    "\n",
    "print(\"테스트 집합 accuracy: {:.3f}\".format(accuracy_score(y_test, y_pred)))"
   ]
  },
  {
   "cell_type": "code",
   "execution_count": 26,
   "metadata": {},
   "outputs": [
    {
     "name": "stdout",
     "output_type": "stream",
     "text": [
      "테스트 집합 정밀도: 0.000\n"
     ]
    },
    {
     "name": "stderr",
     "output_type": "stream",
     "text": [
      "/usr/local/lib/python3.6/dist-packages/sklearn/metrics/_classification.py:1272: UndefinedMetricWarning: Precision is ill-defined and being set to 0.0 due to no predicted samples. Use `zero_division` parameter to control this behavior.\n",
      "  _warn_prf(average, modifier, msg_start, len(result))\n"
     ]
    }
   ],
   "source": [
    "from sklearn.metrics import precision_score\n",
    "\n",
    "print(\"테스트 집합 정밀도: {:.3f}\".format(precision_score(y_test, y_pred)))"
   ]
  },
  {
   "cell_type": "code",
   "execution_count": 27,
   "metadata": {},
   "outputs": [
    {
     "name": "stdout",
     "output_type": "stream",
     "text": [
      "테스트 집합 재현율: 0.000\n"
     ]
    }
   ],
   "source": [
    "from sklearn.metrics import recall_score\n",
    "\n",
    "print(\"테스트 집합 재현율: {:.3f}\".format(recall_score(y_test, y_pred)))"
   ]
  },
  {
   "cell_type": "code",
   "execution_count": 28,
   "metadata": {},
   "outputs": [
    {
     "name": "stdout",
     "output_type": "stream",
     "text": [
      "테스트 집합 f1 점수: 0.000\n"
     ]
    }
   ],
   "source": [
    "from sklearn.metrics import f1_score\n",
    "\n",
    "print(\"테스트 집합 f1 점수: {:.3f}\".format(f1_score(y_test, y_pred)))"
   ]
  },
  {
   "cell_type": "code",
   "execution_count": 29,
   "metadata": {},
   "outputs": [
    {
     "data": {
      "text/plain": [
       "array([0.12873034, 0.36594428, 0.44953765, ..., 0.3025963 , 0.4581863 ,\n",
       "       0.06226172])"
      ]
     },
     "execution_count": 29,
     "metadata": {},
     "output_type": "execute_result"
    }
   ],
   "source": [
    "y_score = log_reg.predict_proba(X_test)\n",
    "y_score[:,1]"
   ]
  },
  {
   "cell_type": "code",
   "execution_count": 30,
   "metadata": {},
   "outputs": [],
   "source": [
    "from sklearn.metrics import precision_recall_curve\n",
    "\n",
    "precisions, recalls, thresholds = precision_recall_curve(y_test, y_score[:,1])\n",
    "\n",
    "# 1일 확률만 입력"
   ]
  },
  {
   "cell_type": "code",
   "execution_count": 31,
   "metadata": {},
   "outputs": [
    {
     "data": {
      "image/png": "[encoded data removed]",
      "text/plain": [
       "<Figure size 432x288 with 1 Axes>"
      ]
     },
     "metadata": {
      "needs_background": "light"
     },
     "output_type": "display_data"
    }
   ],
   "source": [
    "def plot_precision_recall_vs_threshold(precisions, recalls, threholds):\n",
    "    plt.plot(thresholds, precisions[:-1], \"b--\", label=\"Precision\")\n",
    "    plt.plot(thresholds, recalls[:-1], \"g--\", label=\"Recall\")\n",
    "    plt.vlines(x=0.5,ymin=0,ymax=1)\n",
    "    plt.legend(loc='best')\n",
    "    \n",
    "plot_precision_recall_vs_threshold(precisions, recalls, thresholds)\n",
    "plt.show()"
   ]
  },
  {
   "cell_type": "markdown",
   "metadata": {},
   "source": [
    "### ROC 곡선"
   ]
  },
  {
   "cell_type": "code",
   "execution_count": 32,
   "metadata": {},
   "outputs": [
    {
     "data": {
      "image/png": "[encoded data removed]",
      "text/plain": [
       "<Figure size 432x288 with 1 Axes>"
      ]
     },
     "metadata": {
      "needs_background": "light"
     },
     "output_type": "display_data"
    }
   ],
   "source": [
    "from sklearn.metrics import roc_curve\n",
    "\n",
    "fpr, tpr, thresholds = roc_curve(y_test, y_score[:,1])\n",
    "\n",
    "def plot_roc_curve(fpr, tpr, label=None):\n",
    "    plt.plot(fpr, tpr, linewidth=2, label=label)\n",
    "    plt.plot([[0],[1]], 'k--')\n",
    "    plt.xlabel(\"False Positive Rate\")\n",
    "    plt.ylabel(\"True Positive Rate\")\n",
    "    plt.grid(which='major', axis='both', alpha=0.5)\n",
    "    \n",
    "plot_roc_curve(fpr, tpr)\n",
    "plt.show()"
   ]
  },
  {
   "cell_type": "code",
   "execution_count": 33,
   "metadata": {},
   "outputs": [
    {
     "name": "stdout",
     "output_type": "stream",
     "text": [
      "테스트 집합 AUC 점수: 0.500\n"
     ]
    }
   ],
   "source": [
    "from sklearn.metrics import roc_auc_score\n",
    "\n",
    "print(\"테스트 집합 AUC 점수: {:.3f}\".format(roc_auc_score(y_test, y_pred)))"
   ]
  },
  {
   "cell_type": "markdown",
   "metadata": {},
   "source": [
    "### 연습문제"
   ]
  },
  {
   "cell_type": "code",
   "execution_count": 34,
   "metadata": {},
   "outputs": [],
   "source": [
    "import pandas as pd\n",
    "import numpy as np\n",
    "import matplotlib.pyplot as plt\n",
    "from sklearn.linear_model import LogisticRegression\n",
    "from sklearn.model_selection import train_test_split\n",
    "from sklearn.model_selection import cross_val_score"
   ]
  },
  {
   "cell_type": "code",
   "execution_count": 35,
   "metadata": {},
   "outputs": [
    {
     "data": {
      "text/html": [
       "<div>\n",
       "<style scoped>\n",
       "    .dataframe tbody tr th:only-of-type {\n",
       "        vertical-align: middle;\n",
       "    }\n",
       "\n",
       "    .dataframe tbody tr th {\n",
       "        vertical-align: top;\n",
       "    }\n",
       "\n",
       "    .dataframe thead th {\n",
       "        text-align: right;\n",
       "    }\n",
       "</style>\n",
       "<table border=\"1\" class=\"dataframe\">\n",
       "  <thead>\n",
       "    <tr style=\"text-align: right;\">\n",
       "      <th></th>\n",
       "      <th>OBS#</th>\n",
       "      <th>CHK_ACCT</th>\n",
       "      <th>DURATION</th>\n",
       "      <th>HISTORY</th>\n",
       "      <th>NEW_CAR</th>\n",
       "      <th>USED_CAR</th>\n",
       "      <th>FURNITURE</th>\n",
       "      <th>RADIO/TV</th>\n",
       "      <th>EDUCATION</th>\n",
       "      <th>RETIRING</th>\n",
       "      <th>...</th>\n",
       "      <th>AGE</th>\n",
       "      <th>OTHER_INSTALL</th>\n",
       "      <th>RENT</th>\n",
       "      <th>OWN_RES</th>\n",
       "      <th>NUM_CREDITS</th>\n",
       "      <th>JOB</th>\n",
       "      <th>NUM_DEPENDENTS</th>\n",
       "      <th>TELEPHONE</th>\n",
       "      <th>FOREIGN</th>\n",
       "      <th>RESPONSE</th>\n",
       "    </tr>\n",
       "  </thead>\n",
       "  <tbody>\n",
       "    <tr>\n",
       "      <th>0</th>\n",
       "      <td>1</td>\n",
       "      <td>0</td>\n",
       "      <td>6</td>\n",
       "      <td>4</td>\n",
       "      <td>0</td>\n",
       "      <td>0</td>\n",
       "      <td>0</td>\n",
       "      <td>1</td>\n",
       "      <td>0</td>\n",
       "      <td>0</td>\n",
       "      <td>...</td>\n",
       "      <td>67</td>\n",
       "      <td>0</td>\n",
       "      <td>0</td>\n",
       "      <td>1</td>\n",
       "      <td>2</td>\n",
       "      <td>2</td>\n",
       "      <td>1</td>\n",
       "      <td>1</td>\n",
       "      <td>0</td>\n",
       "      <td>True</td>\n",
       "    </tr>\n",
       "    <tr>\n",
       "      <th>1</th>\n",
       "      <td>2</td>\n",
       "      <td>1</td>\n",
       "      <td>48</td>\n",
       "      <td>2</td>\n",
       "      <td>0</td>\n",
       "      <td>0</td>\n",
       "      <td>0</td>\n",
       "      <td>1</td>\n",
       "      <td>0</td>\n",
       "      <td>0</td>\n",
       "      <td>...</td>\n",
       "      <td>22</td>\n",
       "      <td>0</td>\n",
       "      <td>0</td>\n",
       "      <td>1</td>\n",
       "      <td>1</td>\n",
       "      <td>2</td>\n",
       "      <td>1</td>\n",
       "      <td>0</td>\n",
       "      <td>0</td>\n",
       "      <td>False</td>\n",
       "    </tr>\n",
       "    <tr>\n",
       "      <th>2</th>\n",
       "      <td>3</td>\n",
       "      <td>3</td>\n",
       "      <td>12</td>\n",
       "      <td>4</td>\n",
       "      <td>0</td>\n",
       "      <td>0</td>\n",
       "      <td>0</td>\n",
       "      <td>0</td>\n",
       "      <td>1</td>\n",
       "      <td>0</td>\n",
       "      <td>...</td>\n",
       "      <td>49</td>\n",
       "      <td>0</td>\n",
       "      <td>0</td>\n",
       "      <td>1</td>\n",
       "      <td>1</td>\n",
       "      <td>1</td>\n",
       "      <td>2</td>\n",
       "      <td>0</td>\n",
       "      <td>0</td>\n",
       "      <td>True</td>\n",
       "    </tr>\n",
       "    <tr>\n",
       "      <th>3</th>\n",
       "      <td>4</td>\n",
       "      <td>0</td>\n",
       "      <td>42</td>\n",
       "      <td>2</td>\n",
       "      <td>0</td>\n",
       "      <td>0</td>\n",
       "      <td>1</td>\n",
       "      <td>0</td>\n",
       "      <td>0</td>\n",
       "      <td>0</td>\n",
       "      <td>...</td>\n",
       "      <td>45</td>\n",
       "      <td>0</td>\n",
       "      <td>0</td>\n",
       "      <td>0</td>\n",
       "      <td>1</td>\n",
       "      <td>2</td>\n",
       "      <td>2</td>\n",
       "      <td>0</td>\n",
       "      <td>0</td>\n",
       "      <td>True</td>\n",
       "    </tr>\n",
       "    <tr>\n",
       "      <th>4</th>\n",
       "      <td>5</td>\n",
       "      <td>0</td>\n",
       "      <td>24</td>\n",
       "      <td>3</td>\n",
       "      <td>1</td>\n",
       "      <td>0</td>\n",
       "      <td>0</td>\n",
       "      <td>0</td>\n",
       "      <td>0</td>\n",
       "      <td>0</td>\n",
       "      <td>...</td>\n",
       "      <td>53</td>\n",
       "      <td>0</td>\n",
       "      <td>0</td>\n",
       "      <td>0</td>\n",
       "      <td>2</td>\n",
       "      <td>2</td>\n",
       "      <td>2</td>\n",
       "      <td>0</td>\n",
       "      <td>0</td>\n",
       "      <td>False</td>\n",
       "    </tr>\n",
       "  </tbody>\n",
       "</table>\n",
       "<p>5 rows × 32 columns</p>\n",
       "</div>"
      ],
      "text/plain": [
       "   OBS#  CHK_ACCT  DURATION  HISTORY  NEW_CAR  USED_CAR  FURNITURE  RADIO/TV  \\\n",
       "0     1         0         6        4        0         0          0         1   \n",
       "1     2         1        48        2        0         0          0         1   \n",
       "2     3         3        12        4        0         0          0         0   \n",
       "3     4         0        42        2        0         0          1         0   \n",
       "4     5         0        24        3        1         0          0         0   \n",
       "\n",
       "   EDUCATION  RETIRING  ...  AGE  OTHER_INSTALL  RENT  OWN_RES  NUM_CREDITS  \\\n",
       "0          0         0  ...   67              0     0        1            2   \n",
       "1          0         0  ...   22              0     0        1            1   \n",
       "2          1         0  ...   49              0     0        1            1   \n",
       "3          0         0  ...   45              0     0        0            1   \n",
       "4          0         0  ...   53              0     0        0            2   \n",
       "\n",
       "   JOB  NUM_DEPENDENTS  TELEPHONE  FOREIGN  RESPONSE  \n",
       "0    2               1          1        0      True  \n",
       "1    2               1          0        0     False  \n",
       "2    1               2          0        0      True  \n",
       "3    2               2          0        0      True  \n",
       "4    2               2          0        0     False  \n",
       "\n",
       "[5 rows x 32 columns]"
      ]
     },
     "execution_count": 35,
     "metadata": {},
     "output_type": "execute_result"
    }
   ],
   "source": [
    "gc = pd.read_csv('data/GermanCredit.csv')\n",
    "\n",
    "gc.head()"
   ]
  },
  {
   "cell_type": "markdown",
   "metadata": {},
   "source": [
    "- OBS : 관찰번호 \n",
    "- CHK_ACCT : (범주형) 체크 계좌 상태 (0: < 0 DM, 1: 0 < ... < 200 DM, 2: => 200 DM, 3: No checking account) # DM은 eur로 통합되기 전의 독일의 화폐단위 Deutsche Mark를 뜻함\n",
    "- DURATION : (수치형) 신용 대출 기간(개월)\n",
    "- HISTORY : (범주형) 신용 거래 내역 (0: 신용 거래 내역 없음, 1: 우리 은행의 신용 대출 모두 갚음, 2: 모든 은행의 신용 대출 모두 갚음, 3: 연체 이력 있음, 4: 유의 계좌)\n",
    "- NEW_CAR: (범주형) 신용 대출의 목적이 신차 구입인 경우 (0: No, 1: Yes)\n",
    "- USED_CAR: (범주형) 신용 대출의 목적이 중고차 구입인 경우 (0: No, 1: Yes)\n",
    "- FURNITURE: (범주형) 신용 대출의 목적이 가구 구입인 경우 (0: No, 1: Yes)\n",
    "- RADIO/TV: (범주형) 신용 대출의 목적이 RADIO 또는 TV 구입인 경우 (0: No, 1: Yes)\n",
    "- EDUCATION: (범주형) 신용 대출의 목적이 학자금 관련인 경우 (0: No, 1: Yes)\n",
    "- RETRAINING: (범주형) 신용 대출의 목적이 재취업 목적인 경우 (0: No, 1: Yes)\n",
    "- AMOUNT: (수치형) 신용 대출 금액 \n",
    "- SAV_ACCT: (범주형) 저축 계좌 상태 (0: < 100DM, 1: 100<= ... <500DM, 2: 500<= ... <1000DM, 3: => 1000DM, 4: Unknown/No savings account)\n",
    "- EMPLOYMENT: (범주형) 현재 취업 상태 (0: 무직, 1: < 1년, 2: 1<= ... < 4년, 3: 4<= ... < 7년, 4: >= 7년)\n",
    "- INSTALL_RATE: (수치형) 가처분 소득대비 상환금액 비율\n",
    "- MALE_DIV: (범주형) 남성이며 이혼상태인 경우 (0: No, 1: Yes)\n",
    "- MALE_SINGLE: (범주형) 남성이며 싱글인 경우 (0: No, 1: Yes)\n",
    "- MALE_MAR_WID: (범주형) 남성이며 혼인한 경우 또는 홀아비 (0: No, 1: Yes)\n",
    "- CO-APPLICANT: (범주형) 공동신청자가 있는 경우 (0: No, 1: Yes)\n",
    "- GUARANTOR: (범주형) 보증인이 있는 경우  (0: No, 1: Yes)\n",
    "- PRESENT_RESIDENT: (범주형) 현재 주소지 주거 경력 (0: <= 1년, 1: 1<= ... <= 2년, 2: 2<= ... <= 3년, 3: > 4년)\n",
    "- REAL_ESTATE: (범주형) 부동산 보유 여부 (0: No, 1: Yes)\n",
    "- PROP_UNKN_NONE: (범주형) 재산을 보유하지 않은 경우 (0: No, 1: Yes)\n",
    "- AGE: (수치형) 나이\n",
    "- OTHER_INSTALL: (범주형) 다른 신용대출 보유 여부 (0: No, 1: Yes)\n",
    "- RENT: (범주형) 주택 임대 여부 (0: No, 1: Yes)\n",
    "- OWN_RES: (범주형) 자가 주택 보유 여부 (0: No, 1: Yes)\n",
    "- NUM_CREDITS: (수치형) 기존 신용대출 수\n",
    "- JOB: (범주형) (0: 비숙련공 계약직, 1: 비숙련공 정규직, 2: 숙련공/사무직, 3: 관리직/자영업/기술직)\n",
    "- NUM_DEPENDENTS: (수치형) 가족의 수 \n",
    "- TELEPHONE: (범주형) 전화보유 여부 (0: No, 1: Yes)\n",
    "- FOREIGN: (범주형) 외국인 노동자 여부 (0: No, 1: Yes)\n",
    "- RESPONSE: (범주형) 신용도가 좋음 (0: No, 1: Yes)"
   ]
  },
  {
   "cell_type": "markdown",
   "metadata": {},
   "source": [
    "### RESPONSE가 종속변수이며, 독립변수는 수치형과 이분형 범주형 변수 중에서 선발. 여러 범주를 갖는 범주형 변수의 사용방안은 나중에 OneHotEncoding을 학습한 이후에 활용예정"
   ]
  },
  {
   "cell_type": "code",
   "execution_count": 36,
   "metadata": {},
   "outputs": [],
   "source": [
    "X = gc.iloc[:,np.r_[2,4:11,13:19,20:27,28:31]]  # np.r_ 은 비연속적으로 컬럼을 선택할 때 활용 \n",
    "y = gc['RESPONSE'] "
   ]
  },
  {
   "cell_type": "code",
   "execution_count": 37,
   "metadata": {},
   "outputs": [
    {
     "name": "stdout",
     "output_type": "stream",
     "text": [
      "<class 'pandas.core.frame.DataFrame'>\n",
      "RangeIndex: 1000 entries, 0 to 999\n",
      "Data columns (total 24 columns):\n",
      " #   Column           Non-Null Count  Dtype\n",
      "---  ------           --------------  -----\n",
      " 0   DURATION         1000 non-null   int64\n",
      " 1   NEW_CAR          1000 non-null   int64\n",
      " 2   USED_CAR         1000 non-null   int64\n",
      " 3   FURNITURE        1000 non-null   int64\n",
      " 4   RADIO/TV         1000 non-null   int64\n",
      " 5   EDUCATION        1000 non-null   int64\n",
      " 6   RETIRING         1000 non-null   int64\n",
      " 7   AMOUNT           1000 non-null   int64\n",
      " 8   INSTALL_RATE     1000 non-null   int64\n",
      " 9   MALE_DIV         1000 non-null   int64\n",
      " 10  MALE_SINGLE      1000 non-null   int64\n",
      " 11  MALE_MAR_or_WID  1000 non-null   int64\n",
      " 12  CO-APPLICANT     1000 non-null   int64\n",
      " 13  GUARANTOR        1000 non-null   int64\n",
      " 14  REAL_ESTATE      1000 non-null   int64\n",
      " 15  PROP_UNKN_NONE   1000 non-null   int64\n",
      " 16  AGE              1000 non-null   int64\n",
      " 17  OTHER_INSTALL    1000 non-null   int64\n",
      " 18  RENT             1000 non-null   int64\n",
      " 19  OWN_RES          1000 non-null   int64\n",
      " 20  NUM_CREDITS      1000 non-null   int64\n",
      " 21  NUM_DEPENDENTS   1000 non-null   int64\n",
      " 22  TELEPHONE        1000 non-null   int64\n",
      " 23  FOREIGN          1000 non-null   int64\n",
      "dtypes: int64(24)\n",
      "memory usage: 187.6 KB\n"
     ]
    }
   ],
   "source": [
    "X.info()"
   ]
  },
  {
   "cell_type": "markdown",
   "metadata": {},
   "source": [
    "### 독립변수 후보들과 종속변수간의 관계 탐색, 종속변수가 범주형이므로 범주에 따른 독립변수 후보들의 값의 분포에 차이가 있는 지 검토"
   ]
  },
  {
   "cell_type": "markdown",
   "metadata": {},
   "source": [
    "- DURATION과 RESPONSE"
   ]
  },
  {
   "cell_type": "code",
   "execution_count": 38,
   "metadata": {},
   "outputs": [
    {
     "data": {
      "text/plain": [
       "<matplotlib.axes._subplots.AxesSubplot at 0x7f7b7c9133c8>"
      ]
     },
     "execution_count": 38,
     "metadata": {},
     "output_type": "execute_result"
    },
    {
     "data": {
      "image/png": "[encoded data removed]",
      "text/plain": [
       "<Figure size 432x288 with 1 Axes>"
      ]
     },
     "metadata": {
      "needs_background": "light"
     },
     "output_type": "display_data"
    }
   ],
   "source": [
    "gc.boxplot(column=['DURATION'], by=\"RESPONSE\") # RESPONSE 값에 따른 DURATION 분포 차이가 보임 "
   ]
  },
  {
   "cell_type": "markdown",
   "metadata": {},
   "source": [
    "- AMOUNT와 RESPONSE"
   ]
  },
  {
   "cell_type": "code",
   "execution_count": 39,
   "metadata": {},
   "outputs": [
    {
     "data": {
      "text/plain": [
       "<matplotlib.axes._subplots.AxesSubplot at 0x7f7b7c881dd8>"
      ]
     },
     "execution_count": 39,
     "metadata": {},
     "output_type": "execute_result"
    },
    {
     "data": {
      "image/png": "[encoded data removed]",
      "text/plain": [
       "<Figure size 432x288 with 1 Axes>"
      ]
     },
     "metadata": {
      "needs_background": "light"
     },
     "output_type": "display_data"
    }
   ],
   "source": [
    "gc.boxplot(column=['AMOUNT'], by=\"RESPONSE\") \n",
    "# RESPONSE 값에 따른 AMOUNT 분포는 중앙값은 비슷하지만 신용도가 좋지 않은 그룹이 더 많은 금액을 신청하였음"
   ]
  },
  {
   "cell_type": "markdown",
   "metadata": {},
   "source": [
    "- INSTALL_RATE과 RESPONSE"
   ]
  },
  {
   "cell_type": "code",
   "execution_count": 40,
   "metadata": {},
   "outputs": [
    {
     "data": {
      "text/plain": [
       "<matplotlib.axes._subplots.AxesSubplot at 0x7f7b7c803828>"
      ]
     },
     "execution_count": 40,
     "metadata": {},
     "output_type": "execute_result"
    },
    {
     "data": {
      "image/png": "[encoded data removed]",
      "text/plain": [
       "<Figure size 432x288 with 1 Axes>"
      ]
     },
     "metadata": {
      "needs_background": "light"
     },
     "output_type": "display_data"
    }
   ],
   "source": [
    "gc.boxplot(column=['INSTALL_RATE'], by=\"RESPONSE\") \n",
    "\n",
    "# INSTALL_RATE 값의 범위가 RESPONSE에 따라 상이해 보이지 않음. 중앙값은 차이가 보임."
   ]
  },
  {
   "cell_type": "code",
   "execution_count": 41,
   "metadata": {},
   "outputs": [
    {
     "data": {
      "text/plain": [
       "<matplotlib.axes._subplots.AxesSubplot at 0x7f7b7c7ab208>"
      ]
     },
     "execution_count": 41,
     "metadata": {},
     "output_type": "execute_result"
    },
    {
     "data": {
      "image/png": "[encoded data removed]",
      "text/plain": [
       "<Figure size 432x288 with 1 Axes>"
      ]
     },
     "metadata": {
      "needs_background": "light"
     },
     "output_type": "display_data"
    }
   ],
   "source": [
    "gcYES = gc[gc.RESPONSE == True]\n",
    "gcNO = gc[gc.RESPONSE == False]\n",
    "\n",
    "gcYES['INSTALL_RATE'].plot(kind='kde', style='r--') \n",
    "gcNO['INSTALL_RATE'].plot(kind='kde', style='b--') \n",
    "\n",
    "## 신용도가 좋지 않은 신청자들의 INSTALL_RATE 값이 좀 더 높은 경향"
   ]
  },
  {
   "cell_type": "markdown",
   "metadata": {},
   "source": [
    "- NEW_CAR와 RESPONSE"
   ]
  },
  {
   "cell_type": "code",
   "execution_count": 42,
   "metadata": {},
   "outputs": [
    {
     "data": {
      "text/html": [
       "<div>\n",
       "<style scoped>\n",
       "    .dataframe tbody tr th:only-of-type {\n",
       "        vertical-align: middle;\n",
       "    }\n",
       "\n",
       "    .dataframe tbody tr th {\n",
       "        vertical-align: top;\n",
       "    }\n",
       "\n",
       "    .dataframe thead th {\n",
       "        text-align: right;\n",
       "    }\n",
       "</style>\n",
       "<table border=\"1\" class=\"dataframe\">\n",
       "  <thead>\n",
       "    <tr style=\"text-align: right;\">\n",
       "      <th>NEW_CAR</th>\n",
       "      <th>0</th>\n",
       "      <th>1</th>\n",
       "    </tr>\n",
       "    <tr>\n",
       "      <th>RESPONSE</th>\n",
       "      <th></th>\n",
       "      <th></th>\n",
       "    </tr>\n",
       "  </thead>\n",
       "  <tbody>\n",
       "    <tr>\n",
       "      <th>False</th>\n",
       "      <td>211</td>\n",
       "      <td>89</td>\n",
       "    </tr>\n",
       "    <tr>\n",
       "      <th>True</th>\n",
       "      <td>555</td>\n",
       "      <td>145</td>\n",
       "    </tr>\n",
       "  </tbody>\n",
       "</table>\n",
       "</div>"
      ],
      "text/plain": [
       "NEW_CAR     0    1\n",
       "RESPONSE          \n",
       "False     211   89\n",
       "True      555  145"
      ]
     },
     "execution_count": 42,
     "metadata": {},
     "output_type": "execute_result"
    }
   ],
   "source": [
    "counts = pd.crosstab(gc.RESPONSE, gc.NEW_CAR)\n",
    "counts"
   ]
  },
  {
   "cell_type": "code",
   "execution_count": 43,
   "metadata": {},
   "outputs": [
    {
     "data": {
      "text/plain": [
       "<matplotlib.axes._subplots.AxesSubplot at 0x7f7b7a71ef98>"
      ]
     },
     "execution_count": 43,
     "metadata": {},
     "output_type": "execute_result"
    },
    {
     "data": {
      "image/png": "[encoded data removed]",
      "text/plain": [
       "<Figure size 432x288 with 1 Axes>"
      ]
     },
     "metadata": {
      "needs_background": "light"
     },
     "output_type": "display_data"
    }
   ],
   "source": [
    "counts.plot(kind='bar', stacked=True)"
   ]
  },
  {
   "cell_type": "code",
   "execution_count": 44,
   "metadata": {},
   "outputs": [
    {
     "data": {
      "text/plain": [
       "0.2966666666666667"
      ]
     },
     "execution_count": 44,
     "metadata": {},
     "output_type": "execute_result"
    }
   ],
   "source": [
    "counts[1][0] / (counts[0][0] + counts[1][0]) # FALSE 일때 신차 구매 비율"
   ]
  },
  {
   "cell_type": "code",
   "execution_count": 45,
   "metadata": {},
   "outputs": [
    {
     "data": {
      "text/plain": [
       "0.20714285714285716"
      ]
     },
     "execution_count": 45,
     "metadata": {},
     "output_type": "execute_result"
    }
   ],
   "source": [
    "counts[1][1] / (counts[0][1] + counts[1][1]) # TRUE 일때 신차 구매 비율 "
   ]
  },
  {
   "cell_type": "markdown",
   "metadata": {},
   "source": [
    "- USED_CAR와 RESPONSE"
   ]
  },
  {
   "cell_type": "code",
   "execution_count": 46,
   "metadata": {},
   "outputs": [
    {
     "data": {
      "text/html": [
       "<div>\n",
       "<style scoped>\n",
       "    .dataframe tbody tr th:only-of-type {\n",
       "        vertical-align: middle;\n",
       "    }\n",
       "\n",
       "    .dataframe tbody tr th {\n",
       "        vertical-align: top;\n",
       "    }\n",
       "\n",
       "    .dataframe thead th {\n",
       "        text-align: right;\n",
       "    }\n",
       "</style>\n",
       "<table border=\"1\" class=\"dataframe\">\n",
       "  <thead>\n",
       "    <tr style=\"text-align: right;\">\n",
       "      <th>USED_CAR</th>\n",
       "      <th>0</th>\n",
       "      <th>1</th>\n",
       "    </tr>\n",
       "    <tr>\n",
       "      <th>RESPONSE</th>\n",
       "      <th></th>\n",
       "      <th></th>\n",
       "    </tr>\n",
       "  </thead>\n",
       "  <tbody>\n",
       "    <tr>\n",
       "      <th>False</th>\n",
       "      <td>283</td>\n",
       "      <td>17</td>\n",
       "    </tr>\n",
       "    <tr>\n",
       "      <th>True</th>\n",
       "      <td>614</td>\n",
       "      <td>86</td>\n",
       "    </tr>\n",
       "  </tbody>\n",
       "</table>\n",
       "</div>"
      ],
      "text/plain": [
       "USED_CAR    0   1\n",
       "RESPONSE         \n",
       "False     283  17\n",
       "True      614  86"
      ]
     },
     "execution_count": 46,
     "metadata": {},
     "output_type": "execute_result"
    }
   ],
   "source": [
    "counts = pd.crosstab(gc.RESPONSE, gc.USED_CAR)\n",
    "counts"
   ]
  },
  {
   "cell_type": "code",
   "execution_count": 47,
   "metadata": {},
   "outputs": [
    {
     "data": {
      "text/plain": [
       "<matplotlib.axes._subplots.AxesSubplot at 0x7f7b7a69b5f8>"
      ]
     },
     "execution_count": 47,
     "metadata": {},
     "output_type": "execute_result"
    },
    {
     "data": {
      "image/png": "[encoded data removed]",
      "text/plain": [
       "<Figure size 432x288 with 1 Axes>"
      ]
     },
     "metadata": {
      "needs_background": "light"
     },
     "output_type": "display_data"
    }
   ],
   "source": [
    "counts.plot(kind='bar', stacked=True)"
   ]
  },
  {
   "cell_type": "code",
   "execution_count": 48,
   "metadata": {},
   "outputs": [
    {
     "data": {
      "text/plain": [
       "0.056666666666666664"
      ]
     },
     "execution_count": 48,
     "metadata": {},
     "output_type": "execute_result"
    }
   ],
   "source": [
    "counts[1][0] / (counts[0][0] + counts[1][0]) # FALSE 일때 중고차 구매 비율"
   ]
  },
  {
   "cell_type": "code",
   "execution_count": 49,
   "metadata": {},
   "outputs": [
    {
     "data": {
      "text/plain": [
       "0.12285714285714286"
      ]
     },
     "execution_count": 49,
     "metadata": {},
     "output_type": "execute_result"
    }
   ],
   "source": [
    "counts[1][1] / (counts[0][1] + counts[1][1]) # TRUE 일때 중고차 구매 비율 "
   ]
  },
  {
   "cell_type": "markdown",
   "metadata": {},
   "source": [
    "- FOREIGN과 RESPONSE"
   ]
  },
  {
   "cell_type": "code",
   "execution_count": 50,
   "metadata": {},
   "outputs": [
    {
     "data": {
      "text/html": [
       "<div>\n",
       "<style scoped>\n",
       "    .dataframe tbody tr th:only-of-type {\n",
       "        vertical-align: middle;\n",
       "    }\n",
       "\n",
       "    .dataframe tbody tr th {\n",
       "        vertical-align: top;\n",
       "    }\n",
       "\n",
       "    .dataframe thead th {\n",
       "        text-align: right;\n",
       "    }\n",
       "</style>\n",
       "<table border=\"1\" class=\"dataframe\">\n",
       "  <thead>\n",
       "    <tr style=\"text-align: right;\">\n",
       "      <th>FOREIGN</th>\n",
       "      <th>0</th>\n",
       "      <th>1</th>\n",
       "    </tr>\n",
       "    <tr>\n",
       "      <th>RESPONSE</th>\n",
       "      <th></th>\n",
       "      <th></th>\n",
       "    </tr>\n",
       "  </thead>\n",
       "  <tbody>\n",
       "    <tr>\n",
       "      <th>False</th>\n",
       "      <td>296</td>\n",
       "      <td>4</td>\n",
       "    </tr>\n",
       "    <tr>\n",
       "      <th>True</th>\n",
       "      <td>667</td>\n",
       "      <td>33</td>\n",
       "    </tr>\n",
       "  </tbody>\n",
       "</table>\n",
       "</div>"
      ],
      "text/plain": [
       "FOREIGN     0   1\n",
       "RESPONSE         \n",
       "False     296   4\n",
       "True      667  33"
      ]
     },
     "execution_count": 50,
     "metadata": {},
     "output_type": "execute_result"
    }
   ],
   "source": [
    "counts = pd.crosstab(gc.RESPONSE, gc.FOREIGN)\n",
    "counts"
   ]
  },
  {
   "cell_type": "code",
   "execution_count": 51,
   "metadata": {},
   "outputs": [
    {
     "data": {
      "text/plain": [
       "<matplotlib.axes._subplots.AxesSubplot at 0x7f7b7a615b70>"
      ]
     },
     "execution_count": 51,
     "metadata": {},
     "output_type": "execute_result"
    },
    {
     "data": {
      "image/png": "[encoded data removed]",
      "text/plain": [
       "<Figure size 432x288 with 1 Axes>"
      ]
     },
     "metadata": {
      "needs_background": "light"
     },
     "output_type": "display_data"
    }
   ],
   "source": [
    "counts.plot(kind='bar', stacked=True)"
   ]
  },
  {
   "cell_type": "code",
   "execution_count": 52,
   "metadata": {},
   "outputs": [
    {
     "data": {
      "text/plain": [
       "0.013333333333333334"
      ]
     },
     "execution_count": 52,
     "metadata": {},
     "output_type": "execute_result"
    }
   ],
   "source": [
    "counts[1][0] / (counts[0][0] + counts[1][0]) # FALSE 일때 FOREIGN 비율"
   ]
  },
  {
   "cell_type": "code",
   "execution_count": 53,
   "metadata": {},
   "outputs": [
    {
     "data": {
      "text/plain": [
       "0.047142857142857146"
      ]
     },
     "execution_count": 53,
     "metadata": {},
     "output_type": "execute_result"
    }
   ],
   "source": [
    "counts[1][1] / (counts[0][1] + counts[1][1]) # TRUE 일때 FOREIGN 비율 "
   ]
  },
  {
   "cell_type": "markdown",
   "metadata": {},
   "source": [
    "### 모형 학습 "
   ]
  },
  {
   "cell_type": "code",
   "execution_count": 54,
   "metadata": {},
   "outputs": [],
   "source": [
    "X_train, X_test, y_train, y_test = train_test_split(X, y)"
   ]
  },
  {
   "cell_type": "code",
   "execution_count": 55,
   "metadata": {},
   "outputs": [
    {
     "name": "stderr",
     "output_type": "stream",
     "text": [
      "/usr/local/lib/python3.6/dist-packages/sklearn/linear_model/_logistic.py:940: ConvergenceWarning: lbfgs failed to converge (status=1):\n",
      "STOP: TOTAL NO. of ITERATIONS REACHED LIMIT.\n",
      "\n",
      "Increase the number of iterations (max_iter) or scale the data as shown in:\n",
      "    https://scikit-learn.org/stable/modules/preprocessing.html\n",
      "Please also refer to the documentation for alternative solver options:\n",
      "    https://scikit-learn.org/stable/modules/linear_model.html#logistic-regression\n",
      "  extra_warning_msg=_LOGISTIC_SOLVER_CONVERGENCE_MSG)\n"
     ]
    },
    {
     "data": {
      "text/plain": [
       "LogisticRegression(C=1.0, class_weight=None, dual=False, fit_intercept=True,\n",
       "                   intercept_scaling=1, l1_ratio=None, max_iter=100,\n",
       "                   multi_class='auto', n_jobs=None, penalty='l2',\n",
       "                   random_state=None, solver='lbfgs', tol=0.0001, verbose=0,\n",
       "                   warm_start=False)"
      ]
     },
     "execution_count": 55,
     "metadata": {},
     "output_type": "execute_result"
    }
   ],
   "source": [
    "clf = LogisticRegression()\n",
    "clf.fit(X_train, y_train)"
   ]
  },
  {
   "cell_type": "code",
   "execution_count": 56,
   "metadata": {},
   "outputs": [
    {
     "name": "stdout",
     "output_type": "stream",
     "text": [
      "Predictions: [ True  True  True  True  True  True  True  True  True  True  True  True\n",
      " False  True  True  True  True  True  True  True  True False  True  True\n",
      "  True  True  True  True  True  True  True  True  True  True  True  True\n",
      "  True  True  True  True  True  True  True  True  True  True  True  True\n",
      "  True  True False  True  True  True False  True  True  True  True  True\n",
      "  True False  True False  True  True  True  True  True  True  True  True\n",
      "  True False  True  True  True  True  True  True  True  True False  True\n",
      "  True  True  True  True  True  True  True  True  True  True  True  True\n",
      "  True  True  True False  True  True  True  True  True False  True  True\n",
      "  True  True  True  True False  True  True  True  True  True  True  True\n",
      "  True  True  True  True False  True  True  True  True  True  True  True\n",
      "  True  True  True  True  True  True  True  True  True  True  True  True\n",
      " False  True  True  True  True  True  True  True  True  True  True  True\n",
      "  True  True  True  True  True  True  True  True  True  True  True  True\n",
      "  True  True  True False  True  True False  True  True False  True  True\n",
      "  True False  True  True  True False  True  True  True  True  True  True\n",
      "  True  True  True  True  True  True  True  True False  True  True  True\n",
      "  True False  True  True False  True  True  True  True False  True  True\n",
      "  True  True  True  True  True  True  True  True  True  True  True  True\n",
      "  True  True  True  True  True  True  True  True  True  True  True  True\n",
      "  True False  True  True  True  True  True  True  True False]\n"
     ]
    }
   ],
   "source": [
    "print(\"Predictions: {}\".format(clf.predict(X_test)))"
   ]
  },
  {
   "cell_type": "code",
   "execution_count": 57,
   "metadata": {},
   "outputs": [
    {
     "name": "stdout",
     "output_type": "stream",
     "text": [
      "Predictions: [[0.05496789 0.94503211]\n",
      " [0.12728543 0.87271457]\n",
      " [0.16178088 0.83821912]\n",
      " [0.20205728 0.79794272]\n",
      " [0.1647743  0.8352257 ]\n",
      " [0.17478919 0.82521081]\n",
      " [0.3789389  0.6210611 ]\n",
      " [0.12857376 0.87142624]\n",
      " [0.37313259 0.62686741]\n",
      " [0.20055904 0.79944096]\n",
      " [0.079431   0.920569  ]\n",
      " [0.26392774 0.73607226]\n",
      " [0.56662219 0.43337781]\n",
      " [0.10203905 0.89796095]\n",
      " [0.34426115 0.65573885]\n",
      " [0.29951536 0.70048464]\n",
      " [0.46943698 0.53056302]\n",
      " [0.49530589 0.50469411]\n",
      " [0.25056277 0.74943723]\n",
      " [0.09865407 0.90134593]\n",
      " [0.22660588 0.77339412]\n",
      " [0.51996268 0.48003732]\n",
      " [0.38521318 0.61478682]\n",
      " [0.3056287  0.6943713 ]\n",
      " [0.22948991 0.77051009]\n",
      " [0.37417272 0.62582728]\n",
      " [0.17833358 0.82166642]\n",
      " [0.26085376 0.73914624]\n",
      " [0.19383266 0.80616734]\n",
      " [0.14966333 0.85033667]\n",
      " [0.29754368 0.70245632]\n",
      " [0.36548021 0.63451979]\n",
      " [0.11029035 0.88970965]\n",
      " [0.11238368 0.88761632]\n",
      " [0.13415733 0.86584267]\n",
      " [0.2739341  0.7260659 ]\n",
      " [0.10945527 0.89054473]\n",
      " [0.41553059 0.58446941]\n",
      " [0.16905463 0.83094537]\n",
      " [0.23096542 0.76903458]\n",
      " [0.13941434 0.86058566]\n",
      " [0.13063167 0.86936833]\n",
      " [0.0693893  0.9306107 ]\n",
      " [0.23720695 0.76279305]\n",
      " [0.34440683 0.65559317]\n",
      " [0.15431858 0.84568142]\n",
      " [0.22693297 0.77306703]\n",
      " [0.23473644 0.76526356]\n",
      " [0.36621923 0.63378077]\n",
      " [0.26830725 0.73169275]\n",
      " [0.55901046 0.44098954]\n",
      " [0.3744783  0.6255217 ]\n",
      " [0.40736834 0.59263166]\n",
      " [0.4853116  0.5146884 ]\n",
      " [0.61485902 0.38514098]\n",
      " [0.38915632 0.61084368]\n",
      " [0.04608755 0.95391245]\n",
      " [0.13267856 0.86732144]\n",
      " [0.27465337 0.72534663]\n",
      " [0.30782335 0.69217665]\n",
      " [0.17797878 0.82202122]\n",
      " [0.65181992 0.34818008]\n",
      " [0.28972169 0.71027831]\n",
      " [0.84911159 0.15088841]\n",
      " [0.3866532  0.6133468 ]\n",
      " [0.38366424 0.61633576]\n",
      " [0.26851491 0.73148509]\n",
      " [0.11471322 0.88528678]\n",
      " [0.15130409 0.84869591]\n",
      " [0.191047   0.808953  ]\n",
      " [0.45998885 0.54001115]\n",
      " [0.03695637 0.96304363]\n",
      " [0.36349402 0.63650598]\n",
      " [0.51619303 0.48380697]\n",
      " [0.10255844 0.89744156]\n",
      " [0.38059705 0.61940295]\n",
      " [0.03186573 0.96813427]\n",
      " [0.13023829 0.86976171]\n",
      " [0.11623755 0.88376245]\n",
      " [0.10821654 0.89178346]\n",
      " [0.40320506 0.59679494]\n",
      " [0.30484796 0.69515204]\n",
      " [0.54621357 0.45378643]\n",
      " [0.31185664 0.68814336]\n",
      " [0.37952561 0.62047439]\n",
      " [0.21440911 0.78559089]\n",
      " [0.04957791 0.95042209]\n",
      " [0.31610427 0.68389573]\n",
      " [0.17962801 0.82037199]\n",
      " [0.22614813 0.77385187]\n",
      " [0.12971839 0.87028161]\n",
      " [0.48516101 0.51483899]\n",
      " [0.41506901 0.58493099]\n",
      " [0.17906852 0.82093148]\n",
      " [0.40839653 0.59160347]\n",
      " [0.48234265 0.51765735]\n",
      " [0.31692857 0.68307143]\n",
      " [0.03365809 0.96634191]\n",
      " [0.27986623 0.72013377]\n",
      " [0.56445054 0.43554946]\n",
      " [0.28331628 0.71668372]\n",
      " [0.11482019 0.88517981]\n",
      " [0.12177594 0.87822406]\n",
      " [0.10240241 0.89759759]\n",
      " [0.10223988 0.89776012]\n",
      " [0.55139278 0.44860722]\n",
      " [0.44010754 0.55989246]\n",
      " [0.32549717 0.67450283]\n",
      " [0.15810445 0.84189555]\n",
      " [0.31824653 0.68175347]\n",
      " [0.29925806 0.70074194]\n",
      " [0.37916841 0.62083159]\n",
      " [0.76180893 0.23819107]\n",
      " [0.07820698 0.92179302]\n",
      " [0.20975628 0.79024372]\n",
      " [0.17843319 0.82156681]\n",
      " [0.10857837 0.89142163]\n",
      " [0.34047789 0.65952211]\n",
      " [0.28803748 0.71196252]\n",
      " [0.15796258 0.84203742]\n",
      " [0.45898555 0.54101445]\n",
      " [0.26890549 0.73109451]\n",
      " [0.13378802 0.86621198]\n",
      " [0.109762   0.890238  ]\n",
      " [0.53460716 0.46539284]\n",
      " [0.13359482 0.86640518]\n",
      " [0.15015399 0.84984601]\n",
      " [0.34925142 0.65074858]\n",
      " [0.15671482 0.84328518]\n",
      " [0.1962429  0.8037571 ]\n",
      " [0.15271714 0.84728286]\n",
      " [0.2064552  0.7935448 ]\n",
      " [0.34475409 0.65524591]\n",
      " [0.41621802 0.58378198]\n",
      " [0.18329428 0.81670572]\n",
      " [0.39570758 0.60429242]\n",
      " [0.16404885 0.83595115]\n",
      " [0.35110846 0.64889154]\n",
      " [0.33678888 0.66321112]\n",
      " [0.07382963 0.92617037]\n",
      " [0.31847217 0.68152783]\n",
      " [0.35192927 0.64807073]\n",
      " [0.21417185 0.78582815]\n",
      " [0.19917213 0.80082787]\n",
      " [0.64893101 0.35106899]\n",
      " [0.29413245 0.70586755]\n",
      " [0.17724481 0.82275519]\n",
      " [0.13716803 0.86283197]\n",
      " [0.10537708 0.89462292]\n",
      " [0.40774434 0.59225566]\n",
      " [0.23084039 0.76915961]\n",
      " [0.31405855 0.68594145]\n",
      " [0.28370938 0.71629062]\n",
      " [0.29413922 0.70586078]\n",
      " [0.30275173 0.69724827]\n",
      " [0.11231725 0.88768275]\n",
      " [0.29271294 0.70728706]\n",
      " [0.16683522 0.83316478]\n",
      " [0.06861908 0.93138092]\n",
      " [0.37898698 0.62101302]\n",
      " [0.16414982 0.83585018]\n",
      " [0.35836273 0.64163727]\n",
      " [0.45744849 0.54255151]\n",
      " [0.35441686 0.64558314]\n",
      " [0.20738509 0.79261491]\n",
      " [0.33362702 0.66637298]\n",
      " [0.17742766 0.82257234]\n",
      " [0.16881806 0.83118194]\n",
      " [0.07625547 0.92374453]\n",
      " [0.1475823  0.8524177 ]\n",
      " [0.36017838 0.63982162]\n",
      " [0.59625895 0.40374105]\n",
      " [0.1941313  0.8058687 ]\n",
      " [0.13468206 0.86531794]\n",
      " [0.52353557 0.47646443]\n",
      " [0.14299907 0.85700093]\n",
      " [0.08228248 0.91771752]\n",
      " [0.63111601 0.36888399]\n",
      " [0.30634939 0.69365061]\n",
      " [0.48729189 0.51270811]\n",
      " [0.48015357 0.51984643]\n",
      " [0.75980682 0.24019318]\n",
      " [0.33030929 0.66969071]\n",
      " [0.16813382 0.83186618]\n",
      " [0.323581   0.676419  ]\n",
      " [0.5667193  0.4332807 ]\n",
      " [0.35680598 0.64319402]\n",
      " [0.11220255 0.88779745]\n",
      " [0.19569547 0.80430453]\n",
      " [0.32963828 0.67036172]\n",
      " [0.11897353 0.88102647]\n",
      " [0.17338393 0.82661607]\n",
      " [0.41393415 0.58606585]\n",
      " [0.45963671 0.54036329]\n",
      " [0.0515936  0.9484064 ]\n",
      " [0.32241479 0.67758521]\n",
      " [0.3624637  0.6375363 ]\n",
      " [0.11307079 0.88692921]\n",
      " [0.37070564 0.62929436]\n",
      " [0.44637995 0.55362005]\n",
      " [0.71966271 0.28033729]\n",
      " [0.22454883 0.77545117]\n",
      " [0.43548873 0.56451127]\n",
      " [0.44029661 0.55970339]\n",
      " [0.04207081 0.95792919]\n",
      " [0.55070525 0.44929475]\n",
      " [0.04482728 0.95517272]\n",
      " [0.31731233 0.68268767]\n",
      " [0.51904099 0.48095901]\n",
      " [0.22814485 0.77185515]\n",
      " [0.10225024 0.89774976]\n",
      " [0.2995295  0.7004705 ]\n",
      " [0.24054746 0.75945254]\n",
      " [0.55193403 0.44806597]\n",
      " [0.49397966 0.50602034]\n",
      " [0.49708203 0.50291797]\n",
      " [0.33319466 0.66680534]\n",
      " [0.30231232 0.69768768]\n",
      " [0.14294122 0.85705878]\n",
      " [0.14873779 0.85126221]\n",
      " [0.03728583 0.96271417]\n",
      " [0.2674671  0.7325329 ]\n",
      " [0.37208006 0.62791994]\n",
      " [0.18928276 0.81071724]\n",
      " [0.17879028 0.82120972]\n",
      " [0.17273706 0.82726294]\n",
      " [0.11763709 0.88236291]\n",
      " [0.36217049 0.63782951]\n",
      " [0.08154412 0.91845588]\n",
      " [0.32461209 0.67538791]\n",
      " [0.3461927  0.6538073 ]\n",
      " [0.12902492 0.87097508]\n",
      " [0.20222057 0.79777943]\n",
      " [0.30103846 0.69896154]\n",
      " [0.2959812  0.7040188 ]\n",
      " [0.03442434 0.96557566]\n",
      " [0.07635631 0.92364369]\n",
      " [0.13601943 0.86398057]\n",
      " [0.13208498 0.86791502]\n",
      " [0.05885646 0.94114354]\n",
      " [0.44983011 0.55016989]\n",
      " [0.61507775 0.38492225]\n",
      " [0.1290595  0.8709405 ]\n",
      " [0.37438454 0.62561546]\n",
      " [0.28534596 0.71465404]\n",
      " [0.47420438 0.52579562]\n",
      " [0.21940036 0.78059964]\n",
      " [0.36657552 0.63342448]\n",
      " [0.22672838 0.77327162]\n",
      " [0.69543168 0.30456832]]\n"
     ]
    }
   ],
   "source": [
    "print(\"Predictions: {}\".format(clf.predict_proba(X_test)))"
   ]
  },
  {
   "cell_type": "markdown",
   "metadata": {},
   "source": [
    "### 분류 성과 측정"
   ]
  },
  {
   "cell_type": "code",
   "execution_count": 58,
   "metadata": {},
   "outputs": [
    {
     "data": {
      "text/plain": [
       "array([[ 12,  57],\n",
       "       [ 12, 169]])"
      ]
     },
     "execution_count": 58,
     "metadata": {},
     "output_type": "execute_result"
    }
   ],
   "source": [
    "y_pred = clf.predict(X_test)\n",
    "\n",
    "from sklearn.metrics import confusion_matrix\n",
    "confusion_matrix(y_test, y_pred)"
   ]
  },
  {
   "cell_type": "code",
   "execution_count": 59,
   "metadata": {},
   "outputs": [
    {
     "name": "stdout",
     "output_type": "stream",
     "text": [
      "Accuracy: 0.724\n"
     ]
    }
   ],
   "source": [
    "print(\"Accuracy: {}\".format(clf.score(X_test, y_test)))"
   ]
  },
  {
   "cell_type": "code",
   "execution_count": 60,
   "metadata": {},
   "outputs": [
    {
     "data": {
      "text/plain": [
       "0.7477876106194691"
      ]
     },
     "execution_count": 60,
     "metadata": {},
     "output_type": "execute_result"
    }
   ],
   "source": [
    "from sklearn.metrics import precision_score, recall_score, f1_score, roc_auc_score\n",
    "\n",
    "precision_score(y_test, y_pred)"
   ]
  },
  {
   "cell_type": "code",
   "execution_count": 61,
   "metadata": {},
   "outputs": [
    {
     "data": {
      "text/plain": [
       "0.9337016574585635"
      ]
     },
     "execution_count": 61,
     "metadata": {},
     "output_type": "execute_result"
    }
   ],
   "source": [
    "recall_score(y_test,y_pred)"
   ]
  },
  {
   "cell_type": "code",
   "execution_count": 62,
   "metadata": {},
   "outputs": [
    {
     "data": {
      "text/plain": [
       "0.8304668304668305"
      ]
     },
     "execution_count": 62,
     "metadata": {},
     "output_type": "execute_result"
    }
   ],
   "source": [
    "f1_score(y_test,y_pred)"
   ]
  },
  {
   "cell_type": "code",
   "execution_count": 63,
   "metadata": {},
   "outputs": [
    {
     "data": {
      "text/plain": [
       "0.5538073504684122"
      ]
     },
     "execution_count": 63,
     "metadata": {},
     "output_type": "execute_result"
    }
   ],
   "source": [
    "roc_auc_score(y_test,y_pred)"
   ]
  },
  {
   "cell_type": "code",
   "execution_count": 64,
   "metadata": {},
   "outputs": [
    {
     "data": {
      "text/plain": [
       "array([0.68642857, 0.72607143, 0.70809524, 0.73083333, 0.69833333])"
      ]
     },
     "execution_count": 64,
     "metadata": {},
     "output_type": "execute_result"
    }
   ],
   "source": [
    "clf_cv = LogisticRegression(max_iter=500)\n",
    "\n",
    "scores = cross_val_score(clf_cv, X, y, scoring='roc_auc', cv=5)\n",
    "scores"
   ]
  },
  {
   "cell_type": "code",
   "execution_count": 65,
   "metadata": {},
   "outputs": [
    {
     "data": {
      "text/plain": [
       "0.7099523809523809"
      ]
     },
     "execution_count": 65,
     "metadata": {},
     "output_type": "execute_result"
    }
   ],
   "source": [
    "scores.mean()"
   ]
  }
 ],
 "metadata": {
  "kernelspec": {
   "display_name": "Python 3",
   "language": "python",
   "name": "python3"
  },
  "language_info": {
   "codemirror_mode": {
    "name": "ipython",
    "version": 3
   },
   "file_extension": ".py",
   "mimetype": "text/x-python",
   "name": "python",
   "nbconvert_exporter": "python",
   "pygments_lexer": "ipython3",
   "version": "3.6.9"
  }
 },
 "nbformat": 4,
 "nbformat_minor": 4
}
