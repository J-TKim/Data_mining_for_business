{
 "cells": [
  {
   "cell_type": "markdown",
   "metadata": {},
   "source": [
    "(30점) 신용카드 부정거래 분류 모형 생성을 위해 의사결정나무를 통해 입력 변\n",
    "수를 찾고, 랜덤 포레스트를 통해 학습하고자 한다."
   ]
  },
  {
   "cell_type": "code",
   "execution_count": 1,
   "metadata": {},
   "outputs": [],
   "source": [
    "import pandas as pd\n",
    "from sklearn.model_selection import cross_val_score\n",
    "from sklearn.tree import DecisionTreeClassifier\n",
    "from sklearn.model_selection import train_test_split\n",
    "from sklearn.metrics import f1_score\n",
    "import matplotlib.pyplot as plt\n",
    "import numpy as np\n",
    "import math"
   ]
  },
  {
   "cell_type": "code",
   "execution_count": 2,
   "metadata": {},
   "outputs": [],
   "source": [
    "df = pd.read_csv(\"creditcard_sampled.csv\")"
   ]
  },
  {
   "cell_type": "code",
   "execution_count": 3,
   "metadata": {},
   "outputs": [
    {
     "data": {
      "text/html": [
       "<div>\n",
       "<style scoped>\n",
       "    .dataframe tbody tr th:only-of-type {\n",
       "        vertical-align: middle;\n",
       "    }\n",
       "\n",
       "    .dataframe tbody tr th {\n",
       "        vertical-align: top;\n",
       "    }\n",
       "\n",
       "    .dataframe thead th {\n",
       "        text-align: right;\n",
       "    }\n",
       "</style>\n",
       "<table border=\"1\" class=\"dataframe\">\n",
       "  <thead>\n",
       "    <tr style=\"text-align: right;\">\n",
       "      <th></th>\n",
       "      <th>Time</th>\n",
       "      <th>V1</th>\n",
       "      <th>V2</th>\n",
       "      <th>V3</th>\n",
       "      <th>V4</th>\n",
       "      <th>V5</th>\n",
       "      <th>V6</th>\n",
       "      <th>V7</th>\n",
       "      <th>V8</th>\n",
       "      <th>V9</th>\n",
       "      <th>...</th>\n",
       "      <th>V21</th>\n",
       "      <th>V22</th>\n",
       "      <th>V23</th>\n",
       "      <th>V24</th>\n",
       "      <th>V25</th>\n",
       "      <th>V26</th>\n",
       "      <th>V27</th>\n",
       "      <th>V28</th>\n",
       "      <th>Amount</th>\n",
       "      <th>Class</th>\n",
       "    </tr>\n",
       "  </thead>\n",
       "  <tbody>\n",
       "    <tr>\n",
       "      <th>0</th>\n",
       "      <td>124265.0</td>\n",
       "      <td>1.522319</td>\n",
       "      <td>-2.620740</td>\n",
       "      <td>0.162082</td>\n",
       "      <td>-0.413442</td>\n",
       "      <td>-2.017811</td>\n",
       "      <td>1.461869</td>\n",
       "      <td>-1.975232</td>\n",
       "      <td>0.593168</td>\n",
       "      <td>1.590390</td>\n",
       "      <td>...</td>\n",
       "      <td>0.448753</td>\n",
       "      <td>1.026305</td>\n",
       "      <td>-0.144135</td>\n",
       "      <td>0.248102</td>\n",
       "      <td>-0.329750</td>\n",
       "      <td>-0.023030</td>\n",
       "      <td>0.024540</td>\n",
       "      <td>0.003180</td>\n",
       "      <td>284.00</td>\n",
       "      <td>0</td>\n",
       "    </tr>\n",
       "    <tr>\n",
       "      <th>1</th>\n",
       "      <td>59241.0</td>\n",
       "      <td>-0.224159</td>\n",
       "      <td>1.180560</td>\n",
       "      <td>1.620263</td>\n",
       "      <td>2.597663</td>\n",
       "      <td>0.268749</td>\n",
       "      <td>0.371741</td>\n",
       "      <td>0.747209</td>\n",
       "      <td>-0.039479</td>\n",
       "      <td>-1.383652</td>\n",
       "      <td>...</td>\n",
       "      <td>0.116251</td>\n",
       "      <td>0.546184</td>\n",
       "      <td>-0.157833</td>\n",
       "      <td>-0.014209</td>\n",
       "      <td>-0.354865</td>\n",
       "      <td>0.228212</td>\n",
       "      <td>0.222947</td>\n",
       "      <td>-0.014396</td>\n",
       "      <td>37.33</td>\n",
       "      <td>0</td>\n",
       "    </tr>\n",
       "    <tr>\n",
       "      <th>2</th>\n",
       "      <td>46775.0</td>\n",
       "      <td>1.249077</td>\n",
       "      <td>-1.180277</td>\n",
       "      <td>-0.383561</td>\n",
       "      <td>-0.921614</td>\n",
       "      <td>-0.350447</td>\n",
       "      <td>0.928311</td>\n",
       "      <td>-0.825273</td>\n",
       "      <td>0.352892</td>\n",
       "      <td>-0.198168</td>\n",
       "      <td>...</td>\n",
       "      <td>-0.030222</td>\n",
       "      <td>-0.324440</td>\n",
       "      <td>-0.279178</td>\n",
       "      <td>-1.751429</td>\n",
       "      <td>0.561524</td>\n",
       "      <td>-0.125653</td>\n",
       "      <td>-0.010366</td>\n",
       "      <td>-0.007555</td>\n",
       "      <td>102.00</td>\n",
       "      <td>0</td>\n",
       "    </tr>\n",
       "    <tr>\n",
       "      <th>3</th>\n",
       "      <td>166573.0</td>\n",
       "      <td>2.153038</td>\n",
       "      <td>0.046845</td>\n",
       "      <td>-2.212044</td>\n",
       "      <td>0.244870</td>\n",
       "      <td>0.730598</td>\n",
       "      <td>-1.017290</td>\n",
       "      <td>0.611115</td>\n",
       "      <td>-0.412808</td>\n",
       "      <td>0.258610</td>\n",
       "      <td>...</td>\n",
       "      <td>0.065511</td>\n",
       "      <td>0.338889</td>\n",
       "      <td>-0.025033</td>\n",
       "      <td>0.540896</td>\n",
       "      <td>0.418683</td>\n",
       "      <td>0.698257</td>\n",
       "      <td>-0.121885</td>\n",
       "      <td>-0.082522</td>\n",
       "      <td>0.76</td>\n",
       "      <td>0</td>\n",
       "    </tr>\n",
       "    <tr>\n",
       "      <th>4</th>\n",
       "      <td>49187.0</td>\n",
       "      <td>0.723978</td>\n",
       "      <td>-1.256455</td>\n",
       "      <td>0.381422</td>\n",
       "      <td>0.074468</td>\n",
       "      <td>-0.777243</td>\n",
       "      <td>0.722340</td>\n",
       "      <td>-0.370069</td>\n",
       "      <td>0.165191</td>\n",
       "      <td>0.886716</td>\n",
       "      <td>...</td>\n",
       "      <td>-0.085468</td>\n",
       "      <td>-0.601468</td>\n",
       "      <td>-0.325365</td>\n",
       "      <td>-0.717631</td>\n",
       "      <td>0.185812</td>\n",
       "      <td>0.965630</td>\n",
       "      <td>-0.086032</td>\n",
       "      <td>0.041443</td>\n",
       "      <td>281.48</td>\n",
       "      <td>0</td>\n",
       "    </tr>\n",
       "  </tbody>\n",
       "</table>\n",
       "<p>5 rows × 31 columns</p>\n",
       "</div>"
      ],
      "text/plain": [
       "       Time        V1        V2        V3        V4        V5        V6  \\\n",
       "0  124265.0  1.522319 -2.620740  0.162082 -0.413442 -2.017811  1.461869   \n",
       "1   59241.0 -0.224159  1.180560  1.620263  2.597663  0.268749  0.371741   \n",
       "2   46775.0  1.249077 -1.180277 -0.383561 -0.921614 -0.350447  0.928311   \n",
       "3  166573.0  2.153038  0.046845 -2.212044  0.244870  0.730598 -1.017290   \n",
       "4   49187.0  0.723978 -1.256455  0.381422  0.074468 -0.777243  0.722340   \n",
       "\n",
       "         V7        V8        V9  ...       V21       V22       V23       V24  \\\n",
       "0 -1.975232  0.593168  1.590390  ...  0.448753  1.026305 -0.144135  0.248102   \n",
       "1  0.747209 -0.039479 -1.383652  ...  0.116251  0.546184 -0.157833 -0.014209   \n",
       "2 -0.825273  0.352892 -0.198168  ... -0.030222 -0.324440 -0.279178 -1.751429   \n",
       "3  0.611115 -0.412808  0.258610  ...  0.065511  0.338889 -0.025033  0.540896   \n",
       "4 -0.370069  0.165191  0.886716  ... -0.085468 -0.601468 -0.325365 -0.717631   \n",
       "\n",
       "        V25       V26       V27       V28  Amount  Class  \n",
       "0 -0.329750 -0.023030  0.024540  0.003180  284.00      0  \n",
       "1 -0.354865  0.228212  0.222947 -0.014396   37.33      0  \n",
       "2  0.561524 -0.125653 -0.010366 -0.007555  102.00      0  \n",
       "3  0.418683  0.698257 -0.121885 -0.082522    0.76      0  \n",
       "4  0.185812  0.965630 -0.086032  0.041443  281.48      0  \n",
       "\n",
       "[5 rows x 31 columns]"
      ]
     },
     "execution_count": 3,
     "metadata": {},
     "output_type": "execute_result"
    }
   ],
   "source": [
    "df.head()"
   ]
  },
  {
   "cell_type": "markdown",
   "metadata": {},
   "source": [
    "Class를 목표변수로 하고, 나머지 모든 변수를 입력변수로 활용한다.   \n"
   ]
  },
  {
   "cell_type": "code",
   "execution_count": 4,
   "metadata": {},
   "outputs": [],
   "source": [
    "x = df.drop([\"Class\"], axis=1)\n",
    "y = df[\"Class\"]\n",
    "\n",
    "X_train, X_test, y_train, y_test = train_test_split(x, y, test_size=0.3) "
   ]
  },
  {
   "cell_type": "markdown",
   "metadata": {},
   "source": [
    "entropy를 불순도 지표로 사용하여 의사결정나무를 생성하고    \n",
    "5겹 교차 검증을 통해 성과를 측정하려고 한다.    \n"
   ]
  },
  {
   "cell_type": "code",
   "execution_count": 5,
   "metadata": {},
   "outputs": [
    {
     "name": "stdout",
     "output_type": "stream",
     "text": [
      "AUC of decision tree : 0.958\n"
     ]
    }
   ],
   "source": [
    "tree_cv = DecisionTreeClassifier(criterion='entropy')\n",
    "tree_cv.fit(x, y)\n",
    "scores = cross_val_score(tree_cv, x, y, scoring='f1', cv=5)\n",
    "\n",
    "print(\"AUC of decision tree : {:.3f}\".format(scores.mean()))"
   ]
  },
  {
   "cell_type": "markdown",
   "metadata": {},
   "source": [
    "성과지표는 f1을 활용하며,    "
   ]
  },
  {
   "cell_type": "code",
   "execution_count": 6,
   "metadata": {},
   "outputs": [
    {
     "name": "stdout",
     "output_type": "stream",
     "text": [
      "테스트 집합 f1 점수: 1.000\n"
     ]
    }
   ],
   "source": [
    "y_pred = tree_cv.predict(X_test)\n",
    "\n",
    "print(\"테스트 집합 f1 점수: {:.3f}\".format(f1_score(y_test, y_pred)))"
   ]
  },
  {
   "cell_type": "markdown",
   "metadata": {},
   "source": [
    "max_depth 값을 2부터 15까지 변화시켜가며 측정하고 결과를 시각화하라."
   ]
  },
  {
   "cell_type": "code",
   "execution_count": 7,
   "metadata": {},
   "outputs": [
    {
     "name": "stdout",
     "output_type": "stream",
     "text": [
      "AUC score with max_depth 2: 0.914\n",
      "AUC score with max_depth 3: 0.922\n",
      "AUC score with max_depth 4: 0.932\n",
      "AUC score with max_depth 5: 0.940\n",
      "AUC score with max_depth 6: 0.945\n",
      "AUC score with max_depth 7: 0.958\n",
      "AUC score with max_depth 8: 0.960\n",
      "AUC score with max_depth 9: 0.959\n",
      "AUC score with max_depth 10: 0.962\n",
      "AUC score with max_depth 11: 0.958\n",
      "AUC score with max_depth 12: 0.961\n",
      "AUC score with max_depth 13: 0.962\n",
      "AUC score with max_depth 14: 0.959\n",
      "AUC score with max_depth 15: 0.960\n"
     ]
    }
   ],
   "source": [
    "score_list = []\n",
    "I = range(2,16)\n",
    "\n",
    "for i in I:\n",
    "    tree_cv = DecisionTreeClassifier(criterion='entropy', max_depth=i)\n",
    "    scores = cross_val_score(tree_cv, x, y, scoring=\"f1\", cv=5)\n",
    "    score_list.append(scores.mean())\n",
    "    print(\"AUC score with max_depth {}: {:.3f}\".format(i,scores.mean()))"
   ]
  },
  {
   "cell_type": "code",
   "execution_count": 8,
   "metadata": {},
   "outputs": [
    {
     "data": {
      "image/png": "[encoded data removed]",
      "text/plain": [
       "<Figure size 432x288 with 1 Axes>"
      ]
     },
     "metadata": {
      "needs_background": "light"
     },
     "output_type": "display_data"
    }
   ],
   "source": [
    "plt.plot(I, score_list, 'bx-')\n",
    "plt.xlabel('max_depth')\n",
    "plt.ylabel('AUC')\n",
    "plt.show()"
   ]
  },
  {
   "cell_type": "code",
   "execution_count": 9,
   "metadata": {},
   "outputs": [],
   "source": [
    "def plot_feature_importances(model):\n",
    "    n_features = model.feature_importances_.shape[0]\n",
    "    plt.axis([0, 1, 0, 10])\n",
    "    plt.barh(range(n_features), model.feature_importances_, align='center')\n",
    "    plt.yticks(np.arange(n_features), x.columns)\n",
    "    plt.xlabel(\"Feature Importances\")\n",
    "    plt.ylabel(\"Features\")\n",
    "    plt.ylim(-1, n_features)"
   ]
  },
  {
   "cell_type": "code",
   "execution_count": 10,
   "metadata": {},
   "outputs": [
    {
     "data": {
      "image/png": "[encoded data removed]",
      "text/plain": [
       "<Figure size 432x288 with 1 Axes>"
      ]
     },
     "metadata": {
      "needs_background": "light"
     },
     "output_type": "display_data"
    }
   ],
   "source": [
    "tree = DecisionTreeClassifier(criterion='entropy', max_depth=9)\n",
    "tree.fit(X_train, y_train)\n",
    "\n",
    "plot_feature_importances(tree)"
   ]
  },
  {
   "cell_type": "markdown",
   "metadata": {},
   "source": [
    "(2)에서 보여진 중요도 값에서 중요도가 가장 높은 6개의 변수만 입력변수로 사용하\n",
    "여 랜덤 포레스트 모형을 생성한다.     \n",
    "랜덤 포레스트 모형에서 생성하는 의사결정나무\n",
    "의 숫자는 200으로하고, 사용하는 변수는 최대 3개, 사용하는 데이터는 최대 40%로\n",
    "하며 한 부분집합에 같은 데이터가 중복으로 들어가는 것을 허용한다.      \n",
    "랜덤 포레스트\n",
    "모형의 성과는 5겹 교차검증으로 측정하며 성과지표는 AUC를 사용하라.    5겹 교차 검\n",
    "증의 평균 AUC 값을 보고하라."
   ]
  },
  {
   "cell_type": "code",
   "execution_count": 11,
   "metadata": {},
   "outputs": [],
   "source": [
    "x = df[[\"V14\", \"V4\", \"V3\", \"V20\", \"V28\", \"V7\"]]\n",
    "y = df[\"Class\"]\n",
    "\n",
    "X_train, X_test, y_train, y_test = train_test_split(x, y, test_size=0.3) "
   ]
  },
  {
   "cell_type": "code",
   "execution_count": 12,
   "metadata": {},
   "outputs": [],
   "source": [
    "from sklearn.ensemble import RandomForestClassifier\n",
    "\n",
    "rnd_clf = RandomForestClassifier(\n",
    "    n_estimators = 200, \n",
    "    max_leaf_nodes = 4, \n",
    "    max_features = 'auto', #max_features에 ‘auto’가 지정되면 전체 변수 수에 Root를 씌운 값이 지정됨\n",
    "    max_samples=0.3,    \n",
    "    bootstrap = True,\n",
    "    n_jobs=-1\n",
    ")"
   ]
  },
  {
   "cell_type": "code",
   "execution_count": 13,
   "metadata": {},
   "outputs": [],
   "source": [
    "rnd_clf.fit(X_train, y_train) \n",
    "y_pred = rnd_clf.predict(X_test)\n",
    "scores = cross_val_score(tree_cv, x, y, scoring=\"roc_auc\", cv=5)"
   ]
  },
  {
   "cell_type": "code",
   "execution_count": 14,
   "metadata": {},
   "outputs": [
    {
     "name": "stdout",
     "output_type": "stream",
     "text": [
      "AUC of decision tree : 0.964\n"
     ]
    }
   ],
   "source": [
    "print(\"AUC of decision tree : {:.3f}\".format(scores.mean()))"
   ]
  },
  {
   "cell_type": "markdown",
   "metadata": {},
   "source": [
    "# 2번 문제\n",
    "학습에 필요한 전처리 과정이 있다면 수행하고, 어떤 과정을 거쳤는 지를 기술하시오."
   ]
  },
  {
   "cell_type": "code",
   "execution_count": 15,
   "metadata": {},
   "outputs": [],
   "source": [
    "df = pd.read_csv(\"Carseats.csv\")"
   ]
  },
  {
   "cell_type": "code",
   "execution_count": 16,
   "metadata": {},
   "outputs": [
    {
     "data": {
      "text/html": [
       "<div>\n",
       "<style scoped>\n",
       "    .dataframe tbody tr th:only-of-type {\n",
       "        vertical-align: middle;\n",
       "    }\n",
       "\n",
       "    .dataframe tbody tr th {\n",
       "        vertical-align: top;\n",
       "    }\n",
       "\n",
       "    .dataframe thead th {\n",
       "        text-align: right;\n",
       "    }\n",
       "</style>\n",
       "<table border=\"1\" class=\"dataframe\">\n",
       "  <thead>\n",
       "    <tr style=\"text-align: right;\">\n",
       "      <th></th>\n",
       "      <th>Sales</th>\n",
       "      <th>CompPrice</th>\n",
       "      <th>Income</th>\n",
       "      <th>Advertising</th>\n",
       "      <th>Population</th>\n",
       "      <th>Price</th>\n",
       "      <th>ShelveLoc</th>\n",
       "      <th>Age</th>\n",
       "      <th>Education</th>\n",
       "      <th>Urban</th>\n",
       "      <th>US</th>\n",
       "    </tr>\n",
       "  </thead>\n",
       "  <tbody>\n",
       "    <tr>\n",
       "      <th>0</th>\n",
       "      <td>9.50</td>\n",
       "      <td>138</td>\n",
       "      <td>73</td>\n",
       "      <td>11</td>\n",
       "      <td>276</td>\n",
       "      <td>120</td>\n",
       "      <td>Bad</td>\n",
       "      <td>42</td>\n",
       "      <td>17</td>\n",
       "      <td>Yes</td>\n",
       "      <td>Yes</td>\n",
       "    </tr>\n",
       "    <tr>\n",
       "      <th>1</th>\n",
       "      <td>11.22</td>\n",
       "      <td>111</td>\n",
       "      <td>48</td>\n",
       "      <td>16</td>\n",
       "      <td>260</td>\n",
       "      <td>83</td>\n",
       "      <td>Good</td>\n",
       "      <td>65</td>\n",
       "      <td>10</td>\n",
       "      <td>Yes</td>\n",
       "      <td>Yes</td>\n",
       "    </tr>\n",
       "    <tr>\n",
       "      <th>2</th>\n",
       "      <td>10.06</td>\n",
       "      <td>113</td>\n",
       "      <td>35</td>\n",
       "      <td>10</td>\n",
       "      <td>269</td>\n",
       "      <td>80</td>\n",
       "      <td>Medium</td>\n",
       "      <td>59</td>\n",
       "      <td>12</td>\n",
       "      <td>Yes</td>\n",
       "      <td>Yes</td>\n",
       "    </tr>\n",
       "    <tr>\n",
       "      <th>3</th>\n",
       "      <td>7.40</td>\n",
       "      <td>117</td>\n",
       "      <td>100</td>\n",
       "      <td>4</td>\n",
       "      <td>466</td>\n",
       "      <td>97</td>\n",
       "      <td>Medium</td>\n",
       "      <td>55</td>\n",
       "      <td>14</td>\n",
       "      <td>Yes</td>\n",
       "      <td>Yes</td>\n",
       "    </tr>\n",
       "    <tr>\n",
       "      <th>4</th>\n",
       "      <td>4.15</td>\n",
       "      <td>141</td>\n",
       "      <td>64</td>\n",
       "      <td>3</td>\n",
       "      <td>340</td>\n",
       "      <td>128</td>\n",
       "      <td>Bad</td>\n",
       "      <td>38</td>\n",
       "      <td>13</td>\n",
       "      <td>Yes</td>\n",
       "      <td>No</td>\n",
       "    </tr>\n",
       "  </tbody>\n",
       "</table>\n",
       "</div>"
      ],
      "text/plain": [
       "   Sales  CompPrice  Income  Advertising  Population  Price ShelveLoc  Age  \\\n",
       "0   9.50        138      73           11         276    120       Bad   42   \n",
       "1  11.22        111      48           16         260     83      Good   65   \n",
       "2  10.06        113      35           10         269     80    Medium   59   \n",
       "3   7.40        117     100            4         466     97    Medium   55   \n",
       "4   4.15        141      64            3         340    128       Bad   38   \n",
       "\n",
       "   Education Urban   US  \n",
       "0         17   Yes  Yes  \n",
       "1         10   Yes  Yes  \n",
       "2         12   Yes  Yes  \n",
       "3         14   Yes  Yes  \n",
       "4         13   Yes   No  "
      ]
     },
     "execution_count": 16,
     "metadata": {},
     "output_type": "execute_result"
    }
   ],
   "source": [
    "df.head()"
   ]
  },
  {
   "cell_type": "code",
   "execution_count": 17,
   "metadata": {},
   "outputs": [
    {
     "name": "stdout",
     "output_type": "stream",
     "text": [
      "<class 'pandas.core.frame.DataFrame'>\n",
      "RangeIndex: 400 entries, 0 to 399\n",
      "Data columns (total 11 columns):\n",
      " #   Column       Non-Null Count  Dtype  \n",
      "---  ------       --------------  -----  \n",
      " 0   Sales        400 non-null    float64\n",
      " 1   CompPrice    400 non-null    int64  \n",
      " 2   Income       400 non-null    int64  \n",
      " 3   Advertising  400 non-null    int64  \n",
      " 4   Population   400 non-null    int64  \n",
      " 5   Price        400 non-null    int64  \n",
      " 6   ShelveLoc    400 non-null    object \n",
      " 7   Age          400 non-null    int64  \n",
      " 8   Education    400 non-null    int64  \n",
      " 9   Urban        400 non-null    object \n",
      " 10  US           400 non-null    object \n",
      "dtypes: float64(1), int64(7), object(3)\n",
      "memory usage: 34.5+ KB\n"
     ]
    }
   ],
   "source": [
    "df.info()"
   ]
  },
  {
   "cell_type": "code",
   "execution_count": 18,
   "metadata": {},
   "outputs": [],
   "source": [
    "for col in [\"ShelveLoc\", \"Urban\", \"US\"]:\n",
    "    df[col] = df[col].astype('category')"
   ]
  },
  {
   "cell_type": "code",
   "execution_count": 19,
   "metadata": {},
   "outputs": [
    {
     "name": "stdout",
     "output_type": "stream",
     "text": [
      "<class 'pandas.core.frame.DataFrame'>\n",
      "RangeIndex: 400 entries, 0 to 399\n",
      "Data columns (total 11 columns):\n",
      " #   Column       Non-Null Count  Dtype   \n",
      "---  ------       --------------  -----   \n",
      " 0   Sales        400 non-null    float64 \n",
      " 1   CompPrice    400 non-null    int64   \n",
      " 2   Income       400 non-null    int64   \n",
      " 3   Advertising  400 non-null    int64   \n",
      " 4   Population   400 non-null    int64   \n",
      " 5   Price        400 non-null    int64   \n",
      " 6   ShelveLoc    400 non-null    category\n",
      " 7   Age          400 non-null    int64   \n",
      " 8   Education    400 non-null    int64   \n",
      " 9   Urban        400 non-null    category\n",
      " 10  US           400 non-null    category\n",
      "dtypes: category(3), float64(1), int64(7)\n",
      "memory usage: 26.6 KB\n"
     ]
    }
   ],
   "source": [
    "df.info()"
   ]
  },
  {
   "cell_type": "code",
   "execution_count": 20,
   "metadata": {},
   "outputs": [],
   "source": [
    "from sklearn.preprocessing import StandardScaler\n",
    "\n",
    "scaler = StandardScaler()\n",
    "\n",
    "X_numeric = df.drop([\"ShelveLoc\", \"Urban\", \"US\", \"Sales\"], axis=1)\n",
    "X_cat = df[[\"ShelveLoc\", \"Urban\", \"US\"]]\n",
    "y = df[\"Sales\"]\n",
    "X_s = pd.DataFrame(scaler.fit_transform(X_numeric))"
   ]
  },
  {
   "cell_type": "code",
   "execution_count": 21,
   "metadata": {},
   "outputs": [],
   "source": [
    "X_s = pd.DataFrame(scaler.fit_transform(X_numeric))"
   ]
  },
  {
   "cell_type": "code",
   "execution_count": 22,
   "metadata": {},
   "outputs": [
    {
     "data": {
      "text/html": [
       "<div>\n",
       "<style scoped>\n",
       "    .dataframe tbody tr th:only-of-type {\n",
       "        vertical-align: middle;\n",
       "    }\n",
       "\n",
       "    .dataframe tbody tr th {\n",
       "        vertical-align: top;\n",
       "    }\n",
       "\n",
       "    .dataframe thead th {\n",
       "        text-align: right;\n",
       "    }\n",
       "</style>\n",
       "<table border=\"1\" class=\"dataframe\">\n",
       "  <thead>\n",
       "    <tr style=\"text-align: right;\">\n",
       "      <th></th>\n",
       "      <th>0</th>\n",
       "      <th>1</th>\n",
       "      <th>2</th>\n",
       "      <th>3</th>\n",
       "      <th>4</th>\n",
       "      <th>5</th>\n",
       "      <th>6</th>\n",
       "      <th>ShelveLoc_Bad</th>\n",
       "      <th>ShelveLoc_Good</th>\n",
       "      <th>ShelveLoc_Medium</th>\n",
       "      <th>Urban_No</th>\n",
       "      <th>Urban_Yes</th>\n",
       "      <th>US_No</th>\n",
       "      <th>US_Yes</th>\n",
       "    </tr>\n",
       "  </thead>\n",
       "  <tbody>\n",
       "    <tr>\n",
       "      <th>0</th>\n",
       "      <td>0.850455</td>\n",
       "      <td>0.155361</td>\n",
       "      <td>0.657177</td>\n",
       "      <td>0.075819</td>\n",
       "      <td>0.177823</td>\n",
       "      <td>-0.699782</td>\n",
       "      <td>1.184449</td>\n",
       "      <td>1</td>\n",
       "      <td>0</td>\n",
       "      <td>0</td>\n",
       "      <td>0</td>\n",
       "      <td>1</td>\n",
       "      <td>0</td>\n",
       "      <td>1</td>\n",
       "    </tr>\n",
       "    <tr>\n",
       "      <th>1</th>\n",
       "      <td>-0.912484</td>\n",
       "      <td>-0.739060</td>\n",
       "      <td>1.409957</td>\n",
       "      <td>-0.032882</td>\n",
       "      <td>-1.386854</td>\n",
       "      <td>0.721723</td>\n",
       "      <td>-1.490113</td>\n",
       "      <td>0</td>\n",
       "      <td>1</td>\n",
       "      <td>0</td>\n",
       "      <td>0</td>\n",
       "      <td>1</td>\n",
       "      <td>0</td>\n",
       "      <td>1</td>\n",
       "    </tr>\n",
       "    <tr>\n",
       "      <th>2</th>\n",
       "      <td>-0.781896</td>\n",
       "      <td>-1.204159</td>\n",
       "      <td>0.506621</td>\n",
       "      <td>0.028262</td>\n",
       "      <td>-1.513719</td>\n",
       "      <td>0.350895</td>\n",
       "      <td>-0.725953</td>\n",
       "      <td>0</td>\n",
       "      <td>0</td>\n",
       "      <td>1</td>\n",
       "      <td>0</td>\n",
       "      <td>1</td>\n",
       "      <td>0</td>\n",
       "      <td>1</td>\n",
       "    </tr>\n",
       "    <tr>\n",
       "      <th>3</th>\n",
       "      <td>-0.520720</td>\n",
       "      <td>1.121336</td>\n",
       "      <td>-0.396715</td>\n",
       "      <td>1.366649</td>\n",
       "      <td>-0.794814</td>\n",
       "      <td>0.103677</td>\n",
       "      <td>0.038208</td>\n",
       "      <td>0</td>\n",
       "      <td>0</td>\n",
       "      <td>1</td>\n",
       "      <td>0</td>\n",
       "      <td>1</td>\n",
       "      <td>0</td>\n",
       "      <td>1</td>\n",
       "    </tr>\n",
       "    <tr>\n",
       "      <th>4</th>\n",
       "      <td>1.046337</td>\n",
       "      <td>-0.166631</td>\n",
       "      <td>-0.547271</td>\n",
       "      <td>0.510625</td>\n",
       "      <td>0.516132</td>\n",
       "      <td>-0.947000</td>\n",
       "      <td>-0.343872</td>\n",
       "      <td>1</td>\n",
       "      <td>0</td>\n",
       "      <td>0</td>\n",
       "      <td>0</td>\n",
       "      <td>1</td>\n",
       "      <td>1</td>\n",
       "      <td>0</td>\n",
       "    </tr>\n",
       "  </tbody>\n",
       "</table>\n",
       "</div>"
      ],
      "text/plain": [
       "          0         1         2         3         4         5         6  \\\n",
       "0  0.850455  0.155361  0.657177  0.075819  0.177823 -0.699782  1.184449   \n",
       "1 -0.912484 -0.739060  1.409957 -0.032882 -1.386854  0.721723 -1.490113   \n",
       "2 -0.781896 -1.204159  0.506621  0.028262 -1.513719  0.350895 -0.725953   \n",
       "3 -0.520720  1.121336 -0.396715  1.366649 -0.794814  0.103677  0.038208   \n",
       "4  1.046337 -0.166631 -0.547271  0.510625  0.516132 -0.947000 -0.343872   \n",
       "\n",
       "   ShelveLoc_Bad  ShelveLoc_Good  ShelveLoc_Medium  Urban_No  Urban_Yes  \\\n",
       "0              1               0                 0         0          1   \n",
       "1              0               1                 0         0          1   \n",
       "2              0               0                 1         0          1   \n",
       "3              0               0                 1         0          1   \n",
       "4              1               0                 0         0          1   \n",
       "\n",
       "   US_No  US_Yes  \n",
       "0      0       1  \n",
       "1      0       1  \n",
       "2      0       1  \n",
       "3      0       1  \n",
       "4      1       0  "
      ]
     },
     "execution_count": 22,
     "metadata": {},
     "output_type": "execute_result"
    }
   ],
   "source": [
    "X_s_c = pd.concat([X_s, X_cat], axis=1)\n",
    "X_ohe = pd.get_dummies(X_s_c)\n",
    "X_ohe.head()"
   ]
  },
  {
   "cell_type": "markdown",
   "metadata": {},
   "source": [
    "수치형 변수를 표준화하고 범주형 변수를 원핫인코딩 하였다."
   ]
  },
  {
   "cell_type": "markdown",
   "metadata": {},
   "source": [
    "LinearSVR, SVR(kernel='rbf'), GradientBoostingRegressor(max_depth = 3,\n",
    "learning_rate = 0.5) 세 가지 알고리즘을 활용하여 각각 판매량 예측 모형을 만들\n",
    "려고 한다.\n",
    "\n",
    "각 모형의 최적 모형을 하이퍼 파라미터 튜닝을 통해 찾아라.    \n",
    "위에 이미 주어진 값은\n",
    "활용하여야 하며, 주어지지 않은 값들을 하이퍼파라미터 튜닝을 통해 최적값을 찾아\n",
    "야 한다.     \n",
    "GradientBoostingRegressor는 최적 n_estimators 를 찾아야 한다."
   ]
  },
  {
   "cell_type": "code",
   "execution_count": 23,
   "metadata": {},
   "outputs": [],
   "source": [
    "from sklearn.svm import LinearSVR"
   ]
  },
  {
   "cell_type": "code",
   "execution_count": 24,
   "metadata": {},
   "outputs": [
    {
     "name": "stderr",
     "output_type": "stream",
     "text": [
      "/usr/local/lib/python3.6/dist-packages/sklearn/svm/_base.py:947: ConvergenceWarning: Liblinear failed to converge, increase the number of iterations.\n",
      "  \"the number of iterations.\", ConvergenceWarning)\n",
      "/usr/local/lib/python3.6/dist-packages/sklearn/svm/_base.py:947: ConvergenceWarning: Liblinear failed to converge, increase the number of iterations.\n",
      "  \"the number of iterations.\", ConvergenceWarning)\n",
      "/usr/local/lib/python3.6/dist-packages/sklearn/svm/_base.py:947: ConvergenceWarning: Liblinear failed to converge, increase the number of iterations.\n",
      "  \"the number of iterations.\", ConvergenceWarning)\n",
      "/usr/local/lib/python3.6/dist-packages/sklearn/svm/_base.py:947: ConvergenceWarning: Liblinear failed to converge, increase the number of iterations.\n",
      "  \"the number of iterations.\", ConvergenceWarning)\n",
      "/usr/local/lib/python3.6/dist-packages/sklearn/svm/_base.py:947: ConvergenceWarning: Liblinear failed to converge, increase the number of iterations.\n",
      "  \"the number of iterations.\", ConvergenceWarning)\n",
      "/usr/local/lib/python3.6/dist-packages/sklearn/svm/_base.py:947: ConvergenceWarning: Liblinear failed to converge, increase the number of iterations.\n",
      "  \"the number of iterations.\", ConvergenceWarning)\n",
      "/usr/local/lib/python3.6/dist-packages/sklearn/svm/_base.py:947: ConvergenceWarning: Liblinear failed to converge, increase the number of iterations.\n",
      "  \"the number of iterations.\", ConvergenceWarning)\n",
      "/usr/local/lib/python3.6/dist-packages/sklearn/svm/_base.py:947: ConvergenceWarning: Liblinear failed to converge, increase the number of iterations.\n",
      "  \"the number of iterations.\", ConvergenceWarning)\n",
      "/usr/local/lib/python3.6/dist-packages/sklearn/svm/_base.py:947: ConvergenceWarning: Liblinear failed to converge, increase the number of iterations.\n",
      "  \"the number of iterations.\", ConvergenceWarning)\n",
      "/usr/local/lib/python3.6/dist-packages/sklearn/svm/_base.py:947: ConvergenceWarning: Liblinear failed to converge, increase the number of iterations.\n",
      "  \"the number of iterations.\", ConvergenceWarning)\n",
      "/usr/local/lib/python3.6/dist-packages/sklearn/svm/_base.py:947: ConvergenceWarning: Liblinear failed to converge, increase the number of iterations.\n",
      "  \"the number of iterations.\", ConvergenceWarning)\n",
      "/usr/local/lib/python3.6/dist-packages/sklearn/svm/_base.py:947: ConvergenceWarning: Liblinear failed to converge, increase the number of iterations.\n",
      "  \"the number of iterations.\", ConvergenceWarning)\n",
      "/usr/local/lib/python3.6/dist-packages/sklearn/svm/_base.py:947: ConvergenceWarning: Liblinear failed to converge, increase the number of iterations.\n",
      "  \"the number of iterations.\", ConvergenceWarning)\n",
      "/usr/local/lib/python3.6/dist-packages/sklearn/svm/_base.py:947: ConvergenceWarning: Liblinear failed to converge, increase the number of iterations.\n",
      "  \"the number of iterations.\", ConvergenceWarning)\n",
      "/usr/local/lib/python3.6/dist-packages/sklearn/svm/_base.py:947: ConvergenceWarning: Liblinear failed to converge, increase the number of iterations.\n",
      "  \"the number of iterations.\", ConvergenceWarning)\n",
      "/usr/local/lib/python3.6/dist-packages/sklearn/svm/_base.py:947: ConvergenceWarning: Liblinear failed to converge, increase the number of iterations.\n",
      "  \"the number of iterations.\", ConvergenceWarning)\n",
      "/usr/local/lib/python3.6/dist-packages/sklearn/svm/_base.py:947: ConvergenceWarning: Liblinear failed to converge, increase the number of iterations.\n",
      "  \"the number of iterations.\", ConvergenceWarning)\n",
      "/usr/local/lib/python3.6/dist-packages/sklearn/svm/_base.py:947: ConvergenceWarning: Liblinear failed to converge, increase the number of iterations.\n",
      "  \"the number of iterations.\", ConvergenceWarning)\n",
      "/usr/local/lib/python3.6/dist-packages/sklearn/svm/_base.py:947: ConvergenceWarning: Liblinear failed to converge, increase the number of iterations.\n",
      "  \"the number of iterations.\", ConvergenceWarning)\n",
      "/usr/local/lib/python3.6/dist-packages/sklearn/svm/_base.py:947: ConvergenceWarning: Liblinear failed to converge, increase the number of iterations.\n",
      "  \"the number of iterations.\", ConvergenceWarning)\n",
      "/usr/local/lib/python3.6/dist-packages/sklearn/svm/_base.py:947: ConvergenceWarning: Liblinear failed to converge, increase the number of iterations.\n",
      "  \"the number of iterations.\", ConvergenceWarning)\n",
      "/usr/local/lib/python3.6/dist-packages/sklearn/svm/_base.py:947: ConvergenceWarning: Liblinear failed to converge, increase the number of iterations.\n",
      "  \"the number of iterations.\", ConvergenceWarning)\n",
      "/usr/local/lib/python3.6/dist-packages/sklearn/svm/_base.py:947: ConvergenceWarning: Liblinear failed to converge, increase the number of iterations.\n",
      "  \"the number of iterations.\", ConvergenceWarning)\n",
      "/usr/local/lib/python3.6/dist-packages/sklearn/svm/_base.py:947: ConvergenceWarning: Liblinear failed to converge, increase the number of iterations.\n",
      "  \"the number of iterations.\", ConvergenceWarning)\n",
      "/usr/local/lib/python3.6/dist-packages/sklearn/svm/_base.py:947: ConvergenceWarning: Liblinear failed to converge, increase the number of iterations.\n",
      "  \"the number of iterations.\", ConvergenceWarning)\n",
      "/usr/local/lib/python3.6/dist-packages/sklearn/svm/_base.py:947: ConvergenceWarning: Liblinear failed to converge, increase the number of iterations.\n",
      "  \"the number of iterations.\", ConvergenceWarning)\n",
      "/usr/local/lib/python3.6/dist-packages/sklearn/svm/_base.py:947: ConvergenceWarning: Liblinear failed to converge, increase the number of iterations.\n",
      "  \"the number of iterations.\", ConvergenceWarning)\n",
      "/usr/local/lib/python3.6/dist-packages/sklearn/svm/_base.py:947: ConvergenceWarning: Liblinear failed to converge, increase the number of iterations.\n",
      "  \"the number of iterations.\", ConvergenceWarning)\n",
      "/usr/local/lib/python3.6/dist-packages/sklearn/svm/_base.py:947: ConvergenceWarning: Liblinear failed to converge, increase the number of iterations.\n",
      "  \"the number of iterations.\", ConvergenceWarning)\n",
      "/usr/local/lib/python3.6/dist-packages/sklearn/svm/_base.py:947: ConvergenceWarning: Liblinear failed to converge, increase the number of iterations.\n",
      "  \"the number of iterations.\", ConvergenceWarning)\n",
      "/usr/local/lib/python3.6/dist-packages/sklearn/svm/_base.py:947: ConvergenceWarning: Liblinear failed to converge, increase the number of iterations.\n",
      "  \"the number of iterations.\", ConvergenceWarning)\n",
      "/usr/local/lib/python3.6/dist-packages/sklearn/svm/_base.py:947: ConvergenceWarning: Liblinear failed to converge, increase the number of iterations.\n",
      "  \"the number of iterations.\", ConvergenceWarning)\n",
      "/usr/local/lib/python3.6/dist-packages/sklearn/svm/_base.py:947: ConvergenceWarning: Liblinear failed to converge, increase the number of iterations.\n",
      "  \"the number of iterations.\", ConvergenceWarning)\n",
      "/usr/local/lib/python3.6/dist-packages/sklearn/svm/_base.py:947: ConvergenceWarning: Liblinear failed to converge, increase the number of iterations.\n",
      "  \"the number of iterations.\", ConvergenceWarning)\n",
      "/usr/local/lib/python3.6/dist-packages/sklearn/svm/_base.py:947: ConvergenceWarning: Liblinear failed to converge, increase the number of iterations.\n",
      "  \"the number of iterations.\", ConvergenceWarning)\n",
      "/usr/local/lib/python3.6/dist-packages/sklearn/svm/_base.py:947: ConvergenceWarning: Liblinear failed to converge, increase the number of iterations.\n",
      "  \"the number of iterations.\", ConvergenceWarning)\n",
      "/usr/local/lib/python3.6/dist-packages/sklearn/svm/_base.py:947: ConvergenceWarning: Liblinear failed to converge, increase the number of iterations.\n",
      "  \"the number of iterations.\", ConvergenceWarning)\n",
      "/usr/local/lib/python3.6/dist-packages/sklearn/svm/_base.py:947: ConvergenceWarning: Liblinear failed to converge, increase the number of iterations.\n",
      "  \"the number of iterations.\", ConvergenceWarning)\n",
      "/usr/local/lib/python3.6/dist-packages/sklearn/svm/_base.py:947: ConvergenceWarning: Liblinear failed to converge, increase the number of iterations.\n",
      "  \"the number of iterations.\", ConvergenceWarning)\n",
      "/usr/local/lib/python3.6/dist-packages/sklearn/svm/_base.py:947: ConvergenceWarning: Liblinear failed to converge, increase the number of iterations.\n",
      "  \"the number of iterations.\", ConvergenceWarning)\n",
      "/usr/local/lib/python3.6/dist-packages/sklearn/svm/_base.py:947: ConvergenceWarning: Liblinear failed to converge, increase the number of iterations.\n",
      "  \"the number of iterations.\", ConvergenceWarning)\n",
      "/usr/local/lib/python3.6/dist-packages/sklearn/svm/_base.py:947: ConvergenceWarning: Liblinear failed to converge, increase the number of iterations.\n",
      "  \"the number of iterations.\", ConvergenceWarning)\n",
      "/usr/local/lib/python3.6/dist-packages/sklearn/svm/_base.py:947: ConvergenceWarning: Liblinear failed to converge, increase the number of iterations.\n",
      "  \"the number of iterations.\", ConvergenceWarning)\n",
      "/usr/local/lib/python3.6/dist-packages/sklearn/svm/_base.py:947: ConvergenceWarning: Liblinear failed to converge, increase the number of iterations.\n",
      "  \"the number of iterations.\", ConvergenceWarning)\n"
     ]
    },
    {
     "data": {
      "text/plain": [
       "GridSearchCV(cv=5, error_score=nan,\n",
       "             estimator=LinearSVR(C=1.0, dual=True, epsilon=0.0,\n",
       "                                 fit_intercept=True, intercept_scaling=1.0,\n",
       "                                 loss='epsilon_insensitive', max_iter=1000,\n",
       "                                 random_state=None, tol=0.0001, verbose=0),\n",
       "             iid='deprecated', n_jobs=None,\n",
       "             param_grid=[{'C': [1, 2, 3, 4, 5],\n",
       "                          'epsilon': [0, 0.25, 0.5, 0.75, 1],\n",
       "                          'tol': [0.1, 0.5, 1, 1.5, 2]}],\n",
       "             pre_dispatch='2*n_jobs', refit=True, return_train_score=True,\n",
       "             scoring='neg_mean_squared_error', verbose=0)"
      ]
     },
     "execution_count": 24,
     "metadata": {},
     "output_type": "execute_result"
    }
   ],
   "source": [
    "from sklearn.model_selection import GridSearchCV\n",
    "\n",
    "# param_grid 에 alpha, l1_ratio 값의 후보들을 입력해 줌\n",
    "param_grid = [\n",
    "    {'tol': [0.1, 0.5, 1, 1.5, 2], 'epsilon': [0, 0.25, 0.5, 0.75, 1], \"C\": [1, 2, 3, 4, 5]}\n",
    "]\n",
    "\n",
    "svm_reg = LinearSVR()\n",
    "\n",
    "# param_grid 조합 마다 5겹 교차 검증을 수행하여 가장 성과가 좋은 조합을 찾음\n",
    "# 여기서는 성과를 neg_mean_squared_error로 지정하였음\n",
    "\n",
    "grid_search = GridSearchCV(\n",
    "    svm_reg, \n",
    "    param_grid, \n",
    "    cv=5, \n",
    "    scoring='neg_mean_squared_error',\n",
    "    return_train_score=True)\n",
    "\n",
    "grid_search.fit(X_train,y_train)"
   ]
  },
  {
   "cell_type": "code",
   "execution_count": 25,
   "metadata": {},
   "outputs": [
    {
     "data": {
      "text/plain": [
       "{'C': 3, 'epsilon': 0.25, 'tol': 0.1}"
      ]
     },
     "execution_count": 25,
     "metadata": {},
     "output_type": "execute_result"
    }
   ],
   "source": [
    "grid_search.best_params_"
   ]
  },
  {
   "cell_type": "code",
   "execution_count": 26,
   "metadata": {},
   "outputs": [
    {
     "name": "stdout",
     "output_type": "stream",
     "text": [
      "-1.1223657464071322\n"
     ]
    }
   ],
   "source": [
    "from sklearn.svm import LinearSVR\n",
    "\n",
    "svm_reg = LinearSVR(epsilon = 0.25, tol=0.1, C=3, max_iter=100000)\n",
    "svm_reg.fit(X_train, y_train)\n",
    "\n",
    "y_pred = svm_reg.predict(X_test)\n",
    "\n",
    "scores = cross_val_score(svm_reg, X_ohe, y, scoring=\"neg_mean_squared_error\", cv=5)\n",
    "print(scores.mean())"
   ]
  },
  {
   "cell_type": "code",
   "execution_count": 27,
   "metadata": {},
   "outputs": [
    {
     "data": {
      "text/plain": [
       "GridSearchCV(cv=5, error_score=nan,\n",
       "             estimator=SVR(C=1.0, cache_size=200, coef0=0.0, degree=3,\n",
       "                           epsilon=0.1, gamma='scale', kernel='rbf',\n",
       "                           max_iter=-1, shrinking=True, tol=0.001,\n",
       "                           verbose=False),\n",
       "             iid='deprecated', n_jobs=None,\n",
       "             param_grid=[{'C': [1, 2, 3, 4, 5],\n",
       "                          'epsilon': [0, 0.25, 0.5, 0.75, 1],\n",
       "                          'tol': [0.1, 0.5, 1, 1.5, 2]}],\n",
       "             pre_dispatch='2*n_jobs', refit=True, return_train_score=True,\n",
       "             scoring='neg_mean_squared_error', verbose=0)"
      ]
     },
     "execution_count": 27,
     "metadata": {},
     "output_type": "execute_result"
    }
   ],
   "source": [
    "from sklearn.svm import SVR\n",
    "\n",
    "# param_grid 에 alpha, l1_ratio 값의 후보들을 입력해 줌\n",
    "param_grid = [\n",
    "    {'tol': [0.1, 0.5, 1, 1.5, 2], 'epsilon': [0, 0.25, 0.5, 0.75, 1], \"C\": [1, 2, 3, 4, 5]}\n",
    "]\n",
    "\n",
    "svm_reg = SVR(kernel=\"rbf\")\n",
    "\n",
    "# param_grid 조합 마다 5겹 교차 검증을 수행하여 가장 성과가 좋은 조합을 찾음\n",
    "# 여기서는 성과를 neg_mean_squared_error로 지정하였음\n",
    "\n",
    "grid_search = GridSearchCV(\n",
    "    svm_reg, \n",
    "    param_grid, \n",
    "    cv=5, \n",
    "    scoring='neg_mean_squared_error',\n",
    "    return_train_score=True)\n",
    "\n",
    "grid_search.fit(X_train,y_train)"
   ]
  },
  {
   "cell_type": "code",
   "execution_count": 28,
   "metadata": {},
   "outputs": [
    {
     "data": {
      "text/plain": [
       "{'C': 1, 'epsilon': 0, 'tol': 0.5}"
      ]
     },
     "execution_count": 28,
     "metadata": {},
     "output_type": "execute_result"
    }
   ],
   "source": [
    "grid_search.best_params_"
   ]
  },
  {
   "cell_type": "code",
   "execution_count": 29,
   "metadata": {},
   "outputs": [
    {
     "name": "stdout",
     "output_type": "stream",
     "text": [
      "-2.179504707977697\n"
     ]
    }
   ],
   "source": [
    "svm_reg = SVR(epsilon = 0, tol=0.5, C=1, max_iter=100000)\n",
    "svm_reg.fit(X_train, y_train)\n",
    "\n",
    "y_pred = svm_reg.predict(X_test)\n",
    "\n",
    "scores = cross_val_score(svm_reg, X_ohe, y, scoring=\"neg_mean_squared_error\", cv=5)\n",
    "print(scores.mean())"
   ]
  },
  {
   "cell_type": "code",
   "execution_count": 30,
   "metadata": {},
   "outputs": [
    {
     "name": "stdout",
     "output_type": "stream",
     "text": [
      "42\n"
     ]
    }
   ],
   "source": [
    "from sklearn.ensemble import GradientBoostingRegressor\n",
    "from sklearn.model_selection import train_test_split\n",
    "from sklearn.metrics import mean_squared_error\n",
    "\n",
    "gbrt = GradientBoostingRegressor(max_depth = 2, n_estimators = 300, learning_rate = 1.0)\n",
    "\n",
    "X_train, X_test, y_train, y_test = train_test_split(X_ohe, y)\n",
    "X_train, X_val, y_train, y_val = train_test_split(X_train, y_train)\n",
    "\n",
    "gbrt.fit(X_train, y_train)\n",
    "\n",
    "errors = [math.sqrt(mean_squared_error(y_val, y_pred)) for y_pred in gbrt.staged_predict(X_val)]\n",
    "\n",
    "bst_n_estimators = np.argmin(errors) + 1 \n",
    "\n",
    "print(bst_n_estimators)"
   ]
  },
  {
   "cell_type": "code",
   "execution_count": 31,
   "metadata": {},
   "outputs": [
    {
     "name": "stdout",
     "output_type": "stream",
     "text": [
      "-3.0765750768869182\n"
     ]
    }
   ],
   "source": [
    "gbrt = GradientBoostingRegressor(max_depth = 2, n_estimators = bst_n_estimators, learning_rate = 1.0)\n",
    "gbrt.fit(X_train, y_train)\n",
    "\n",
    "scores = cross_val_score(gbrt, X_ohe, y, scoring=\"neg_mean_squared_error\", cv=5)\n",
    "print(scores.mean())"
   ]
  },
  {
   "cell_type": "markdown",
   "metadata": {},
   "source": [
    "하이퍼파라미터 튜닝을 통해 찾아진 최적의 파라미터를 활용하여 세 모형의 예측 성\n",
    "과를 산출하고 각 모형의 성과를 비교하라.        \n",
    "성과는 5겹 교차 검증을 통해 산출하고\n",
    "성과지표는 RMSE를 사용한다"
   ]
  },
  {
   "cell_type": "markdown",
   "metadata": {},
   "source": [
    "- -1.1223657464071322\n",
    "- -2.179504707977697\n",
    "- -3.0765750768869182\n",
    "\n",
    " LinearSVR의 성과가 가장 뛰어나다"
   ]
  },
  {
   "cell_type": "markdown",
   "metadata": {},
   "source": [
    "# 3번문제\n",
    "\n",
    "breast-cancer.csv 는 양성과 악성 종양 여부를 알려주는 class 컬럼과 다른 속성 컬럼들을\n",
    "포함하고 있다. 각 컬럼은 다음과 같다."
   ]
  },
  {
   "cell_type": "code",
   "execution_count": 32,
   "metadata": {},
   "outputs": [],
   "source": [
    "df = pd.read_csv(\"breast-cancer.csv\")"
   ]
  },
  {
   "cell_type": "markdown",
   "metadata": {},
   "source": [
    "직접 투표 모형 생성에 활용되는 분류 모형은 GaussianNB, SVC, LinearSVC,\n",
    "DecisionTreeClassifier, LogisticRegression를 각각 Bagging 하여 만들자.      \n",
    "각 모형의\n",
    "인수는 모두 default 값을 활용하여 200개의 모형을 만들자.         \n",
    "사용되는 최대 변수의\n",
    "수는 4로 지정하고, 최대 데이터의 수는 100으로 설정하자.      \n",
    "한 데이터가 하나의 부분\n",
    "데이터 중복하여 들어가는 것은 허락하지 않는다."
   ]
  },
  {
   "cell_type": "markdown",
   "metadata": {},
   "source": [
    "sklearn.ensemble.BaggingClassifier(base_estimator=None, n_estimators=10, *, max_samples=1.0, max_features=1.0, bootstrap=True, bootstrap_features=False, oob_score=False, warm_start=False, n_jobs=None, random_state=None, verbose=0)"
   ]
  },
  {
   "cell_type": "code",
   "execution_count": 33,
   "metadata": {},
   "outputs": [],
   "source": [
    "import pandas as pd\n",
    "import numpy as np\n",
    "from sklearn.ensemble import BaggingClassifier \n",
    "from sklearn.tree import DecisionTreeClassifier"
   ]
  },
  {
   "cell_type": "code",
   "execution_count": 34,
   "metadata": {},
   "outputs": [],
   "source": [
    "x = df.drop([\"code\", \"class\"], axis=1)\n",
    "y = df[\"class\"]"
   ]
  },
  {
   "cell_type": "code",
   "execution_count": 35,
   "metadata": {},
   "outputs": [
    {
     "data": {
      "text/html": [
       "<div>\n",
       "<style scoped>\n",
       "    .dataframe tbody tr th:only-of-type {\n",
       "        vertical-align: middle;\n",
       "    }\n",
       "\n",
       "    .dataframe tbody tr th {\n",
       "        vertical-align: top;\n",
       "    }\n",
       "\n",
       "    .dataframe thead th {\n",
       "        text-align: right;\n",
       "    }\n",
       "</style>\n",
       "<table border=\"1\" class=\"dataframe\">\n",
       "  <thead>\n",
       "    <tr style=\"text-align: right;\">\n",
       "      <th></th>\n",
       "      <th>clump</th>\n",
       "      <th>cell_size</th>\n",
       "      <th>cell_shape</th>\n",
       "      <th>adhesion</th>\n",
       "      <th>single</th>\n",
       "      <th>nuclei</th>\n",
       "      <th>chromatin</th>\n",
       "      <th>nucleoli</th>\n",
       "      <th>mitoses</th>\n",
       "    </tr>\n",
       "  </thead>\n",
       "  <tbody>\n",
       "    <tr>\n",
       "      <th>0</th>\n",
       "      <td>5</td>\n",
       "      <td>1</td>\n",
       "      <td>1</td>\n",
       "      <td>1</td>\n",
       "      <td>2</td>\n",
       "      <td>1</td>\n",
       "      <td>3</td>\n",
       "      <td>1</td>\n",
       "      <td>1</td>\n",
       "    </tr>\n",
       "    <tr>\n",
       "      <th>1</th>\n",
       "      <td>5</td>\n",
       "      <td>4</td>\n",
       "      <td>4</td>\n",
       "      <td>5</td>\n",
       "      <td>7</td>\n",
       "      <td>10</td>\n",
       "      <td>3</td>\n",
       "      <td>2</td>\n",
       "      <td>1</td>\n",
       "    </tr>\n",
       "    <tr>\n",
       "      <th>2</th>\n",
       "      <td>3</td>\n",
       "      <td>1</td>\n",
       "      <td>1</td>\n",
       "      <td>1</td>\n",
       "      <td>2</td>\n",
       "      <td>2</td>\n",
       "      <td>3</td>\n",
       "      <td>1</td>\n",
       "      <td>1</td>\n",
       "    </tr>\n",
       "    <tr>\n",
       "      <th>3</th>\n",
       "      <td>6</td>\n",
       "      <td>8</td>\n",
       "      <td>8</td>\n",
       "      <td>1</td>\n",
       "      <td>3</td>\n",
       "      <td>4</td>\n",
       "      <td>3</td>\n",
       "      <td>7</td>\n",
       "      <td>1</td>\n",
       "    </tr>\n",
       "    <tr>\n",
       "      <th>4</th>\n",
       "      <td>4</td>\n",
       "      <td>1</td>\n",
       "      <td>1</td>\n",
       "      <td>3</td>\n",
       "      <td>2</td>\n",
       "      <td>1</td>\n",
       "      <td>3</td>\n",
       "      <td>1</td>\n",
       "      <td>1</td>\n",
       "    </tr>\n",
       "  </tbody>\n",
       "</table>\n",
       "</div>"
      ],
      "text/plain": [
       "   clump  cell_size  cell_shape  adhesion  single  nuclei  chromatin  \\\n",
       "0      5          1           1         1       2       1          3   \n",
       "1      5          4           4         5       7      10          3   \n",
       "2      3          1           1         1       2       2          3   \n",
       "3      6          8           8         1       3       4          3   \n",
       "4      4          1           1         3       2       1          3   \n",
       "\n",
       "   nucleoli  mitoses  \n",
       "0         1        1  \n",
       "1         2        1  \n",
       "2         1        1  \n",
       "3         7        1  \n",
       "4         1        1  "
      ]
     },
     "execution_count": 35,
     "metadata": {},
     "output_type": "execute_result"
    }
   ],
   "source": [
    "x.head()"
   ]
  },
  {
   "cell_type": "code",
   "execution_count": 36,
   "metadata": {},
   "outputs": [],
   "source": [
    "X_train, X_test, y_train, y_test = train_test_split(x, y, test_size=0.2)"
   ]
  },
  {
   "cell_type": "code",
   "execution_count": 37,
   "metadata": {},
   "outputs": [],
   "source": [
    "from sklearn.naive_bayes import GaussianNB\n",
    "\n",
    "bag_clf1 = BaggingClassifier(\n",
    "    GaussianNB() , \n",
    "    n_estimators = 200, \n",
    "    max_samples = 100, \n",
    "    max_features= 4,\n",
    "    bootstrap = False, \n",
    "    n_jobs = -1\n",
    ")"
   ]
  },
  {
   "cell_type": "code",
   "execution_count": 38,
   "metadata": {},
   "outputs": [
    {
     "data": {
      "text/plain": [
       "0.9785714285714285"
      ]
     },
     "execution_count": 38,
     "metadata": {},
     "output_type": "execute_result"
    }
   ],
   "source": [
    "bag_clf1.fit(X_train, y_train) \n",
    "y_pred = bag_clf1.predict(X_test)\n",
    "\n",
    "from sklearn.metrics import accuracy_score \n",
    "accuracy_score(y_test, y_pred)"
   ]
  },
  {
   "cell_type": "code",
   "execution_count": 39,
   "metadata": {},
   "outputs": [],
   "source": [
    "from sklearn.svm import SVC\n",
    "\n",
    "bag_clf2 = BaggingClassifier(\n",
    "    SVC() , \n",
    "    n_estimators = 200, \n",
    "    max_samples = 100, \n",
    "    max_features= 4,\n",
    "    bootstrap = False, \n",
    "    n_jobs = -1\n",
    ")"
   ]
  },
  {
   "cell_type": "code",
   "execution_count": 40,
   "metadata": {},
   "outputs": [
    {
     "data": {
      "text/plain": [
       "0.9714285714285714"
      ]
     },
     "execution_count": 40,
     "metadata": {},
     "output_type": "execute_result"
    }
   ],
   "source": [
    "bag_clf2.fit(X_train, y_train) \n",
    "y_pred = bag_clf2.predict(X_test)\n",
    "\n",
    "from sklearn.metrics import accuracy_score \n",
    "accuracy_score(y_test, y_pred)"
   ]
  },
  {
   "cell_type": "code",
   "execution_count": 41,
   "metadata": {},
   "outputs": [],
   "source": [
    "from sklearn.svm import LinearSVC\n",
    "\n",
    "bag_clf3 = BaggingClassifier(\n",
    "    LinearSVC() , \n",
    "    n_estimators = 200, \n",
    "    max_samples = 100, \n",
    "    max_features= 4,\n",
    "    bootstrap = False, \n",
    "    n_jobs = -1\n",
    ")"
   ]
  },
  {
   "cell_type": "code",
   "execution_count": 42,
   "metadata": {},
   "outputs": [
    {
     "data": {
      "text/plain": [
       "0.9785714285714285"
      ]
     },
     "execution_count": 42,
     "metadata": {},
     "output_type": "execute_result"
    }
   ],
   "source": [
    "bag_clf3.fit(X_train, y_train) \n",
    "y_pred = bag_clf3.predict(X_test)\n",
    "\n",
    "from sklearn.metrics import accuracy_score \n",
    "accuracy_score(y_test, y_pred)"
   ]
  },
  {
   "cell_type": "code",
   "execution_count": 43,
   "metadata": {},
   "outputs": [],
   "source": [
    "bag_clf4 = BaggingClassifier(\n",
    "    DecisionTreeClassifier() , \n",
    "    n_estimators = 200, \n",
    "    max_samples = 100, \n",
    "    max_features= 4,\n",
    "    bootstrap = False, \n",
    "    n_jobs = -1\n",
    ")"
   ]
  },
  {
   "cell_type": "code",
   "execution_count": 44,
   "metadata": {},
   "outputs": [
    {
     "data": {
      "text/plain": [
       "0.9714285714285714"
      ]
     },
     "execution_count": 44,
     "metadata": {},
     "output_type": "execute_result"
    }
   ],
   "source": [
    "bag_clf4.fit(X_train, y_train) \n",
    "y_pred = bag_clf4.predict(X_test)\n",
    "\n",
    "from sklearn.metrics import accuracy_score \n",
    "accuracy_score(y_test, y_pred)"
   ]
  },
  {
   "cell_type": "code",
   "execution_count": 45,
   "metadata": {},
   "outputs": [],
   "source": [
    "from sklearn.linear_model import LogisticRegression\n",
    "\n",
    "bag_clf5 = BaggingClassifier(\n",
    "    LogisticRegression() , \n",
    "    n_estimators = 200, \n",
    "    max_samples = 100, \n",
    "    max_features= 4,\n",
    "    bootstrap = False, \n",
    "    n_jobs = -1\n",
    ")"
   ]
  },
  {
   "cell_type": "code",
   "execution_count": 46,
   "metadata": {},
   "outputs": [
    {
     "data": {
      "text/plain": [
       "0.9857142857142858"
      ]
     },
     "execution_count": 46,
     "metadata": {},
     "output_type": "execute_result"
    }
   ],
   "source": [
    "bag_clf5.fit(X_train, y_train) \n",
    "y_pred = bag_clf5.predict(X_test)\n",
    "\n",
    "from sklearn.metrics import accuracy_score \n",
    "accuracy_score(y_test, y_pred)"
   ]
  },
  {
   "cell_type": "markdown",
   "metadata": {},
   "source": [
    "(1)에서 만들어진 다섯 개의 BaggingClassifier를 활용하여 간접 투표 방식으로 결과\n",
    "를 분류하는 VotingClassifier 를 만들고 성과를 측정하라.    \n",
    "성과는 5겹 교차 검증을\n",
    "활용하며, AUC 지표를 활용하여 측정한다."
   ]
  },
  {
   "cell_type": "code",
   "execution_count": 47,
   "metadata": {},
   "outputs": [
    {
     "data": {
      "text/plain": [
       "VotingClassifier(estimators=[('bag_clf1',\n",
       "                              BaggingClassifier(base_estimator=GaussianNB(priors=None,\n",
       "                                                                          var_smoothing=1e-09),\n",
       "                                                bootstrap=False,\n",
       "                                                bootstrap_features=False,\n",
       "                                                max_features=4, max_samples=100,\n",
       "                                                n_estimators=200, n_jobs=-1,\n",
       "                                                oob_score=False,\n",
       "                                                random_state=None, verbose=0,\n",
       "                                                warm_start=False)),\n",
       "                             ('bag_clf2',\n",
       "                              BaggingClassifier(base_estimator=SVC(C=1.0,\n",
       "                                                                   break_ties=Fals...\n",
       "                                                                                  max_iter=100,\n",
       "                                                                                  multi_class='auto',\n",
       "                                                                                  n_jobs=None,\n",
       "                                                                                  penalty='l2',\n",
       "                                                                                  random_state=None,\n",
       "                                                                                  solver='lbfgs',\n",
       "                                                                                  tol=0.0001,\n",
       "                                                                                  verbose=0,\n",
       "                                                                                  warm_start=False),\n",
       "                                                bootstrap=False,\n",
       "                                                bootstrap_features=False,\n",
       "                                                max_features=4, max_samples=100,\n",
       "                                                n_estimators=200, n_jobs=-1,\n",
       "                                                oob_score=False,\n",
       "                                                random_state=None, verbose=0,\n",
       "                                                warm_start=False))],\n",
       "                 flatten_transform=True, n_jobs=None, voting='soft',\n",
       "                 weights=None)"
      ]
     },
     "execution_count": 47,
     "metadata": {},
     "output_type": "execute_result"
    }
   ],
   "source": [
    "from sklearn.ensemble import VotingClassifier\n",
    "\n",
    "soft_clf = VotingClassifier(\n",
    "    estimators = [(\"bag_clf1\", bag_clf1), (\"bag_clf2\", bag_clf2), (\"bag_clf3\", bag_clf3), (\"bag_clf4\", bag_clf4), (\"bag_clf5\", bag_clf5)], voting='soft')\n",
    "\n",
    "soft_clf.fit(X_train, y_train)"
   ]
  },
  {
   "cell_type": "code",
   "execution_count": 48,
   "metadata": {},
   "outputs": [
    {
     "name": "stdout",
     "output_type": "stream",
     "text": [
      "AUC : 0.992\n"
     ]
    }
   ],
   "source": [
    "scores = cross_val_score(soft_clf, x, y, scoring=\"roc_auc\", cv=5)\n",
    "print(\"AUC : {:.3f}\".format(scores.mean()))"
   ]
  },
  {
   "cell_type": "markdown",
   "metadata": {},
   "source": [
    "4. 이 수업에서 개선되어야 하는 사항은 무엇인가? (작성 시 10점, 미작성 시 0점)\n",
    "\n",
    "- 여러 수식들을 증명을 통해 이해하는 것"
   ]
  }
 ],
 "metadata": {
  "kernelspec": {
   "display_name": "test",
   "language": "python",
   "name": "test"
  },
  "language_info": {
   "codemirror_mode": {
    "name": "ipython",
    "version": 3
   },
   "file_extension": ".py",
   "mimetype": "text/x-python",
   "name": "python",
   "nbconvert_exporter": "python",
   "pygments_lexer": "ipython3",
   "version": "3.6.9"
  }
 },
 "nbformat": 4,
 "nbformat_minor": 4
}
