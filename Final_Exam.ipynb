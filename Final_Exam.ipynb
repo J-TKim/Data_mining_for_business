{
 "cells": [
  {
   "cell_type": "markdown",
   "metadata": {},
   "source": [
    "## 1."
   ]
  },
  {
   "cell_type": "markdown",
   "metadata": {},
   "source": [
    "(1) Class를 목표변수로 하고, 나머지 모든 변수를 입력변수로 활용한다. entropy를 불순\n",
    "도 지표로 사용하여 의사결정나무를 생성하고 5겹 교차 검증을 통해 성과를 측정하\n",
    "려고 한다. 성과지표는 f1을 활용하며, max_depth 값을 2부터 15까지 변화시켜가며\n",
    "측정하고 결과를 시각화하라."
   ]
  },
  {
   "cell_type": "code",
   "execution_count": 1,
   "metadata": {},
   "outputs": [
    {
     "data": {
      "text/html": [
       "<div>\n",
       "<style scoped>\n",
       "    .dataframe tbody tr th:only-of-type {\n",
       "        vertical-align: middle;\n",
       "    }\n",
       "\n",
       "    .dataframe tbody tr th {\n",
       "        vertical-align: top;\n",
       "    }\n",
       "\n",
       "    .dataframe thead th {\n",
       "        text-align: right;\n",
       "    }\n",
       "</style>\n",
       "<table border=\"1\" class=\"dataframe\">\n",
       "  <thead>\n",
       "    <tr style=\"text-align: right;\">\n",
       "      <th></th>\n",
       "      <th>Time</th>\n",
       "      <th>V1</th>\n",
       "      <th>V2</th>\n",
       "      <th>V3</th>\n",
       "      <th>V4</th>\n",
       "      <th>V5</th>\n",
       "      <th>V6</th>\n",
       "      <th>V7</th>\n",
       "      <th>V8</th>\n",
       "      <th>V9</th>\n",
       "      <th>...</th>\n",
       "      <th>V21</th>\n",
       "      <th>V22</th>\n",
       "      <th>V23</th>\n",
       "      <th>V24</th>\n",
       "      <th>V25</th>\n",
       "      <th>V26</th>\n",
       "      <th>V27</th>\n",
       "      <th>V28</th>\n",
       "      <th>Amount</th>\n",
       "      <th>Class</th>\n",
       "    </tr>\n",
       "  </thead>\n",
       "  <tbody>\n",
       "    <tr>\n",
       "      <th>0</th>\n",
       "      <td>124265.0</td>\n",
       "      <td>1.522319</td>\n",
       "      <td>-2.620740</td>\n",
       "      <td>0.162082</td>\n",
       "      <td>-0.413442</td>\n",
       "      <td>-2.017811</td>\n",
       "      <td>1.461869</td>\n",
       "      <td>-1.975232</td>\n",
       "      <td>0.593168</td>\n",
       "      <td>1.590390</td>\n",
       "      <td>...</td>\n",
       "      <td>0.448753</td>\n",
       "      <td>1.026305</td>\n",
       "      <td>-0.144135</td>\n",
       "      <td>0.248102</td>\n",
       "      <td>-0.329750</td>\n",
       "      <td>-0.023030</td>\n",
       "      <td>0.024540</td>\n",
       "      <td>0.003180</td>\n",
       "      <td>284.00</td>\n",
       "      <td>0</td>\n",
       "    </tr>\n",
       "    <tr>\n",
       "      <th>1</th>\n",
       "      <td>59241.0</td>\n",
       "      <td>-0.224159</td>\n",
       "      <td>1.180560</td>\n",
       "      <td>1.620263</td>\n",
       "      <td>2.597663</td>\n",
       "      <td>0.268749</td>\n",
       "      <td>0.371741</td>\n",
       "      <td>0.747209</td>\n",
       "      <td>-0.039479</td>\n",
       "      <td>-1.383652</td>\n",
       "      <td>...</td>\n",
       "      <td>0.116251</td>\n",
       "      <td>0.546184</td>\n",
       "      <td>-0.157833</td>\n",
       "      <td>-0.014209</td>\n",
       "      <td>-0.354865</td>\n",
       "      <td>0.228212</td>\n",
       "      <td>0.222947</td>\n",
       "      <td>-0.014396</td>\n",
       "      <td>37.33</td>\n",
       "      <td>0</td>\n",
       "    </tr>\n",
       "    <tr>\n",
       "      <th>2</th>\n",
       "      <td>46775.0</td>\n",
       "      <td>1.249077</td>\n",
       "      <td>-1.180277</td>\n",
       "      <td>-0.383561</td>\n",
       "      <td>-0.921614</td>\n",
       "      <td>-0.350447</td>\n",
       "      <td>0.928311</td>\n",
       "      <td>-0.825273</td>\n",
       "      <td>0.352892</td>\n",
       "      <td>-0.198168</td>\n",
       "      <td>...</td>\n",
       "      <td>-0.030222</td>\n",
       "      <td>-0.324440</td>\n",
       "      <td>-0.279178</td>\n",
       "      <td>-1.751429</td>\n",
       "      <td>0.561524</td>\n",
       "      <td>-0.125653</td>\n",
       "      <td>-0.010366</td>\n",
       "      <td>-0.007555</td>\n",
       "      <td>102.00</td>\n",
       "      <td>0</td>\n",
       "    </tr>\n",
       "    <tr>\n",
       "      <th>3</th>\n",
       "      <td>166573.0</td>\n",
       "      <td>2.153038</td>\n",
       "      <td>0.046845</td>\n",
       "      <td>-2.212044</td>\n",
       "      <td>0.244870</td>\n",
       "      <td>0.730598</td>\n",
       "      <td>-1.017290</td>\n",
       "      <td>0.611115</td>\n",
       "      <td>-0.412808</td>\n",
       "      <td>0.258610</td>\n",
       "      <td>...</td>\n",
       "      <td>0.065511</td>\n",
       "      <td>0.338889</td>\n",
       "      <td>-0.025033</td>\n",
       "      <td>0.540896</td>\n",
       "      <td>0.418683</td>\n",
       "      <td>0.698257</td>\n",
       "      <td>-0.121885</td>\n",
       "      <td>-0.082522</td>\n",
       "      <td>0.76</td>\n",
       "      <td>0</td>\n",
       "    </tr>\n",
       "    <tr>\n",
       "      <th>4</th>\n",
       "      <td>49187.0</td>\n",
       "      <td>0.723978</td>\n",
       "      <td>-1.256455</td>\n",
       "      <td>0.381422</td>\n",
       "      <td>0.074468</td>\n",
       "      <td>-0.777243</td>\n",
       "      <td>0.722340</td>\n",
       "      <td>-0.370069</td>\n",
       "      <td>0.165191</td>\n",
       "      <td>0.886716</td>\n",
       "      <td>...</td>\n",
       "      <td>-0.085468</td>\n",
       "      <td>-0.601468</td>\n",
       "      <td>-0.325365</td>\n",
       "      <td>-0.717631</td>\n",
       "      <td>0.185812</td>\n",
       "      <td>0.965630</td>\n",
       "      <td>-0.086032</td>\n",
       "      <td>0.041443</td>\n",
       "      <td>281.48</td>\n",
       "      <td>0</td>\n",
       "    </tr>\n",
       "  </tbody>\n",
       "</table>\n",
       "<p>5 rows × 31 columns</p>\n",
       "</div>"
      ],
      "text/plain": [
       "       Time        V1        V2        V3        V4        V5        V6  \\\n",
       "0  124265.0  1.522319 -2.620740  0.162082 -0.413442 -2.017811  1.461869   \n",
       "1   59241.0 -0.224159  1.180560  1.620263  2.597663  0.268749  0.371741   \n",
       "2   46775.0  1.249077 -1.180277 -0.383561 -0.921614 -0.350447  0.928311   \n",
       "3  166573.0  2.153038  0.046845 -2.212044  0.244870  0.730598 -1.017290   \n",
       "4   49187.0  0.723978 -1.256455  0.381422  0.074468 -0.777243  0.722340   \n",
       "\n",
       "         V7        V8        V9  ...       V21       V22       V23       V24  \\\n",
       "0 -1.975232  0.593168  1.590390  ...  0.448753  1.026305 -0.144135  0.248102   \n",
       "1  0.747209 -0.039479 -1.383652  ...  0.116251  0.546184 -0.157833 -0.014209   \n",
       "2 -0.825273  0.352892 -0.198168  ... -0.030222 -0.324440 -0.279178 -1.751429   \n",
       "3  0.611115 -0.412808  0.258610  ...  0.065511  0.338889 -0.025033  0.540896   \n",
       "4 -0.370069  0.165191  0.886716  ... -0.085468 -0.601468 -0.325365 -0.717631   \n",
       "\n",
       "        V25       V26       V27       V28  Amount  Class  \n",
       "0 -0.329750 -0.023030  0.024540  0.003180  284.00      0  \n",
       "1 -0.354865  0.228212  0.222947 -0.014396   37.33      0  \n",
       "2  0.561524 -0.125653 -0.010366 -0.007555  102.00      0  \n",
       "3  0.418683  0.698257 -0.121885 -0.082522    0.76      0  \n",
       "4  0.185812  0.965630 -0.086032  0.041443  281.48      0  \n",
       "\n",
       "[5 rows x 31 columns]"
      ]
     },
     "execution_count": 1,
     "metadata": {},
     "output_type": "execute_result"
    }
   ],
   "source": [
    "import numpy as np\n",
    "import pandas as pd\n",
    "\n",
    "np.random.seed(0)\n",
    "\n",
    "card = pd.read_csv('data/creditcard_sampled.csv')\n",
    "card.head()"
   ]
  },
  {
   "cell_type": "code",
   "execution_count": 2,
   "metadata": {},
   "outputs": [],
   "source": [
    "X = card.drop('Class', axis=1)\n",
    "y = card['Class']"
   ]
  },
  {
   "cell_type": "code",
   "execution_count": 3,
   "metadata": {},
   "outputs": [],
   "source": [
    "from sklearn.tree import DecisionTreeClassifier\n",
    "from sklearn.model_selection import cross_val_score"
   ]
  },
  {
   "cell_type": "code",
   "execution_count": 4,
   "metadata": {},
   "outputs": [
    {
     "name": "stdout",
     "output_type": "stream",
     "text": [
      "f1 score with max_depth 2: 0.914\n",
      "f1 score with max_depth 3: 0.922\n",
      "f1 score with max_depth 4: 0.932\n",
      "f1 score with max_depth 5: 0.939\n",
      "f1 score with max_depth 6: 0.948\n",
      "f1 score with max_depth 7: 0.957\n",
      "f1 score with max_depth 8: 0.958\n",
      "f1 score with max_depth 9: 0.959\n",
      "f1 score with max_depth 10: 0.963\n",
      "f1 score with max_depth 11: 0.961\n",
      "f1 score with max_depth 12: 0.963\n",
      "f1 score with max_depth 13: 0.958\n",
      "f1 score with max_depth 14: 0.959\n",
      "f1 score with max_depth 15: 0.963\n"
     ]
    }
   ],
   "source": [
    "score_list = []\n",
    "I = range(2,16)\n",
    "\n",
    "for i in I:\n",
    "    tree_cv = DecisionTreeClassifier(criterion='entropy', max_depth=i)\n",
    "    scores = cross_val_score(tree_cv, X, y, scoring='f1', cv=5)\n",
    "    score_list.append(scores.mean())\n",
    "    print(\"f1 score with max_depth {}: {:.3f}\".format(i,scores.mean()))"
   ]
  },
  {
   "cell_type": "code",
   "execution_count": 5,
   "metadata": {},
   "outputs": [],
   "source": [
    "import matplotlib.pyplot as plt"
   ]
  },
  {
   "cell_type": "code",
   "execution_count": 6,
   "metadata": {},
   "outputs": [
    {
     "data": {
      "image/png": "[encoded data removed]",
      "text/plain": [
       "<Figure size 432x288 with 1 Axes>"
      ]
     },
     "metadata": {
      "needs_background": "light"
     },
     "output_type": "display_data"
    }
   ],
   "source": [
    "plt.plot(I, score_list, 'bx-')\n",
    "plt.xlabel('max_depth')\n",
    "plt.ylabel('AUC')\n",
    "plt.show()"
   ]
  },
  {
   "cell_type": "markdown",
   "metadata": {},
   "source": [
    "(2) Time, Amount, Class를 제외한 V1, …, V28 변수를 차원축소하고자 한다. 95% 분산이\n",
    "보존되게끔 차원의 수를 축소하여라."
   ]
  },
  {
   "cell_type": "code",
   "execution_count": 7,
   "metadata": {},
   "outputs": [],
   "source": [
    "X = X.drop('Time', axis=1)\n",
    "X = X.drop('Amount', axis=1)"
   ]
  },
  {
   "cell_type": "code",
   "execution_count": 8,
   "metadata": {},
   "outputs": [
    {
     "data": {
      "text/html": [
       "<div>\n",
       "<style scoped>\n",
       "    .dataframe tbody tr th:only-of-type {\n",
       "        vertical-align: middle;\n",
       "    }\n",
       "\n",
       "    .dataframe tbody tr th {\n",
       "        vertical-align: top;\n",
       "    }\n",
       "\n",
       "    .dataframe thead th {\n",
       "        text-align: right;\n",
       "    }\n",
       "</style>\n",
       "<table border=\"1\" class=\"dataframe\">\n",
       "  <thead>\n",
       "    <tr style=\"text-align: right;\">\n",
       "      <th></th>\n",
       "      <th>V1</th>\n",
       "      <th>V2</th>\n",
       "      <th>V3</th>\n",
       "      <th>V4</th>\n",
       "      <th>V5</th>\n",
       "      <th>V6</th>\n",
       "      <th>V7</th>\n",
       "      <th>V8</th>\n",
       "      <th>V9</th>\n",
       "      <th>V10</th>\n",
       "      <th>...</th>\n",
       "      <th>V19</th>\n",
       "      <th>V20</th>\n",
       "      <th>V21</th>\n",
       "      <th>V22</th>\n",
       "      <th>V23</th>\n",
       "      <th>V24</th>\n",
       "      <th>V25</th>\n",
       "      <th>V26</th>\n",
       "      <th>V27</th>\n",
       "      <th>V28</th>\n",
       "    </tr>\n",
       "  </thead>\n",
       "  <tbody>\n",
       "    <tr>\n",
       "      <th>0</th>\n",
       "      <td>1.522319</td>\n",
       "      <td>-2.620740</td>\n",
       "      <td>0.162082</td>\n",
       "      <td>-0.413442</td>\n",
       "      <td>-2.017811</td>\n",
       "      <td>1.461869</td>\n",
       "      <td>-1.975232</td>\n",
       "      <td>0.593168</td>\n",
       "      <td>1.590390</td>\n",
       "      <td>0.443273</td>\n",
       "      <td>...</td>\n",
       "      <td>1.314764</td>\n",
       "      <td>0.465669</td>\n",
       "      <td>0.448753</td>\n",
       "      <td>1.026305</td>\n",
       "      <td>-0.144135</td>\n",
       "      <td>0.248102</td>\n",
       "      <td>-0.329750</td>\n",
       "      <td>-0.023030</td>\n",
       "      <td>0.024540</td>\n",
       "      <td>0.003180</td>\n",
       "    </tr>\n",
       "    <tr>\n",
       "      <th>1</th>\n",
       "      <td>-0.224159</td>\n",
       "      <td>1.180560</td>\n",
       "      <td>1.620263</td>\n",
       "      <td>2.597663</td>\n",
       "      <td>0.268749</td>\n",
       "      <td>0.371741</td>\n",
       "      <td>0.747209</td>\n",
       "      <td>-0.039479</td>\n",
       "      <td>-1.383652</td>\n",
       "      <td>1.294396</td>\n",
       "      <td>...</td>\n",
       "      <td>1.107195</td>\n",
       "      <td>0.370775</td>\n",
       "      <td>0.116251</td>\n",
       "      <td>0.546184</td>\n",
       "      <td>-0.157833</td>\n",
       "      <td>-0.014209</td>\n",
       "      <td>-0.354865</td>\n",
       "      <td>0.228212</td>\n",
       "      <td>0.222947</td>\n",
       "      <td>-0.014396</td>\n",
       "    </tr>\n",
       "    <tr>\n",
       "      <th>2</th>\n",
       "      <td>1.249077</td>\n",
       "      <td>-1.180277</td>\n",
       "      <td>-0.383561</td>\n",
       "      <td>-0.921614</td>\n",
       "      <td>-0.350447</td>\n",
       "      <td>0.928311</td>\n",
       "      <td>-0.825273</td>\n",
       "      <td>0.352892</td>\n",
       "      <td>-0.198168</td>\n",
       "      <td>0.653288</td>\n",
       "      <td>...</td>\n",
       "      <td>1.509705</td>\n",
       "      <td>0.098564</td>\n",
       "      <td>-0.030222</td>\n",
       "      <td>-0.324440</td>\n",
       "      <td>-0.279178</td>\n",
       "      <td>-1.751429</td>\n",
       "      <td>0.561524</td>\n",
       "      <td>-0.125653</td>\n",
       "      <td>-0.010366</td>\n",
       "      <td>-0.007555</td>\n",
       "    </tr>\n",
       "    <tr>\n",
       "      <th>3</th>\n",
       "      <td>2.153038</td>\n",
       "      <td>0.046845</td>\n",
       "      <td>-2.212044</td>\n",
       "      <td>0.244870</td>\n",
       "      <td>0.730598</td>\n",
       "      <td>-1.017290</td>\n",
       "      <td>0.611115</td>\n",
       "      <td>-0.412808</td>\n",
       "      <td>0.258610</td>\n",
       "      <td>0.182194</td>\n",
       "      <td>...</td>\n",
       "      <td>0.258236</td>\n",
       "      <td>-0.244724</td>\n",
       "      <td>0.065511</td>\n",
       "      <td>0.338889</td>\n",
       "      <td>-0.025033</td>\n",
       "      <td>0.540896</td>\n",
       "      <td>0.418683</td>\n",
       "      <td>0.698257</td>\n",
       "      <td>-0.121885</td>\n",
       "      <td>-0.082522</td>\n",
       "    </tr>\n",
       "    <tr>\n",
       "      <th>4</th>\n",
       "      <td>0.723978</td>\n",
       "      <td>-1.256455</td>\n",
       "      <td>0.381422</td>\n",
       "      <td>0.074468</td>\n",
       "      <td>-0.777243</td>\n",
       "      <td>0.722340</td>\n",
       "      <td>-0.370069</td>\n",
       "      <td>0.165191</td>\n",
       "      <td>0.886716</td>\n",
       "      <td>-0.429342</td>\n",
       "      <td>...</td>\n",
       "      <td>1.103373</td>\n",
       "      <td>0.572447</td>\n",
       "      <td>-0.085468</td>\n",
       "      <td>-0.601468</td>\n",
       "      <td>-0.325365</td>\n",
       "      <td>-0.717631</td>\n",
       "      <td>0.185812</td>\n",
       "      <td>0.965630</td>\n",
       "      <td>-0.086032</td>\n",
       "      <td>0.041443</td>\n",
       "    </tr>\n",
       "    <tr>\n",
       "      <th>...</th>\n",
       "      <td>...</td>\n",
       "      <td>...</td>\n",
       "      <td>...</td>\n",
       "      <td>...</td>\n",
       "      <td>...</td>\n",
       "      <td>...</td>\n",
       "      <td>...</td>\n",
       "      <td>...</td>\n",
       "      <td>...</td>\n",
       "      <td>...</td>\n",
       "      <td>...</td>\n",
       "      <td>...</td>\n",
       "      <td>...</td>\n",
       "      <td>...</td>\n",
       "      <td>...</td>\n",
       "      <td>...</td>\n",
       "      <td>...</td>\n",
       "      <td>...</td>\n",
       "      <td>...</td>\n",
       "      <td>...</td>\n",
       "      <td>...</td>\n",
       "    </tr>\n",
       "    <tr>\n",
       "      <th>1995</th>\n",
       "      <td>1.080433</td>\n",
       "      <td>0.962831</td>\n",
       "      <td>-0.278065</td>\n",
       "      <td>2.743318</td>\n",
       "      <td>0.412364</td>\n",
       "      <td>-0.320778</td>\n",
       "      <td>0.041290</td>\n",
       "      <td>0.176170</td>\n",
       "      <td>-0.966952</td>\n",
       "      <td>-0.194120</td>\n",
       "      <td>...</td>\n",
       "      <td>-1.577070</td>\n",
       "      <td>-0.172659</td>\n",
       "      <td>-0.008996</td>\n",
       "      <td>-0.057036</td>\n",
       "      <td>-0.053692</td>\n",
       "      <td>-0.026373</td>\n",
       "      <td>0.400300</td>\n",
       "      <td>0.072828</td>\n",
       "      <td>0.027043</td>\n",
       "      <td>0.063238</td>\n",
       "    </tr>\n",
       "    <tr>\n",
       "      <th>1996</th>\n",
       "      <td>-8.257111</td>\n",
       "      <td>-4.814461</td>\n",
       "      <td>-5.365307</td>\n",
       "      <td>1.204230</td>\n",
       "      <td>-3.347420</td>\n",
       "      <td>-1.331601</td>\n",
       "      <td>-1.967893</td>\n",
       "      <td>1.295438</td>\n",
       "      <td>-1.674415</td>\n",
       "      <td>-3.426052</td>\n",
       "      <td>...</td>\n",
       "      <td>0.105879</td>\n",
       "      <td>-1.233987</td>\n",
       "      <td>0.436390</td>\n",
       "      <td>-0.077553</td>\n",
       "      <td>-3.091624</td>\n",
       "      <td>-0.390201</td>\n",
       "      <td>-0.288689</td>\n",
       "      <td>-0.340004</td>\n",
       "      <td>0.039819</td>\n",
       "      <td>-1.007900</td>\n",
       "    </tr>\n",
       "    <tr>\n",
       "      <th>1997</th>\n",
       "      <td>-1.020632</td>\n",
       "      <td>1.496959</td>\n",
       "      <td>-4.490937</td>\n",
       "      <td>1.836727</td>\n",
       "      <td>0.627318</td>\n",
       "      <td>-2.735569</td>\n",
       "      <td>-1.546274</td>\n",
       "      <td>0.459822</td>\n",
       "      <td>-0.682741</td>\n",
       "      <td>-4.363102</td>\n",
       "      <td>...</td>\n",
       "      <td>1.011626</td>\n",
       "      <td>0.443489</td>\n",
       "      <td>0.773631</td>\n",
       "      <td>0.860618</td>\n",
       "      <td>-0.304666</td>\n",
       "      <td>-0.155500</td>\n",
       "      <td>0.412166</td>\n",
       "      <td>-0.220080</td>\n",
       "      <td>0.392338</td>\n",
       "      <td>-0.020089</td>\n",
       "    </tr>\n",
       "    <tr>\n",
       "      <th>1998</th>\n",
       "      <td>-5.314173</td>\n",
       "      <td>4.145944</td>\n",
       "      <td>-8.532522</td>\n",
       "      <td>8.344392</td>\n",
       "      <td>-5.718008</td>\n",
       "      <td>-3.043536</td>\n",
       "      <td>-10.989185</td>\n",
       "      <td>3.404129</td>\n",
       "      <td>-6.167234</td>\n",
       "      <td>-11.435624</td>\n",
       "      <td>...</td>\n",
       "      <td>2.992554</td>\n",
       "      <td>1.150017</td>\n",
       "      <td>2.331466</td>\n",
       "      <td>0.862996</td>\n",
       "      <td>-0.614453</td>\n",
       "      <td>0.523648</td>\n",
       "      <td>-0.712593</td>\n",
       "      <td>0.324638</td>\n",
       "      <td>2.245091</td>\n",
       "      <td>0.497321</td>\n",
       "    </tr>\n",
       "    <tr>\n",
       "      <th>1999</th>\n",
       "      <td>-5.685013</td>\n",
       "      <td>5.776516</td>\n",
       "      <td>-7.064977</td>\n",
       "      <td>5.902715</td>\n",
       "      <td>-4.715564</td>\n",
       "      <td>-1.755633</td>\n",
       "      <td>-6.958679</td>\n",
       "      <td>3.877795</td>\n",
       "      <td>-5.541529</td>\n",
       "      <td>-7.502112</td>\n",
       "      <td>...</td>\n",
       "      <td>2.626625</td>\n",
       "      <td>0.299489</td>\n",
       "      <td>1.128641</td>\n",
       "      <td>-0.962960</td>\n",
       "      <td>-0.110045</td>\n",
       "      <td>-0.177733</td>\n",
       "      <td>-0.089175</td>\n",
       "      <td>-0.049447</td>\n",
       "      <td>0.303445</td>\n",
       "      <td>0.219380</td>\n",
       "    </tr>\n",
       "  </tbody>\n",
       "</table>\n",
       "<p>2000 rows × 28 columns</p>\n",
       "</div>"
      ],
      "text/plain": [
       "            V1        V2        V3        V4        V5        V6         V7  \\\n",
       "0     1.522319 -2.620740  0.162082 -0.413442 -2.017811  1.461869  -1.975232   \n",
       "1    -0.224159  1.180560  1.620263  2.597663  0.268749  0.371741   0.747209   \n",
       "2     1.249077 -1.180277 -0.383561 -0.921614 -0.350447  0.928311  -0.825273   \n",
       "3     2.153038  0.046845 -2.212044  0.244870  0.730598 -1.017290   0.611115   \n",
       "4     0.723978 -1.256455  0.381422  0.074468 -0.777243  0.722340  -0.370069   \n",
       "...        ...       ...       ...       ...       ...       ...        ...   \n",
       "1995  1.080433  0.962831 -0.278065  2.743318  0.412364 -0.320778   0.041290   \n",
       "1996 -8.257111 -4.814461 -5.365307  1.204230 -3.347420 -1.331601  -1.967893   \n",
       "1997 -1.020632  1.496959 -4.490937  1.836727  0.627318 -2.735569  -1.546274   \n",
       "1998 -5.314173  4.145944 -8.532522  8.344392 -5.718008 -3.043536 -10.989185   \n",
       "1999 -5.685013  5.776516 -7.064977  5.902715 -4.715564 -1.755633  -6.958679   \n",
       "\n",
       "            V8        V9        V10  ...       V19       V20       V21  \\\n",
       "0     0.593168  1.590390   0.443273  ...  1.314764  0.465669  0.448753   \n",
       "1    -0.039479 -1.383652   1.294396  ...  1.107195  0.370775  0.116251   \n",
       "2     0.352892 -0.198168   0.653288  ...  1.509705  0.098564 -0.030222   \n",
       "3    -0.412808  0.258610   0.182194  ...  0.258236 -0.244724  0.065511   \n",
       "4     0.165191  0.886716  -0.429342  ...  1.103373  0.572447 -0.085468   \n",
       "...        ...       ...        ...  ...       ...       ...       ...   \n",
       "1995  0.176170 -0.966952  -0.194120  ... -1.577070 -0.172659 -0.008996   \n",
       "1996  1.295438 -1.674415  -3.426052  ...  0.105879 -1.233987  0.436390   \n",
       "1997  0.459822 -0.682741  -4.363102  ...  1.011626  0.443489  0.773631   \n",
       "1998  3.404129 -6.167234 -11.435624  ...  2.992554  1.150017  2.331466   \n",
       "1999  3.877795 -5.541529  -7.502112  ...  2.626625  0.299489  1.128641   \n",
       "\n",
       "           V22       V23       V24       V25       V26       V27       V28  \n",
       "0     1.026305 -0.144135  0.248102 -0.329750 -0.023030  0.024540  0.003180  \n",
       "1     0.546184 -0.157833 -0.014209 -0.354865  0.228212  0.222947 -0.014396  \n",
       "2    -0.324440 -0.279178 -1.751429  0.561524 -0.125653 -0.010366 -0.007555  \n",
       "3     0.338889 -0.025033  0.540896  0.418683  0.698257 -0.121885 -0.082522  \n",
       "4    -0.601468 -0.325365 -0.717631  0.185812  0.965630 -0.086032  0.041443  \n",
       "...        ...       ...       ...       ...       ...       ...       ...  \n",
       "1995 -0.057036 -0.053692 -0.026373  0.400300  0.072828  0.027043  0.063238  \n",
       "1996 -0.077553 -3.091624 -0.390201 -0.288689 -0.340004  0.039819 -1.007900  \n",
       "1997  0.860618 -0.304666 -0.155500  0.412166 -0.220080  0.392338 -0.020089  \n",
       "1998  0.862996 -0.614453  0.523648 -0.712593  0.324638  2.245091  0.497321  \n",
       "1999 -0.962960 -0.110045 -0.177733 -0.089175 -0.049447  0.303445  0.219380  \n",
       "\n",
       "[2000 rows x 28 columns]"
      ]
     },
     "execution_count": 8,
     "metadata": {},
     "output_type": "execute_result"
    }
   ],
   "source": [
    "X"
   ]
  },
  {
   "cell_type": "code",
   "execution_count": 9,
   "metadata": {},
   "outputs": [],
   "source": [
    "from sklearn.decomposition import PCA"
   ]
  },
  {
   "cell_type": "code",
   "execution_count": 10,
   "metadata": {},
   "outputs": [],
   "source": [
    "pca = PCA(n_components = 0.95)\n",
    "X_reduced = pca.fit_transform(X)"
   ]
  },
  {
   "cell_type": "markdown",
   "metadata": {},
   "source": [
    "(3) (2)에서 차원 축소된 결과를 데이터프레임으로 변환하고 Time, Amount 컬럼을 추가\n",
    "하라. Class를 목표변수로 하고, 차원 축소된 결과와 Time, Amount 변수를 입력변수\n",
    "로 활용한다. entropy를 불순도 지표로 사용하여 의사결정나무를 생성하고 5겹 교차\n",
    "검증을 통해 성과를 측정하려고 한다. 성과지표는 f1을 활용하며, max_depth 값을 2\n",
    "부터 15까지 변화시켜가며 측정하고 결과를 시각화하라."
   ]
  },
  {
   "cell_type": "code",
   "execution_count": 11,
   "metadata": {},
   "outputs": [],
   "source": [
    "col = list(str(i) for i in range(1, 10))\n",
    "dfpca = pd.DataFrame(X_reduced, columns = col)\n",
    "dfpca[\"Time\"] = card[\"Time\"]\n",
    "dfpca[\"Amount\"] = card[\"Amount\"]"
   ]
  },
  {
   "cell_type": "code",
   "execution_count": 12,
   "metadata": {
    "scrolled": true
   },
   "outputs": [
    {
     "name": "stdout",
     "output_type": "stream",
     "text": [
      "f1 score with max_depth 2: 0.916\n",
      "f1 score with max_depth 3: 0.935\n",
      "f1 score with max_depth 4: 0.940\n",
      "f1 score with max_depth 5: 0.944\n",
      "f1 score with max_depth 6: 0.950\n",
      "f1 score with max_depth 7: 0.954\n",
      "f1 score with max_depth 8: 0.957\n",
      "f1 score with max_depth 9: 0.962\n",
      "f1 score with max_depth 10: 0.962\n",
      "f1 score with max_depth 11: 0.966\n",
      "f1 score with max_depth 12: 0.966\n",
      "f1 score with max_depth 13: 0.968\n",
      "f1 score with max_depth 14: 0.969\n",
      "f1 score with max_depth 15: 0.969\n"
     ]
    }
   ],
   "source": [
    "score_list = []\n",
    "I = range(2,16)\n",
    "\n",
    "for i in I:\n",
    "    tree_cv = DecisionTreeClassifier(criterion='entropy', max_depth=i)\n",
    "    scores = cross_val_score(tree_cv, dfpca, y, scoring='f1', cv=5)\n",
    "    score_list.append(scores.mean())\n",
    "    print(\"f1 score with max_depth {}: {:.3f}\".format(i,scores.mean()))"
   ]
  },
  {
   "cell_type": "code",
   "execution_count": 13,
   "metadata": {},
   "outputs": [
    {
     "data": {
      "image/png": "[encoded data removed]",
      "text/plain": [
       "<Figure size 432x288 with 1 Axes>"
      ]
     },
     "metadata": {
      "needs_background": "light"
     },
     "output_type": "display_data"
    }
   ],
   "source": [
    "plt.plot(I, score_list, 'bx-')\n",
    "plt.xlabel('max_depth')\n",
    "plt.ylabel('AUC')\n",
    "plt.show()"
   ]
  },
  {
   "cell_type": "markdown",
   "metadata": {},
   "source": [
    "4.     \n",
    "차원 축소 전 최고 성과 : 0.963   \n",
    "차원 축소 후 최고 성과 : 0.969   \n",
    "\n",
    "차원축소 후 성과가 더 크다"
   ]
  },
  {
   "cell_type": "code",
   "execution_count": null,
   "metadata": {},
   "outputs": [],
   "source": []
  },
  {
   "cell_type": "code",
   "execution_count": null,
   "metadata": {},
   "outputs": [],
   "source": []
  },
  {
   "cell_type": "code",
   "execution_count": null,
   "metadata": {},
   "outputs": [],
   "source": []
  },
  {
   "cell_type": "code",
   "execution_count": null,
   "metadata": {},
   "outputs": [],
   "source": []
  },
  {
   "cell_type": "code",
   "execution_count": null,
   "metadata": {},
   "outputs": [],
   "source": []
  },
  {
   "cell_type": "markdown",
   "metadata": {},
   "source": [
    "## 2."
   ]
  },
  {
   "cell_type": "markdown",
   "metadata": {},
   "source": [
    "(1) ShelveLoc 변수는 Bad는 0, Medium은 0.5, Good은 1로 변환하라. Urban과 US는 군\n",
    "집화에 사용하지 않는다."
   ]
  },
  {
   "cell_type": "code",
   "execution_count": 40,
   "metadata": {},
   "outputs": [],
   "source": [
    "from sklearn.cluster import KMeans\n",
    "import pandas as pd\n",
    "import matplotlib.pyplot as plt"
   ]
  },
  {
   "cell_type": "code",
   "execution_count": 41,
   "metadata": {},
   "outputs": [
    {
     "data": {
      "text/html": [
       "<div>\n",
       "<style scoped>\n",
       "    .dataframe tbody tr th:only-of-type {\n",
       "        vertical-align: middle;\n",
       "    }\n",
       "\n",
       "    .dataframe tbody tr th {\n",
       "        vertical-align: top;\n",
       "    }\n",
       "\n",
       "    .dataframe thead th {\n",
       "        text-align: right;\n",
       "    }\n",
       "</style>\n",
       "<table border=\"1\" class=\"dataframe\">\n",
       "  <thead>\n",
       "    <tr style=\"text-align: right;\">\n",
       "      <th></th>\n",
       "      <th>Sales</th>\n",
       "      <th>CompPrice</th>\n",
       "      <th>Income</th>\n",
       "      <th>Advertising</th>\n",
       "      <th>Population</th>\n",
       "      <th>Price</th>\n",
       "      <th>ShelveLoc</th>\n",
       "      <th>Age</th>\n",
       "      <th>Education</th>\n",
       "      <th>Urban</th>\n",
       "      <th>US</th>\n",
       "    </tr>\n",
       "  </thead>\n",
       "  <tbody>\n",
       "    <tr>\n",
       "      <th>0</th>\n",
       "      <td>9.50</td>\n",
       "      <td>138</td>\n",
       "      <td>73</td>\n",
       "      <td>11</td>\n",
       "      <td>276</td>\n",
       "      <td>120</td>\n",
       "      <td>Bad</td>\n",
       "      <td>42</td>\n",
       "      <td>17</td>\n",
       "      <td>Yes</td>\n",
       "      <td>Yes</td>\n",
       "    </tr>\n",
       "    <tr>\n",
       "      <th>1</th>\n",
       "      <td>11.22</td>\n",
       "      <td>111</td>\n",
       "      <td>48</td>\n",
       "      <td>16</td>\n",
       "      <td>260</td>\n",
       "      <td>83</td>\n",
       "      <td>Good</td>\n",
       "      <td>65</td>\n",
       "      <td>10</td>\n",
       "      <td>Yes</td>\n",
       "      <td>Yes</td>\n",
       "    </tr>\n",
       "    <tr>\n",
       "      <th>2</th>\n",
       "      <td>10.06</td>\n",
       "      <td>113</td>\n",
       "      <td>35</td>\n",
       "      <td>10</td>\n",
       "      <td>269</td>\n",
       "      <td>80</td>\n",
       "      <td>Medium</td>\n",
       "      <td>59</td>\n",
       "      <td>12</td>\n",
       "      <td>Yes</td>\n",
       "      <td>Yes</td>\n",
       "    </tr>\n",
       "    <tr>\n",
       "      <th>3</th>\n",
       "      <td>7.40</td>\n",
       "      <td>117</td>\n",
       "      <td>100</td>\n",
       "      <td>4</td>\n",
       "      <td>466</td>\n",
       "      <td>97</td>\n",
       "      <td>Medium</td>\n",
       "      <td>55</td>\n",
       "      <td>14</td>\n",
       "      <td>Yes</td>\n",
       "      <td>Yes</td>\n",
       "    </tr>\n",
       "    <tr>\n",
       "      <th>4</th>\n",
       "      <td>4.15</td>\n",
       "      <td>141</td>\n",
       "      <td>64</td>\n",
       "      <td>3</td>\n",
       "      <td>340</td>\n",
       "      <td>128</td>\n",
       "      <td>Bad</td>\n",
       "      <td>38</td>\n",
       "      <td>13</td>\n",
       "      <td>Yes</td>\n",
       "      <td>No</td>\n",
       "    </tr>\n",
       "  </tbody>\n",
       "</table>\n",
       "</div>"
      ],
      "text/plain": [
       "   Sales  CompPrice  Income  Advertising  Population  Price ShelveLoc  Age  \\\n",
       "0   9.50        138      73           11         276    120       Bad   42   \n",
       "1  11.22        111      48           16         260     83      Good   65   \n",
       "2  10.06        113      35           10         269     80    Medium   59   \n",
       "3   7.40        117     100            4         466     97    Medium   55   \n",
       "4   4.15        141      64            3         340    128       Bad   38   \n",
       "\n",
       "   Education Urban   US  \n",
       "0         17   Yes  Yes  \n",
       "1         10   Yes  Yes  \n",
       "2         12   Yes  Yes  \n",
       "3         14   Yes  Yes  \n",
       "4         13   Yes   No  "
      ]
     },
     "execution_count": 41,
     "metadata": {},
     "output_type": "execute_result"
    }
   ],
   "source": [
    "data = pd.read_csv('data/Carseats.csv')\n",
    "data.head()"
   ]
  },
  {
   "cell_type": "code",
   "execution_count": 42,
   "metadata": {},
   "outputs": [],
   "source": [
    "nl = []\n",
    "for col in data[\"ShelveLoc\"]:\n",
    "    if col == \"Bad\":\n",
    "        inp = 0\n",
    "    if col == \"Medium\":\n",
    "        inp = 0.5\n",
    "    else:\n",
    "        inp = 1\n",
    "    nl.append(inp)"
   ]
  },
  {
   "cell_type": "code",
   "execution_count": 43,
   "metadata": {},
   "outputs": [],
   "source": [
    "data = data.drop([\"ShelveLoc\", \"Urban\", \"US\"], axis = 1)"
   ]
  },
  {
   "cell_type": "code",
   "execution_count": 44,
   "metadata": {},
   "outputs": [],
   "source": [
    "data[\"ShelveLoc\"] = nl"
   ]
  },
  {
   "cell_type": "code",
   "execution_count": 45,
   "metadata": {},
   "outputs": [
    {
     "data": {
      "text/html": [
       "<div>\n",
       "<style scoped>\n",
       "    .dataframe tbody tr th:only-of-type {\n",
       "        vertical-align: middle;\n",
       "    }\n",
       "\n",
       "    .dataframe tbody tr th {\n",
       "        vertical-align: top;\n",
       "    }\n",
       "\n",
       "    .dataframe thead th {\n",
       "        text-align: right;\n",
       "    }\n",
       "</style>\n",
       "<table border=\"1\" class=\"dataframe\">\n",
       "  <thead>\n",
       "    <tr style=\"text-align: right;\">\n",
       "      <th></th>\n",
       "      <th>Sales</th>\n",
       "      <th>CompPrice</th>\n",
       "      <th>Income</th>\n",
       "      <th>Advertising</th>\n",
       "      <th>Population</th>\n",
       "      <th>Price</th>\n",
       "      <th>Age</th>\n",
       "      <th>Education</th>\n",
       "      <th>ShelveLoc</th>\n",
       "    </tr>\n",
       "  </thead>\n",
       "  <tbody>\n",
       "    <tr>\n",
       "      <th>0</th>\n",
       "      <td>9.50</td>\n",
       "      <td>138</td>\n",
       "      <td>73</td>\n",
       "      <td>11</td>\n",
       "      <td>276</td>\n",
       "      <td>120</td>\n",
       "      <td>42</td>\n",
       "      <td>17</td>\n",
       "      <td>1.0</td>\n",
       "    </tr>\n",
       "    <tr>\n",
       "      <th>1</th>\n",
       "      <td>11.22</td>\n",
       "      <td>111</td>\n",
       "      <td>48</td>\n",
       "      <td>16</td>\n",
       "      <td>260</td>\n",
       "      <td>83</td>\n",
       "      <td>65</td>\n",
       "      <td>10</td>\n",
       "      <td>1.0</td>\n",
       "    </tr>\n",
       "    <tr>\n",
       "      <th>2</th>\n",
       "      <td>10.06</td>\n",
       "      <td>113</td>\n",
       "      <td>35</td>\n",
       "      <td>10</td>\n",
       "      <td>269</td>\n",
       "      <td>80</td>\n",
       "      <td>59</td>\n",
       "      <td>12</td>\n",
       "      <td>0.5</td>\n",
       "    </tr>\n",
       "    <tr>\n",
       "      <th>3</th>\n",
       "      <td>7.40</td>\n",
       "      <td>117</td>\n",
       "      <td>100</td>\n",
       "      <td>4</td>\n",
       "      <td>466</td>\n",
       "      <td>97</td>\n",
       "      <td>55</td>\n",
       "      <td>14</td>\n",
       "      <td>0.5</td>\n",
       "    </tr>\n",
       "    <tr>\n",
       "      <th>4</th>\n",
       "      <td>4.15</td>\n",
       "      <td>141</td>\n",
       "      <td>64</td>\n",
       "      <td>3</td>\n",
       "      <td>340</td>\n",
       "      <td>128</td>\n",
       "      <td>38</td>\n",
       "      <td>13</td>\n",
       "      <td>1.0</td>\n",
       "    </tr>\n",
       "  </tbody>\n",
       "</table>\n",
       "</div>"
      ],
      "text/plain": [
       "   Sales  CompPrice  Income  Advertising  Population  Price  Age  Education  \\\n",
       "0   9.50        138      73           11         276    120   42         17   \n",
       "1  11.22        111      48           16         260     83   65         10   \n",
       "2  10.06        113      35           10         269     80   59         12   \n",
       "3   7.40        117     100            4         466     97   55         14   \n",
       "4   4.15        141      64            3         340    128   38         13   \n",
       "\n",
       "   ShelveLoc  \n",
       "0        1.0  \n",
       "1        1.0  \n",
       "2        0.5  \n",
       "3        0.5  \n",
       "4        1.0  "
      ]
     },
     "execution_count": 45,
     "metadata": {},
     "output_type": "execute_result"
    }
   ],
   "source": [
    "data.head()"
   ]
  },
  {
   "cell_type": "markdown",
   "metadata": {},
   "source": [
    "(2) 모든 변수를 MinMaxScaler를 사용하여 표준화하라."
   ]
  },
  {
   "cell_type": "code",
   "execution_count": 46,
   "metadata": {},
   "outputs": [],
   "source": [
    "from sklearn.preprocessing import MinMaxScaler\n",
    "\n",
    "min_max_scaler = MinMaxScaler()\n",
    "\n",
    "data_MinMax_train = min_max_scaler.fit_transform(data)"
   ]
  },
  {
   "cell_type": "markdown",
   "metadata": {},
   "source": [
    "(3) 가우시안 혼합모델을 사용하여 군집화를 하고자 한다. n_init = 10으로 하고, 군집의\n",
    "수는 2부터 20까지 늘려가면서 군집화를 수행한 후 군집 수에 따른 BIC, AIC 값을\n",
    "시각화하라. BIC, AIC 값이 최소가 되는 군집의 수나 엘보우 방안으로 최적의 군집의\n",
    "수를 찾아라."
   ]
  },
  {
   "cell_type": "code",
   "execution_count": 47,
   "metadata": {},
   "outputs": [
    {
     "data": {
      "image/png": "[encoded data removed]",
      "text/plain": [
       "<Figure size 432x288 with 1 Axes>"
      ]
     },
     "metadata": {
      "needs_background": "light"
     },
     "output_type": "display_data"
    }
   ],
   "source": [
    "from sklearn.mixture import GaussianMixture\n",
    "\n",
    "bic = list()\n",
    "aic = list()\n",
    "\n",
    "K = range(2,21)\n",
    "for k in K:\n",
    "    gm = GaussianMixture(n_components=k, n_init=10)\n",
    "    gm.fit(data_MinMax_train)\n",
    "    bic.append(gm.bic(data_MinMax_train))\n",
    "    aic.append(gm.aic(data_MinMax_train))\n",
    "    \n",
    "plt.plot(K, bic, 'bx-')\n",
    "plt.plot(K, aic, 'rx--')\n",
    "plt.xlabel('k')\n",
    "plt.ylabel('Scores')\n",
    "plt.show()"
   ]
  },
  {
   "cell_type": "markdown",
   "metadata": {},
   "source": [
    "k = 2 일때가 최적의 군집 수 이다."
   ]
  },
  {
   "cell_type": "markdown",
   "metadata": {},
   "source": [
    "(4) (3)에서 찾아진 최적의 군집 수를 활용하여 가우시안 혼합 모델 군집화를 수행한다.\n",
    "각 군집에 속한 데이터의 수와 각 군집의 변수별 평균 값을 출력하고 군집 특성에 대\n",
    "한 설명을 기술하라"
   ]
  },
  {
   "cell_type": "code",
   "execution_count": 48,
   "metadata": {},
   "outputs": [],
   "source": [
    "import pandas as pd\n",
    "import numpy as np\n",
    "import matplotlib.pyplot as plt\n",
    "from sklearn.preprocessing import StandardScaler\n",
    "from sklearn.cluster import KMeans\n",
    "from sklearn.cluster import DBSCAN\n",
    "from sklearn.mixture import GaussianMixture\n",
    "from sklearn.mixture import BayesianGaussianMixture\n",
    "from sklearn.metrics import silhouette_score"
   ]
  },
  {
   "cell_type": "code",
   "execution_count": 49,
   "metadata": {},
   "outputs": [],
   "source": [
    "gm = GaussianMixture(n_components=9, n_init=10)\n",
    "gm.fit(data_MinMax_train)\n",
    "predict = pd.DataFrame(gm.predict(data))\n",
    "predict.columns=['predict']  \n",
    "data = pd.concat([data,predict],axis=1) "
   ]
  },
  {
   "cell_type": "code",
   "execution_count": 50,
   "metadata": {},
   "outputs": [
    {
     "data": {
      "text/plain": [
       "Sales          float64\n",
       "CompPrice        int64\n",
       "Income           int64\n",
       "Advertising      int64\n",
       "Population       int64\n",
       "Price            int64\n",
       "Age              int64\n",
       "Education        int64\n",
       "ShelveLoc      float64\n",
       "predict          int64\n",
       "dtype: object"
      ]
     },
     "execution_count": 50,
     "metadata": {},
     "output_type": "execute_result"
    }
   ],
   "source": [
    "data.dtypes"
   ]
  },
  {
   "cell_type": "code",
   "execution_count": 51,
   "metadata": {},
   "outputs": [
    {
     "data": {
      "text/plain": [
       "<matplotlib.colorbar.Colorbar at 0x15d6418fcf8>"
      ]
     },
     "execution_count": 51,
     "metadata": {},
     "output_type": "execute_result"
    },
    {
     "data": {
      "image/png": "[encoded data removed]",
      "text/plain": [
       "<Figure size 432x288 with 2 Axes>"
      ]
     },
     "metadata": {
      "needs_background": "light"
     },
     "output_type": "display_data"
    }
   ],
   "source": [
    "fig = plt.figure()\n",
    "ax = fig.add_subplot(111)\n",
    "scatter = ax.scatter(data['Sales'], data[\"CompPrice\"],\n",
    "                     c=data['predict'])\n",
    "ax.set_title('K-Means Clustering')\n",
    "ax.set_xlabel('Sales')\n",
    "ax.set_ylabel('CompPrice')\n",
    "plt.colorbar(scatter)"
   ]
  },
  {
   "cell_type": "markdown",
   "metadata": {},
   "source": [
    "잘 구분되지 않는 모습을 보인다."
   ]
  },
  {
   "cell_type": "code",
   "execution_count": null,
   "metadata": {},
   "outputs": [],
   "source": []
  },
  {
   "cell_type": "code",
   "execution_count": null,
   "metadata": {},
   "outputs": [],
   "source": []
  },
  {
   "cell_type": "code",
   "execution_count": null,
   "metadata": {},
   "outputs": [],
   "source": []
  },
  {
   "cell_type": "code",
   "execution_count": null,
   "metadata": {},
   "outputs": [],
   "source": []
  },
  {
   "cell_type": "code",
   "execution_count": null,
   "metadata": {},
   "outputs": [],
   "source": []
  },
  {
   "cell_type": "markdown",
   "metadata": {},
   "source": [
    "## 3."
   ]
  },
  {
   "cell_type": "markdown",
   "metadata": {},
   "source": [
    "(1) review를 가지고 LDA를 수행한다. 토픽 수는 3으로 하고 나머지는 다음과 같이 인\n",
    "수를 입력한다. 단어문서 매트릭스는 CountVectorizer를 사용하며, stemming이나 표\n",
    "제어 추출은 시행하지 않는다."
   ]
  },
  {
   "cell_type": "code",
   "execution_count": 27,
   "metadata": {},
   "outputs": [
    {
     "data": {
      "text/html": [
       "<div>\n",
       "<style scoped>\n",
       "    .dataframe tbody tr th:only-of-type {\n",
       "        vertical-align: middle;\n",
       "    }\n",
       "\n",
       "    .dataframe tbody tr th {\n",
       "        vertical-align: top;\n",
       "    }\n",
       "\n",
       "    .dataframe thead th {\n",
       "        text-align: right;\n",
       "    }\n",
       "</style>\n",
       "<table border=\"1\" class=\"dataframe\">\n",
       "  <thead>\n",
       "    <tr style=\"text-align: right;\">\n",
       "      <th></th>\n",
       "      <th>user_id</th>\n",
       "      <th>prod_id</th>\n",
       "      <th>date</th>\n",
       "      <th>review</th>\n",
       "    </tr>\n",
       "  </thead>\n",
       "  <tbody>\n",
       "    <tr>\n",
       "      <th>0</th>\n",
       "      <td>20005</td>\n",
       "      <td>312</td>\n",
       "      <td>2009-11-14</td>\n",
       "      <td>Arrived at 8pm on a Sat. night to be told it's...</td>\n",
       "    </tr>\n",
       "    <tr>\n",
       "      <th>1</th>\n",
       "      <td>135557</td>\n",
       "      <td>721</td>\n",
       "      <td>2014-07-15</td>\n",
       "      <td>Go to for healthy + affordable dinner. LOVE th...</td>\n",
       "    </tr>\n",
       "    <tr>\n",
       "      <th>2</th>\n",
       "      <td>3245</td>\n",
       "      <td>701</td>\n",
       "      <td>2013-09-11</td>\n",
       "      <td>I got hives up and down my legs after their ud...</td>\n",
       "    </tr>\n",
       "    <tr>\n",
       "      <th>3</th>\n",
       "      <td>94371</td>\n",
       "      <td>555</td>\n",
       "      <td>2009-06-03</td>\n",
       "      <td>I happened upon this cart one night when I was...</td>\n",
       "    </tr>\n",
       "    <tr>\n",
       "      <th>4</th>\n",
       "      <td>2327</td>\n",
       "      <td>859</td>\n",
       "      <td>2011-03-11</td>\n",
       "      <td>I went here with a large group (10) for lunch....</td>\n",
       "    </tr>\n",
       "  </tbody>\n",
       "</table>\n",
       "</div>"
      ],
      "text/plain": [
       "   user_id  prod_id        date  \\\n",
       "0    20005      312  2009-11-14   \n",
       "1   135557      721  2014-07-15   \n",
       "2     3245      701  2013-09-11   \n",
       "3    94371      555  2009-06-03   \n",
       "4     2327      859  2011-03-11   \n",
       "\n",
       "                                              review  \n",
       "0  Arrived at 8pm on a Sat. night to be told it's...  \n",
       "1  Go to for healthy + affordable dinner. LOVE th...  \n",
       "2  I got hives up and down my legs after their ud...  \n",
       "3  I happened upon this cart one night when I was...  \n",
       "4  I went here with a large group (10) for lunch....  "
      ]
     },
     "execution_count": 27,
     "metadata": {},
     "output_type": "execute_result"
    }
   ],
   "source": [
    "#pip install pyLDAvis\n",
    "\n",
    "import numpy as np\n",
    "import pandas as pd\n",
    "import re, nltk, spacy, gensim\n",
    "\n",
    "# Sklearn\n",
    "from sklearn.decomposition import LatentDirichletAllocation, TruncatedSVD\n",
    "from sklearn.feature_extraction.text import CountVectorizer, TfidfVectorizer\n",
    "from sklearn.model_selection import GridSearchCV\n",
    "from pprint import pprint\n",
    "\n",
    "# Plotting tools\n",
    "import pyLDAvis\n",
    "import pyLDAvis.sklearn\n",
    "import matplotlib.pyplot as plt\n",
    "\n",
    "df = pd.read_csv('data/reviewContent_sampled.csv')\n",
    "df.head()"
   ]
  },
  {
   "cell_type": "code",
   "execution_count": 28,
   "metadata": {},
   "outputs": [
    {
     "name": "stdout",
     "output_type": "stream",
     "text": [
      "[\"Arrived at 8pm on a Sat. night to be told it's a 90 min. wait- but we sat at \"\n",
      " 'the bar and got served asap. \\xa0The hosts/bartenders/servers were '\n",
      " 'incredibly friendly and helpful, wonderful people. \\xa0But the food was very '\n",
      " 'overrated. \\xa0I had the sweet potato/goat cheese croquettes, which were '\n",
      " 'bland and greasy (and goat cheese and sweet potato are 2 of my favorite '\n",
      " \"foods on earth!) \\xa0I was starving and didn't even finish them. \\xa0The \"\n",
      " 'mozzarella was bland on the \"snacks\" menu, and the rabbit rouilletts (sp?) '\n",
      " 'were great but the pesto was dripping with oil. For entrees, my hubby got '\n",
      " 'the fried chicken which was also bland (but juicy) and generally overrated '\n",
      " '(the slaw it came with was great though). \\xa0He asked for 2 breasts but one '\n",
      " 'was a strange cut w/out a lot of meat on it. \\xa0One tasted almost '\n",
      " 'undercooked. I got the duck meatloaf, which was too salty. \\xa0The onion '\n",
      " 'ring it came with was totally tasteless, and the turnip/parsnip puree was '\n",
      " 'just ok. Hubby got the root beer float for dessert which was WAY too '\n",
      " 'wintergreen-y. \\xa0My cappuccino was terrible. \\xa0BUT my choc/caramel tart '\n",
      " 'was AMAZING. \\xa0I practically licked the plate. All that, w/one glass of '\n",
      " 'wine, was $100 for dinner. \\xa0PLEASE save your money and go elsewhere! \\xa0'\n",
      " 'It is SO not worth your time (90 mins? Really??) and money considering all '\n",
      " 'the other amazing options in Brooklyn. \\xa0I mean, fried chicken? \\xa0How '\n",
      " 'the eff do you mess that up??']\n"
     ]
    }
   ],
   "source": [
    "data = df.review.values.tolist()\n",
    "\n",
    "pprint(data[:1])"
   ]
  },
  {
   "cell_type": "code",
   "execution_count": 29,
   "metadata": {},
   "outputs": [
    {
     "name": "stdout",
     "output_type": "stream",
     "text": [
      "[['arrived', 'at', 'pm', 'on', 'sat', 'night', 'to', 'be', 'told', 'it', 'min', 'wait', 'but', 'we', 'sat', 'at', 'the', 'bar', 'and', 'got', 'served', 'asap', 'the', 'hosts', 'bartenders', 'servers', 'were', 'incredibly', 'friendly', 'and', 'helpful', 'wonderful', 'people', 'but', 'the', 'food', 'was', 'very', 'overrated', 'had', 'the', 'sweet', 'potato', 'goat', 'cheese', 'croquettes', 'which', 'were', 'bland', 'and', 'greasy', 'and', 'goat', 'cheese', 'and', 'sweet', 'potato', 'are', 'of', 'my', 'favorite', 'foods', 'on', 'earth', 'was', 'starving', 'and', 'didn', 'even', 'finish', 'them', 'the', 'mozzarella', 'was', 'bland', 'on', 'the', 'snacks', 'menu', 'and', 'the', 'rabbit', 'rouilletts', 'sp', 'were', 'great', 'but', 'the', 'pesto', 'was', 'dripping', 'with', 'oil', 'for', 'entrees', 'my', 'hubby', 'got', 'the', 'fried', 'chicken', 'which', 'was', 'also', 'bland', 'but', 'juicy', 'and', 'generally', 'overrated', 'the', 'slaw', 'it', 'came', 'with', 'was', 'great', 'though', 'he', 'asked', 'for', 'breasts', 'but', 'one', 'was', 'strange', 'cut', 'out', 'lot', 'of', 'meat', 'on', 'it', 'one', 'tasted', 'almost', 'undercooked', 'got', 'the', 'duck', 'meatloaf', 'which', 'was', 'too', 'salty', 'the', 'onion', 'ring', 'it', 'came', 'with', 'was', 'totally', 'tasteless', 'and', 'the', 'turnip', 'parsnip', 'puree', 'was', 'just', 'ok', 'hubby', 'got', 'the', 'root', 'beer', 'float', 'for', 'dessert', 'which', 'was', 'way', 'too', 'wintergreen', 'my', 'cappuccino', 'was', 'terrible', 'but', 'my', 'choc', 'caramel', 'tart', 'was', 'amazing', 'practically', 'licked', 'the', 'plate', 'all', 'that', 'one', 'glass', 'of', 'wine', 'was', 'for', 'dinner', 'please', 'save', 'your', 'money', 'and', 'go', 'elsewhere', 'it', 'is', 'so', 'not', 'worth', 'your', 'time', 'mins', 'really', 'and', 'money', 'considering', 'all', 'the', 'other', 'amazing', 'options', 'in', 'brooklyn', 'mean', 'fried', 'chicken', 'how', 'the', 'eff', 'do', 'you', 'mess', 'that', 'up']]\n"
     ]
    }
   ],
   "source": [
    "def sent_to_words(sentences):\n",
    "    for sentence in sentences:\n",
    "        yield(gensim.utils.simple_preprocess(str(sentence), deacc=True))\n",
    "        \n",
    "data_words = list(sent_to_words(data)) \n",
    "print(data_words[:1])"
   ]
  },
  {
   "cell_type": "code",
   "execution_count": 30,
   "metadata": {},
   "outputs": [],
   "source": [
    "## 표제어 추출 함수 (명사, 형용사, 동사, 부사)\n",
    "\n",
    "def lemmatization(texts, allowed_postags=['NOUN', 'ADJ', 'VERB', 'ADV']):\n",
    "    \"\"\"https://spacy.io/api/annotation\"\"\"\n",
    "    texts_out = []\n",
    "    for sent in texts:\n",
    "        doc = nlp(\" \".join(sent)) \n",
    "        texts_out.append(\" \".join([token.lemma_ if token.lemma_ not in ['-PRON-'] else '' for token in doc if token.pos_ in allowed_postags]))\n",
    "    return texts_out"
   ]
  },
  {
   "cell_type": "code",
   "execution_count": 31,
   "metadata": {},
   "outputs": [
    {
     "name": "stdout",
     "output_type": "stream",
     "text": [
      "['arrive pm night tell wait sit bar get serve asap host bartender server incredibly friendly helpful wonderful people food very overrated sweet potato cheese croquette bland greasy cheese sweet potato favorite food earth starve even finish mozzarella bland snack menu rabbit rouillett great pesto drip oil entree hubby get fry chicken also bland juicy generally overrate slaw come great ask breast strange cut lot meat taste almost undercooked get duck meatloaf too salty onion ring come totally tasteless turnip puree just ok hubby get root beer float dessert way too cappuccino terrible amazing practically lick plate glass wine dinner save money go elsewhere so worth time min really money consider other amazing option chicken how eff mess', 'go healthy affordable dinner love platter soup also very flavorful fill can tell use good quality olive oil']\n"
     ]
    }
   ],
   "source": [
    "nlp = spacy.load('en_core_web_sm', disable=['parser', 'ner'])\n",
    "\n",
    "data_lemmatized = lemmatization(data_words, allowed_postags=['NOUN', 'ADJ', 'VERB', 'ADV'])\n",
    "print(data_lemmatized[:2])"
   ]
  },
  {
   "cell_type": "code",
   "execution_count": 32,
   "metadata": {},
   "outputs": [],
   "source": [
    "# 빈도 기반 단어 문서 매트릭스 생성\n",
    "\n",
    "vectorizer = CountVectorizer(\n",
    " analyzer='word',\n",
    " min_df=5,\n",
    " stop_words='english',\n",
    " lowercase=True,\n",
    " token_pattern='[a-zA-Z0-9]{2,}'\n",
    ")\n",
    "\n",
    "data_vectorized = vectorizer.fit_transform(data_lemmatized)"
   ]
  },
  {
   "cell_type": "code",
   "execution_count": 33,
   "metadata": {},
   "outputs": [],
   "source": [
    "# 토픽 3개 LDA 실행\n",
    "\n",
    "NUM_TOPICS = 3\n",
    "lda_model = LatentDirichletAllocation(\n",
    " n_components=NUM_TOPICS,\n",
    " max_iter=10,\n",
    " learning_method='online',\n",
    " random_state=100,\n",
    " batch_size=128,\n",
    " evaluate_every = -1,\n",
    " n_jobs = -1,\n",
    ")\n",
    "\n",
    "lda_output = lda_model.fit_transform(data_vectorized)"
   ]
  },
  {
   "cell_type": "code",
   "execution_count": 34,
   "metadata": {},
   "outputs": [
    {
     "name": "stdout",
     "output_type": "stream",
     "text": [
      "-556396.3448264957\n"
     ]
    }
   ],
   "source": [
    "log = lda_model.score(data_vectorized)\n",
    "print(log)"
   ]
  },
  {
   "cell_type": "code",
   "execution_count": 35,
   "metadata": {},
   "outputs": [
    {
     "name": "stdout",
     "output_type": "stream",
     "text": [
      "832.7361274932141\n"
     ]
    }
   ],
   "source": [
    "per = lda_model.perplexity(data_vectorized)\n",
    "print(per)"
   ]
  },
  {
   "cell_type": "code",
   "execution_count": 36,
   "metadata": {},
   "outputs": [
    {
     "data": {
      "text/html": [
       "<style  type=\"text/css\" >\n",
       "#T_3ecf97fe_3f68_11eb_b66e_f4d1085d993arow0_col0,#T_3ecf97fe_3f68_11eb_b66e_f4d1085d993arow1_col0,#T_3ecf97fe_3f68_11eb_b66e_f4d1085d993arow2_col0,#T_3ecf97fe_3f68_11eb_b66e_f4d1085d993arow2_col2,#T_3ecf97fe_3f68_11eb_b66e_f4d1085d993arow4_col1,#T_3ecf97fe_3f68_11eb_b66e_f4d1085d993arow5_col0,#T_3ecf97fe_3f68_11eb_b66e_f4d1085d993arow5_col1,#T_3ecf97fe_3f68_11eb_b66e_f4d1085d993arow6_col2,#T_3ecf97fe_3f68_11eb_b66e_f4d1085d993arow7_col1,#T_3ecf97fe_3f68_11eb_b66e_f4d1085d993arow8_col0,#T_3ecf97fe_3f68_11eb_b66e_f4d1085d993arow8_col1,#T_3ecf97fe_3f68_11eb_b66e_f4d1085d993arow9_col1,#T_3ecf97fe_3f68_11eb_b66e_f4d1085d993arow9_col3,#T_3ecf97fe_3f68_11eb_b66e_f4d1085d993arow10_col0,#T_3ecf97fe_3f68_11eb_b66e_f4d1085d993arow10_col2,#T_3ecf97fe_3f68_11eb_b66e_f4d1085d993arow11_col0,#T_3ecf97fe_3f68_11eb_b66e_f4d1085d993arow11_col1,#T_3ecf97fe_3f68_11eb_b66e_f4d1085d993arow12_col0,#T_3ecf97fe_3f68_11eb_b66e_f4d1085d993arow12_col1,#T_3ecf97fe_3f68_11eb_b66e_f4d1085d993arow13_col1,#T_3ecf97fe_3f68_11eb_b66e_f4d1085d993arow13_col2,#T_3ecf97fe_3f68_11eb_b66e_f4d1085d993arow13_col3,#T_3ecf97fe_3f68_11eb_b66e_f4d1085d993arow14_col0,#T_3ecf97fe_3f68_11eb_b66e_f4d1085d993arow14_col1{\n",
       "            color:  black;\n",
       "            font-weight:  400;\n",
       "        }#T_3ecf97fe_3f68_11eb_b66e_f4d1085d993arow0_col1,#T_3ecf97fe_3f68_11eb_b66e_f4d1085d993arow0_col2,#T_3ecf97fe_3f68_11eb_b66e_f4d1085d993arow0_col3,#T_3ecf97fe_3f68_11eb_b66e_f4d1085d993arow1_col1,#T_3ecf97fe_3f68_11eb_b66e_f4d1085d993arow1_col2,#T_3ecf97fe_3f68_11eb_b66e_f4d1085d993arow1_col3,#T_3ecf97fe_3f68_11eb_b66e_f4d1085d993arow2_col1,#T_3ecf97fe_3f68_11eb_b66e_f4d1085d993arow2_col3,#T_3ecf97fe_3f68_11eb_b66e_f4d1085d993arow3_col0,#T_3ecf97fe_3f68_11eb_b66e_f4d1085d993arow3_col1,#T_3ecf97fe_3f68_11eb_b66e_f4d1085d993arow3_col2,#T_3ecf97fe_3f68_11eb_b66e_f4d1085d993arow3_col3,#T_3ecf97fe_3f68_11eb_b66e_f4d1085d993arow4_col0,#T_3ecf97fe_3f68_11eb_b66e_f4d1085d993arow4_col2,#T_3ecf97fe_3f68_11eb_b66e_f4d1085d993arow4_col3,#T_3ecf97fe_3f68_11eb_b66e_f4d1085d993arow5_col2,#T_3ecf97fe_3f68_11eb_b66e_f4d1085d993arow5_col3,#T_3ecf97fe_3f68_11eb_b66e_f4d1085d993arow6_col0,#T_3ecf97fe_3f68_11eb_b66e_f4d1085d993arow6_col1,#T_3ecf97fe_3f68_11eb_b66e_f4d1085d993arow6_col3,#T_3ecf97fe_3f68_11eb_b66e_f4d1085d993arow7_col0,#T_3ecf97fe_3f68_11eb_b66e_f4d1085d993arow7_col2,#T_3ecf97fe_3f68_11eb_b66e_f4d1085d993arow7_col3,#T_3ecf97fe_3f68_11eb_b66e_f4d1085d993arow8_col2,#T_3ecf97fe_3f68_11eb_b66e_f4d1085d993arow8_col3,#T_3ecf97fe_3f68_11eb_b66e_f4d1085d993arow9_col0,#T_3ecf97fe_3f68_11eb_b66e_f4d1085d993arow9_col2,#T_3ecf97fe_3f68_11eb_b66e_f4d1085d993arow10_col1,#T_3ecf97fe_3f68_11eb_b66e_f4d1085d993arow10_col3,#T_3ecf97fe_3f68_11eb_b66e_f4d1085d993arow11_col2,#T_3ecf97fe_3f68_11eb_b66e_f4d1085d993arow11_col3,#T_3ecf97fe_3f68_11eb_b66e_f4d1085d993arow12_col2,#T_3ecf97fe_3f68_11eb_b66e_f4d1085d993arow12_col3,#T_3ecf97fe_3f68_11eb_b66e_f4d1085d993arow13_col0,#T_3ecf97fe_3f68_11eb_b66e_f4d1085d993arow14_col2,#T_3ecf97fe_3f68_11eb_b66e_f4d1085d993arow14_col3{\n",
       "            color:  green;\n",
       "            font-weight:  700;\n",
       "        }</style><table id=\"T_3ecf97fe_3f68_11eb_b66e_f4d1085d993a\" ><thead>    <tr>        <th class=\"blank level0\" ></th>        <th class=\"col_heading level0 col0\" >Topic0</th>        <th class=\"col_heading level0 col1\" >Topic1</th>        <th class=\"col_heading level0 col2\" >Topic2</th>        <th class=\"col_heading level0 col3\" >dominant_topic</th>    </tr></thead><tbody>\n",
       "                <tr>\n",
       "                        <th id=\"T_3ecf97fe_3f68_11eb_b66e_f4d1085d993alevel0_row0\" class=\"row_heading level0 row0\" >Doc0</th>\n",
       "                        <td id=\"T_3ecf97fe_3f68_11eb_b66e_f4d1085d993arow0_col0\" class=\"data row0 col0\" >0.050000</td>\n",
       "                        <td id=\"T_3ecf97fe_3f68_11eb_b66e_f4d1085d993arow0_col1\" class=\"data row0 col1\" >0.280000</td>\n",
       "                        <td id=\"T_3ecf97fe_3f68_11eb_b66e_f4d1085d993arow0_col2\" class=\"data row0 col2\" >0.670000</td>\n",
       "                        <td id=\"T_3ecf97fe_3f68_11eb_b66e_f4d1085d993arow0_col3\" class=\"data row0 col3\" >2</td>\n",
       "            </tr>\n",
       "            <tr>\n",
       "                        <th id=\"T_3ecf97fe_3f68_11eb_b66e_f4d1085d993alevel0_row1\" class=\"row_heading level0 row1\" >Doc1</th>\n",
       "                        <td id=\"T_3ecf97fe_3f68_11eb_b66e_f4d1085d993arow1_col0\" class=\"data row1 col0\" >0.030000</td>\n",
       "                        <td id=\"T_3ecf97fe_3f68_11eb_b66e_f4d1085d993arow1_col1\" class=\"data row1 col1\" >0.490000</td>\n",
       "                        <td id=\"T_3ecf97fe_3f68_11eb_b66e_f4d1085d993arow1_col2\" class=\"data row1 col2\" >0.480000</td>\n",
       "                        <td id=\"T_3ecf97fe_3f68_11eb_b66e_f4d1085d993arow1_col3\" class=\"data row1 col3\" >1</td>\n",
       "            </tr>\n",
       "            <tr>\n",
       "                        <th id=\"T_3ecf97fe_3f68_11eb_b66e_f4d1085d993alevel0_row2\" class=\"row_heading level0 row2\" >Doc2</th>\n",
       "                        <td id=\"T_3ecf97fe_3f68_11eb_b66e_f4d1085d993arow2_col0\" class=\"data row2 col0\" >0.050000</td>\n",
       "                        <td id=\"T_3ecf97fe_3f68_11eb_b66e_f4d1085d993arow2_col1\" class=\"data row2 col1\" >0.900000</td>\n",
       "                        <td id=\"T_3ecf97fe_3f68_11eb_b66e_f4d1085d993arow2_col2\" class=\"data row2 col2\" >0.050000</td>\n",
       "                        <td id=\"T_3ecf97fe_3f68_11eb_b66e_f4d1085d993arow2_col3\" class=\"data row2 col3\" >1</td>\n",
       "            </tr>\n",
       "            <tr>\n",
       "                        <th id=\"T_3ecf97fe_3f68_11eb_b66e_f4d1085d993alevel0_row3\" class=\"row_heading level0 row3\" >Doc3</th>\n",
       "                        <td id=\"T_3ecf97fe_3f68_11eb_b66e_f4d1085d993arow3_col0\" class=\"data row3 col0\" >0.420000</td>\n",
       "                        <td id=\"T_3ecf97fe_3f68_11eb_b66e_f4d1085d993arow3_col1\" class=\"data row3 col1\" >0.460000</td>\n",
       "                        <td id=\"T_3ecf97fe_3f68_11eb_b66e_f4d1085d993arow3_col2\" class=\"data row3 col2\" >0.120000</td>\n",
       "                        <td id=\"T_3ecf97fe_3f68_11eb_b66e_f4d1085d993arow3_col3\" class=\"data row3 col3\" >1</td>\n",
       "            </tr>\n",
       "            <tr>\n",
       "                        <th id=\"T_3ecf97fe_3f68_11eb_b66e_f4d1085d993alevel0_row4\" class=\"row_heading level0 row4\" >Doc4</th>\n",
       "                        <td id=\"T_3ecf97fe_3f68_11eb_b66e_f4d1085d993arow4_col0\" class=\"data row4 col0\" >0.260000</td>\n",
       "                        <td id=\"T_3ecf97fe_3f68_11eb_b66e_f4d1085d993arow4_col1\" class=\"data row4 col1\" >0.010000</td>\n",
       "                        <td id=\"T_3ecf97fe_3f68_11eb_b66e_f4d1085d993arow4_col2\" class=\"data row4 col2\" >0.730000</td>\n",
       "                        <td id=\"T_3ecf97fe_3f68_11eb_b66e_f4d1085d993arow4_col3\" class=\"data row4 col3\" >2</td>\n",
       "            </tr>\n",
       "            <tr>\n",
       "                        <th id=\"T_3ecf97fe_3f68_11eb_b66e_f4d1085d993alevel0_row5\" class=\"row_heading level0 row5\" >Doc5</th>\n",
       "                        <td id=\"T_3ecf97fe_3f68_11eb_b66e_f4d1085d993arow5_col0\" class=\"data row5 col0\" >0.040000</td>\n",
       "                        <td id=\"T_3ecf97fe_3f68_11eb_b66e_f4d1085d993arow5_col1\" class=\"data row5 col1\" >0.040000</td>\n",
       "                        <td id=\"T_3ecf97fe_3f68_11eb_b66e_f4d1085d993arow5_col2\" class=\"data row5 col2\" >0.930000</td>\n",
       "                        <td id=\"T_3ecf97fe_3f68_11eb_b66e_f4d1085d993arow5_col3\" class=\"data row5 col3\" >2</td>\n",
       "            </tr>\n",
       "            <tr>\n",
       "                        <th id=\"T_3ecf97fe_3f68_11eb_b66e_f4d1085d993alevel0_row6\" class=\"row_heading level0 row6\" >Doc6</th>\n",
       "                        <td id=\"T_3ecf97fe_3f68_11eb_b66e_f4d1085d993arow6_col0\" class=\"data row6 col0\" >0.180000</td>\n",
       "                        <td id=\"T_3ecf97fe_3f68_11eb_b66e_f4d1085d993arow6_col1\" class=\"data row6 col1\" >0.800000</td>\n",
       "                        <td id=\"T_3ecf97fe_3f68_11eb_b66e_f4d1085d993arow6_col2\" class=\"data row6 col2\" >0.010000</td>\n",
       "                        <td id=\"T_3ecf97fe_3f68_11eb_b66e_f4d1085d993arow6_col3\" class=\"data row6 col3\" >1</td>\n",
       "            </tr>\n",
       "            <tr>\n",
       "                        <th id=\"T_3ecf97fe_3f68_11eb_b66e_f4d1085d993alevel0_row7\" class=\"row_heading level0 row7\" >Doc7</th>\n",
       "                        <td id=\"T_3ecf97fe_3f68_11eb_b66e_f4d1085d993arow7_col0\" class=\"data row7 col0\" >0.380000</td>\n",
       "                        <td id=\"T_3ecf97fe_3f68_11eb_b66e_f4d1085d993arow7_col1\" class=\"data row7 col1\" >0.010000</td>\n",
       "                        <td id=\"T_3ecf97fe_3f68_11eb_b66e_f4d1085d993arow7_col2\" class=\"data row7 col2\" >0.610000</td>\n",
       "                        <td id=\"T_3ecf97fe_3f68_11eb_b66e_f4d1085d993arow7_col3\" class=\"data row7 col3\" >2</td>\n",
       "            </tr>\n",
       "            <tr>\n",
       "                        <th id=\"T_3ecf97fe_3f68_11eb_b66e_f4d1085d993alevel0_row8\" class=\"row_heading level0 row8\" >Doc8</th>\n",
       "                        <td id=\"T_3ecf97fe_3f68_11eb_b66e_f4d1085d993arow8_col0\" class=\"data row8 col0\" >0.050000</td>\n",
       "                        <td id=\"T_3ecf97fe_3f68_11eb_b66e_f4d1085d993arow8_col1\" class=\"data row8 col1\" >0.050000</td>\n",
       "                        <td id=\"T_3ecf97fe_3f68_11eb_b66e_f4d1085d993arow8_col2\" class=\"data row8 col2\" >0.910000</td>\n",
       "                        <td id=\"T_3ecf97fe_3f68_11eb_b66e_f4d1085d993arow8_col3\" class=\"data row8 col3\" >2</td>\n",
       "            </tr>\n",
       "            <tr>\n",
       "                        <th id=\"T_3ecf97fe_3f68_11eb_b66e_f4d1085d993alevel0_row9\" class=\"row_heading level0 row9\" >Doc9</th>\n",
       "                        <td id=\"T_3ecf97fe_3f68_11eb_b66e_f4d1085d993arow9_col0\" class=\"data row9 col0\" >0.500000</td>\n",
       "                        <td id=\"T_3ecf97fe_3f68_11eb_b66e_f4d1085d993arow9_col1\" class=\"data row9 col1\" >0.030000</td>\n",
       "                        <td id=\"T_3ecf97fe_3f68_11eb_b66e_f4d1085d993arow9_col2\" class=\"data row9 col2\" >0.480000</td>\n",
       "                        <td id=\"T_3ecf97fe_3f68_11eb_b66e_f4d1085d993arow9_col3\" class=\"data row9 col3\" >0</td>\n",
       "            </tr>\n",
       "            <tr>\n",
       "                        <th id=\"T_3ecf97fe_3f68_11eb_b66e_f4d1085d993alevel0_row10\" class=\"row_heading level0 row10\" >Doc10</th>\n",
       "                        <td id=\"T_3ecf97fe_3f68_11eb_b66e_f4d1085d993arow10_col0\" class=\"data row10 col0\" >0.010000</td>\n",
       "                        <td id=\"T_3ecf97fe_3f68_11eb_b66e_f4d1085d993arow10_col1\" class=\"data row10 col1\" >0.970000</td>\n",
       "                        <td id=\"T_3ecf97fe_3f68_11eb_b66e_f4d1085d993arow10_col2\" class=\"data row10 col2\" >0.010000</td>\n",
       "                        <td id=\"T_3ecf97fe_3f68_11eb_b66e_f4d1085d993arow10_col3\" class=\"data row10 col3\" >1</td>\n",
       "            </tr>\n",
       "            <tr>\n",
       "                        <th id=\"T_3ecf97fe_3f68_11eb_b66e_f4d1085d993alevel0_row11\" class=\"row_heading level0 row11\" >Doc11</th>\n",
       "                        <td id=\"T_3ecf97fe_3f68_11eb_b66e_f4d1085d993arow11_col0\" class=\"data row11 col0\" >0.060000</td>\n",
       "                        <td id=\"T_3ecf97fe_3f68_11eb_b66e_f4d1085d993arow11_col1\" class=\"data row11 col1\" >0.060000</td>\n",
       "                        <td id=\"T_3ecf97fe_3f68_11eb_b66e_f4d1085d993arow11_col2\" class=\"data row11 col2\" >0.880000</td>\n",
       "                        <td id=\"T_3ecf97fe_3f68_11eb_b66e_f4d1085d993arow11_col3\" class=\"data row11 col3\" >2</td>\n",
       "            </tr>\n",
       "            <tr>\n",
       "                        <th id=\"T_3ecf97fe_3f68_11eb_b66e_f4d1085d993alevel0_row12\" class=\"row_heading level0 row12\" >Doc12</th>\n",
       "                        <td id=\"T_3ecf97fe_3f68_11eb_b66e_f4d1085d993arow12_col0\" class=\"data row12 col0\" >0.030000</td>\n",
       "                        <td id=\"T_3ecf97fe_3f68_11eb_b66e_f4d1085d993arow12_col1\" class=\"data row12 col1\" >0.030000</td>\n",
       "                        <td id=\"T_3ecf97fe_3f68_11eb_b66e_f4d1085d993arow12_col2\" class=\"data row12 col2\" >0.940000</td>\n",
       "                        <td id=\"T_3ecf97fe_3f68_11eb_b66e_f4d1085d993arow12_col3\" class=\"data row12 col3\" >2</td>\n",
       "            </tr>\n",
       "            <tr>\n",
       "                        <th id=\"T_3ecf97fe_3f68_11eb_b66e_f4d1085d993alevel0_row13\" class=\"row_heading level0 row13\" >Doc13</th>\n",
       "                        <td id=\"T_3ecf97fe_3f68_11eb_b66e_f4d1085d993arow13_col0\" class=\"data row13 col0\" >0.980000</td>\n",
       "                        <td id=\"T_3ecf97fe_3f68_11eb_b66e_f4d1085d993arow13_col1\" class=\"data row13 col1\" >0.010000</td>\n",
       "                        <td id=\"T_3ecf97fe_3f68_11eb_b66e_f4d1085d993arow13_col2\" class=\"data row13 col2\" >0.010000</td>\n",
       "                        <td id=\"T_3ecf97fe_3f68_11eb_b66e_f4d1085d993arow13_col3\" class=\"data row13 col3\" >0</td>\n",
       "            </tr>\n",
       "            <tr>\n",
       "                        <th id=\"T_3ecf97fe_3f68_11eb_b66e_f4d1085d993alevel0_row14\" class=\"row_heading level0 row14\" >Doc14</th>\n",
       "                        <td id=\"T_3ecf97fe_3f68_11eb_b66e_f4d1085d993arow14_col0\" class=\"data row14 col0\" >0.010000</td>\n",
       "                        <td id=\"T_3ecf97fe_3f68_11eb_b66e_f4d1085d993arow14_col1\" class=\"data row14 col1\" >0.070000</td>\n",
       "                        <td id=\"T_3ecf97fe_3f68_11eb_b66e_f4d1085d993arow14_col2\" class=\"data row14 col2\" >0.920000</td>\n",
       "                        <td id=\"T_3ecf97fe_3f68_11eb_b66e_f4d1085d993arow14_col3\" class=\"data row14 col3\" >2</td>\n",
       "            </tr>\n",
       "    </tbody></table>"
      ],
      "text/plain": [
       "<pandas.io.formats.style.Styler at 0x15d61358940>"
      ]
     },
     "execution_count": 36,
     "metadata": {},
     "output_type": "execute_result"
    }
   ],
   "source": [
    "# 문서별 대표 토픽 및 토픽에 속할 확률\n",
    "\n",
    "# Create Document - Topic Matrix\n",
    "lda_output = lda_model.transform(data_vectorized)\n",
    "\n",
    "# column names\n",
    "topicnames = [\"Topic\" + str(i) for i in range(lda_model.n_components)]\n",
    "\n",
    "# index names\n",
    "docnames = [\"Doc\" + str(i) for i in range(len(data))]\n",
    "\n",
    "# Make the pandas dataframe\n",
    "df_document_topic = pd.DataFrame(np.round(lda_output, 2), columns=topicnames, index=docnames)\n",
    "\n",
    "# Get dominant topic for each document\n",
    "dominant_topic = np.argmax(df_document_topic.values, axis=1)\n",
    "df_document_topic['dominant_topic'] = dominant_topic\n",
    "\n",
    "# Styling\n",
    "def color_green(val):\n",
    "    color = 'green' if val > .1 else 'black'\n",
    "    return 'color: {col}'.format(col=color)\n",
    "\n",
    "def make_bold(val):\n",
    "    weight = 700 if val > .1 else 400\n",
    "    return 'font-weight: {weight}'.format(weight=weight)\n",
    "\n",
    "# Apply Style\n",
    "df_document_topics = df_document_topic.head(15).style.applymap(color_green).applymap(make_bold)\n",
    "df_document_topics"
   ]
  },
  {
   "cell_type": "code",
   "execution_count": 37,
   "metadata": {},
   "outputs": [
    {
     "data": {
      "text/plain": [
       "[array(['wait', 'food', 'time', 'good', 'order', 'raman', 'table',\n",
       "        'restaurant', 'just', 'come', 'experience', 'service', 'say',\n",
       "        'minute', 'hour'], dtype='<U14'),\n",
       " array(['good', 'place', 'sauce', 'order', 'pizza', 'just', 'come',\n",
       "        'chicken', 'eat', 'try', 'make', 'pork', 'taste', 'really', 'food'],\n",
       "       dtype='<U14'),\n",
       " array(['food', 'good', 'place', 'great', 'service', 'really', 'come',\n",
       "        'nice', 'restaurant', 'delicious', 'price', 'time', 'dinner',\n",
       "        'love', 'just'], dtype='<U14')]"
      ]
     },
     "execution_count": 37,
     "metadata": {},
     "output_type": "execute_result"
    }
   ],
   "source": [
    "# 토픽에 속한 단어 \n",
    "\n",
    "def show_topics(vectorizer=vectorizer, lda_model=lda_model, n_words=20):\n",
    "    keywords = np.array(vectorizer.get_feature_names())\n",
    "    topic_keywords = []\n",
    "    for topic_weights in lda_model.components_:\n",
    "        top_keyword_locs = (-topic_weights).argsort()[:n_words]\n",
    "        topic_keywords.append(keywords.take(top_keyword_locs))\n",
    "    return topic_keywords\n",
    "\n",
    "topic_keywords = show_topics(vectorizer=vectorizer, lda_model=lda_model, n_words=15) \n",
    "topic_keywords"
   ]
  },
  {
   "cell_type": "markdown",
   "metadata": {},
   "source": [
    "[array(['wait', 'food', 'time', 'good', 'order', 'raman', 'table',     \n",
    "        'restaurant', 'just', 'come', 'experience', 'service', 'say',      \n",
    "        'minute', 'hour'], dtype='<U14'),     \n",
    " array(['good', 'place', 'sauce', 'order', 'pizza', 'just', 'come',      \n",
    "        'chicken', 'eat', 'try', 'make', 'pork', 'taste', 'really', 'food'],       \n",
    "       dtype='<U14'),     \n",
    " array(['food', 'good', 'place', 'great', 'service', 'really', 'come',      \n",
    "        'nice', 'restaurant', 'delicious', 'price', 'time', 'dinner',     \n",
    "        'love', 'just'], dtype='<U14')]     \n",
    "             \n",
    "으로 리뷰에 포함된 토픽을 찾아보았다."
   ]
  },
  {
   "cell_type": "markdown",
   "metadata": {},
   "source": [
    "(2) (1)에서 수행한 LDA 결과를 pyLDAvis 라이브러리를 활용하여 시각화하고, 각 토픽\n",
    "에 적당한 토픽명을 붙여라."
   ]
  },
  {
   "cell_type": "code",
   "execution_count": 38,
   "metadata": {},
   "outputs": [
    {
     "data": {
      "text/html": [
       "\n",
       "<link rel=\"stylesheet\" type=\"text/css\" href=\"https://cdn.rawgit.com/bmabey/pyLDAvis/files/ldavis.v1.0.0.css\">\n",
       "\n",
       "\n",
       "<div id=\"ldavis_el209215005745057443326954525\"></div>\n",
       "<script type=\"text/javascript\">\n",
       "\n",
       "var ldavis_el209215005745057443326954525_data = {\"mdsDat\": {\"x\": [-0.026542184615052287, -0.09735863559358912, 0.12390082020864138], \"y\": [-0.10394039123233459, 0.07067315935875627, 0.03326723187357832], \"topics\": [1, 2, 3], \"cluster\": [1, 1, 1], \"Freq\": [39.947689902740734, 37.125170283269334, 22.92713981398993]}, \"tinfo\": {\"Term\": [\"wait\", \"sauce\", \"raman\", \"pizza\", \"great\", \"chicken\", \"service\", \"experience\", \"pork\", \"minute\", \"hot\", \"food\", \"noodle\", \"table\", \"dumpling\", \"hour\", \"place\", \"bun\", \"rice\", \"restaurant\", \"friendly\", \"wine\", \"spicy\", \"atmosphere\", \"pie\", \"tell\", \"dinner\", \"slice\", \"price\", \"line\", \"cozy\", \"intimate\", \"reasonable\", \"atmosphere\", \"romantic\", \"cheesecake\", \"pasta\", \"quiet\", \"ambiance\", \"reasonably\", \"crowded\", \"market\", \"decor\", \"desert\", \"attentive\", \"greek\", \"veal\", \"spaghetti\", \"honest\", \"gluten\", \"iced\", \"hash\", \"phenomenal\", \"music\", \"private\", \"date\", \"ambience\", \"trendy\", \"pretentious\", \"low\", \"vibe\", \"friendly\", \"seafood\", \"calamari\", \"italian\", \"loud\", \"wine\", \"great\", \"tapa\", \"eggplant\", \"excellent\", \"price\", \"dinner\", \"food\", \"selection\", \"area\", \"service\", \"nice\", \"place\", \"staff\", \"amazing\", \"entree\", \"drink\", \"bar\", \"really\", \"good\", \"recommend\", \"dessert\", \"small\", \"night\", \"delicious\", \"definitely\", \"come\", \"restaurant\", \"love\", \"dish\", \"brunch\", \"friend\", \"fresh\", \"time\", \"try\", \"menu\", \"just\", \"order\", \"make\", \"table\", \"dumpling\", \"noodle\", \"mouth\", \"cart\", \"cream\", \"biscuit\", \"crust\", \"curry\", \"corn\", \"pie\", \"delivery\", \"rice\", \"halal\", \"skin\", \"slice\", \"basil\", \"melt\", \"soy\", \"tofu\", \"brisket\", \"topping\", \"korean\", \"brown\", \"finger\", \"bean\", \"box\", \"crunchy\", \"cabbage\", \"scallion\", \"lettuce\", \"hot\", \"sauce\", \"creamy\", \"pizza\", \"spicy\", \"beef\", \"chicken\", \"pepper\", \"pork\", \"sausage\", \"fan\", \"soup\", \"fried\", \"flavor\", \"add\", \"fry\", \"piece\", \"taste\", \"sweet\", \"white\", \"eat\", \"good\", \"try\", \"just\", \"order\", \"make\", \"place\", \"come\", \"little\", \"cheese\", \"love\", \"delicious\", \"dish\", \"really\", \"time\", \"food\", \"think\", \"definitely\", \"raman\", \"bun\", \"true\", \"manager\", \"rude\", \"sake\", \"patron\", \"disappointment\", \"tavern\", \"poor\", \"pig\", \"promptly\", \"communal\", \"company\", \"print\", \"temperature\", \"child\", \"attitude\", \"mark\", \"english\", \"grit\", \"count\", \"grimaldi\", \"office\", \"seasonal\", \"muffin\", \"movie\", \"boring\", \"ideal\", \"horrible\", \"omelet\", \"breakfast\", \"tartare\", \"additional\", \"scramble\", \"minute\", \"experience\", \"twice\", \"card\", \"wait\", \"crepe\", \"average\", \"later\", \"hour\", \"customer\", \"year\", \"sushi\", \"tell\", \"pancake\", \"door\", \"table\", \"hostess\", \"waitress\", \"bad\", \"long\", \"say\", \"time\", \"let\", \"restaurant\", \"people\", \"leave\", \"menu\", \"seat\", \"order\", \"line\", \"service\", \"just\", \"food\", \"come\", \"worth\", \"good\", \"make\", \"think\", \"want\", \"eat\", \"meal\"], \"Freq\": [612.0, 443.0, 214.0, 394.0, 898.0, 364.0, 555.0, 226.0, 303.0, 180.0, 198.0, 1348.0, 169.0, 415.0, 148.0, 216.0, 1332.0, 86.0, 148.0, 529.0, 215.0, 214.0, 146.0, 133.0, 116.0, 153.0, 308.0, 112.0, 311.0, 186.0, 69.4380463002052, 39.599255921627105, 49.469956127667416, 130.24665553127065, 26.595785837097353, 30.122222826972276, 99.66893171783384, 22.869395339057366, 84.54256617138735, 23.52279699221859, 29.834169249932515, 19.420530929662963, 66.65687900865247, 22.939908121536597, 72.47647194091813, 22.204939710249228, 18.307553018367912, 18.407815708217125, 18.32942566964442, 16.929297452173646, 16.13371261840978, 16.492757121074117, 18.21019554047044, 63.91344650713377, 13.897786285352545, 118.6769445958696, 27.16669968660442, 26.133548515177942, 13.457656981498577, 38.818879861094565, 39.70482105330595, 197.1741948194511, 55.06433783342927, 33.52989138928466, 91.74225837096888, 32.18541684700257, 186.39953913407948, 720.3390955918363, 51.2852262318033, 32.540614364072525, 135.26473924891044, 243.22200241389584, 240.83027104086534, 892.07027409371, 79.07456701199965, 109.83005640701197, 382.5868534655722, 270.4805467566891, 790.3121419773481, 157.12155759264755, 210.72749045546507, 82.84551574127009, 214.0387421145734, 192.5552209088393, 372.66359657739434, 808.5172987770067, 148.80609344017665, 123.2813843192644, 192.17002940934282, 187.78404414332206, 250.15864114518254, 210.1662645263504, 366.40067440150335, 260.9345276740749, 237.82058933937265, 236.3898846109648, 159.59596114385994, 206.59666921861498, 163.06908615507987, 241.74256679930528, 225.87639993615383, 184.39890370595361, 237.41807794958197, 236.50140916935192, 182.38409521681717, 163.7451006212731, 147.9996383197382, 167.50302616687594, 70.37452708789421, 43.48399859522071, 77.21895500455689, 39.903845949490965, 86.56712578649632, 41.233638203873426, 77.00542061672304, 113.86405405774147, 28.752720460657248, 143.98159798427494, 22.079518613064778, 24.58031206179918, 108.64581989985726, 29.76629843873404, 35.631427344201356, 25.580965910088405, 22.23730960445509, 23.119972235699876, 28.565750926797264, 30.95495309874157, 19.15969722014892, 18.953155295935282, 59.391937412149844, 20.23454187750113, 39.93052094896703, 19.13123769315349, 18.394666122930804, 17.30498099349265, 190.780434520194, 421.15722665168386, 45.82252757343461, 367.5024287639759, 137.775886230122, 112.29258421790371, 324.66155641809553, 46.85516529159104, 265.5161317217293, 74.05283976478403, 82.19838897571421, 116.39427764377139, 81.17413597885515, 191.91935285462318, 90.00743283136701, 200.78519880121775, 90.69102757697004, 234.8985280543538, 141.48644186824313, 78.76166583550302, 303.14432054223465, 741.1414203334263, 297.0944553049737, 360.4243297626214, 375.21255049025007, 295.9970525679805, 478.0203200101224, 327.4938295736819, 180.82153040326148, 155.3928252721786, 208.41091874108486, 212.65212641527387, 198.89193530222525, 227.25352486029647, 203.25428676418878, 223.0084438772391, 150.62111374808984, 141.1640602700173, 211.975394063726, 85.16360122865161, 47.51817115178776, 35.95206822114654, 26.58100724941329, 28.509516901121554, 27.39501296813206, 19.353772875158473, 19.203989888553913, 18.702523579008357, 25.006161301288508, 16.348977743091023, 16.215308297433864, 16.13990949151277, 11.03751696498804, 11.50702272488346, 14.50330575805508, 24.384589674119358, 13.443300131853293, 12.977718712812932, 14.810177661383738, 9.61012464712234, 11.603375997559452, 11.797506890237885, 15.057863594863381, 9.745349166279862, 10.227256148163981, 9.129556614050227, 14.54337042478742, 9.338069837755729, 18.405452430209547, 61.90801892266988, 13.0206650717418, 19.23300320214444, 15.503892385383397, 143.91750466585995, 166.17644461518643, 30.4002341891838, 25.16291481559014, 385.1680422159323, 26.227467980243322, 50.29821340371722, 41.68740552002043, 141.1256796698131, 50.85031798685378, 81.40164003442037, 23.768455603857934, 99.9493280329912, 48.21677874754694, 50.39576671293689, 194.43370708180106, 39.76147473980335, 64.3336567700743, 90.698627747953, 109.32163683180558, 152.41716014275192, 230.11723491807555, 57.294856173772416, 189.91897870821387, 124.21576803463185, 87.5991346380923, 139.67483434269568, 104.34265343326108, 214.66425082481481, 83.90533709720066, 153.62040832128673, 178.53307578036367, 233.50672851902883, 176.62561627232978, 88.55183905583584, 225.72669781425478, 137.666320335917, 106.55975344507074, 98.9541233310299, 112.10381754610921, 86.15603894702132], \"Total\": [612.0, 443.0, 214.0, 394.0, 898.0, 364.0, 555.0, 226.0, 303.0, 180.0, 198.0, 1348.0, 169.0, 415.0, 148.0, 216.0, 1332.0, 86.0, 148.0, 529.0, 215.0, 214.0, 146.0, 133.0, 116.0, 153.0, 308.0, 112.0, 311.0, 186.0, 70.31239599847031, 40.34446161854872, 50.48273859338978, 133.22943155881777, 27.326786700936594, 30.971886362367854, 102.71102814802896, 23.608181182782154, 87.3020177558333, 24.30086781561862, 30.82870198833017, 20.12191200020573, 69.06571277917463, 23.806997109794807, 75.43832407127773, 23.11307030708655, 19.064005636495242, 19.168640090374172, 19.113775857463725, 17.661105810815226, 16.838544905011414, 17.23331787660808, 19.054494884644242, 66.9027358247802, 14.583783273580293, 124.79842268641924, 28.58294217884085, 27.50415579321789, 14.170264700276238, 41.060316994472586, 42.029503549590245, 215.8612989517299, 59.25247113027056, 35.56169890834849, 101.18280487494236, 34.34867135665382, 214.59950727169624, 898.0130917548132, 55.932439063786816, 34.794967985243325, 161.22687847977093, 311.55055104318285, 308.87668345524185, 1348.585446489978, 92.78299000682212, 134.82206898237413, 555.3792584221399, 386.274377643009, 1332.4597650662943, 213.46084585786824, 303.0169813199202, 102.52235786372891, 320.6709805334602, 282.7955931117373, 658.5225463662431, 1775.3854169246877, 217.735695955787, 171.35334005280384, 313.94864827731845, 309.4239449960118, 480.7561940680923, 378.36210153568385, 870.520120247515, 529.601852509577, 461.4444347346684, 461.3715333932919, 253.99190791900284, 406.74983068076654, 284.103133104638, 675.1140884815695, 592.0803030318611, 382.2951551155951, 776.375483492567, 826.3782104844167, 616.0474681207147, 415.5183167407995, 148.71666920089467, 169.57220894758927, 71.64294067705315, 44.30803056319387, 78.76575956095212, 40.78534161583083, 88.6091025295223, 42.25877988750322, 79.02933569631408, 116.85867640295639, 29.558910875793288, 148.24861252255647, 22.746763542199197, 25.331693147825124, 112.19080968736334, 30.739118599713418, 36.81576043318064, 26.431778127791816, 23.012769612144005, 23.927202882289567, 29.563674499369913, 32.05681226560924, 19.882105735451173, 19.670687431184817, 61.65061216678021, 21.005608545616013, 41.46311948754334, 19.880558322175705, 19.126189381980097, 18.002076607402163, 198.93994831026535, 443.86584739410114, 47.93097667862533, 394.52505596846487, 146.69918456490913, 120.14707809964862, 364.2266688388785, 49.731358920783364, 303.31768111639695, 80.94135456513075, 90.62152146252396, 132.82613745885092, 91.39158035878, 249.7136016058421, 107.51117057610183, 269.0114586971576, 110.32556588109522, 354.19099627015083, 196.5504905554209, 95.50916382070864, 535.7114347903065, 1775.3854169246877, 592.0803030318611, 776.375483492567, 826.3782104844167, 616.0474681207147, 1332.4597650662943, 870.520120247515, 347.1298843113722, 271.2065666208108, 461.4444347346684, 480.7561940680923, 461.3715333932919, 658.5225463662431, 675.1140884815695, 1348.585446489978, 349.3134505990283, 378.36210153568385, 214.4890727700116, 86.23646780147368, 48.31331892606666, 36.72948867893585, 27.290592947848232, 29.279975084190674, 28.20597423755682, 20.045971077164136, 19.903719752663186, 19.386737759486156, 25.95416590829462, 17.05872945473493, 16.98033150656511, 16.91506302206696, 11.705790426053317, 12.244035607954565, 15.441515818940308, 26.01845969134873, 14.344403170664108, 13.864320544131875, 15.861488567522832, 10.298451429982626, 12.442288716635495, 12.672537803900951, 16.174849531582414, 10.470904181734877, 10.992190193959662, 9.814379332503087, 15.667300440926157, 10.060755955946734, 19.922257424816685, 68.28778559106017, 14.095036852164695, 21.266556874107195, 17.004221454992962, 180.57465487980468, 226.6427926190744, 35.88297496035651, 29.240112326074883, 612.1733850098228, 30.702020751686952, 64.62388885579536, 52.53537441368734, 216.27259776012895, 66.0559422391668, 116.65388002049096, 27.66074885271319, 153.72437342555864, 66.21743602350736, 71.54528779076027, 415.5183167407995, 53.996446115053914, 102.3506825092961, 162.2788210169801, 222.04079887281995, 369.0294409694186, 675.1140884815695, 93.47465662492516, 529.601852509577, 306.91398895359987, 179.81782837583688, 382.2951551155951, 242.32142995588015, 826.3782104844167, 186.43936434912803, 555.3792584221399, 776.375483492567, 1348.585446489978, 870.520120247515, 222.1379872234013, 1775.3854169246877, 616.0474681207147, 349.3134505990283, 326.0839934023922, 535.7114347903065, 290.19133262377284], \"Category\": [\"Default\", \"Default\", \"Default\", \"Default\", \"Default\", \"Default\", \"Default\", \"Default\", \"Default\", \"Default\", \"Default\", \"Default\", \"Default\", \"Default\", \"Default\", \"Default\", \"Default\", \"Default\", \"Default\", \"Default\", \"Default\", \"Default\", \"Default\", \"Default\", \"Default\", \"Default\", \"Default\", \"Default\", \"Default\", \"Default\", \"Topic1\", \"Topic1\", \"Topic1\", \"Topic1\", \"Topic1\", \"Topic1\", \"Topic1\", \"Topic1\", \"Topic1\", \"Topic1\", \"Topic1\", \"Topic1\", \"Topic1\", \"Topic1\", \"Topic1\", \"Topic1\", \"Topic1\", \"Topic1\", \"Topic1\", \"Topic1\", \"Topic1\", \"Topic1\", \"Topic1\", \"Topic1\", \"Topic1\", \"Topic1\", \"Topic1\", \"Topic1\", \"Topic1\", \"Topic1\", \"Topic1\", \"Topic1\", \"Topic1\", \"Topic1\", \"Topic1\", \"Topic1\", \"Topic1\", \"Topic1\", \"Topic1\", \"Topic1\", \"Topic1\", \"Topic1\", \"Topic1\", \"Topic1\", \"Topic1\", \"Topic1\", \"Topic1\", \"Topic1\", \"Topic1\", \"Topic1\", \"Topic1\", \"Topic1\", \"Topic1\", \"Topic1\", \"Topic1\", \"Topic1\", \"Topic1\", \"Topic1\", \"Topic1\", \"Topic1\", \"Topic1\", \"Topic1\", \"Topic1\", \"Topic1\", \"Topic1\", \"Topic1\", \"Topic1\", \"Topic1\", \"Topic1\", \"Topic1\", \"Topic1\", \"Topic1\", \"Topic1\", \"Topic1\", \"Topic1\", \"Topic1\", \"Topic2\", \"Topic2\", \"Topic2\", \"Topic2\", \"Topic2\", \"Topic2\", \"Topic2\", \"Topic2\", \"Topic2\", \"Topic2\", \"Topic2\", \"Topic2\", \"Topic2\", \"Topic2\", \"Topic2\", \"Topic2\", \"Topic2\", \"Topic2\", \"Topic2\", \"Topic2\", \"Topic2\", \"Topic2\", \"Topic2\", \"Topic2\", \"Topic2\", \"Topic2\", \"Topic2\", \"Topic2\", \"Topic2\", \"Topic2\", \"Topic2\", \"Topic2\", \"Topic2\", \"Topic2\", \"Topic2\", \"Topic2\", \"Topic2\", \"Topic2\", \"Topic2\", \"Topic2\", \"Topic2\", \"Topic2\", \"Topic2\", \"Topic2\", \"Topic2\", \"Topic2\", \"Topic2\", \"Topic2\", \"Topic2\", \"Topic2\", \"Topic2\", \"Topic2\", \"Topic2\", \"Topic2\", \"Topic2\", \"Topic2\", \"Topic2\", \"Topic2\", \"Topic2\", \"Topic2\", \"Topic2\", \"Topic2\", \"Topic2\", \"Topic2\", \"Topic2\", \"Topic2\", \"Topic2\", \"Topic2\", \"Topic3\", \"Topic3\", \"Topic3\", \"Topic3\", \"Topic3\", \"Topic3\", \"Topic3\", \"Topic3\", \"Topic3\", \"Topic3\", \"Topic3\", \"Topic3\", \"Topic3\", \"Topic3\", \"Topic3\", \"Topic3\", \"Topic3\", \"Topic3\", \"Topic3\", \"Topic3\", \"Topic3\", \"Topic3\", \"Topic3\", \"Topic3\", \"Topic3\", \"Topic3\", \"Topic3\", \"Topic3\", \"Topic3\", \"Topic3\", \"Topic3\", \"Topic3\", \"Topic3\", \"Topic3\", \"Topic3\", \"Topic3\", \"Topic3\", \"Topic3\", \"Topic3\", \"Topic3\", \"Topic3\", \"Topic3\", \"Topic3\", \"Topic3\", \"Topic3\", \"Topic3\", \"Topic3\", \"Topic3\", \"Topic3\", \"Topic3\", \"Topic3\", \"Topic3\", \"Topic3\", \"Topic3\", \"Topic3\", \"Topic3\", \"Topic3\", \"Topic3\", \"Topic3\", \"Topic3\", \"Topic3\", \"Topic3\", \"Topic3\", \"Topic3\", \"Topic3\", \"Topic3\", \"Topic3\", \"Topic3\", \"Topic3\", \"Topic3\", \"Topic3\", \"Topic3\", \"Topic3\", \"Topic3\", \"Topic3\", \"Topic3\"], \"logprob\": [30.0, 29.0, 28.0, 27.0, 26.0, 25.0, 24.0, 23.0, 22.0, 21.0, 20.0, 19.0, 18.0, 17.0, 16.0, 15.0, 14.0, 13.0, 12.0, 11.0, 10.0, 9.0, 8.0, 7.0, 6.0, 5.0, 4.0, 3.0, 2.0, 1.0, -6.1654, -6.727, -6.5045, -5.5364, -7.1251, -7.0006, -5.804, -7.276, -5.9686, -7.2479, -7.0102, -7.4395, -6.2063, -7.273, -6.1226, -7.3055, -7.4985, -7.4931, -7.4973, -7.5768, -7.6249, -7.6029, -7.5039, -6.2483, -7.7741, -5.6294, -7.1039, -7.1426, -7.8063, -6.7469, -6.7244, -5.1218, -6.3973, -6.8934, -5.8869, -6.9343, -5.178, -3.8261, -6.4684, -6.9234, -5.4986, -4.9119, -4.9218, -3.6123, -6.0355, -5.7069, -4.4589, -4.8056, -3.7334, -5.3488, -5.0553, -5.9889, -5.0397, -5.1455, -4.4852, -3.7106, -5.4032, -5.5914, -5.1475, -5.1706, -4.8838, -5.0579, -4.5021, -4.8416, -4.9343, -4.9404, -5.3332, -5.0751, -5.3117, -4.918, -4.9859, -5.1887, -4.936, -4.9399, -5.1997, -5.3075, -5.3354, -5.2116, -6.0787, -6.5602, -5.9859, -6.6461, -5.8717, -6.6133, -5.9887, -5.5976, -6.9738, -5.3629, -7.2379, -7.1306, -5.6445, -6.9392, -6.7593, -7.0907, -7.2308, -7.1919, -6.9804, -6.9, -7.3798, -7.3906, -6.2484, -7.3252, -6.6454, -7.3812, -7.4205, -7.4816, -5.0814, -4.2896, -6.5078, -4.4258, -5.4069, -5.6115, -4.5498, -6.4855, -4.7509, -6.0278, -5.9234, -5.5756, -5.936, -5.0755, -5.8327, -5.0303, -5.8251, -4.8734, -5.3804, -5.9661, -4.6184, -3.7244, -4.6385, -4.4453, -4.4051, -4.6422, -4.1629, -4.5411, -5.1351, -5.2866, -4.9931, -4.9729, -5.0398, -4.9065, -5.0181, -4.9254, -5.3178, -5.3826, -4.4941, -5.406, -5.9895, -6.2684, -6.5704, -6.5004, -6.5402, -6.8877, -6.8955, -6.9219, -6.6315, -7.0564, -7.0646, -7.0693, -7.4493, -7.4076, -7.1762, -6.6566, -7.2521, -7.2874, -7.1553, -7.5878, -7.3993, -7.3827, -7.1387, -7.5738, -7.5255, -7.6391, -7.1735, -7.6165, -6.938, -5.7249, -7.2841, -6.894, -7.1095, -4.8814, -4.7375, -6.4361, -6.6252, -3.8969, -6.5838, -5.9326, -6.1204, -4.9009, -5.9217, -5.4512, -6.6822, -5.2459, -5.9749, -5.9307, -4.5805, -6.1677, -5.6865, -5.3431, -5.1563, -4.824, -4.412, -5.8024, -4.604, -5.0286, -5.3778, -4.9113, -5.2029, -4.4815, -5.4209, -4.8161, -4.6658, -4.3974, -4.6766, -5.367, -4.4313, -4.9258, -5.1819, -5.2559, -5.1312, -5.3944], \"loglift\": [30.0, 29.0, 28.0, 27.0, 26.0, 25.0, 24.0, 23.0, 22.0, 21.0, 20.0, 19.0, 18.0, 17.0, 16.0, 15.0, 14.0, 13.0, 12.0, 11.0, 10.0, 9.0, 8.0, 7.0, 6.0, 5.0, 4.0, 3.0, 2.0, 1.0, 0.9051, 0.899, 0.8973, 0.895, 0.8905, 0.8898, 0.8875, 0.8858, 0.8855, 0.8851, 0.8848, 0.8821, 0.8821, 0.8805, 0.8775, 0.8775, 0.8771, 0.8771, 0.8757, 0.8753, 0.8748, 0.8737, 0.8723, 0.8719, 0.8694, 0.8673, 0.8668, 0.8665, 0.866, 0.8615, 0.8607, 0.8271, 0.8443, 0.8588, 0.8197, 0.8525, 0.7767, 0.6971, 0.8309, 0.8506, 0.742, 0.67, 0.6687, 0.5043, 0.7577, 0.7126, 0.5449, 0.5613, 0.3952, 0.6112, 0.5544, 0.7045, 0.5133, 0.5333, 0.3483, 0.131, 0.537, 0.5883, 0.4268, 0.4182, 0.2643, 0.3296, 0.0522, 0.2097, 0.2548, 0.2489, 0.4529, 0.2402, 0.3624, -0.1094, -0.0461, 0.1885, -0.2672, -0.3335, -0.2996, -0.0136, 0.986, 0.9786, 0.973, 0.9721, 0.971, 0.969, 0.9676, 0.9663, 0.9649, 0.9649, 0.9632, 0.9617, 0.9611, 0.9608, 0.9588, 0.9587, 0.9582, 0.9582, 0.9566, 0.9566, 0.9565, 0.9559, 0.9539, 0.9537, 0.9536, 0.9535, 0.9532, 0.9525, 0.9519, 0.9514, 0.949, 0.9384, 0.9459, 0.9199, 0.9281, 0.9233, 0.8759, 0.9313, 0.8578, 0.9019, 0.8933, 0.8588, 0.8723, 0.7276, 0.8132, 0.6984, 0.7949, 0.5802, 0.6622, 0.7981, 0.4215, 0.1173, 0.3013, 0.2235, 0.2013, 0.2579, -0.0343, 0.0133, 0.3387, 0.434, 0.196, 0.1752, 0.1494, -0.0731, -0.2095, -0.8087, 0.1497, 0.0049, 1.4611, 1.4603, 1.4563, 1.4515, 1.4465, 1.4462, 1.4437, 1.4377, 1.4371, 1.4369, 1.4356, 1.4304, 1.4267, 1.4259, 1.4141, 1.4108, 1.4102, 1.408, 1.408, 1.4068, 1.4043, 1.4037, 1.403, 1.4013, 1.4013, 1.401, 1.4007, 1.4005, 1.3984, 1.3983, 1.3937, 1.3748, 1.3936, 1.3723, 1.3805, 1.2459, 1.1625, 1.307, 1.3227, 1.0095, 1.3153, 1.2222, 1.2416, 1.046, 1.2112, 1.113, 1.3212, 1.0424, 1.1556, 1.1224, 0.7134, 1.1668, 1.0085, 0.8911, 0.7643, 0.5886, 0.3966, 0.9834, 0.4473, 0.5683, 0.7537, 0.466, 0.6303, 0.1249, 0.6744, 0.1877, 0.003, -0.2808, -0.1222, 0.5531, -0.5896, -0.0256, 0.2856, 0.2804, -0.0913, 0.2585]}, \"token.table\": {\"Topic\": [1, 2, 3, 2, 3, 1, 2, 3, 1, 2, 3, 1, 2, 1, 2, 3, 1, 3, 1, 3, 1, 3, 1, 2, 3, 1, 2, 3, 1, 2, 3, 1, 2, 1, 2, 1, 2, 3, 2, 3, 2, 1, 3, 2, 2, 1, 2, 3, 2, 3, 2, 1, 2, 3, 2, 3, 2, 1, 2, 1, 1, 2, 3, 2, 3, 1, 2, 3, 3, 3, 1, 2, 3, 1, 3, 1, 2, 1, 2, 1, 2, 3, 1, 3, 2, 3, 1, 2, 3, 1, 2, 1, 2, 3, 1, 2, 3, 1, 2, 3, 1, 2, 3, 1, 2, 3, 2, 1, 3, 1, 2, 3, 1, 2, 3, 3, 1, 2, 3, 1, 2, 3, 1, 2, 3, 2, 1, 2, 3, 1, 2, 3, 1, 2, 3, 1, 2, 3, 1, 2, 3, 1, 2, 2, 1, 2, 3, 1, 2, 3, 1, 2, 3, 1, 2, 1, 2, 3, 1, 2, 3, 1, 2, 3, 1, 1, 2, 3, 1, 2, 3, 1, 3, 2, 3, 2, 3, 2, 1, 1, 3, 1, 2, 3, 1, 2, 3, 1, 2, 3, 1, 1, 3, 1, 1, 2, 3, 1, 2, 3, 1, 2, 1, 2, 3, 1, 2, 3, 1, 2, 3, 2, 1, 2, 3, 1, 2, 3, 1, 2, 3, 1, 3, 1, 2, 3, 1, 2, 3, 1, 2, 3, 3, 1, 3, 1, 1, 2, 3, 1, 2, 1, 2, 3, 1, 2, 3, 1, 2, 3, 3, 1, 2, 3, 1, 2, 3, 1, 2, 3, 2, 3, 3, 1, 3, 1, 2, 3, 1, 2, 3, 1, 3, 3, 1, 2, 3, 1, 2, 3, 1, 1, 2, 3, 1, 2, 3, 1, 3, 1, 2, 3, 1, 2, 3, 3, 1, 2, 3, 1, 1, 2, 3, 3, 1, 3, 1, 2, 3, 1, 2, 3, 1, 2, 1, 1, 2, 3, 1, 2, 3, 1, 2, 3, 1, 3, 3, 1, 2, 3, 2, 3, 1, 2, 3, 2, 1, 3, 1, 2, 1, 3, 1, 2, 3, 1, 2, 3, 1, 2, 3, 2, 1, 2, 3, 1, 2, 3, 1, 2, 3, 2, 3, 1, 1, 2, 3, 1, 2, 3, 1, 2, 3, 1, 2, 3, 1, 2, 3, 1, 2, 3, 1, 3, 1, 2, 3, 3, 1, 2, 3, 3, 1, 2, 3, 1, 2, 3, 2, 1, 2, 1, 3, 3, 1, 2, 3, 1, 3, 1, 1, 2, 3, 1, 2, 3, 1, 2, 3, 1, 2, 3, 1, 2, 1, 2, 3, 1, 2, 3, 1, 2, 3], \"Freq\": [0.027904077166348483, 0.8371223149904545, 0.1302190267762929, 0.0940443726664128, 0.8934215403309216, 0.6963306118386473, 0.14850652859118071, 0.15510681875078874, 0.9736315629923744, 0.011454488976380874, 0.02290897795276175, 0.9446193408314468, 0.034985901512275805, 0.8158901642013873, 0.029668733243686813, 0.15576084952935576, 0.9757603742579053, 0.022517547098259354, 0.9544220512106149, 0.03976758546710896, 0.03843425059987333, 0.9224220143969599, 0.015474153872594156, 0.21663815421631819, 0.7737076936297078, 0.18486700736420153, 0.25881381030988215, 0.5607632556714113, 0.6824717382485606, 0.0671863369260241, 0.2510647327235637, 0.0325318371363232, 0.9759551140896958, 0.032440878195815856, 0.9570059067765678, 0.04161566039794207, 0.9321907929139023, 0.01664626415917683, 0.9807445129863519, 0.9170218202381846, 0.9521266644842865, 0.08786344363149892, 0.9079222508588223, 0.9612490065449371, 0.9556331835677587, 0.6299413288829007, 0.05118273297173568, 0.32284493105248663, 0.011596022257104913, 0.9856618918539176, 0.9557075657581765, 0.9560848059488557, 0.028120141351436933, 0.028120141351436933, 0.13679838009490128, 0.854989875593133, 0.9704787022449959, 0.42403103078543075, 0.5715200849716675, 0.9686203690987083, 0.10433063597770187, 0.8923014919145554, 0.005491086104089572, 0.06476048153079741, 0.9714072229619612, 0.42043830060577486, 0.3756374980822087, 0.20332671914541572, 0.94226664501891, 0.9459024763387998, 0.025307058225636583, 0.9743217416870085, 0.9710197759331347, 0.9813347848578668, 0.014222243258809665, 0.01269587198262412, 0.9775821426620573, 0.041726669026794394, 0.9597133876162711, 0.03257114598702934, 0.13028458394811737, 0.8468497956627629, 0.9731191410963762, 0.03243730470321254, 0.9647127494113679, 0.024117818735284197, 0.011285522270884365, 0.9818404375669397, 0.011285522270884365, 0.023663721542886294, 0.970212583258338, 0.18166420148170706, 0.06055473382723568, 0.772072856297255, 0.9535376925316682, 0.024038765357941215, 0.03205168714392162, 0.9700906181077232, 0.02895792889873801, 0.014478964449369004, 0.5550238756674064, 0.37265888794811575, 0.0713602125858094, 0.5200141008783156, 0.44305201394832483, 0.03744101526323872, 0.9810916282354978, 0.9661025241414093, 0.042004457571365623, 0.7178150128973069, 0.09921020503458712, 0.18091272682777654, 0.7802466579997528, 0.055038145999982566, 0.16511443799994768, 0.947821381506647, 0.5115183380826922, 0.4313226664341345, 0.05635371521249999, 0.06988580456371755, 0.22363457460389619, 0.6988580456371756, 0.6673506896196063, 0.16839690298812496, 0.16215998065523143, 0.995180975981068, 0.2240011920726904, 0.5656030099835433, 0.20906777926784437, 0.9484130008107903, 0.05747957580671456, 0.9376586438995959, 0.8095795076262514, 0.16581748951381053, 0.02926190991420186, 0.8373293663744683, 0.11784635526751777, 0.04341707825645391, 0.20737478327402345, 0.061771212039070815, 0.7324300856061254, 0.08827925056751952, 0.904862318317075, 0.9659042199958123, 0.16418809282449914, 0.7688808249342399, 0.06807798970771915, 0.6614338025978608, 0.1653584506494652, 0.1735151455245509, 0.5737353130138325, 0.3871833400706845, 0.03871833400706845, 0.10941926992336223, 0.8862960863792342, 0.5089123200212512, 0.30731420291138356, 0.18438852174683015, 0.9126230637760241, 0.060223857000448286, 0.02316302192324934, 0.1895830023263573, 0.7471800679921141, 0.06691164787989082, 0.9625671337968894, 0.45567570415292985, 0.4173741616530544, 0.1272963030142919, 0.8017700483553567, 0.12694692432293148, 0.07126844874269837, 0.9518423864809827, 0.04326556302186285, 0.0803710653863053, 0.9644527846356635, 0.06304578512558705, 0.9456867768838058, 0.9671705585362146, 0.9284341015793515, 0.9417291556744499, 0.8945649849184802, 0.25927632293001734, 0.018519737352144097, 0.7407894940857639, 0.04021314003521935, 0.9600887183408621, 0.005026642504402419, 0.19882315395171754, 0.14796141689430142, 0.6519549931905156, 0.9502008689146382, 0.06382720518895507, 0.957408077834326, 0.9914619849979519, 0.9092454010709436, 0.08894791966998361, 0.009883102185553735, 0.3052646625751791, 0.4636931583420442, 0.23055854262007197, 0.031194617596859642, 0.967033145502649, 0.019034793435096644, 0.19034793435096642, 0.799461324274059, 0.1723966988145745, 0.344793397629149, 0.4893841772800825, 0.16047130357684808, 0.22465982500758733, 0.6097909535920227, 0.9443354992173445, 0.032182044928904315, 0.5202763930172865, 0.4505486290046604, 0.4551610424249025, 0.5214186625247301, 0.023046128730374812, 0.24770222535320088, 0.2612132558270118, 0.4909007738817981, 0.9316226432089099, 0.058226415200556866, 0.5157717421315321, 0.4507584973250365, 0.03250662240324782, 0.9498221848908293, 0.02435441499720075, 0.02435441499720075, 0.29543177988410635, 0.480482455196129, 0.22400871221981689, 0.9801388828112326, 0.06971360105418054, 0.906276813704347, 0.9442442646506823, 0.4583183060551012, 0.2446661633827984, 0.296356197900291, 0.02716228018201515, 0.9778420865525453, 0.48130350996565385, 0.15171523683699958, 0.3662091923651714, 0.06091663310846084, 0.14398476916545289, 0.7974541061471238, 0.01395810934824308, 0.9770676543770157, 0.9097368061821854, 0.9550273621492681, 0.9566125990365697, 0.029894143719892803, 0.014947071859946402, 0.6989850107260579, 0.2071066698447579, 0.09060916805708158, 0.6075806447442946, 0.24561770744982123, 0.14866334924594443, 0.9907283808039842, 0.011794385485761717, 0.9469295089659211, 0.050195114874598684, 0.9035120677427763, 0.28679362184667523, 0.453787376339676, 0.2601714291014142, 0.015101762618005889, 0.25672996450610014, 0.7248846056642827, 0.9736052866287953, 0.02920815859886386, 0.9572440140730526, 0.31930770029128885, 0.27695055637509747, 0.40402198812367157, 0.020108036894646113, 0.9450777340483674, 0.04021607378929223, 0.9446589956318368, 0.017114689825028707, 0.9755373200266363, 0.008557344912514354, 0.018128164437928425, 0.8248314819257434, 0.16315347994135584, 0.03852946010799803, 0.9632365026999508, 0.03802039888994776, 0.9327671194333851, 0.030416319111958207, 0.5928884463995016, 0.3587350346569136, 0.04803146907540266, 0.9800514266874569, 0.01318749367091797, 0.876968329116045, 0.11209369620280275, 0.9174140550632462, 0.7799697326368031, 0.19900462314190037, 0.022468263903117784, 0.939705872020188, 0.9599703819901202, 0.9379362069406018, 0.974238541373712, 0.009324484339323539, 0.9883953399682951, 0.5664194826103233, 0.3447110524196873, 0.08959450261128438, 0.9706288003641718, 0.01980875102784024, 0.9876190505663651, 0.6843159057863238, 0.2020798647959614, 0.11481810499770534, 0.4928230495479247, 0.1491686625068431, 0.35876007438354673, 0.006745425693935901, 0.9713412999267698, 0.020236277081807703, 0.9880415248044735, 0.9893519005466994, 0.9904380012829368, 0.049564525248248184, 0.9484847786142039, 0.002252932965829463, 0.9142421744431608, 0.0741277438737698, 0.2303339261407166, 0.35498522734628085, 0.41189125615751676, 0.9411179425504829, 0.05880892592741253, 0.9409428148386004, 0.9282313285985793, 0.06750773298898759, 0.06182437728693778, 0.9273656593040668, 0.34252026333416713, 0.22697125883589386, 0.42918201670787204, 0.8514491718168525, 0.04311135047173937, 0.10777837617934842, 0.6896188400843815, 0.034210856296614224, 0.2772879931409784, 0.9869060016679697, 0.026740158203331928, 0.9715590813877267, 0.008913386067777309, 0.6115649838071663, 0.2739301489969599, 0.11466843446384367, 0.015057277417402828, 0.8733220902093641, 0.11292958063052122, 0.9836644312878133, 0.03783324735722359, 0.9390337507061326, 0.006816670474112526, 0.9407005254275285, 0.054533363792900205, 0.7354978819138458, 0.014054099654404696, 0.24828909389448295, 0.036152311180176595, 0.10845693354052978, 0.8676554683242382, 0.22894880533158196, 0.7173729233722902, 0.050877512295907104, 0.394687775225811, 0.137178068218727, 0.46688675849882516, 0.9118143398294908, 0.01787871254567629, 0.07151485018270516, 0.07094695888265248, 0.9223104654744823, 0.2202201660160422, 0.6634838335098707, 0.1185800893932535, 0.9545954342256922, 0.17563903106799658, 0.17563903106799658, 0.6505149298814688, 0.9800690217042474, 0.2633737688664197, 0.4322765119437976, 0.3063151442250751, 0.35845793196864467, 0.30068991813898704, 0.34068315848259617, 0.9559909724377739, 0.0338252946203055, 0.9809335439888595, 0.9453116901850596, 0.0363581419301946, 0.9935148540189067, 0.3817049796163181, 0.5016211457789667, 0.11653824598905287, 0.13934184680963596, 0.8360510808578158, 0.944187719161268, 0.9517124072808604, 0.02379281018202151, 0.02379281018202151, 0.1764206067179269, 0.194389372216975, 0.6289067924666839, 0.30288024700943633, 0.06839231384084046, 0.6253011551162556, 0.3220029260081728, 0.3741367330761627, 0.30360275880770576, 0.1675231921204489, 0.8271457610947164, 0.8667307878042446, 0.004659842945184111, 0.1304756024651551, 0.18907166903318137, 0.4096552829052263, 0.4006518700941224, 0.07715131291320182, 0.2228815706381386, 0.6943618162188164], \"Term\": [\"add\", \"add\", \"add\", \"additional\", \"additional\", \"amazing\", \"amazing\", \"amazing\", \"ambiance\", \"ambiance\", \"ambiance\", \"ambience\", \"ambience\", \"area\", \"area\", \"area\", \"atmosphere\", \"atmosphere\", \"attentive\", \"attentive\", \"attitude\", \"attitude\", \"average\", \"average\", \"average\", \"bad\", \"bad\", \"bad\", \"bar\", \"bar\", \"bar\", \"basil\", \"basil\", \"bean\", \"bean\", \"beef\", \"beef\", \"beef\", \"biscuit\", \"boring\", \"box\", \"breakfast\", \"breakfast\", \"brisket\", \"brown\", \"brunch\", \"brunch\", \"brunch\", \"bun\", \"bun\", \"cabbage\", \"calamari\", \"calamari\", \"calamari\", \"card\", \"card\", \"cart\", \"cheese\", \"cheese\", \"cheesecake\", \"chicken\", \"chicken\", \"chicken\", \"child\", \"child\", \"come\", \"come\", \"come\", \"communal\", \"company\", \"corn\", \"corn\", \"count\", \"cozy\", \"cozy\", \"cream\", \"cream\", \"creamy\", \"creamy\", \"crepe\", \"crepe\", \"crepe\", \"crowded\", \"crowded\", \"crunchy\", \"crunchy\", \"crust\", \"crust\", \"crust\", \"curry\", \"curry\", \"customer\", \"customer\", \"customer\", \"date\", \"date\", \"date\", \"decor\", \"decor\", \"decor\", \"definitely\", \"definitely\", \"definitely\", \"delicious\", \"delicious\", \"delicious\", \"delivery\", \"desert\", \"desert\", \"dessert\", \"dessert\", \"dessert\", \"dinner\", \"dinner\", \"dinner\", \"disappointment\", \"dish\", \"dish\", \"dish\", \"door\", \"door\", \"door\", \"drink\", \"drink\", \"drink\", \"dumpling\", \"eat\", \"eat\", \"eat\", \"eggplant\", \"eggplant\", \"english\", \"entree\", \"entree\", \"entree\", \"excellent\", \"excellent\", \"excellent\", \"experience\", \"experience\", \"experience\", \"fan\", \"fan\", \"finger\", \"flavor\", \"flavor\", \"flavor\", \"food\", \"food\", \"food\", \"fresh\", \"fresh\", \"fresh\", \"fried\", \"fried\", \"friend\", \"friend\", \"friend\", \"friendly\", \"friendly\", \"friendly\", \"fry\", \"fry\", \"fry\", \"gluten\", \"good\", \"good\", \"good\", \"great\", \"great\", \"great\", \"greek\", \"greek\", \"grimaldi\", \"grimaldi\", \"grit\", \"grit\", \"halal\", \"hash\", \"honest\", \"horrible\", \"hostess\", \"hostess\", \"hostess\", \"hot\", \"hot\", \"hot\", \"hour\", \"hour\", \"hour\", \"iced\", \"ideal\", \"ideal\", \"intimate\", \"italian\", \"italian\", \"italian\", \"just\", \"just\", \"just\", \"korean\", \"korean\", \"later\", \"later\", \"later\", \"leave\", \"leave\", \"leave\", \"let\", \"let\", \"let\", \"lettuce\", \"line\", \"line\", \"line\", \"little\", \"little\", \"little\", \"long\", \"long\", \"long\", \"loud\", \"loud\", \"love\", \"love\", \"love\", \"low\", \"low\", \"low\", \"make\", \"make\", \"make\", \"manager\", \"mark\", \"mark\", \"market\", \"meal\", \"meal\", \"meal\", \"melt\", \"melt\", \"menu\", \"menu\", \"menu\", \"minute\", \"minute\", \"minute\", \"mouth\", \"mouth\", \"movie\", \"muffin\", \"music\", \"music\", \"music\", \"nice\", \"nice\", \"nice\", \"night\", \"night\", \"night\", \"noodle\", \"noodle\", \"office\", \"omelet\", \"omelet\", \"order\", \"order\", \"order\", \"pancake\", \"pancake\", \"pancake\", \"pasta\", \"pasta\", \"patron\", \"people\", \"people\", \"people\", \"pepper\", \"pepper\", \"pepper\", \"phenomenal\", \"pie\", \"pie\", \"pie\", \"piece\", \"piece\", \"piece\", \"pig\", \"pig\", \"pizza\", \"pizza\", \"pizza\", \"place\", \"place\", \"place\", \"poor\", \"pork\", \"pork\", \"pork\", \"pretentious\", \"price\", \"price\", \"price\", \"print\", \"private\", \"promptly\", \"quiet\", \"raman\", \"raman\", \"really\", \"really\", \"really\", \"reasonable\", \"reasonable\", \"reasonably\", \"recommend\", \"recommend\", \"recommend\", \"restaurant\", \"restaurant\", \"restaurant\", \"rice\", \"rice\", \"rice\", \"romantic\", \"rude\", \"sake\", \"sauce\", \"sauce\", \"sauce\", \"sausage\", \"sausage\", \"say\", \"say\", \"say\", \"scallion\", \"scramble\", \"scramble\", \"seafood\", \"seafood\", \"seasonal\", \"seasonal\", \"seat\", \"seat\", \"seat\", \"selection\", \"selection\", \"selection\", \"service\", \"service\", \"service\", \"skin\", \"slice\", \"slice\", \"slice\", \"small\", \"small\", \"small\", \"soup\", \"soup\", \"soup\", \"soy\", \"soy\", \"spaghetti\", \"spicy\", \"spicy\", \"spicy\", \"staff\", \"staff\", \"staff\", \"sushi\", \"sushi\", \"sushi\", \"sweet\", \"sweet\", \"sweet\", \"table\", \"table\", \"table\", \"tapa\", \"tapa\", \"tapa\", \"tartare\", \"tartare\", \"taste\", \"taste\", \"taste\", \"tavern\", \"tell\", \"tell\", \"tell\", \"temperature\", \"think\", \"think\", \"think\", \"time\", \"time\", \"time\", \"tofu\", \"topping\", \"topping\", \"trendy\", \"trendy\", \"true\", \"try\", \"try\", \"try\", \"twice\", \"twice\", \"veal\", \"vibe\", \"vibe\", \"vibe\", \"wait\", \"wait\", \"wait\", \"waitress\", \"waitress\", \"waitress\", \"want\", \"want\", \"want\", \"white\", \"white\", \"wine\", \"wine\", \"wine\", \"worth\", \"worth\", \"worth\", \"year\", \"year\", \"year\"]}, \"R\": 30, \"lambda.step\": 0.01, \"plot.opts\": {\"xlab\": \"PC1\", \"ylab\": \"PC2\"}, \"topic.order\": [3, 2, 1]};\n",
       "\n",
       "function LDAvis_load_lib(url, callback){\n",
       "  var s = document.createElement('script');\n",
       "  s.src = url;\n",
       "  s.async = true;\n",
       "  s.onreadystatechange = s.onload = callback;\n",
       "  s.onerror = function(){console.warn(\"failed to load library \" + url);};\n",
       "  document.getElementsByTagName(\"head\")[0].appendChild(s);\n",
       "}\n",
       "\n",
       "if(typeof(LDAvis) !== \"undefined\"){\n",
       "   // already loaded: just create the visualization\n",
       "   !function(LDAvis){\n",
       "       new LDAvis(\"#\" + \"ldavis_el209215005745057443326954525\", ldavis_el209215005745057443326954525_data);\n",
       "   }(LDAvis);\n",
       "}else if(typeof define === \"function\" && define.amd){\n",
       "   // require.js is available: use it to load d3/LDAvis\n",
       "   require.config({paths: {d3: \"https://cdnjs.cloudflare.com/ajax/libs/d3/3.5.5/d3.min\"}});\n",
       "   require([\"d3\"], function(d3){\n",
       "      window.d3 = d3;\n",
       "      LDAvis_load_lib(\"https://cdn.rawgit.com/bmabey/pyLDAvis/files/ldavis.v1.0.0.js\", function(){\n",
       "        new LDAvis(\"#\" + \"ldavis_el209215005745057443326954525\", ldavis_el209215005745057443326954525_data);\n",
       "      });\n",
       "    });\n",
       "}else{\n",
       "    // require.js not available: dynamically load d3 & LDAvis\n",
       "    LDAvis_load_lib(\"https://cdnjs.cloudflare.com/ajax/libs/d3/3.5.5/d3.min.js\", function(){\n",
       "         LDAvis_load_lib(\"https://cdn.rawgit.com/bmabey/pyLDAvis/files/ldavis.v1.0.0.js\", function(){\n",
       "                 new LDAvis(\"#\" + \"ldavis_el209215005745057443326954525\", ldavis_el209215005745057443326954525_data);\n",
       "            })\n",
       "         });\n",
       "}\n",
       "</script>"
      ],
      "text/plain": [
       "PreparedData(topic_coordinates=              x         y  topics  cluster      Freq\n",
       "topic                                               \n",
       "2     -0.026542 -0.103940       1        1  39.94769\n",
       "1     -0.097359  0.070673       2        1  37.12517\n",
       "0      0.123901  0.033267       3        1  22.92714, topic_info=       Term        Freq       Total Category  logprob  loglift\n",
       "1943   wait  612.000000  612.000000  Default  30.0000  30.0000\n",
       "1531  sauce  443.000000  443.000000  Default  29.0000  29.0000\n",
       "1415  raman  214.000000  214.000000  Default  28.0000  28.0000\n",
       "1303  pizza  394.000000  394.000000  Default  27.0000  27.0000\n",
       "800   great  898.000000  898.000000  Default  26.0000  26.0000\n",
       "...     ...         ...         ...      ...      ...      ...\n",
       "1062   make  137.666320  616.047468   Topic3  -4.9258  -0.0256\n",
       "1829  think  106.559753  349.313451   Topic3  -5.1819   0.2856\n",
       "1952   want   98.954123  326.083993   Topic3  -5.2559   0.2804\n",
       "574     eat  112.103818  535.711435   Topic3  -5.1312  -0.0913\n",
       "1084   meal   86.156039  290.191333   Topic3  -5.3944   0.2585\n",
       "\n",
       "[250 rows x 6 columns], token_table=      Topic      Freq        Term\n",
       "term                             \n",
       "16        1  0.027904         add\n",
       "16        2  0.837122         add\n",
       "16        3  0.130219         add\n",
       "20        2  0.094044  additional\n",
       "20        3  0.893422  additional\n",
       "...     ...       ...         ...\n",
       "2008      2  0.409655       worth\n",
       "2008      3  0.400652       worth\n",
       "2015      1  0.077151        year\n",
       "2015      2  0.222882        year\n",
       "2015      3  0.694362        year\n",
       "\n",
       "[433 rows x 3 columns], R=30, lambda_step=0.01, plot_opts={'xlab': 'PC1', 'ylab': 'PC2'}, topic_order=[3, 2, 1])"
      ]
     },
     "execution_count": 38,
     "metadata": {},
     "output_type": "execute_result"
    }
   ],
   "source": [
    "# 토픽 모델링 결과 시각화\n",
    "\n",
    "pyLDAvis.enable_notebook()\n",
    "pyLDAvis.sklearn.prepare(lda_model, data_vectorized, vectorizer)"
   ]
  },
  {
   "cell_type": "markdown",
   "metadata": {},
   "source": [
    "time = ['wait', 'food', 'time', 'good', 'order', 'raman', 'table',        \n",
    "        'restaurant', 'just', 'come', 'experience', 'service', 'say',       \n",
    "        'minute', 'hour']       \n",
    "      \n",
    "food = ['good', 'place', 'sauce', 'order', 'pizza', 'just', 'come',        \n",
    "'chicken', 'eat', 'try', 'make', 'pork', 'taste', 'really', 'food']        \n",
    "      \n",
    "service = ['food', 'good', 'place', 'great', 'service', 'really', 'come',        \n",
    "        'nice', 'restaurant', 'delicious', 'price', 'time', 'dinner',       \n",
    "        'love', 'just']       \n",
    "        \n",
    "              \n",
    "              \n",
    "으로 토픽명을 붙일 수 있다."
   ]
  },
  {
   "cell_type": "markdown",
   "metadata": {},
   "source": [
    "4.\n",
    "모두 같은 데이터가 아니라 각자 관심있는 데이터를 크롤링해오고 이를 이용해서 이용해서 분석까지 해오는 과제가 있으면 재미있는 경험이 될 것 같습니다."
   ]
  },
  {
   "cell_type": "code",
   "execution_count": null,
   "metadata": {},
   "outputs": [],
   "source": []
  }
 ],
 "metadata": {
  "kernelspec": {
   "display_name": "datam",
   "language": "python",
   "name": "datam"
  },
  "language_info": {
   "codemirror_mode": {
    "name": "ipython",
    "version": 3
   },
   "file_extension": ".py",
   "mimetype": "text/x-python",
   "name": "python",
   "nbconvert_exporter": "python",
   "pygments_lexer": "ipython3",
   "version": "3.6.8"
  }
 },
 "nbformat": 4,
 "nbformat_minor": 4
}
