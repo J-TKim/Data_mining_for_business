{
 "cells": [
  {
   "cell_type": "markdown",
   "metadata": {},
   "source": [
    "- https://towardsdatascience.com/data-cleaning-in-python-the-ultimate-guide-2020-c63b88bf0a0d"
   ]
  },
  {
   "cell_type": "code",
   "execution_count": 1,
   "metadata": {},
   "outputs": [
    {
     "name": "stdout",
     "output_type": "stream",
     "text": [
      "(30471, 292)\n",
      "id                      int64\n",
      "timestamp              object\n",
      "full_sq                 int64\n",
      "life_sq               float64\n",
      "floor                 float64\n",
      "                       ...   \n",
      "mosque_count_5000       int64\n",
      "leisure_count_5000      int64\n",
      "sport_count_5000        int64\n",
      "market_count_5000       int64\n",
      "price_doc               int64\n",
      "Length: 292, dtype: object\n"
     ]
    }
   ],
   "source": [
    "import pandas as pd\n",
    "import numpy as np\n",
    "import seaborn as sns\n",
    "\n",
    "import matplotlib.pyplot as plt\n",
    "import matplotlib.mlab as mlab\n",
    "from matplotlib.pyplot import figure\n",
    "\n",
    "df = pd.read_csv('data/sberbank.csv')\n",
    "\n",
    "print(df.shape)\n",
    "print(df.dtypes)"
   ]
  },
  {
   "cell_type": "code",
   "execution_count": 2,
   "metadata": {},
   "outputs": [
    {
     "name": "stdout",
     "output_type": "stream",
     "text": [
      "['id' 'full_sq' 'life_sq' 'floor' 'max_floor' 'material' 'build_year'\n",
      " 'num_room' 'kitch_sq' 'state' 'area_m' 'raion_popul' 'green_zone_part'\n",
      " 'indust_part' 'children_preschool' 'preschool_quota'\n",
      " 'preschool_education_centers_raion' 'children_school' 'school_quota'\n",
      " 'school_education_centers_raion' 'school_education_centers_top_20_raion'\n",
      " 'hospital_beds_raion' 'healthcare_centers_raion'\n",
      " 'university_top_20_raion' 'sport_objects_raion'\n",
      " 'additional_education_raion' 'culture_objects_top_25_raion'\n",
      " 'shopping_centers_raion' 'office_raion' 'full_all' 'male_f' 'female_f'\n",
      " 'young_all' 'young_male' 'young_female' 'work_all' 'work_male'\n",
      " 'work_female' 'ekder_all' 'ekder_male' 'ekder_female' '0_6_all'\n",
      " '0_6_male' '0_6_female' '7_14_all' '7_14_male' '7_14_female' '0_17_all'\n",
      " '0_17_male' '0_17_female' '16_29_all' '16_29_male' '16_29_female'\n",
      " '0_13_all' '0_13_male' '0_13_female'\n",
      " 'raion_build_count_with_material_info' 'build_count_block'\n",
      " 'build_count_wood' 'build_count_frame' 'build_count_brick'\n",
      " 'build_count_monolith' 'build_count_panel' 'build_count_foam'\n",
      " 'build_count_slag' 'build_count_mix'\n",
      " 'raion_build_count_with_builddate_info' 'build_count_before_1920'\n",
      " 'build_count_1921-1945' 'build_count_1946-1970' 'build_count_1971-1995'\n",
      " 'build_count_after_1995' 'ID_metro' 'metro_min_avto' 'metro_km_avto'\n",
      " 'metro_min_walk' 'metro_km_walk' 'kindergarten_km' 'school_km' 'park_km'\n",
      " 'green_zone_km' 'industrial_km' 'water_treatment_km' 'cemetery_km'\n",
      " 'incineration_km' 'railroad_station_walk_km' 'railroad_station_walk_min'\n",
      " 'ID_railroad_station_walk' 'railroad_station_avto_km'\n",
      " 'railroad_station_avto_min' 'ID_railroad_station_avto'\n",
      " 'public_transport_station_km' 'public_transport_station_min_walk'\n",
      " 'water_km' 'mkad_km' 'ttk_km' 'sadovoe_km' 'bulvar_ring_km' 'kremlin_km'\n",
      " 'big_road1_km' 'ID_big_road1' 'big_road2_km' 'ID_big_road2' 'railroad_km'\n",
      " 'zd_vokzaly_avto_km' 'ID_railroad_terminal' 'bus_terminal_avto_km'\n",
      " 'ID_bus_terminal' 'oil_chemistry_km' 'nuclear_reactor_km' 'radiation_km'\n",
      " 'power_transmission_line_km' 'thermal_power_plant_km' 'ts_km'\n",
      " 'big_market_km' 'market_shop_km' 'fitness_km' 'swim_pool_km'\n",
      " 'ice_rink_km' 'stadium_km' 'basketball_km' 'hospice_morgue_km'\n",
      " 'detention_facility_km' 'public_healthcare_km' 'university_km'\n",
      " 'workplaces_km' 'shopping_centers_km' 'office_km'\n",
      " 'additional_education_km' 'preschool_km' 'big_church_km'\n",
      " 'church_synagogue_km' 'mosque_km' 'theater_km' 'museum_km'\n",
      " 'exhibition_km' 'catering_km' 'green_part_500' 'prom_part_500'\n",
      " 'office_count_500' 'office_sqm_500' 'trc_count_500' 'trc_sqm_500'\n",
      " 'cafe_count_500' 'cafe_sum_500_min_price_avg'\n",
      " 'cafe_sum_500_max_price_avg' 'cafe_avg_price_500'\n",
      " 'cafe_count_500_na_price' 'cafe_count_500_price_500'\n",
      " 'cafe_count_500_price_1000' 'cafe_count_500_price_1500'\n",
      " 'cafe_count_500_price_2500' 'cafe_count_500_price_4000'\n",
      " 'cafe_count_500_price_high' 'big_church_count_500' 'church_count_500'\n",
      " 'mosque_count_500' 'leisure_count_500' 'sport_count_500'\n",
      " 'market_count_500' 'green_part_1000' 'prom_part_1000' 'office_count_1000'\n",
      " 'office_sqm_1000' 'trc_count_1000' 'trc_sqm_1000' 'cafe_count_1000'\n",
      " 'cafe_sum_1000_min_price_avg' 'cafe_sum_1000_max_price_avg'\n",
      " 'cafe_avg_price_1000' 'cafe_count_1000_na_price'\n",
      " 'cafe_count_1000_price_500' 'cafe_count_1000_price_1000'\n",
      " 'cafe_count_1000_price_1500' 'cafe_count_1000_price_2500'\n",
      " 'cafe_count_1000_price_4000' 'cafe_count_1000_price_high'\n",
      " 'big_church_count_1000' 'church_count_1000' 'mosque_count_1000'\n",
      " 'leisure_count_1000' 'sport_count_1000' 'market_count_1000'\n",
      " 'green_part_1500' 'prom_part_1500' 'office_count_1500' 'office_sqm_1500'\n",
      " 'trc_count_1500' 'trc_sqm_1500' 'cafe_count_1500'\n",
      " 'cafe_sum_1500_min_price_avg' 'cafe_sum_1500_max_price_avg'\n",
      " 'cafe_avg_price_1500' 'cafe_count_1500_na_price'\n",
      " 'cafe_count_1500_price_500' 'cafe_count_1500_price_1000'\n",
      " 'cafe_count_1500_price_1500' 'cafe_count_1500_price_2500'\n",
      " 'cafe_count_1500_price_4000' 'cafe_count_1500_price_high'\n",
      " 'big_church_count_1500' 'church_count_1500' 'mosque_count_1500'\n",
      " 'leisure_count_1500' 'sport_count_1500' 'market_count_1500'\n",
      " 'green_part_2000' 'prom_part_2000' 'office_count_2000' 'office_sqm_2000'\n",
      " 'trc_count_2000' 'trc_sqm_2000' 'cafe_count_2000'\n",
      " 'cafe_sum_2000_min_price_avg' 'cafe_sum_2000_max_price_avg'\n",
      " 'cafe_avg_price_2000' 'cafe_count_2000_na_price'\n",
      " 'cafe_count_2000_price_500' 'cafe_count_2000_price_1000'\n",
      " 'cafe_count_2000_price_1500' 'cafe_count_2000_price_2500'\n",
      " 'cafe_count_2000_price_4000' 'cafe_count_2000_price_high'\n",
      " 'big_church_count_2000' 'church_count_2000' 'mosque_count_2000'\n",
      " 'leisure_count_2000' 'sport_count_2000' 'market_count_2000'\n",
      " 'green_part_3000' 'prom_part_3000' 'office_count_3000' 'office_sqm_3000'\n",
      " 'trc_count_3000' 'trc_sqm_3000' 'cafe_count_3000'\n",
      " 'cafe_sum_3000_min_price_avg' 'cafe_sum_3000_max_price_avg'\n",
      " 'cafe_avg_price_3000' 'cafe_count_3000_na_price'\n",
      " 'cafe_count_3000_price_500' 'cafe_count_3000_price_1000'\n",
      " 'cafe_count_3000_price_1500' 'cafe_count_3000_price_2500'\n",
      " 'cafe_count_3000_price_4000' 'cafe_count_3000_price_high'\n",
      " 'big_church_count_3000' 'church_count_3000' 'mosque_count_3000'\n",
      " 'leisure_count_3000' 'sport_count_3000' 'market_count_3000'\n",
      " 'green_part_5000' 'prom_part_5000' 'office_count_5000' 'office_sqm_5000'\n",
      " 'trc_count_5000' 'trc_sqm_5000' 'cafe_count_5000'\n",
      " 'cafe_sum_5000_min_price_avg' 'cafe_sum_5000_max_price_avg'\n",
      " 'cafe_avg_price_5000' 'cafe_count_5000_na_price'\n",
      " 'cafe_count_5000_price_500' 'cafe_count_5000_price_1000'\n",
      " 'cafe_count_5000_price_1500' 'cafe_count_5000_price_2500'\n",
      " 'cafe_count_5000_price_4000' 'cafe_count_5000_price_high'\n",
      " 'big_church_count_5000' 'church_count_5000' 'mosque_count_5000'\n",
      " 'leisure_count_5000' 'sport_count_5000' 'market_count_5000' 'price_doc']\n"
     ]
    }
   ],
   "source": [
    "# 수치형 컬럼 선택\n",
    "df_numeric = df.select_dtypes(include=[np.number])\n",
    "numeric_cols = df_numeric.columns.values\n",
    "print(numeric_cols)"
   ]
  },
  {
   "cell_type": "code",
   "execution_count": 3,
   "metadata": {},
   "outputs": [
    {
     "name": "stdout",
     "output_type": "stream",
     "text": [
      "['timestamp' 'product_type' 'sub_area' 'culture_objects_top_25'\n",
      " 'thermal_power_plant_raion' 'incineration_raion' 'oil_chemistry_raion'\n",
      " 'radiation_raion' 'railroad_terminal_raion' 'big_market_raion'\n",
      " 'nuclear_reactor_raion' 'detention_facility_raion' 'water_1line'\n",
      " 'big_road1_1line' 'railroad_1line' 'ecology']\n"
     ]
    }
   ],
   "source": [
    "# 수치형이 아닌 컬럼 선택\n",
    "df_non_numeric = df.select_dtypes(exclude=[np.number])\n",
    "non_numeric_cols = df_non_numeric.columns.values\n",
    "print(non_numeric_cols)"
   ]
  },
  {
   "cell_type": "markdown",
   "metadata": {},
   "source": [
    "### 데이터 누락 (NA)"
   ]
  },
  {
   "cell_type": "markdown",
   "metadata": {},
   "source": [
    "- 기계학습 시에 NA 값이 포함된 경우는 대부분 에러 발생 \n",
    "- NA 값을 제거하거나 다른 값으로 대체해야 함"
   ]
  },
  {
   "cell_type": "markdown",
   "metadata": {},
   "source": [
    "- NA 값 존재 여부 찾아보기 #1: 누락 데이터 Heatmap\n",
    "- 기본적으로 NA 값인 지를 체크하는 isnull() 활용"
   ]
  },
  {
   "cell_type": "code",
   "execution_count": 4,
   "metadata": {},
   "outputs": [
    {
     "data": {
      "text/plain": [
       "<AxesSubplot:>"
      ]
     },
     "execution_count": 4,
     "metadata": {},
     "output_type": "execute_result"
    },
    {
     "data": {
      "image/png": "[encoded data removed]",
      "text/plain": [
       "<Figure size 432x288 with 2 Axes>"
      ]
     },
     "metadata": {
      "needs_background": "light"
     },
     "output_type": "display_data"
    }
   ],
   "source": [
    "cols = df.columns[:30] \n",
    "colours = ['blue', 'yellow'] # 노랑 - 누락. 파랑 - 정상.\n",
    "sns.heatmap(df[cols].isnull(), cmap=sns.color_palette(colours))"
   ]
  },
  {
   "cell_type": "markdown",
   "metadata": {},
   "source": [
    "- floor, material, num_room, kitch_sq, state는 앞쪽 행의 값이 모두 누락됨"
   ]
  },
  {
   "cell_type": "markdown",
   "metadata": {},
   "source": [
    "- NA 값 존재 여부 찾아보기 #2: 누락 데이터 비율 리스트"
   ]
  },
  {
   "cell_type": "code",
   "execution_count": 5,
   "metadata": {},
   "outputs": [
    {
     "name": "stdout",
     "output_type": "stream",
     "text": [
      "id - 0%\n",
      "timestamp - 0%\n",
      "full_sq - 0%\n",
      "life_sq - 21%\n",
      "floor - 1%\n",
      "max_floor - 31%\n",
      "material - 31%\n",
      "build_year - 45%\n",
      "num_room - 31%\n",
      "kitch_sq - 31%\n",
      "state - 44%\n",
      "product_type - 0%\n",
      "sub_area - 0%\n",
      "area_m - 0%\n",
      "raion_popul - 0%\n",
      "green_zone_part - 0%\n",
      "indust_part - 0%\n",
      "children_preschool - 0%\n",
      "preschool_quota - 22%\n",
      "preschool_education_centers_raion - 0%\n",
      "children_school - 0%\n",
      "school_quota - 22%\n",
      "school_education_centers_raion - 0%\n",
      "school_education_centers_top_20_raion - 0%\n",
      "hospital_beds_raion - 47%\n",
      "healthcare_centers_raion - 0%\n",
      "university_top_20_raion - 0%\n",
      "sport_objects_raion - 0%\n",
      "additional_education_raion - 0%\n",
      "culture_objects_top_25 - 0%\n",
      "culture_objects_top_25_raion - 0%\n",
      "shopping_centers_raion - 0%\n",
      "office_raion - 0%\n",
      "thermal_power_plant_raion - 0%\n",
      "incineration_raion - 0%\n",
      "oil_chemistry_raion - 0%\n",
      "radiation_raion - 0%\n",
      "railroad_terminal_raion - 0%\n",
      "big_market_raion - 0%\n",
      "nuclear_reactor_raion - 0%\n",
      "detention_facility_raion - 0%\n",
      "full_all - 0%\n",
      "male_f - 0%\n",
      "female_f - 0%\n",
      "young_all - 0%\n",
      "young_male - 0%\n",
      "young_female - 0%\n",
      "work_all - 0%\n",
      "work_male - 0%\n",
      "work_female - 0%\n",
      "ekder_all - 0%\n",
      "ekder_male - 0%\n",
      "ekder_female - 0%\n",
      "0_6_all - 0%\n",
      "0_6_male - 0%\n",
      "0_6_female - 0%\n",
      "7_14_all - 0%\n",
      "7_14_male - 0%\n",
      "7_14_female - 0%\n",
      "0_17_all - 0%\n",
      "0_17_male - 0%\n",
      "0_17_female - 0%\n",
      "16_29_all - 0%\n",
      "16_29_male - 0%\n",
      "16_29_female - 0%\n",
      "0_13_all - 0%\n",
      "0_13_male - 0%\n",
      "0_13_female - 0%\n",
      "raion_build_count_with_material_info - 16%\n",
      "build_count_block - 16%\n",
      "build_count_wood - 16%\n",
      "build_count_frame - 16%\n",
      "build_count_brick - 16%\n",
      "build_count_monolith - 16%\n",
      "build_count_panel - 16%\n",
      "build_count_foam - 16%\n",
      "build_count_slag - 16%\n",
      "build_count_mix - 16%\n",
      "raion_build_count_with_builddate_info - 16%\n",
      "build_count_before_1920 - 16%\n",
      "build_count_1921-1945 - 16%\n",
      "build_count_1946-1970 - 16%\n",
      "build_count_1971-1995 - 16%\n",
      "build_count_after_1995 - 16%\n",
      "ID_metro - 0%\n",
      "metro_min_avto - 0%\n",
      "metro_km_avto - 0%\n",
      "metro_min_walk - 0%\n",
      "metro_km_walk - 0%\n",
      "kindergarten_km - 0%\n",
      "school_km - 0%\n",
      "park_km - 0%\n",
      "green_zone_km - 0%\n",
      "industrial_km - 0%\n",
      "water_treatment_km - 0%\n",
      "cemetery_km - 0%\n",
      "incineration_km - 0%\n",
      "railroad_station_walk_km - 0%\n",
      "railroad_station_walk_min - 0%\n",
      "ID_railroad_station_walk - 0%\n",
      "railroad_station_avto_km - 0%\n",
      "railroad_station_avto_min - 0%\n",
      "ID_railroad_station_avto - 0%\n",
      "public_transport_station_km - 0%\n",
      "public_transport_station_min_walk - 0%\n",
      "water_km - 0%\n",
      "water_1line - 0%\n",
      "mkad_km - 0%\n",
      "ttk_km - 0%\n",
      "sadovoe_km - 0%\n",
      "bulvar_ring_km - 0%\n",
      "kremlin_km - 0%\n",
      "big_road1_km - 0%\n",
      "ID_big_road1 - 0%\n",
      "big_road1_1line - 0%\n",
      "big_road2_km - 0%\n",
      "ID_big_road2 - 0%\n",
      "railroad_km - 0%\n",
      "railroad_1line - 0%\n",
      "zd_vokzaly_avto_km - 0%\n",
      "ID_railroad_terminal - 0%\n",
      "bus_terminal_avto_km - 0%\n",
      "ID_bus_terminal - 0%\n",
      "oil_chemistry_km - 0%\n",
      "nuclear_reactor_km - 0%\n",
      "radiation_km - 0%\n",
      "power_transmission_line_km - 0%\n",
      "thermal_power_plant_km - 0%\n",
      "ts_km - 0%\n",
      "big_market_km - 0%\n",
      "market_shop_km - 0%\n",
      "fitness_km - 0%\n",
      "swim_pool_km - 0%\n",
      "ice_rink_km - 0%\n",
      "stadium_km - 0%\n",
      "basketball_km - 0%\n",
      "hospice_morgue_km - 0%\n",
      "detention_facility_km - 0%\n",
      "public_healthcare_km - 0%\n",
      "university_km - 0%\n",
      "workplaces_km - 0%\n",
      "shopping_centers_km - 0%\n",
      "office_km - 0%\n",
      "additional_education_km - 0%\n",
      "preschool_km - 0%\n",
      "big_church_km - 0%\n",
      "church_synagogue_km - 0%\n",
      "mosque_km - 0%\n",
      "theater_km - 0%\n",
      "museum_km - 0%\n",
      "exhibition_km - 0%\n",
      "catering_km - 0%\n",
      "ecology - 0%\n",
      "green_part_500 - 0%\n",
      "prom_part_500 - 0%\n",
      "office_count_500 - 0%\n",
      "office_sqm_500 - 0%\n",
      "trc_count_500 - 0%\n",
      "trc_sqm_500 - 0%\n",
      "cafe_count_500 - 0%\n",
      "cafe_sum_500_min_price_avg - 44%\n",
      "cafe_sum_500_max_price_avg - 44%\n",
      "cafe_avg_price_500 - 44%\n",
      "cafe_count_500_na_price - 0%\n",
      "cafe_count_500_price_500 - 0%\n",
      "cafe_count_500_price_1000 - 0%\n",
      "cafe_count_500_price_1500 - 0%\n",
      "cafe_count_500_price_2500 - 0%\n",
      "cafe_count_500_price_4000 - 0%\n",
      "cafe_count_500_price_high - 0%\n",
      "big_church_count_500 - 0%\n",
      "church_count_500 - 0%\n",
      "mosque_count_500 - 0%\n",
      "leisure_count_500 - 0%\n",
      "sport_count_500 - 0%\n",
      "market_count_500 - 0%\n",
      "green_part_1000 - 0%\n",
      "prom_part_1000 - 0%\n",
      "office_count_1000 - 0%\n",
      "office_sqm_1000 - 0%\n",
      "trc_count_1000 - 0%\n",
      "trc_sqm_1000 - 0%\n",
      "cafe_count_1000 - 0%\n",
      "cafe_sum_1000_min_price_avg - 21%\n",
      "cafe_sum_1000_max_price_avg - 21%\n",
      "cafe_avg_price_1000 - 21%\n",
      "cafe_count_1000_na_price - 0%\n",
      "cafe_count_1000_price_500 - 0%\n",
      "cafe_count_1000_price_1000 - 0%\n",
      "cafe_count_1000_price_1500 - 0%\n",
      "cafe_count_1000_price_2500 - 0%\n",
      "cafe_count_1000_price_4000 - 0%\n",
      "cafe_count_1000_price_high - 0%\n",
      "big_church_count_1000 - 0%\n",
      "church_count_1000 - 0%\n",
      "mosque_count_1000 - 0%\n",
      "leisure_count_1000 - 0%\n",
      "sport_count_1000 - 0%\n",
      "market_count_1000 - 0%\n",
      "green_part_1500 - 0%\n",
      "prom_part_1500 - 0%\n",
      "office_count_1500 - 0%\n",
      "office_sqm_1500 - 0%\n",
      "trc_count_1500 - 0%\n",
      "trc_sqm_1500 - 0%\n",
      "cafe_count_1500 - 0%\n",
      "cafe_sum_1500_min_price_avg - 14%\n",
      "cafe_sum_1500_max_price_avg - 14%\n",
      "cafe_avg_price_1500 - 14%\n",
      "cafe_count_1500_na_price - 0%\n",
      "cafe_count_1500_price_500 - 0%\n",
      "cafe_count_1500_price_1000 - 0%\n",
      "cafe_count_1500_price_1500 - 0%\n",
      "cafe_count_1500_price_2500 - 0%\n",
      "cafe_count_1500_price_4000 - 0%\n",
      "cafe_count_1500_price_high - 0%\n",
      "big_church_count_1500 - 0%\n",
      "church_count_1500 - 0%\n",
      "mosque_count_1500 - 0%\n",
      "leisure_count_1500 - 0%\n",
      "sport_count_1500 - 0%\n",
      "market_count_1500 - 0%\n",
      "green_part_2000 - 0%\n",
      "prom_part_2000 - 0%\n",
      "office_count_2000 - 0%\n",
      "office_sqm_2000 - 0%\n",
      "trc_count_2000 - 0%\n",
      "trc_sqm_2000 - 0%\n",
      "cafe_count_2000 - 0%\n",
      "cafe_sum_2000_min_price_avg - 6%\n",
      "cafe_sum_2000_max_price_avg - 6%\n",
      "cafe_avg_price_2000 - 6%\n",
      "cafe_count_2000_na_price - 0%\n",
      "cafe_count_2000_price_500 - 0%\n",
      "cafe_count_2000_price_1000 - 0%\n",
      "cafe_count_2000_price_1500 - 0%\n",
      "cafe_count_2000_price_2500 - 0%\n",
      "cafe_count_2000_price_4000 - 0%\n",
      "cafe_count_2000_price_high - 0%\n",
      "big_church_count_2000 - 0%\n",
      "church_count_2000 - 0%\n",
      "mosque_count_2000 - 0%\n",
      "leisure_count_2000 - 0%\n",
      "sport_count_2000 - 0%\n",
      "market_count_2000 - 0%\n",
      "green_part_3000 - 0%\n",
      "prom_part_3000 - 0%\n",
      "office_count_3000 - 0%\n",
      "office_sqm_3000 - 0%\n",
      "trc_count_3000 - 0%\n",
      "trc_sqm_3000 - 0%\n",
      "cafe_count_3000 - 0%\n",
      "cafe_sum_3000_min_price_avg - 3%\n",
      "cafe_sum_3000_max_price_avg - 3%\n",
      "cafe_avg_price_3000 - 3%\n",
      "cafe_count_3000_na_price - 0%\n",
      "cafe_count_3000_price_500 - 0%\n",
      "cafe_count_3000_price_1000 - 0%\n",
      "cafe_count_3000_price_1500 - 0%\n",
      "cafe_count_3000_price_2500 - 0%\n",
      "cafe_count_3000_price_4000 - 0%\n",
      "cafe_count_3000_price_high - 0%\n",
      "big_church_count_3000 - 0%\n",
      "church_count_3000 - 0%\n",
      "mosque_count_3000 - 0%\n",
      "leisure_count_3000 - 0%\n",
      "sport_count_3000 - 0%\n",
      "market_count_3000 - 0%\n",
      "green_part_5000 - 0%\n",
      "prom_part_5000 - 1%\n",
      "office_count_5000 - 0%\n",
      "office_sqm_5000 - 0%\n",
      "trc_count_5000 - 0%\n",
      "trc_sqm_5000 - 0%\n",
      "cafe_count_5000 - 0%\n",
      "cafe_sum_5000_min_price_avg - 1%\n",
      "cafe_sum_5000_max_price_avg - 1%\n",
      "cafe_avg_price_5000 - 1%\n",
      "cafe_count_5000_na_price - 0%\n",
      "cafe_count_5000_price_500 - 0%\n",
      "cafe_count_5000_price_1000 - 0%\n",
      "cafe_count_5000_price_1500 - 0%\n",
      "cafe_count_5000_price_2500 - 0%\n",
      "cafe_count_5000_price_4000 - 0%\n",
      "cafe_count_5000_price_high - 0%\n",
      "big_church_count_5000 - 0%\n",
      "church_count_5000 - 0%\n",
      "mosque_count_5000 - 0%\n",
      "leisure_count_5000 - 0%\n",
      "sport_count_5000 - 0%\n",
      "market_count_5000 - 0%\n",
      "price_doc - 0%\n"
     ]
    }
   ],
   "source": [
    "for col in df.columns:\n",
    "    pct_missing = np.mean(df[col].isnull())\n",
    "    print('{} - {}%'.format(col, round(pct_missing*100)))"
   ]
  },
  {
   "cell_type": "markdown",
   "metadata": {},
   "source": [
    "- life_sq는 21%가 누락되었으며, floor는 1%만 누락됨"
   ]
  },
  {
   "cell_type": "markdown",
   "metadata": {},
   "source": [
    "- NA 값 존재 여부 찾아보기 #3: 누락 데이터 히스토그램"
   ]
  },
  {
   "cell_type": "code",
   "execution_count": 6,
   "metadata": {},
   "outputs": [
    {
     "name": "stdout",
     "output_type": "stream",
     "text": [
      "created missing indicator for: life_sq\n",
      "created missing indicator for: floor\n",
      "created missing indicator for: max_floor\n",
      "created missing indicator for: material\n",
      "created missing indicator for: build_year\n",
      "created missing indicator for: num_room\n",
      "created missing indicator for: kitch_sq\n",
      "created missing indicator for: state\n",
      "created missing indicator for: preschool_quota\n",
      "created missing indicator for: school_quota\n",
      "created missing indicator for: hospital_beds_raion\n",
      "created missing indicator for: raion_build_count_with_material_info\n",
      "created missing indicator for: build_count_block\n",
      "created missing indicator for: build_count_wood\n",
      "created missing indicator for: build_count_frame\n",
      "created missing indicator for: build_count_brick\n",
      "created missing indicator for: build_count_monolith\n",
      "created missing indicator for: build_count_panel\n",
      "created missing indicator for: build_count_foam\n",
      "created missing indicator for: build_count_slag\n",
      "created missing indicator for: build_count_mix\n",
      "created missing indicator for: raion_build_count_with_builddate_info\n",
      "created missing indicator for: build_count_before_1920\n",
      "created missing indicator for: build_count_1921-1945\n",
      "created missing indicator for: build_count_1946-1970\n",
      "created missing indicator for: build_count_1971-1995\n",
      "created missing indicator for: build_count_after_1995\n",
      "created missing indicator for: metro_min_walk\n",
      "created missing indicator for: metro_km_walk\n",
      "created missing indicator for: railroad_station_walk_km\n",
      "created missing indicator for: railroad_station_walk_min\n",
      "created missing indicator for: ID_railroad_station_walk\n",
      "created missing indicator for: cafe_sum_500_min_price_avg\n",
      "created missing indicator for: cafe_sum_500_max_price_avg\n",
      "created missing indicator for: cafe_avg_price_500\n",
      "created missing indicator for: cafe_sum_1000_min_price_avg\n",
      "created missing indicator for: cafe_sum_1000_max_price_avg\n",
      "created missing indicator for: cafe_avg_price_1000\n",
      "created missing indicator for: cafe_sum_1500_min_price_avg\n",
      "created missing indicator for: cafe_sum_1500_max_price_avg\n",
      "created missing indicator for: cafe_avg_price_1500\n",
      "created missing indicator for: cafe_sum_2000_min_price_avg\n",
      "created missing indicator for: cafe_sum_2000_max_price_avg\n",
      "created missing indicator for: cafe_avg_price_2000\n",
      "created missing indicator for: cafe_sum_3000_min_price_avg\n",
      "created missing indicator for: cafe_sum_3000_max_price_avg\n",
      "created missing indicator for: cafe_avg_price_3000\n",
      "created missing indicator for: prom_part_5000\n",
      "created missing indicator for: cafe_sum_5000_min_price_avg\n",
      "created missing indicator for: cafe_sum_5000_max_price_avg\n",
      "created missing indicator for: cafe_avg_price_5000\n"
     ]
    },
    {
     "data": {
      "text/plain": [
       "<AxesSubplot:xlabel='index'>"
      ]
     },
     "execution_count": 6,
     "metadata": {},
     "output_type": "execute_result"
    },
    {
     "data": {
      "image/png": "[encoded data removed]",
      "text/plain": [
       "<Figure size 432x288 with 1 Axes>"
      ]
     },
     "metadata": {
      "needs_background": "light"
     },
     "output_type": "display_data"
    }
   ],
   "source": [
    "for col in df.columns:\n",
    "    missing = df[col].isnull()\n",
    "    num_missing = np.sum(missing)\n",
    "    \n",
    "    if num_missing > 0:  \n",
    "        print('created missing indicator for: {}'.format(col))\n",
    "        df['{}_ismissing'.format(col)] = missing\n",
    "\n",
    "# 컬럼이름에 ismissing이 들어간 변수들의 히스토그램 생성 \n",
    "ismissing_cols = [col for col in df.columns if 'ismissing' in col]\n",
    "df['num_missing'] = df[ismissing_cols].sum(axis=1)\n",
    "\n",
    "df['num_missing'].value_counts().reset_index().sort_values(by='index').plot.bar(x='index', y='num_missing')"
   ]
  },
  {
   "cell_type": "markdown",
   "metadata": {},
   "source": [
    "- 30,471행 중에 누락된 값이 없는 경우(0)가 6,000개 정도이며, 1개의 누락된 값을 갖는 경우는 대략 4,000개 정도"
   ]
  },
  {
   "cell_type": "markdown",
   "metadata": {},
   "source": [
    "### 누락 데이터 처리 "
   ]
  },
  {
   "cell_type": "markdown",
   "metadata": {},
   "source": [
    "- 누락 데이터를 포함한 행 제거"
   ]
  },
  {
   "cell_type": "code",
   "execution_count": 7,
   "metadata": {},
   "outputs": [],
   "source": [
    "# 한 행에서 누락데이터가 35개 이상인 행 제거\n",
    "ind_missing = df[df['num_missing'] > 35].index\n",
    "df_less_missing_rows = df.drop(ind_missing, axis=0)"
   ]
  },
  {
   "cell_type": "markdown",
   "metadata": {},
   "source": [
    "- 누락 데이터가 많은 컬럼 제거"
   ]
  },
  {
   "cell_type": "code",
   "execution_count": 8,
   "metadata": {},
   "outputs": [],
   "source": [
    "# hospital_beds_raion 컬럼은 많은 누락 데이터가 포함됨\n",
    "\n",
    "cols_to_drop = ['hospital_beds_raion']\n",
    "df_less_hos_beds_raion = df.drop(cols_to_drop, axis=1)"
   ]
  },
  {
   "cell_type": "markdown",
   "metadata": {},
   "source": [
    "- 누락된 데이터를 다른 값으로 대체"
   ]
  },
  {
   "cell_type": "code",
   "execution_count": 9,
   "metadata": {},
   "outputs": [
    {
     "name": "stdout",
     "output_type": "stream",
     "text": [
      "30.0\n"
     ]
    }
   ],
   "source": [
    "# fillna() 로 누락 데이터 대체\n",
    "med = df['life_sq'].median()\n",
    "print(med)\n",
    "df['life_sq'] = df['life_sq'].fillna(med)"
   ]
  },
  {
   "cell_type": "code",
   "execution_count": 10,
   "metadata": {},
   "outputs": [
    {
     "name": "stdout",
     "output_type": "stream",
     "text": [
      "imputing missing values for: floor\n",
      "imputing missing values for: max_floor\n",
      "imputing missing values for: material\n",
      "imputing missing values for: build_year\n",
      "imputing missing values for: num_room\n",
      "imputing missing values for: kitch_sq\n",
      "imputing missing values for: state\n",
      "imputing missing values for: preschool_quota\n",
      "imputing missing values for: school_quota\n",
      "imputing missing values for: hospital_beds_raion\n",
      "imputing missing values for: raion_build_count_with_material_info\n",
      "imputing missing values for: build_count_block\n",
      "imputing missing values for: build_count_wood\n",
      "imputing missing values for: build_count_frame\n",
      "imputing missing values for: build_count_brick\n",
      "imputing missing values for: build_count_monolith\n",
      "imputing missing values for: build_count_panel\n",
      "imputing missing values for: build_count_foam\n",
      "imputing missing values for: build_count_slag\n",
      "imputing missing values for: build_count_mix\n",
      "imputing missing values for: raion_build_count_with_builddate_info\n",
      "imputing missing values for: build_count_before_1920\n",
      "imputing missing values for: build_count_1921-1945\n",
      "imputing missing values for: build_count_1946-1970\n",
      "imputing missing values for: build_count_1971-1995\n",
      "imputing missing values for: build_count_after_1995\n",
      "imputing missing values for: metro_min_walk\n",
      "imputing missing values for: metro_km_walk\n",
      "imputing missing values for: railroad_station_walk_km\n",
      "imputing missing values for: railroad_station_walk_min\n",
      "imputing missing values for: ID_railroad_station_walk\n",
      "imputing missing values for: cafe_sum_500_min_price_avg\n",
      "imputing missing values for: cafe_sum_500_max_price_avg\n",
      "imputing missing values for: cafe_avg_price_500\n",
      "imputing missing values for: cafe_sum_1000_min_price_avg\n",
      "imputing missing values for: cafe_sum_1000_max_price_avg\n",
      "imputing missing values for: cafe_avg_price_1000\n",
      "imputing missing values for: cafe_sum_1500_min_price_avg\n",
      "imputing missing values for: cafe_sum_1500_max_price_avg\n",
      "imputing missing values for: cafe_avg_price_1500\n",
      "imputing missing values for: cafe_sum_2000_min_price_avg\n",
      "imputing missing values for: cafe_sum_2000_max_price_avg\n",
      "imputing missing values for: cafe_avg_price_2000\n",
      "imputing missing values for: cafe_sum_3000_min_price_avg\n",
      "imputing missing values for: cafe_sum_3000_max_price_avg\n",
      "imputing missing values for: cafe_avg_price_3000\n",
      "imputing missing values for: prom_part_5000\n",
      "imputing missing values for: cafe_sum_5000_min_price_avg\n",
      "imputing missing values for: cafe_sum_5000_max_price_avg\n",
      "imputing missing values for: cafe_avg_price_5000\n"
     ]
    }
   ],
   "source": [
    "# 수치형 변수에서 누락된 경우 중앙값으로 대체\n",
    "\n",
    "df_numeric = df.select_dtypes(include=[np.number])\n",
    "numeric_cols = df_numeric.columns.values\n",
    "\n",
    "for col in numeric_cols:\n",
    "    missing = df[col].isnull()\n",
    "    num_missing = np.sum(missing)\n",
    "    \n",
    "    if num_missing > 0:  \n",
    "        print('imputing missing values for: {}'.format(col))\n",
    "        df['{}_ismissing'.format(col)] = missing\n",
    "        med = df[col].median()\n",
    "        df[col] = df[col].fillna(med)"
   ]
  },
  {
   "cell_type": "code",
   "execution_count": 11,
   "metadata": {},
   "outputs": [],
   "source": [
    "# 범주형 변수의 경우 가장 빈번하게 나타나는 범주로 누락값 대체\n",
    "\n",
    "df_non_numeric = df.select_dtypes(exclude=[np.number])\n",
    "non_numeric_cols = df_non_numeric.columns.values\n",
    "\n",
    "for col in non_numeric_cols:\n",
    "    missing = df[col].isnull()\n",
    "    num_missing = np.sum(missing)\n",
    "    \n",
    "    if num_missing > 0:  \n",
    "        print('imputing missing values for: {}'.format(col))\n",
    "        df['{}_ismissing'.format(col)] = missing\n",
    "        \n",
    "        top = df[col].describe()['top'] \n",
    "        df[col] = df[col].fillna(top)"
   ]
  },
  {
   "cell_type": "code",
   "execution_count": 12,
   "metadata": {},
   "outputs": [],
   "source": [
    "# NA로 입력되어 있으면 다루기가 번거롭기에 특정 수치나 범주로 대체\n",
    "# 예를 들어 수치 -999, 범주 _MISSING_ 으로 대체\n",
    "\n",
    "# categorical\n",
    "df['sub_area'] = df['sub_area'].fillna('_MISSING_')\n",
    "\n",
    "\n",
    "# numeric\n",
    "df['life_sq'] = df['life_sq'].fillna(-999)"
   ]
  },
  {
   "cell_type": "markdown",
   "metadata": {},
   "source": [
    "### 이상치(Outliers) 다루기 "
   ]
  },
  {
   "cell_type": "markdown",
   "metadata": {},
   "source": [
    "- 히스토그램 / 박스 플롯으로 찾기 "
   ]
  },
  {
   "cell_type": "code",
   "execution_count": 13,
   "metadata": {},
   "outputs": [
    {
     "data": {
      "text/plain": [
       "<AxesSubplot:>"
      ]
     },
     "execution_count": 13,
     "metadata": {},
     "output_type": "execute_result"
    },
    {
     "data": {
      "image/png": "[encoded data removed]",
      "text/plain": [
       "<Figure size 432x288 with 1 Axes>"
      ]
     },
     "metadata": {
      "needs_background": "light"
     },
     "output_type": "display_data"
    }
   ],
   "source": [
    "df['life_sq'].hist(bins=100)"
   ]
  },
  {
   "cell_type": "code",
   "execution_count": 14,
   "metadata": {},
   "outputs": [
    {
     "data": {
      "text/plain": [
       "<AxesSubplot:>"
      ]
     },
     "execution_count": 14,
     "metadata": {},
     "output_type": "execute_result"
    },
    {
     "data": {
      "image/png": "[encoded data removed]",
      "text/plain": [
       "<Figure size 432x288 with 1 Axes>"
      ]
     },
     "metadata": {
      "needs_background": "light"
     },
     "output_type": "display_data"
    }
   ],
   "source": [
    "df.boxplot(column=['life_sq'])"
   ]
  },
  {
   "cell_type": "code",
   "execution_count": 15,
   "metadata": {},
   "outputs": [
    {
     "data": {
      "text/plain": [
       "<AxesSubplot:>"
      ]
     },
     "execution_count": 15,
     "metadata": {},
     "output_type": "execute_result"
    },
    {
     "data": {
      "image/png": "[encoded data removed]",
      "text/plain": [
       "<Figure size 432x288 with 1 Axes>"
      ]
     },
     "metadata": {
      "needs_background": "light"
     },
     "output_type": "display_data"
    }
   ],
   "source": [
    "df.boxplot(column=['children_school'])"
   ]
  },
  {
   "cell_type": "markdown",
   "metadata": {},
   "source": [
    "- 기술 통계치에서 발견 하기"
   ]
  },
  {
   "cell_type": "code",
   "execution_count": 16,
   "metadata": {},
   "outputs": [
    {
     "data": {
      "text/plain": [
       "count    30471.000000\n",
       "mean        33.480883\n",
       "std         46.522251\n",
       "min          0.000000\n",
       "25%         22.000000\n",
       "50%         30.000000\n",
       "75%         38.000000\n",
       "max       7478.000000\n",
       "Name: life_sq, dtype: float64"
      ]
     },
     "execution_count": 16,
     "metadata": {},
     "output_type": "execute_result"
    }
   ],
   "source": [
    "# 값 7478 은 이상치\n",
    "df['life_sq'].describe()"
   ]
  },
  {
   "cell_type": "markdown",
   "metadata": {},
   "source": [
    "### 불필요한 데이터 제거 "
   ]
  },
  {
   "cell_type": "markdown",
   "metadata": {},
   "source": [
    "- 반복되는 값이 많은 변수"
   ]
  },
  {
   "cell_type": "code",
   "execution_count": 17,
   "metadata": {},
   "outputs": [
    {
     "name": "stdout",
     "output_type": "stream",
     "text": [
      "oil_chemistry_raion: 99.02858%\n",
      "no     30175\n",
      "yes      296\n",
      "Name: oil_chemistry_raion, dtype: int64\n",
      "\n",
      "railroad_terminal_raion: 96.27187%\n",
      "no     29335\n",
      "yes     1136\n",
      "Name: railroad_terminal_raion, dtype: int64\n",
      "\n",
      "nuclear_reactor_raion: 97.16780%\n",
      "no     29608\n",
      "yes      863\n",
      "Name: nuclear_reactor_raion, dtype: int64\n",
      "\n",
      "build_count_foam: 95.35624%\n",
      "0.0     29056\n",
      "1.0       969\n",
      "11.0      262\n",
      "2.0       184\n",
      "Name: build_count_foam, dtype: int64\n",
      "\n",
      "big_road1_1line: 97.43691%\n",
      "no     29690\n",
      "yes      781\n",
      "Name: big_road1_1line, dtype: int64\n",
      "\n",
      "railroad_1line: 97.06934%\n",
      "no     29578\n",
      "yes      893\n",
      "Name: railroad_1line, dtype: int64\n",
      "\n",
      "cafe_count_500_price_high: 97.25641%\n",
      "0    29635\n",
      "1      787\n",
      "2       38\n",
      "3       11\n",
      "Name: cafe_count_500_price_high, dtype: int64\n",
      "\n",
      "mosque_count_500: 99.51101%\n",
      "0    30322\n",
      "1      149\n",
      "Name: mosque_count_500, dtype: int64\n",
      "\n",
      "cafe_count_1000_price_high: 95.52689%\n",
      "0    29108\n",
      "1     1104\n",
      "2      145\n",
      "3       51\n",
      "4       39\n",
      "5       15\n",
      "6        8\n",
      "7        1\n",
      "Name: cafe_count_1000_price_high, dtype: int64\n",
      "\n",
      "mosque_count_1000: 98.08342%\n",
      "0    29887\n",
      "1      584\n",
      "Name: mosque_count_1000, dtype: int64\n",
      "\n",
      "mosque_count_1500: 96.21936%\n",
      "0    29319\n",
      "1     1152\n",
      "Name: mosque_count_1500, dtype: int64\n",
      "\n",
      "floor_ismissing: 99.45194%\n",
      "False    30304\n",
      "True       167\n",
      "Name: floor_ismissing, dtype: int64\n",
      "\n",
      "metro_min_walk_ismissing: 99.91795%\n",
      "False    30446\n",
      "True        25\n",
      "Name: metro_min_walk_ismissing, dtype: int64\n",
      "\n",
      "metro_km_walk_ismissing: 99.91795%\n",
      "False    30446\n",
      "True        25\n",
      "Name: metro_km_walk_ismissing, dtype: int64\n",
      "\n",
      "railroad_station_walk_km_ismissing: 99.91795%\n",
      "False    30446\n",
      "True        25\n",
      "Name: railroad_station_walk_km_ismissing, dtype: int64\n",
      "\n",
      "railroad_station_walk_min_ismissing: 99.91795%\n",
      "False    30446\n",
      "True        25\n",
      "Name: railroad_station_walk_min_ismissing, dtype: int64\n",
      "\n",
      "ID_railroad_station_walk_ismissing: 99.91795%\n",
      "False    30446\n",
      "True        25\n",
      "Name: ID_railroad_station_walk_ismissing, dtype: int64\n",
      "\n",
      "cafe_sum_3000_min_price_avg_ismissing: 96.74773%\n",
      "False    29480\n",
      "True       991\n",
      "Name: cafe_sum_3000_min_price_avg_ismissing, dtype: int64\n",
      "\n",
      "cafe_sum_3000_max_price_avg_ismissing: 96.74773%\n",
      "False    29480\n",
      "True       991\n",
      "Name: cafe_sum_3000_max_price_avg_ismissing, dtype: int64\n",
      "\n",
      "cafe_avg_price_3000_ismissing: 96.74773%\n",
      "False    29480\n",
      "True       991\n",
      "Name: cafe_avg_price_3000_ismissing, dtype: int64\n",
      "\n",
      "prom_part_5000_ismissing: 99.41584%\n",
      "False    30293\n",
      "True       178\n",
      "Name: prom_part_5000_ismissing, dtype: int64\n",
      "\n",
      "cafe_sum_5000_min_price_avg_ismissing: 99.02530%\n",
      "False    30174\n",
      "True       297\n",
      "Name: cafe_sum_5000_min_price_avg_ismissing, dtype: int64\n",
      "\n",
      "cafe_sum_5000_max_price_avg_ismissing: 99.02530%\n",
      "False    30174\n",
      "True       297\n",
      "Name: cafe_sum_5000_max_price_avg_ismissing, dtype: int64\n",
      "\n",
      "cafe_avg_price_5000_ismissing: 99.02530%\n",
      "False    30174\n",
      "True       297\n",
      "Name: cafe_avg_price_5000_ismissing, dtype: int64\n",
      "\n"
     ]
    }
   ],
   "source": [
    "# 변수 값 중 95%이상이 동일한 경우\n",
    "\n",
    "num_rows = len(df.index)\n",
    "low_information_cols = [] \n",
    "\n",
    "for col in df.columns:\n",
    "    cnts = df[col].value_counts(dropna=False)\n",
    "    top_pct = (cnts/num_rows).iloc[0]\n",
    "    \n",
    "    if top_pct > 0.95:\n",
    "        low_information_cols.append(col)\n",
    "        print('{0}: {1:.5f}%'.format(col, top_pct*100))\n",
    "        print(cnts)\n",
    "        print()"
   ]
  },
  {
   "cell_type": "markdown",
   "metadata": {},
   "source": [
    "- 중복 데이터 제거"
   ]
  },
  {
   "cell_type": "code",
   "execution_count": 18,
   "metadata": {},
   "outputs": [
    {
     "name": "stdout",
     "output_type": "stream",
     "text": [
      "(30471, 344)\n",
      "(30461, 343)\n"
     ]
    }
   ],
   "source": [
    "# 10 행의 데이터가 중복\n",
    "# 'id' 컬럼을 제외하고 (id는 행 마다 다르므로), drop_duplicates()로 중복되는 행 제거\n",
    "\n",
    "df_dedupped = df.drop('id', axis=1).drop_duplicates()\n",
    "\n",
    "print(df.shape)\n",
    "print(df_dedupped.shape)"
   ]
  },
  {
   "cell_type": "markdown",
   "metadata": {},
   "source": [
    "### 데이터를 일관성 있게 수정"
   ]
  },
  {
   "cell_type": "markdown",
   "metadata": {},
   "source": [
    "- 대소문자 사용"
   ]
  },
  {
   "cell_type": "code",
   "execution_count": 19,
   "metadata": {},
   "outputs": [
    {
     "data": {
      "text/plain": [
       "Poselenie Sosenskoe               1776\n",
       "Nekrasovka                        1611\n",
       "Poselenie Vnukovskoe              1372\n",
       "Poselenie Moskovskij               925\n",
       "Poselenie Voskresenskoe            713\n",
       "                                  ... \n",
       "Molzhaninovskoe                      3\n",
       "Poselenie Kievskij                   2\n",
       "Poselenie Shhapovskoe                2\n",
       "Poselenie Mihajlovo-Jarcevskoe       1\n",
       "Poselenie Klenovskoe                 1\n",
       "Name: sub_area, Length: 146, dtype: int64"
      ]
     },
     "execution_count": 19,
     "metadata": {},
     "output_type": "execute_result"
    }
   ],
   "source": [
    "# “Poselenie Sosenskoe” and “pOseleNie sosenskoe”가 동일\n",
    "df['sub_area'].value_counts(dropna=False)"
   ]
  },
  {
   "cell_type": "code",
   "execution_count": 20,
   "metadata": {},
   "outputs": [
    {
     "data": {
      "text/plain": [
       "poselenie sosenskoe               1776\n",
       "nekrasovka                        1611\n",
       "poselenie vnukovskoe              1372\n",
       "poselenie moskovskij               925\n",
       "poselenie voskresenskoe            713\n",
       "                                  ... \n",
       "molzhaninovskoe                      3\n",
       "poselenie shhapovskoe                2\n",
       "poselenie kievskij                   2\n",
       "poselenie klenovskoe                 1\n",
       "poselenie mihajlovo-jarcevskoe       1\n",
       "Name: sub_area_lower, Length: 146, dtype: int64"
      ]
     },
     "execution_count": 20,
     "metadata": {},
     "output_type": "execute_result"
    }
   ],
   "source": [
    "# 범주를 모두 소문자로 변경\n",
    "df['sub_area_lower'] = df['sub_area'].str.lower()\n",
    "df['sub_area_lower'].value_counts(dropna=False)"
   ]
  },
  {
   "cell_type": "markdown",
   "metadata": {},
   "source": [
    "- 형식 변환"
   ]
  },
  {
   "cell_type": "markdown",
   "metadata": {},
   "source": [
    "- 변수 형식을 의미에 맞게 변환, timestamp는 날짜형식인데 문자로 인식하고 있음"
   ]
  },
  {
   "cell_type": "code",
   "execution_count": 21,
   "metadata": {},
   "outputs": [
    {
     "name": "stdout",
     "output_type": "stream",
     "text": [
      "2014    13662\n",
      "2013     7978\n",
      "2012     4839\n",
      "2015     3239\n",
      "2011      753\n",
      "Name: year, dtype: int64\n",
      "\n",
      "12    3400\n",
      "4     3191\n",
      "3     2972\n",
      "11    2970\n",
      "10    2736\n",
      "6     2570\n",
      "5     2496\n",
      "9     2346\n",
      "2     2275\n",
      "7     1875\n",
      "8     1831\n",
      "1     1809\n",
      "Name: month, dtype: int64\n"
     ]
    }
   ],
   "source": [
    "df['timestamp_dt'] = pd.to_datetime(df['timestamp'], format='%Y-%m-%d')\n",
    "df['year'] = df['timestamp_dt'].dt.year\n",
    "df['month'] = df['timestamp_dt'].dt.month\n",
    "df['weekday'] = df['timestamp_dt'].dt.weekday\n",
    "\n",
    "print(df['year'].value_counts(dropna=False))\n",
    "print()\n",
    "print(df['month'].value_counts(dropna=False))"
   ]
  },
  {
   "cell_type": "markdown",
   "metadata": {},
   "source": [
    "### 데이터 불균형"
   ]
  },
  {
   "cell_type": "markdown",
   "metadata": {},
   "source": [
    "- https://www.kaggle.com/rafjaa/resampling-strategies-for-imbalanced-datasets"
   ]
  },
  {
   "cell_type": "code",
   "execution_count": 22,
   "metadata": {},
   "outputs": [
    {
     "name": "stdout",
     "output_type": "stream",
     "text": [
      "Class 0: 3594\n",
      "Class 1: 644\n",
      "Proportion: 5.58 : 1\n"
     ]
    },
    {
     "data": {
      "text/plain": [
       "<AxesSubplot:title={'center':'Count (target)'}>"
      ]
     },
     "execution_count": 22,
     "metadata": {},
     "output_type": "execute_result"
    },
    {
     "data": {
      "image/png": "[encoded data removed]",
      "text/plain": [
       "<Figure size 432x288 with 1 Axes>"
      ]
     },
     "metadata": {
      "needs_background": "light"
     },
     "output_type": "display_data"
    }
   ],
   "source": [
    "import numpy as np\n",
    "import pandas as pd\n",
    "\n",
    "heart = pd.read_csv('data/framingham_heart_disease.csv')\n",
    "\n",
    "target_count = heart.TenYearCHD.value_counts()\n",
    "print('Class 0:', target_count[0])\n",
    "print('Class 1:', target_count[1])\n",
    "print('Proportion:', round(target_count[0] / target_count[1], 2), ': 1')\n",
    "\n",
    "target_count.plot(kind='bar', title='Count (target)', color=['blue','orange'])"
   ]
  },
  {
   "cell_type": "markdown",
   "metadata": {},
   "source": [
    "- 목표변수인 TenYearCHD의 값이 5.58:1(양성:악성)으로 분포"
   ]
  },
  {
   "cell_type": "markdown",
   "metadata": {},
   "source": [
    "### 성과지표 왜곡"
   ]
  },
  {
   "cell_type": "code",
   "execution_count": 23,
   "metadata": {},
   "outputs": [
    {
     "data": {
      "text/html": [
       "<div>\n",
       "<style scoped>\n",
       "    .dataframe tbody tr th:only-of-type {\n",
       "        vertical-align: middle;\n",
       "    }\n",
       "\n",
       "    .dataframe tbody tr th {\n",
       "        vertical-align: top;\n",
       "    }\n",
       "\n",
       "    .dataframe thead th {\n",
       "        text-align: right;\n",
       "    }\n",
       "</style>\n",
       "<table border=\"1\" class=\"dataframe\">\n",
       "  <thead>\n",
       "    <tr style=\"text-align: right;\">\n",
       "      <th></th>\n",
       "      <th>male</th>\n",
       "      <th>age</th>\n",
       "      <th>education</th>\n",
       "      <th>currentSmoker</th>\n",
       "      <th>cigsPerDay</th>\n",
       "      <th>BPMeds</th>\n",
       "      <th>prevalentStroke</th>\n",
       "      <th>prevalentHyp</th>\n",
       "      <th>diabetes</th>\n",
       "      <th>totChol</th>\n",
       "      <th>sysBP</th>\n",
       "      <th>diaBP</th>\n",
       "      <th>BMI</th>\n",
       "      <th>heartRate</th>\n",
       "      <th>glucose</th>\n",
       "      <th>TenYearCHD</th>\n",
       "    </tr>\n",
       "  </thead>\n",
       "  <tbody>\n",
       "    <tr>\n",
       "      <th>0</th>\n",
       "      <td>1</td>\n",
       "      <td>39</td>\n",
       "      <td>4.0</td>\n",
       "      <td>0</td>\n",
       "      <td>0.0</td>\n",
       "      <td>0.0</td>\n",
       "      <td>0</td>\n",
       "      <td>0</td>\n",
       "      <td>0</td>\n",
       "      <td>195.0</td>\n",
       "      <td>106.0</td>\n",
       "      <td>70.0</td>\n",
       "      <td>26.97</td>\n",
       "      <td>80.0</td>\n",
       "      <td>77.0</td>\n",
       "      <td>0</td>\n",
       "    </tr>\n",
       "    <tr>\n",
       "      <th>1</th>\n",
       "      <td>0</td>\n",
       "      <td>46</td>\n",
       "      <td>2.0</td>\n",
       "      <td>0</td>\n",
       "      <td>0.0</td>\n",
       "      <td>0.0</td>\n",
       "      <td>0</td>\n",
       "      <td>0</td>\n",
       "      <td>0</td>\n",
       "      <td>250.0</td>\n",
       "      <td>121.0</td>\n",
       "      <td>81.0</td>\n",
       "      <td>28.73</td>\n",
       "      <td>95.0</td>\n",
       "      <td>76.0</td>\n",
       "      <td>0</td>\n",
       "    </tr>\n",
       "    <tr>\n",
       "      <th>2</th>\n",
       "      <td>1</td>\n",
       "      <td>48</td>\n",
       "      <td>1.0</td>\n",
       "      <td>1</td>\n",
       "      <td>20.0</td>\n",
       "      <td>0.0</td>\n",
       "      <td>0</td>\n",
       "      <td>0</td>\n",
       "      <td>0</td>\n",
       "      <td>245.0</td>\n",
       "      <td>127.5</td>\n",
       "      <td>80.0</td>\n",
       "      <td>25.34</td>\n",
       "      <td>75.0</td>\n",
       "      <td>70.0</td>\n",
       "      <td>0</td>\n",
       "    </tr>\n",
       "    <tr>\n",
       "      <th>3</th>\n",
       "      <td>0</td>\n",
       "      <td>61</td>\n",
       "      <td>3.0</td>\n",
       "      <td>1</td>\n",
       "      <td>30.0</td>\n",
       "      <td>0.0</td>\n",
       "      <td>0</td>\n",
       "      <td>1</td>\n",
       "      <td>0</td>\n",
       "      <td>225.0</td>\n",
       "      <td>150.0</td>\n",
       "      <td>95.0</td>\n",
       "      <td>28.58</td>\n",
       "      <td>65.0</td>\n",
       "      <td>103.0</td>\n",
       "      <td>1</td>\n",
       "    </tr>\n",
       "    <tr>\n",
       "      <th>4</th>\n",
       "      <td>0</td>\n",
       "      <td>46</td>\n",
       "      <td>3.0</td>\n",
       "      <td>1</td>\n",
       "      <td>23.0</td>\n",
       "      <td>0.0</td>\n",
       "      <td>0</td>\n",
       "      <td>0</td>\n",
       "      <td>0</td>\n",
       "      <td>285.0</td>\n",
       "      <td>130.0</td>\n",
       "      <td>84.0</td>\n",
       "      <td>23.10</td>\n",
       "      <td>85.0</td>\n",
       "      <td>85.0</td>\n",
       "      <td>0</td>\n",
       "    </tr>\n",
       "  </tbody>\n",
       "</table>\n",
       "</div>"
      ],
      "text/plain": [
       "   male  age  education  currentSmoker  cigsPerDay  BPMeds  prevalentStroke  \\\n",
       "0     1   39        4.0              0         0.0     0.0                0   \n",
       "1     0   46        2.0              0         0.0     0.0                0   \n",
       "2     1   48        1.0              1        20.0     0.0                0   \n",
       "3     0   61        3.0              1        30.0     0.0                0   \n",
       "4     0   46        3.0              1        23.0     0.0                0   \n",
       "\n",
       "   prevalentHyp  diabetes  totChol  sysBP  diaBP    BMI  heartRate  glucose  \\\n",
       "0             0         0    195.0  106.0   70.0  26.97       80.0     77.0   \n",
       "1             0         0    250.0  121.0   81.0  28.73       95.0     76.0   \n",
       "2             0         0    245.0  127.5   80.0  25.34       75.0     70.0   \n",
       "3             1         0    225.0  150.0   95.0  28.58       65.0    103.0   \n",
       "4             0         0    285.0  130.0   84.0  23.10       85.0     85.0   \n",
       "\n",
       "   TenYearCHD  \n",
       "0           0  \n",
       "1           0  \n",
       "2           0  \n",
       "3           1  \n",
       "4           0  "
      ]
     },
     "execution_count": 23,
     "metadata": {},
     "output_type": "execute_result"
    }
   ],
   "source": [
    "heart.head()"
   ]
  },
  {
   "cell_type": "code",
   "execution_count": 24,
   "metadata": {},
   "outputs": [
    {
     "name": "stdout",
     "output_type": "stream",
     "text": [
      "Accuracy: 84.08%\n"
     ]
    }
   ],
   "source": [
    "from xgboost import XGBClassifier\n",
    "from sklearn.model_selection import train_test_split\n",
    "from sklearn.metrics import accuracy_score\n",
    "\n",
    "X = heart.drop('TenYearCHD', axis=1)\n",
    "y = heart['TenYearCHD']\n",
    "\n",
    "X_train, X_test, y_train, y_test = train_test_split(X, y, test_size=0.2)\n",
    "\n",
    "model = XGBClassifier()\n",
    "model.fit(X_train, y_train)\n",
    "y_pred = model.predict(X_test)\n",
    "\n",
    "accuracy = accuracy_score(y_test, y_pred)\n",
    "print(\"Accuracy: {:.2%}\".format(accuracy))"
   ]
  },
  {
   "cell_type": "code",
   "execution_count": 25,
   "metadata": {},
   "outputs": [
    {
     "name": "stdout",
     "output_type": "stream",
     "text": [
      "Accuracy: 84.91%\n"
     ]
    }
   ],
   "source": [
    "model = XGBClassifier()\n",
    "model.fit(X_train[['cigsPerDay']], y_train)\n",
    "y_pred = model.predict(X_test[['cigsPerDay']])\n",
    "\n",
    "accuracy = accuracy_score(y_test, y_pred)\n",
    "print(\"Accuracy: {:.2%}\".format(accuracy))"
   ]
  },
  {
   "cell_type": "markdown",
   "metadata": {},
   "source": [
    "### 혼동 행렬로 확인"
   ]
  },
  {
   "cell_type": "code",
   "execution_count": 26,
   "metadata": {},
   "outputs": [
    {
     "name": "stdout",
     "output_type": "stream",
     "text": [
      "Confusion matrix:\n",
      " [[720   0]\n",
      " [128   0]]\n"
     ]
    }
   ],
   "source": [
    "from sklearn.metrics import confusion_matrix\n",
    "\n",
    "conf_mat = confusion_matrix(y_true=y_test, y_pred=y_pred)\n",
    "print('Confusion matrix:\\n', conf_mat)"
   ]
  },
  {
   "cell_type": "code",
   "execution_count": 27,
   "metadata": {},
   "outputs": [
    {
     "name": "stdout",
     "output_type": "stream",
     "text": [
      "Precision: 0.00%\n",
      "Recall: 0.00%\n",
      "F1: 0.00%\n",
      "ROC AUC: 50.00%\n"
     ]
    },
    {
     "name": "stderr",
     "output_type": "stream",
     "text": [
      "/home/jovyan/.venv/datam/lib/python3.7/site-packages/sklearn/metrics/_classification.py:1221: UndefinedMetricWarning: Precision is ill-defined and being set to 0.0 due to no predicted samples. Use `zero_division` parameter to control this behavior.\n",
      "  _warn_prf(average, modifier, msg_start, len(result))\n"
     ]
    }
   ],
   "source": [
    "from sklearn.metrics import precision_score, recall_score, f1_score, roc_auc_score\n",
    "\n",
    "print(\"Precision: {:.2%}\".format(precision_score(y_test, y_pred)))\n",
    "print(\"Recall: {:.2%}\".format(recall_score(y_test, y_pred)))\n",
    "print(\"F1: {:.2%}\".format(f1_score(y_test, y_pred)))\n",
    "print(\"ROC AUC: {:.2%}\".format(roc_auc_score(y_test, y_pred)))"
   ]
  },
  {
   "cell_type": "markdown",
   "metadata": {},
   "source": [
    "### 언더 샘플링, 오버 샘플링"
   ]
  },
  {
   "cell_type": "markdown",
   "metadata": {},
   "source": [
    "- 언더 샘플링"
   ]
  },
  {
   "cell_type": "code",
   "execution_count": 28,
   "metadata": {},
   "outputs": [],
   "source": [
    "# Class count\n",
    "count_class_0, count_class_1 = heart.TenYearCHD.value_counts()\n",
    "\n",
    "# Divide by class\n",
    "df_class_0 = heart[heart.TenYearCHD == 0]\n",
    "df_class_1 = heart[heart.TenYearCHD == 1]"
   ]
  },
  {
   "cell_type": "code",
   "execution_count": 29,
   "metadata": {},
   "outputs": [
    {
     "name": "stdout",
     "output_type": "stream",
     "text": [
      "Random under-sampling:\n",
      "1    644\n",
      "0    644\n",
      "Name: TenYearCHD, dtype: int64\n"
     ]
    },
    {
     "data": {
      "text/plain": [
       "<AxesSubplot:title={'center':'Count (target)'}>"
      ]
     },
     "execution_count": 29,
     "metadata": {},
     "output_type": "execute_result"
    },
    {
     "data": {
      "image/png": "[encoded data removed]",
      "text/plain": [
       "<Figure size 432x288 with 1 Axes>"
      ]
     },
     "metadata": {
      "needs_background": "light"
     },
     "output_type": "display_data"
    }
   ],
   "source": [
    "df_class_0_under = df_class_0.sample(count_class_1)\n",
    "df_under = pd.concat([df_class_0_under, df_class_1], axis=0)\n",
    "\n",
    "print('Random under-sampling:')\n",
    "print(df_under.TenYearCHD.value_counts())\n",
    "\n",
    "df_under.TenYearCHD.value_counts().plot(kind='bar', title='Count (target)', color=['blue','orange'])"
   ]
  },
  {
   "cell_type": "markdown",
   "metadata": {},
   "source": [
    "- 오버 샘플링"
   ]
  },
  {
   "cell_type": "code",
   "execution_count": 30,
   "metadata": {},
   "outputs": [
    {
     "name": "stdout",
     "output_type": "stream",
     "text": [
      "Random over-sampling:\n",
      "1    3594\n",
      "0    3594\n",
      "Name: TenYearCHD, dtype: int64\n"
     ]
    },
    {
     "data": {
      "text/plain": [
       "<AxesSubplot:title={'center':'Count (target)'}>"
      ]
     },
     "execution_count": 30,
     "metadata": {},
     "output_type": "execute_result"
    },
    {
     "data": {
      "image/png": "[encoded data removed]",
      "text/plain": [
       "<Figure size 432x288 with 1 Axes>"
      ]
     },
     "metadata": {
      "needs_background": "light"
     },
     "output_type": "display_data"
    }
   ],
   "source": [
    "df_class_1_over = df_class_1.sample(count_class_0, replace=True)\n",
    "df_over = pd.concat([df_class_0, df_class_1_over], axis=0)\n",
    "\n",
    "print('Random over-sampling:')\n",
    "print(df_over.TenYearCHD.value_counts())\n",
    "\n",
    "df_over.TenYearCHD.value_counts().plot(kind='bar', title='Count (target)', color=['blue','orange'])"
   ]
  },
  {
   "cell_type": "markdown",
   "metadata": {},
   "source": [
    "- df_under, df_over 활용"
   ]
  },
  {
   "cell_type": "code",
   "execution_count": 31,
   "metadata": {},
   "outputs": [
    {
     "name": "stdout",
     "output_type": "stream",
     "text": [
      "Accuracy: 55.43%\n"
     ]
    }
   ],
   "source": [
    "X = df_under.drop('TenYearCHD', axis=1)\n",
    "y = df_under['TenYearCHD']\n",
    "\n",
    "X_train, X_test, y_train, y_test = train_test_split(X, y, test_size=0.2)\n",
    "\n",
    "model = XGBClassifier()\n",
    "model.fit(X_train, y_train)\n",
    "y_pred = model.predict(X_test)\n",
    "\n",
    "accuracy = accuracy_score(y_test, y_pred)\n",
    "print(\"Accuracy: {:.2%}\".format(accuracy))"
   ]
  },
  {
   "cell_type": "code",
   "execution_count": 32,
   "metadata": {},
   "outputs": [
    {
     "name": "stdout",
     "output_type": "stream",
     "text": [
      "Confusion matrix:\n",
      " [[75 51]\n",
      " [64 68]]\n"
     ]
    }
   ],
   "source": [
    "conf_mat = confusion_matrix(y_true=y_test, y_pred=y_pred)\n",
    "print('Confusion matrix:\\n', conf_mat)"
   ]
  },
  {
   "cell_type": "code",
   "execution_count": 33,
   "metadata": {},
   "outputs": [
    {
     "name": "stdout",
     "output_type": "stream",
     "text": [
      "Accuracy: 92.84%\n"
     ]
    }
   ],
   "source": [
    "X = df_over.drop('TenYearCHD', axis=1)\n",
    "y = df_over['TenYearCHD']\n",
    "\n",
    "X_train, X_test, y_train, y_test = train_test_split(X, y, test_size=0.2)\n",
    "\n",
    "model = XGBClassifier()\n",
    "model.fit(X_train, y_train)\n",
    "y_pred = model.predict(X_test)\n",
    "\n",
    "accuracy = accuracy_score(y_test, y_pred)\n",
    "print(\"Accuracy: {:.2%}\".format(accuracy))"
   ]
  },
  {
   "cell_type": "code",
   "execution_count": 34,
   "metadata": {},
   "outputs": [
    {
     "name": "stdout",
     "output_type": "stream",
     "text": [
      "Confusion matrix:\n",
      " [[611  85]\n",
      " [ 18 724]]\n"
     ]
    }
   ],
   "source": [
    "conf_mat = confusion_matrix(y_true=y_test, y_pred=y_pred)\n",
    "print('Confusion matrix:\\n', conf_mat)"
   ]
  },
  {
   "cell_type": "markdown",
   "metadata": {},
   "source": [
    "### 파이썬 imbalanced-learn 라이브러리 활용"
   ]
  },
  {
   "cell_type": "code",
   "execution_count": 35,
   "metadata": {},
   "outputs": [
    {
     "data": {
      "text/plain": [
       "<AxesSubplot:title={'center':'Count (target)'}>"
      ]
     },
     "execution_count": 35,
     "metadata": {},
     "output_type": "execute_result"
    },
    {
     "data": {
      "image/png": "[encoded data removed]",
      "text/plain": [
       "<Figure size 432x288 with 1 Axes>"
      ]
     },
     "metadata": {
      "needs_background": "light"
     },
     "output_type": "display_data"
    }
   ],
   "source": [
    "import numpy as np\n",
    "import pandas as pd\n",
    "import matplotlib.pyplot as plt\n",
    "\n",
    "heart = pd.read_csv('data/framingham_heart_disease.csv')\n",
    "heart = heart.dropna()\n",
    "X = heart.drop('TenYearCHD', axis=1)\n",
    "y = heart['TenYearCHD']\n",
    "\n",
    "y.value_counts().plot(kind='bar', title='Count (target)', color=['blue','orange'])"
   ]
  },
  {
   "cell_type": "markdown",
   "metadata": {},
   "source": [
    "- 언더, 오버 샘플링 데이터 보여주기"
   ]
  },
  {
   "cell_type": "code",
   "execution_count": 36,
   "metadata": {},
   "outputs": [
    {
     "data": {
      "text/plain": [
       "<AxesSubplot:title={'center':'Count (target)'}>"
      ]
     },
     "execution_count": 36,
     "metadata": {},
     "output_type": "execute_result"
    },
    {
     "data": {
      "image/png": "[encoded data removed]",
      "text/plain": [
       "<Figure size 432x288 with 1 Axes>"
      ]
     },
     "metadata": {
      "needs_background": "light"
     },
     "output_type": "display_data"
    }
   ],
   "source": [
    "# pip install imblearn\n",
    "\n",
    "from imblearn.under_sampling import RandomUnderSampler\n",
    "\n",
    "rus = RandomUnderSampler()\n",
    "X_rus, y_rus = rus.fit_sample(X, y)\n",
    "\n",
    "y_rus.value_counts().plot(kind='bar', title='Count (target)', color=['blue','orange'])"
   ]
  },
  {
   "cell_type": "code",
   "execution_count": 37,
   "metadata": {},
   "outputs": [
    {
     "name": "stdout",
     "output_type": "stream",
     "text": [
      "2542 new random picked points\n"
     ]
    },
    {
     "data": {
      "text/plain": [
       "<AxesSubplot:title={'center':'Count (target)'}>"
      ]
     },
     "execution_count": 37,
     "metadata": {},
     "output_type": "execute_result"
    },
    {
     "data": {
      "image/png": "[encoded data removed]",
      "text/plain": [
       "<Figure size 432x288 with 1 Axes>"
      ]
     },
     "metadata": {
      "needs_background": "light"
     },
     "output_type": "display_data"
    }
   ],
   "source": [
    "from imblearn.over_sampling import RandomOverSampler\n",
    "\n",
    "ros = RandomOverSampler()\n",
    "X_ros, y_ros = ros.fit_sample(X, y)\n",
    "\n",
    "print(X_ros.shape[0] - X.shape[0], 'new random picked points')\n",
    "\n",
    "y_ros.value_counts().plot(kind='bar', title='Count (target)', color=['blue','orange'])"
   ]
  },
  {
   "cell_type": "markdown",
   "metadata": {},
   "source": [
    "- 언더, 오버 샘플링 데이터 활용하기"
   ]
  },
  {
   "cell_type": "code",
   "execution_count": 38,
   "metadata": {},
   "outputs": [],
   "source": [
    "from xgboost import XGBClassifier\n",
    "from sklearn.model_selection import train_test_split\n",
    "from sklearn.metrics import accuracy_score\n",
    "\n",
    "heart = pd.read_csv('data/framingham_heart_disease.csv')\n",
    "heart = heart.dropna()\n",
    "X = heart.drop('TenYearCHD', axis=1)\n",
    "y = heart['TenYearCHD']\n",
    "\n",
    "rus = RandomUnderSampler()\n",
    "X_rus, y_rus = rus.fit_sample(X, y)\n",
    "\n",
    "ros = RandomOverSampler()\n",
    "X_ros, y_ros = ros.fit_sample(X, y)"
   ]
  },
  {
   "cell_type": "code",
   "execution_count": 39,
   "metadata": {},
   "outputs": [
    {
     "name": "stdout",
     "output_type": "stream",
     "text": [
      "Accuracy with under sampling: 61.88%\n"
     ]
    }
   ],
   "source": [
    "X_train, X_test, y_train, y_test = train_test_split(X_rus, y_rus, test_size=0.2)\n",
    "\n",
    "model = XGBClassifier()\n",
    "model.fit(X_train, y_train)\n",
    "y_pred = model.predict(X_test)\n",
    "\n",
    "accuracy = accuracy_score(y_test, y_pred)\n",
    "print(\"Accuracy with under sampling: {:.2%}\".format(accuracy))"
   ]
  },
  {
   "cell_type": "code",
   "execution_count": 40,
   "metadata": {},
   "outputs": [
    {
     "name": "stdout",
     "output_type": "stream",
     "text": [
      "Confusion matrix:\n",
      " [[74 37]\n",
      " [48 64]]\n"
     ]
    }
   ],
   "source": [
    "from sklearn.metrics import confusion_matrix\n",
    "\n",
    "conf_mat = confusion_matrix(y_true=y_test, y_pred=y_pred)\n",
    "print('Confusion matrix:\\n', conf_mat)"
   ]
  },
  {
   "cell_type": "code",
   "execution_count": 41,
   "metadata": {},
   "outputs": [
    {
     "name": "stdout",
     "output_type": "stream",
     "text": [
      "Accuracy with over sampling: 93.71%\n"
     ]
    }
   ],
   "source": [
    "X_train, X_test, y_train, y_test = train_test_split(X_ros, y_ros, test_size=0.2)\n",
    "\n",
    "model = XGBClassifier()\n",
    "model.fit(X_train, y_train)\n",
    "y_pred = model.predict(X_test)\n",
    "\n",
    "accuracy = accuracy_score(y_test, y_pred)\n",
    "print(\"Accuracy with over sampling: {:.2%}\".format(accuracy))"
   ]
  },
  {
   "cell_type": "code",
   "execution_count": 42,
   "metadata": {},
   "outputs": [
    {
     "name": "stdout",
     "output_type": "stream",
     "text": [
      "Confusion matrix:\n",
      " [[557  70]\n",
      " [  8 605]]\n"
     ]
    }
   ],
   "source": [
    "conf_mat = confusion_matrix(y_true=y_test, y_pred=y_pred)\n",
    "print('Confusion matrix:\\n', conf_mat)"
   ]
  },
  {
   "cell_type": "markdown",
   "metadata": {},
   "source": [
    "- 언더 샘플링: Tomek links"
   ]
  },
  {
   "cell_type": "code",
   "execution_count": 43,
   "metadata": {},
   "outputs": [
    {
     "data": {
      "text/plain": [
       "<AxesSubplot:title={'center':'Count (target)'}>"
      ]
     },
     "execution_count": 43,
     "metadata": {},
     "output_type": "execute_result"
    },
    {
     "data": {
      "image/png": "[encoded data removed]",
      "text/plain": [
       "<Figure size 432x288 with 1 Axes>"
      ]
     },
     "metadata": {
      "needs_background": "light"
     },
     "output_type": "display_data"
    }
   ],
   "source": [
    "from imblearn.under_sampling import TomekLinks\n",
    "\n",
    "tl = TomekLinks(sampling_strategy='majority')\n",
    "X_tl, y_tl = tl.fit_sample(X, y)\n",
    "\n",
    "y_tl.value_counts().plot(kind='bar', title='Count (target)', color=['blue','orange'])"
   ]
  },
  {
   "cell_type": "markdown",
   "metadata": {},
   "source": [
    "- 언더 샘플링: 군집화 중앙값 (Kmeans 군집화)"
   ]
  },
  {
   "cell_type": "code",
   "execution_count": 44,
   "metadata": {},
   "outputs": [
    {
     "data": {
      "text/plain": [
       "<AxesSubplot:title={'center':'Count (target)'}>"
      ]
     },
     "execution_count": 44,
     "metadata": {},
     "output_type": "execute_result"
    },
    {
     "data": {
      "image/png": "[encoded data removed]",
      "text/plain": [
       "<Figure size 432x288 with 1 Axes>"
      ]
     },
     "metadata": {
      "needs_background": "light"
     },
     "output_type": "display_data"
    }
   ],
   "source": [
    "from imblearn.under_sampling import ClusterCentroids\n",
    "\n",
    "cc = ClusterCentroids()\n",
    "X_cc, y_cc = cc.fit_sample(X, y)\n",
    "\n",
    "y_cc.value_counts().plot(kind='bar', title='Count (target)', color=['blue','orange'])"
   ]
  },
  {
   "cell_type": "markdown",
   "metadata": {},
   "source": [
    "- 오버 샘플링: SMOTE"
   ]
  },
  {
   "cell_type": "code",
   "execution_count": 45,
   "metadata": {},
   "outputs": [
    {
     "data": {
      "text/plain": [
       "<AxesSubplot:title={'center':'Count (target)'}>"
      ]
     },
     "execution_count": 45,
     "metadata": {},
     "output_type": "execute_result"
    },
    {
     "data": {
      "image/png": "[encoded data removed]",
      "text/plain": [
       "<Figure size 432x288 with 1 Axes>"
      ]
     },
     "metadata": {
      "needs_background": "light"
     },
     "output_type": "display_data"
    }
   ],
   "source": [
    "from imblearn.over_sampling import SMOTE\n",
    "\n",
    "smote = SMOTE()\n",
    "X_sm, y_sm = smote.fit_sample(X, y)\n",
    "\n",
    "y_sm.value_counts().plot(kind='bar', title='Count (target)', color=['blue','orange'])"
   ]
  },
  {
   "cell_type": "markdown",
   "metadata": {},
   "source": [
    "- ADASYN(Adaptive Synthetic Sampling)"
   ]
  },
  {
   "cell_type": "code",
   "execution_count": 46,
   "metadata": {},
   "outputs": [
    {
     "data": {
      "text/plain": [
       "<AxesSubplot:title={'center':'Count (target)'}>"
      ]
     },
     "execution_count": 46,
     "metadata": {},
     "output_type": "execute_result"
    },
    {
     "data": {
      "image/png": "[encoded data removed]",
      "text/plain": [
       "<Figure size 432x288 with 1 Axes>"
      ]
     },
     "metadata": {
      "needs_background": "light"
     },
     "output_type": "display_data"
    }
   ],
   "source": [
    "from imblearn.over_sampling import ADASYN\n",
    "\n",
    "ada = ADASYN()\n",
    "X_ada, y_ada = ada.fit_sample(X, y)\n",
    "\n",
    "y_ada.value_counts().plot(kind='bar', title='Count (target)', color=['blue','orange'])"
   ]
  },
  {
   "cell_type": "markdown",
   "metadata": {},
   "source": [
    "- 언더 샘플링 수행 후 오버 샘플링 (SMOTE after Tomek links)"
   ]
  },
  {
   "cell_type": "code",
   "execution_count": 47,
   "metadata": {},
   "outputs": [
    {
     "data": {
      "text/plain": [
       "<AxesSubplot:title={'center':'Count (target)'}>"
      ]
     },
     "execution_count": 47,
     "metadata": {},
     "output_type": "execute_result"
    },
    {
     "data": {
      "image/png": "[encoded data removed]",
      "text/plain": [
       "<Figure size 432x288 with 1 Axes>"
      ]
     },
     "metadata": {
      "needs_background": "light"
     },
     "output_type": "display_data"
    }
   ],
   "source": [
    "from imblearn.combine import SMOTETomek\n",
    "\n",
    "smt = SMOTETomek()\n",
    "X_smt, y_smt = smt.fit_sample(X, y)\n",
    "\n",
    "y_smt.value_counts().plot(kind='bar', title='Count (target)', color=['blue','orange'])"
   ]
  },
  {
   "cell_type": "markdown",
   "metadata": {},
   "source": [
    "### 성과 측정"
   ]
  },
  {
   "cell_type": "code",
   "execution_count": 48,
   "metadata": {},
   "outputs": [
    {
     "name": "stdout",
     "output_type": "stream",
     "text": [
      "ROC AUC with Tomek links: 56.34%\n"
     ]
    }
   ],
   "source": [
    "X_train, X_test, y_train, y_test = train_test_split(X_tl, y_tl, test_size=0.2)\n",
    "\n",
    "model = XGBClassifier()\n",
    "model.fit(X_train, y_train)\n",
    "y_pred = model.predict(X_test)\n",
    "\n",
    "print(\"ROC AUC with Tomek links: {:.2%}\".format(roc_auc_score(y_test, y_pred)))"
   ]
  },
  {
   "cell_type": "code",
   "execution_count": 49,
   "metadata": {},
   "outputs": [
    {
     "name": "stdout",
     "output_type": "stream",
     "text": [
      "Confusion matrix:\n",
      " [[548  26]\n",
      " [101  21]]\n"
     ]
    }
   ],
   "source": [
    "conf_mat = confusion_matrix(y_true=y_test, y_pred=y_pred)\n",
    "print('Confusion matrix:\\n', conf_mat)"
   ]
  },
  {
   "cell_type": "code",
   "execution_count": 50,
   "metadata": {},
   "outputs": [
    {
     "name": "stdout",
     "output_type": "stream",
     "text": [
      "ROC AUC with under sampling by clustering centroids: 86.02%\n"
     ]
    }
   ],
   "source": [
    "X_train, X_test, y_train, y_test = train_test_split(X_cc, y_cc, test_size=0.2)\n",
    "\n",
    "model = XGBClassifier()\n",
    "model.fit(X_train, y_train)\n",
    "y_pred = model.predict(X_test)\n",
    "\n",
    "print(\"ROC AUC with under sampling by clustering centroids: {:.2%}\".format(roc_auc_score(y_test, y_pred)))"
   ]
  },
  {
   "cell_type": "code",
   "execution_count": 51,
   "metadata": {},
   "outputs": [
    {
     "name": "stdout",
     "output_type": "stream",
     "text": [
      "ROC AUC with over sampling by SMOTE: 89.63%\n"
     ]
    }
   ],
   "source": [
    "X_train, X_test, y_train, y_test = train_test_split(X_sm, y_sm, test_size=0.2)\n",
    "\n",
    "model = XGBClassifier()\n",
    "model.fit(X_train, y_train)\n",
    "y_pred = model.predict(X_test)\n",
    "\n",
    "print(\"ROC AUC with over sampling by SMOTE: {:.2%}\".format(roc_auc_score(y_test, y_pred)))"
   ]
  },
  {
   "cell_type": "code",
   "execution_count": 52,
   "metadata": {},
   "outputs": [
    {
     "name": "stdout",
     "output_type": "stream",
     "text": [
      "ROC AUC with over sampling by ADASYN: 88.01%\n"
     ]
    }
   ],
   "source": [
    "X_train, X_test, y_train, y_test = train_test_split(X_ada, y_ada, test_size=0.2)\n",
    "\n",
    "model = XGBClassifier()\n",
    "model.fit(X_train, y_train)\n",
    "y_pred = model.predict(X_test)\n",
    "\n",
    "print(\"ROC AUC with over sampling by ADASYN: {:.2%}\".format(roc_auc_score(y_test, y_pred)))"
   ]
  },
  {
   "cell_type": "code",
   "execution_count": 53,
   "metadata": {},
   "outputs": [
    {
     "name": "stdout",
     "output_type": "stream",
     "text": [
      "ROC AUC with SMOTE after Tomek links: 88.85%\n"
     ]
    }
   ],
   "source": [
    "X_train, X_test, y_train, y_test = train_test_split(X_smt, y_smt, test_size=0.2)\n",
    "\n",
    "model = XGBClassifier()\n",
    "model.fit(X_train, y_train)\n",
    "y_pred = model.predict(X_test)\n",
    "\n",
    "print(\"ROC AUC with SMOTE after Tomek links: {:.2%}\".format(roc_auc_score(y_test, y_pred)))"
   ]
  },
  {
   "cell_type": "markdown",
   "metadata": {},
   "source": [
    "### 연습문제"
   ]
  },
  {
   "cell_type": "code",
   "execution_count": 54,
   "metadata": {},
   "outputs": [
    {
     "data": {
      "text/html": [
       "<div>\n",
       "<style scoped>\n",
       "    .dataframe tbody tr th:only-of-type {\n",
       "        vertical-align: middle;\n",
       "    }\n",
       "\n",
       "    .dataframe tbody tr th {\n",
       "        vertical-align: top;\n",
       "    }\n",
       "\n",
       "    .dataframe thead th {\n",
       "        text-align: right;\n",
       "    }\n",
       "</style>\n",
       "<table border=\"1\" class=\"dataframe\">\n",
       "  <thead>\n",
       "    <tr style=\"text-align: right;\">\n",
       "      <th></th>\n",
       "      <th>Time</th>\n",
       "      <th>V1</th>\n",
       "      <th>V2</th>\n",
       "      <th>V3</th>\n",
       "      <th>V4</th>\n",
       "      <th>V5</th>\n",
       "      <th>V6</th>\n",
       "      <th>V7</th>\n",
       "      <th>V8</th>\n",
       "      <th>V9</th>\n",
       "      <th>...</th>\n",
       "      <th>V21</th>\n",
       "      <th>V22</th>\n",
       "      <th>V23</th>\n",
       "      <th>V24</th>\n",
       "      <th>V25</th>\n",
       "      <th>V26</th>\n",
       "      <th>V27</th>\n",
       "      <th>V28</th>\n",
       "      <th>Amount</th>\n",
       "      <th>Class</th>\n",
       "    </tr>\n",
       "  </thead>\n",
       "  <tbody>\n",
       "    <tr>\n",
       "      <th>0</th>\n",
       "      <td>0.0</td>\n",
       "      <td>-1.359807</td>\n",
       "      <td>-0.072781</td>\n",
       "      <td>2.536347</td>\n",
       "      <td>1.378155</td>\n",
       "      <td>-0.338321</td>\n",
       "      <td>0.462388</td>\n",
       "      <td>0.239599</td>\n",
       "      <td>0.098698</td>\n",
       "      <td>0.363787</td>\n",
       "      <td>...</td>\n",
       "      <td>-0.018307</td>\n",
       "      <td>0.277838</td>\n",
       "      <td>-0.110474</td>\n",
       "      <td>0.066928</td>\n",
       "      <td>0.128539</td>\n",
       "      <td>-0.189115</td>\n",
       "      <td>0.133558</td>\n",
       "      <td>-0.021053</td>\n",
       "      <td>149.62</td>\n",
       "      <td>0</td>\n",
       "    </tr>\n",
       "    <tr>\n",
       "      <th>1</th>\n",
       "      <td>0.0</td>\n",
       "      <td>1.191857</td>\n",
       "      <td>0.266151</td>\n",
       "      <td>0.166480</td>\n",
       "      <td>0.448154</td>\n",
       "      <td>0.060018</td>\n",
       "      <td>-0.082361</td>\n",
       "      <td>-0.078803</td>\n",
       "      <td>0.085102</td>\n",
       "      <td>-0.255425</td>\n",
       "      <td>...</td>\n",
       "      <td>-0.225775</td>\n",
       "      <td>-0.638672</td>\n",
       "      <td>0.101288</td>\n",
       "      <td>-0.339846</td>\n",
       "      <td>0.167170</td>\n",
       "      <td>0.125895</td>\n",
       "      <td>-0.008983</td>\n",
       "      <td>0.014724</td>\n",
       "      <td>2.69</td>\n",
       "      <td>0</td>\n",
       "    </tr>\n",
       "    <tr>\n",
       "      <th>2</th>\n",
       "      <td>1.0</td>\n",
       "      <td>-1.358354</td>\n",
       "      <td>-1.340163</td>\n",
       "      <td>1.773209</td>\n",
       "      <td>0.379780</td>\n",
       "      <td>-0.503198</td>\n",
       "      <td>1.800499</td>\n",
       "      <td>0.791461</td>\n",
       "      <td>0.247676</td>\n",
       "      <td>-1.514654</td>\n",
       "      <td>...</td>\n",
       "      <td>0.247998</td>\n",
       "      <td>0.771679</td>\n",
       "      <td>0.909412</td>\n",
       "      <td>-0.689281</td>\n",
       "      <td>-0.327642</td>\n",
       "      <td>-0.139097</td>\n",
       "      <td>-0.055353</td>\n",
       "      <td>-0.059752</td>\n",
       "      <td>378.66</td>\n",
       "      <td>0</td>\n",
       "    </tr>\n",
       "    <tr>\n",
       "      <th>3</th>\n",
       "      <td>1.0</td>\n",
       "      <td>-0.966272</td>\n",
       "      <td>-0.185226</td>\n",
       "      <td>1.792993</td>\n",
       "      <td>-0.863291</td>\n",
       "      <td>-0.010309</td>\n",
       "      <td>1.247203</td>\n",
       "      <td>0.237609</td>\n",
       "      <td>0.377436</td>\n",
       "      <td>-1.387024</td>\n",
       "      <td>...</td>\n",
       "      <td>-0.108300</td>\n",
       "      <td>0.005274</td>\n",
       "      <td>-0.190321</td>\n",
       "      <td>-1.175575</td>\n",
       "      <td>0.647376</td>\n",
       "      <td>-0.221929</td>\n",
       "      <td>0.062723</td>\n",
       "      <td>0.061458</td>\n",
       "      <td>123.50</td>\n",
       "      <td>0</td>\n",
       "    </tr>\n",
       "    <tr>\n",
       "      <th>4</th>\n",
       "      <td>2.0</td>\n",
       "      <td>-1.158233</td>\n",
       "      <td>0.877737</td>\n",
       "      <td>1.548718</td>\n",
       "      <td>0.403034</td>\n",
       "      <td>-0.407193</td>\n",
       "      <td>0.095921</td>\n",
       "      <td>0.592941</td>\n",
       "      <td>-0.270533</td>\n",
       "      <td>0.817739</td>\n",
       "      <td>...</td>\n",
       "      <td>-0.009431</td>\n",
       "      <td>0.798278</td>\n",
       "      <td>-0.137458</td>\n",
       "      <td>0.141267</td>\n",
       "      <td>-0.206010</td>\n",
       "      <td>0.502292</td>\n",
       "      <td>0.219422</td>\n",
       "      <td>0.215153</td>\n",
       "      <td>69.99</td>\n",
       "      <td>0</td>\n",
       "    </tr>\n",
       "  </tbody>\n",
       "</table>\n",
       "<p>5 rows × 31 columns</p>\n",
       "</div>"
      ],
      "text/plain": [
       "   Time        V1        V2        V3        V4        V5        V6        V7  \\\n",
       "0   0.0 -1.359807 -0.072781  2.536347  1.378155 -0.338321  0.462388  0.239599   \n",
       "1   0.0  1.191857  0.266151  0.166480  0.448154  0.060018 -0.082361 -0.078803   \n",
       "2   1.0 -1.358354 -1.340163  1.773209  0.379780 -0.503198  1.800499  0.791461   \n",
       "3   1.0 -0.966272 -0.185226  1.792993 -0.863291 -0.010309  1.247203  0.237609   \n",
       "4   2.0 -1.158233  0.877737  1.548718  0.403034 -0.407193  0.095921  0.592941   \n",
       "\n",
       "         V8        V9  ...       V21       V22       V23       V24       V25  \\\n",
       "0  0.098698  0.363787  ... -0.018307  0.277838 -0.110474  0.066928  0.128539   \n",
       "1  0.085102 -0.255425  ... -0.225775 -0.638672  0.101288 -0.339846  0.167170   \n",
       "2  0.247676 -1.514654  ...  0.247998  0.771679  0.909412 -0.689281 -0.327642   \n",
       "3  0.377436 -1.387024  ... -0.108300  0.005274 -0.190321 -1.175575  0.647376   \n",
       "4 -0.270533  0.817739  ... -0.009431  0.798278 -0.137458  0.141267 -0.206010   \n",
       "\n",
       "        V26       V27       V28  Amount  Class  \n",
       "0 -0.189115  0.133558 -0.021053  149.62      0  \n",
       "1  0.125895 -0.008983  0.014724    2.69      0  \n",
       "2 -0.139097 -0.055353 -0.059752  378.66      0  \n",
       "3 -0.221929  0.062723  0.061458  123.50      0  \n",
       "4  0.502292  0.219422  0.215153   69.99      0  \n",
       "\n",
       "[5 rows x 31 columns]"
      ]
     },
     "execution_count": 54,
     "metadata": {},
     "output_type": "execute_result"
    }
   ],
   "source": [
    "import numpy as np\n",
    "import pandas as pd\n",
    "\n",
    "card = pd.read_csv('data/creditcard.csv')\n",
    "card.head()"
   ]
  },
  {
   "cell_type": "markdown",
   "metadata": {},
   "source": [
    "- Time은 0번행 거래 이후의 시간 차이\n",
    "- Amount 거래금액\n",
    "- Class 1: 부정 거래, 0: 정상 거래(목표변수)\n",
    "- V1 ~ V28 개인 정보 문제로 인해 실제 변수가 아니고 차원 축소를 통해 변형된 값임"
   ]
  },
  {
   "cell_type": "code",
   "execution_count": 55,
   "metadata": {},
   "outputs": [
    {
     "name": "stdout",
     "output_type": "stream",
     "text": [
      "Class 0: 284315\n",
      "Class 1: 492\n",
      "Proportion: 577.88 : 1\n"
     ]
    },
    {
     "data": {
      "text/plain": [
       "<AxesSubplot:title={'center':'Count (target)'}>"
      ]
     },
     "execution_count": 55,
     "metadata": {},
     "output_type": "execute_result"
    },
    {
     "data": {
      "image/png": "[encoded data removed]",
      "text/plain": [
       "<Figure size 432x288 with 1 Axes>"
      ]
     },
     "metadata": {
      "needs_background": "light"
     },
     "output_type": "display_data"
    }
   ],
   "source": [
    "target_count = card.Class.value_counts()\n",
    "print('Class 0:', target_count[0])\n",
    "print('Class 1:', target_count[1])\n",
    "print('Proportion:', round(target_count[0] / target_count[1], 2), ': 1')\n",
    "\n",
    "target_count.plot(kind='bar', title='Count (target)', color=['blue','orange'])"
   ]
  },
  {
   "cell_type": "markdown",
   "metadata": {},
   "source": [
    "- 정상 거래 데이터가 부정 거래 데이터의 577배 많이 존재함\n",
    "- 극심하게 데이터 불균형이 나타나고 있으며, 부정 거래 데이터가 492개로 매우 적음\n",
    "- 데이터 불균형을 해소 랜덤 포레스트를 적용하여 분류 모형 학습 후 성과 측정"
   ]
  },
  {
   "cell_type": "code",
   "execution_count": 56,
   "metadata": {},
   "outputs": [],
   "source": [
    "X = card.drop('Class', axis=1)\n",
    "y = card['Class']"
   ]
  },
  {
   "cell_type": "markdown",
   "metadata": {},
   "source": [
    "### 언더 샘플링"
   ]
  },
  {
   "cell_type": "markdown",
   "metadata": {},
   "source": [
    "- 랜덤 언더 샘플링"
   ]
  },
  {
   "cell_type": "code",
   "execution_count": 57,
   "metadata": {},
   "outputs": [
    {
     "data": {
      "text/plain": [
       "<AxesSubplot:title={'center':'Count (target)'}>"
      ]
     },
     "execution_count": 57,
     "metadata": {},
     "output_type": "execute_result"
    },
    {
     "data": {
      "image/png": "[encoded data removed]",
      "text/plain": [
       "<Figure size 432x288 with 1 Axes>"
      ]
     },
     "metadata": {
      "needs_background": "light"
     },
     "output_type": "display_data"
    }
   ],
   "source": [
    "from imblearn.under_sampling import RandomUnderSampler\n",
    "\n",
    "rus = RandomUnderSampler()\n",
    "X_rus, y_rus = rus.fit_sample(X, y)\n",
    "y_rus.value_counts().plot(kind='bar', title='Count (target)', color=['blue','orange'])"
   ]
  },
  {
   "cell_type": "markdown",
   "metadata": {},
   "source": [
    "- 언더 샘플링: Tomek Links"
   ]
  },
  {
   "cell_type": "code",
   "execution_count": 58,
   "metadata": {},
   "outputs": [
    {
     "data": {
      "text/plain": [
       "<AxesSubplot:title={'center':'Count (target)'}>"
      ]
     },
     "execution_count": 58,
     "metadata": {},
     "output_type": "execute_result"
    },
    {
     "data": {
      "image/png": "[encoded data removed]",
      "text/plain": [
       "<Figure size 432x288 with 1 Axes>"
      ]
     },
     "metadata": {
      "needs_background": "light"
     },
     "output_type": "display_data"
    }
   ],
   "source": [
    "from imblearn.under_sampling import TomekLinks\n",
    "\n",
    "tl = TomekLinks(sampling_strategy='majority')\n",
    "X_tl, y_tl = tl.fit_sample(X, y)\n",
    "\n",
    "y_tl.value_counts().plot(kind='bar', title='Count (target)', color=['blue','orange'])"
   ]
  },
  {
   "cell_type": "markdown",
   "metadata": {},
   "source": [
    "- 언더 샘플링: 군집화 중앙값"
   ]
  },
  {
   "cell_type": "code",
   "execution_count": 59,
   "metadata": {},
   "outputs": [
    {
     "data": {
      "text/plain": [
       "<AxesSubplot:title={'center':'Count (target)'}>"
      ]
     },
     "execution_count": 59,
     "metadata": {},
     "output_type": "execute_result"
    },
    {
     "data": {
      "image/png": "[encoded data removed]",
      "text/plain": [
       "<Figure size 432x288 with 1 Axes>"
      ]
     },
     "metadata": {
      "needs_background": "light"
     },
     "output_type": "display_data"
    }
   ],
   "source": [
    "from imblearn.under_sampling import ClusterCentroids\n",
    "\n",
    "cc = ClusterCentroids()\n",
    "X_cc, y_cc = cc.fit_sample(X, y)\n",
    "\n",
    "y_cc.value_counts().plot(kind='bar', title='Count (target)', color=['blue','orange'])"
   ]
  },
  {
   "cell_type": "markdown",
   "metadata": {},
   "source": [
    "### 오버 샘플링"
   ]
  },
  {
   "cell_type": "markdown",
   "metadata": {},
   "source": [
    "- 랜덤 오버 샘플링"
   ]
  },
  {
   "cell_type": "code",
   "execution_count": 60,
   "metadata": {},
   "outputs": [
    {
     "data": {
      "text/plain": [
       "<AxesSubplot:title={'center':'Count (target)'}>"
      ]
     },
     "execution_count": 60,
     "metadata": {},
     "output_type": "execute_result"
    },
    {
     "data": {
      "image/png": "[encoded data removed]",
      "text/plain": [
       "<Figure size 432x288 with 1 Axes>"
      ]
     },
     "metadata": {
      "needs_background": "light"
     },
     "output_type": "display_data"
    }
   ],
   "source": [
    "from imblearn.over_sampling import RandomOverSampler\n",
    "\n",
    "ros = RandomOverSampler()\n",
    "X_ros, y_ros = ros.fit_sample(X, y)\n",
    "y_ros.value_counts().plot(kind='bar', title='Count (target)', color=['blue','orange'])"
   ]
  },
  {
   "cell_type": "markdown",
   "metadata": {},
   "source": [
    "- 오버 샘플링: SMOTE"
   ]
  },
  {
   "cell_type": "code",
   "execution_count": 61,
   "metadata": {},
   "outputs": [
    {
     "data": {
      "text/plain": [
       "<AxesSubplot:title={'center':'Count (target)'}>"
      ]
     },
     "execution_count": 61,
     "metadata": {},
     "output_type": "execute_result"
    },
    {
     "data": {
      "image/png": "[encoded data removed]",
      "text/plain": [
       "<Figure size 432x288 with 1 Axes>"
      ]
     },
     "metadata": {
      "needs_background": "light"
     },
     "output_type": "display_data"
    }
   ],
   "source": [
    "from imblearn.over_sampling import SMOTE\n",
    "\n",
    "smote = SMOTE()\n",
    "X_sm, y_sm = smote.fit_sample(X, y)\n",
    "\n",
    "y_sm.value_counts().plot(kind='bar', title='Count (target)', color=['blue','orange'])"
   ]
  },
  {
   "cell_type": "markdown",
   "metadata": {},
   "source": [
    "- 오버 샘플링: ADASYN"
   ]
  },
  {
   "cell_type": "code",
   "execution_count": 62,
   "metadata": {},
   "outputs": [
    {
     "data": {
      "text/plain": [
       "<AxesSubplot:title={'center':'Count (target)'}>"
      ]
     },
     "execution_count": 62,
     "metadata": {},
     "output_type": "execute_result"
    },
    {
     "data": {
      "image/png": "[encoded data removed]",
      "text/plain": [
       "<Figure size 432x288 with 1 Axes>"
      ]
     },
     "metadata": {
      "needs_background": "light"
     },
     "output_type": "display_data"
    }
   ],
   "source": [
    "from imblearn.over_sampling import ADASYN\n",
    "\n",
    "ada = ADASYN()\n",
    "X_ada, y_ada = ada.fit_sample(X, y)\n",
    "\n",
    "y_ada.value_counts().plot(kind='bar', title='Count (target)', color=['blue','orange'])"
   ]
  },
  {
   "cell_type": "markdown",
   "metadata": {},
   "source": [
    "- 언더 샘플링 후 오버 샘플링"
   ]
  },
  {
   "cell_type": "code",
   "execution_count": 63,
   "metadata": {},
   "outputs": [
    {
     "data": {
      "text/plain": [
       "<AxesSubplot:title={'center':'Count (target)'}>"
      ]
     },
     "execution_count": 63,
     "metadata": {},
     "output_type": "execute_result"
    },
    {
     "data": {
      "image/png": "[encoded data removed]",
      "text/plain": [
       "<Figure size 432x288 with 1 Axes>"
      ]
     },
     "metadata": {
      "needs_background": "light"
     },
     "output_type": "display_data"
    }
   ],
   "source": [
    "from imblearn.combine import SMOTETomek\n",
    "\n",
    "smt = SMOTETomek()\n",
    "X_smt, y_smt = smt.fit_sample(X, y)\n",
    "\n",
    "y_smt.value_counts().plot(kind='bar', title='Count (target)', color=['blue','orange'])"
   ]
  },
  {
   "cell_type": "markdown",
   "metadata": {},
   "source": [
    "### 성과 측정"
   ]
  },
  {
   "cell_type": "code",
   "execution_count": 64,
   "metadata": {},
   "outputs": [],
   "source": [
    "from sklearn.ensemble import RandomForestClassifier\n",
    "from sklearn.model_selection import cross_val_score \n",
    "\n",
    "rnd_clf = RandomForestClassifier(\n",
    "    n_estimators = 500,  \n",
    "    max_features = 'auto', \n",
    "    max_samples=0.5,    \n",
    "    bootstrap = True,\n",
    "    n_jobs=-1\n",
    ")"
   ]
  },
  {
   "cell_type": "code",
   "execution_count": 65,
   "metadata": {},
   "outputs": [
    {
     "name": "stdout",
     "output_type": "stream",
     "text": [
      "ROC AUC with random under sampling: 0.975\n"
     ]
    }
   ],
   "source": [
    "scores = cross_val_score(rnd_clf, X_rus, y_rus, scoring='roc_auc', cv=5)\n",
    "print('ROC AUC with random under sampling: {:.3}'.format(scores.mean()))"
   ]
  },
  {
   "cell_type": "code",
   "execution_count": 66,
   "metadata": {},
   "outputs": [
    {
     "name": "stdout",
     "output_type": "stream",
     "text": [
      "ROC AUC with random under sampling - Tomek links: 0.918\n"
     ]
    }
   ],
   "source": [
    "scores = cross_val_score(rnd_clf, X_tl, y_tl, scoring='roc_auc', cv=5)\n",
    "print('ROC AUC with random under sampling - Tomek links: {:.3}'.format(scores.mean()))"
   ]
  },
  {
   "cell_type": "code",
   "execution_count": 67,
   "metadata": {},
   "outputs": [
    {
     "name": "stdout",
     "output_type": "stream",
     "text": [
      "ROC AUC with random under sampling - Cluster Centroids: 1.0\n"
     ]
    }
   ],
   "source": [
    "scores = cross_val_score(rnd_clf, X_cc, y_cc, scoring='roc_auc', cv=5)\n",
    "print('ROC AUC with random under sampling - Cluster Centroids: {:.3}'.format(scores.mean()))"
   ]
  },
  {
   "cell_type": "code",
   "execution_count": 68,
   "metadata": {},
   "outputs": [
    {
     "name": "stdout",
     "output_type": "stream",
     "text": [
      "ROC AUC with random over sampling : 1.0\n"
     ]
    }
   ],
   "source": [
    "scores = cross_val_score(rnd_clf, X_ros, y_ros, scoring='roc_auc', cv=5)\n",
    "print('ROC AUC with random over sampling : {:.3}'.format(scores.mean()))"
   ]
  },
  {
   "cell_type": "code",
   "execution_count": 69,
   "metadata": {},
   "outputs": [
    {
     "name": "stdout",
     "output_type": "stream",
     "text": [
      "ROC AUC with random over sampling - SMOTE: 1.0\n"
     ]
    }
   ],
   "source": [
    "scores = cross_val_score(rnd_clf, X_sm, y_sm, scoring='roc_auc', cv=5)\n",
    "print('ROC AUC with random over sampling - SMOTE: {:.3}'.format(scores.mean()))"
   ]
  },
  {
   "cell_type": "code",
   "execution_count": 70,
   "metadata": {},
   "outputs": [
    {
     "name": "stdout",
     "output_type": "stream",
     "text": [
      "ROC AUC with random over sampling - ADASYN: 0.989\n"
     ]
    }
   ],
   "source": [
    "scores = cross_val_score(rnd_clf, X_ada, y_ada, scoring='roc_auc', cv=5)\n",
    "print('ROC AUC with random over sampling - ADASYN: {:.3}'.format(scores.mean()))"
   ]
  },
  {
   "cell_type": "code",
   "execution_count": 71,
   "metadata": {},
   "outputs": [
    {
     "name": "stdout",
     "output_type": "stream",
     "text": [
      "ROC AUC with under sampling and over sampling: 1.0\n"
     ]
    }
   ],
   "source": [
    "scores = cross_val_score(rnd_clf, X_smt, y_smt, scoring='roc_auc', cv=5)\n",
    "print('ROC AUC with under sampling and over sampling: {:.3}'.format(scores.mean()))"
   ]
  },
  {
   "cell_type": "markdown",
   "metadata": {},
   "source": [
    "### scikit learn 리샘플링"
   ]
  },
  {
   "cell_type": "code",
   "execution_count": 72,
   "metadata": {},
   "outputs": [],
   "source": [
    "from sklearn.utils import resample\n",
    "\n",
    "df_majority = card[card.Class==0]\n",
    "df_minority = card[card.Class==1]\n",
    "\n",
    "df_majority_downsampled = resample(df_majority, \n",
    "                                 replace=False,    # sample without replacement\n",
    "                                 n_samples=len(df_minority),     # to match minority class\n",
    "                                ) "
   ]
  },
  {
   "cell_type": "code",
   "execution_count": 73,
   "metadata": {},
   "outputs": [
    {
     "data": {
      "text/plain": [
       "(492, 31)"
      ]
     },
     "execution_count": 73,
     "metadata": {},
     "output_type": "execute_result"
    }
   ],
   "source": [
    "df_majority_downsampled.shape"
   ]
  },
  {
   "cell_type": "code",
   "execution_count": 74,
   "metadata": {},
   "outputs": [
    {
     "data": {
      "text/plain": [
       "(492, 31)"
      ]
     },
     "execution_count": 74,
     "metadata": {},
     "output_type": "execute_result"
    }
   ],
   "source": [
    "df_minority.shape"
   ]
  },
  {
   "cell_type": "code",
   "execution_count": 75,
   "metadata": {},
   "outputs": [],
   "source": [
    "df_majority_downsampled = resample(df_majority, \n",
    "                                 replace=False,    # sample without replacement\n",
    "                                 n_samples=1000,     # to match minority class\n",
    "                                ) "
   ]
  },
  {
   "cell_type": "code",
   "execution_count": 76,
   "metadata": {},
   "outputs": [
    {
     "data": {
      "text/plain": [
       "(1000, 31)"
      ]
     },
     "execution_count": 76,
     "metadata": {},
     "output_type": "execute_result"
    }
   ],
   "source": [
    "df_majority_downsampled.shape"
   ]
  },
  {
   "cell_type": "code",
   "execution_count": 77,
   "metadata": {},
   "outputs": [],
   "source": [
    "df_minority_upsampled = resample(df_minority, \n",
    "                                 replace=True,     # sample with replacement\n",
    "                                 n_samples=1000,    # to match majority class\n",
    "                                 ) "
   ]
  },
  {
   "cell_type": "code",
   "execution_count": 78,
   "metadata": {},
   "outputs": [
    {
     "data": {
      "text/plain": [
       "(1000, 31)"
      ]
     },
     "execution_count": 78,
     "metadata": {},
     "output_type": "execute_result"
    }
   ],
   "source": [
    "df_minority_upsampled.shape"
   ]
  },
  {
   "cell_type": "code",
   "execution_count": 79,
   "metadata": {},
   "outputs": [],
   "source": [
    "card_sampled = pd.concat([df_majority_downsampled, df_minority_upsampled], ignore_index=True)"
   ]
  },
  {
   "cell_type": "code",
   "execution_count": 80,
   "metadata": {},
   "outputs": [
    {
     "data": {
      "text/plain": [
       "(2000, 31)"
      ]
     },
     "execution_count": 80,
     "metadata": {},
     "output_type": "execute_result"
    }
   ],
   "source": [
    "card_sampled.shape"
   ]
  },
  {
   "cell_type": "code",
   "execution_count": 81,
   "metadata": {},
   "outputs": [
    {
     "data": {
      "text/html": [
       "<div>\n",
       "<style scoped>\n",
       "    .dataframe tbody tr th:only-of-type {\n",
       "        vertical-align: middle;\n",
       "    }\n",
       "\n",
       "    .dataframe tbody tr th {\n",
       "        vertical-align: top;\n",
       "    }\n",
       "\n",
       "    .dataframe thead th {\n",
       "        text-align: right;\n",
       "    }\n",
       "</style>\n",
       "<table border=\"1\" class=\"dataframe\">\n",
       "  <thead>\n",
       "    <tr style=\"text-align: right;\">\n",
       "      <th></th>\n",
       "      <th>Time</th>\n",
       "      <th>V1</th>\n",
       "      <th>V2</th>\n",
       "      <th>V3</th>\n",
       "      <th>V4</th>\n",
       "      <th>V5</th>\n",
       "      <th>V6</th>\n",
       "      <th>V7</th>\n",
       "      <th>V8</th>\n",
       "      <th>V9</th>\n",
       "      <th>...</th>\n",
       "      <th>V21</th>\n",
       "      <th>V22</th>\n",
       "      <th>V23</th>\n",
       "      <th>V24</th>\n",
       "      <th>V25</th>\n",
       "      <th>V26</th>\n",
       "      <th>V27</th>\n",
       "      <th>V28</th>\n",
       "      <th>Amount</th>\n",
       "      <th>Class</th>\n",
       "    </tr>\n",
       "  </thead>\n",
       "  <tbody>\n",
       "    <tr>\n",
       "      <th>0</th>\n",
       "      <td>40758.0</td>\n",
       "      <td>0.760908</td>\n",
       "      <td>-0.969222</td>\n",
       "      <td>-0.367899</td>\n",
       "      <td>-0.606528</td>\n",
       "      <td>-0.683703</td>\n",
       "      <td>-0.211665</td>\n",
       "      <td>-0.215842</td>\n",
       "      <td>0.201829</td>\n",
       "      <td>1.566139</td>\n",
       "      <td>...</td>\n",
       "      <td>0.102753</td>\n",
       "      <td>-0.044256</td>\n",
       "      <td>-0.320265</td>\n",
       "      <td>-0.433327</td>\n",
       "      <td>0.471016</td>\n",
       "      <td>-0.609802</td>\n",
       "      <td>0.043822</td>\n",
       "      <td>0.070703</td>\n",
       "      <td>227.95</td>\n",
       "      <td>0</td>\n",
       "    </tr>\n",
       "    <tr>\n",
       "      <th>1</th>\n",
       "      <td>167833.0</td>\n",
       "      <td>-0.473250</td>\n",
       "      <td>-0.295987</td>\n",
       "      <td>0.965772</td>\n",
       "      <td>-2.824653</td>\n",
       "      <td>0.077783</td>\n",
       "      <td>-0.244045</td>\n",
       "      <td>0.228093</td>\n",
       "      <td>-0.182055</td>\n",
       "      <td>-2.426601</td>\n",
       "      <td>...</td>\n",
       "      <td>-0.018406</td>\n",
       "      <td>0.464112</td>\n",
       "      <td>-0.580777</td>\n",
       "      <td>0.541372</td>\n",
       "      <td>1.162237</td>\n",
       "      <td>0.185888</td>\n",
       "      <td>0.012211</td>\n",
       "      <td>0.042127</td>\n",
       "      <td>20.00</td>\n",
       "      <td>0</td>\n",
       "    </tr>\n",
       "    <tr>\n",
       "      <th>2</th>\n",
       "      <td>121856.0</td>\n",
       "      <td>-0.798013</td>\n",
       "      <td>0.551563</td>\n",
       "      <td>0.298352</td>\n",
       "      <td>-1.177178</td>\n",
       "      <td>0.407970</td>\n",
       "      <td>0.573753</td>\n",
       "      <td>-0.113233</td>\n",
       "      <td>0.835812</td>\n",
       "      <td>0.122256</td>\n",
       "      <td>...</td>\n",
       "      <td>-0.183601</td>\n",
       "      <td>-0.747583</td>\n",
       "      <td>0.114157</td>\n",
       "      <td>-0.465602</td>\n",
       "      <td>-0.759242</td>\n",
       "      <td>0.193992</td>\n",
       "      <td>0.226457</td>\n",
       "      <td>0.139479</td>\n",
       "      <td>30.49</td>\n",
       "      <td>0</td>\n",
       "    </tr>\n",
       "    <tr>\n",
       "      <th>3</th>\n",
       "      <td>96721.0</td>\n",
       "      <td>2.177102</td>\n",
       "      <td>0.296180</td>\n",
       "      <td>-2.378575</td>\n",
       "      <td>-0.022008</td>\n",
       "      <td>1.247373</td>\n",
       "      <td>-0.899972</td>\n",
       "      <td>0.770715</td>\n",
       "      <td>-0.649634</td>\n",
       "      <td>1.296407</td>\n",
       "      <td>...</td>\n",
       "      <td>-0.032963</td>\n",
       "      <td>0.315494</td>\n",
       "      <td>-0.115330</td>\n",
       "      <td>0.071156</td>\n",
       "      <td>0.581404</td>\n",
       "      <td>0.205699</td>\n",
       "      <td>-0.110971</td>\n",
       "      <td>-0.080463</td>\n",
       "      <td>15.34</td>\n",
       "      <td>0</td>\n",
       "    </tr>\n",
       "    <tr>\n",
       "      <th>4</th>\n",
       "      <td>118109.0</td>\n",
       "      <td>-0.624994</td>\n",
       "      <td>0.607372</td>\n",
       "      <td>0.038785</td>\n",
       "      <td>-0.095946</td>\n",
       "      <td>1.153216</td>\n",
       "      <td>-1.426586</td>\n",
       "      <td>1.121245</td>\n",
       "      <td>-0.329655</td>\n",
       "      <td>-0.503370</td>\n",
       "      <td>...</td>\n",
       "      <td>0.356583</td>\n",
       "      <td>0.932321</td>\n",
       "      <td>-0.200937</td>\n",
       "      <td>-0.074406</td>\n",
       "      <td>0.184412</td>\n",
       "      <td>-0.058315</td>\n",
       "      <td>0.123388</td>\n",
       "      <td>0.193893</td>\n",
       "      <td>66.84</td>\n",
       "      <td>0</td>\n",
       "    </tr>\n",
       "  </tbody>\n",
       "</table>\n",
       "<p>5 rows × 31 columns</p>\n",
       "</div>"
      ],
      "text/plain": [
       "       Time        V1        V2        V3        V4        V5        V6  \\\n",
       "0   40758.0  0.760908 -0.969222 -0.367899 -0.606528 -0.683703 -0.211665   \n",
       "1  167833.0 -0.473250 -0.295987  0.965772 -2.824653  0.077783 -0.244045   \n",
       "2  121856.0 -0.798013  0.551563  0.298352 -1.177178  0.407970  0.573753   \n",
       "3   96721.0  2.177102  0.296180 -2.378575 -0.022008  1.247373 -0.899972   \n",
       "4  118109.0 -0.624994  0.607372  0.038785 -0.095946  1.153216 -1.426586   \n",
       "\n",
       "         V7        V8        V9  ...       V21       V22       V23       V24  \\\n",
       "0 -0.215842  0.201829  1.566139  ...  0.102753 -0.044256 -0.320265 -0.433327   \n",
       "1  0.228093 -0.182055 -2.426601  ... -0.018406  0.464112 -0.580777  0.541372   \n",
       "2 -0.113233  0.835812  0.122256  ... -0.183601 -0.747583  0.114157 -0.465602   \n",
       "3  0.770715 -0.649634  1.296407  ... -0.032963  0.315494 -0.115330  0.071156   \n",
       "4  1.121245 -0.329655 -0.503370  ...  0.356583  0.932321 -0.200937 -0.074406   \n",
       "\n",
       "        V25       V26       V27       V28  Amount  Class  \n",
       "0  0.471016 -0.609802  0.043822  0.070703  227.95      0  \n",
       "1  1.162237  0.185888  0.012211  0.042127   20.00      0  \n",
       "2 -0.759242  0.193992  0.226457  0.139479   30.49      0  \n",
       "3  0.581404  0.205699 -0.110971 -0.080463   15.34      0  \n",
       "4  0.184412 -0.058315  0.123388  0.193893   66.84      0  \n",
       "\n",
       "[5 rows x 31 columns]"
      ]
     },
     "execution_count": 81,
     "metadata": {},
     "output_type": "execute_result"
    }
   ],
   "source": [
    "card_sampled.head()"
   ]
  },
  {
   "cell_type": "code",
   "execution_count": 82,
   "metadata": {},
   "outputs": [
    {
     "data": {
      "text/plain": [
       "1    1000\n",
       "0    1000\n",
       "Name: Class, dtype: int64"
      ]
     },
     "execution_count": 82,
     "metadata": {},
     "output_type": "execute_result"
    }
   ],
   "source": [
    "card_sampled.Class.value_counts()"
   ]
  },
  {
   "cell_type": "code",
   "execution_count": null,
   "metadata": {},
   "outputs": [],
   "source": []
  }
 ],
 "metadata": {
  "kernelspec": {
   "display_name": "Python 3",
   "language": "python",
   "name": "python3"
  },
  "language_info": {
   "codemirror_mode": {
    "name": "ipython",
    "version": 3
   },
   "file_extension": ".py",
   "mimetype": "text/x-python",
   "name": "python",
   "nbconvert_exporter": "python",
   "pygments_lexer": "ipython3",
   "version": "3.7.5"
  }
 },
 "nbformat": 4,
 "nbformat_minor": 4
}
